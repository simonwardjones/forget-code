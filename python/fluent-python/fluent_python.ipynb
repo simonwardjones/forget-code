{
 "cells": [
  {
   "cell_type": "markdown",
   "metadata": {},
   "source": [
    "# Fluent Python\n"
   ]
  },
  {
   "cell_type": "markdown",
   "metadata": {},
   "source": [
    "Reading fluent python by Luciano Ramalho this is a collection of my favourite bits.\n"
   ]
  },
  {
   "cell_type": "markdown",
   "metadata": {},
   "source": [
    "### Python data model - bool and `__bool__`\n"
   ]
  },
  {
   "cell_type": "markdown",
   "metadata": {},
   "source": [
    "The python data model allows you to implement special methods that make custom types behave like the builtin types.\n"
   ]
  },
  {
   "cell_type": "code",
   "execution_count": 1,
   "metadata": {},
   "outputs": [],
   "source": [
    "class Example:\n",
    "    def __len__(self):\n",
    "        print(f\"running __len__\")\n",
    "        return 10\n",
    "\n",
    "    def __repr__(self):\n",
    "        print(f\"running __repr__\")\n",
    "        return f\"Example()\"\n",
    "\n",
    "    def __str__(self):\n",
    "        print(f\"running __str__\")\n",
    "        return f\"<Example Python object\"\n",
    "\n",
    "    def __bool__(self):\n",
    "        print(f\"running __bool__\")\n",
    "        return True\n"
   ]
  },
  {
   "cell_type": "code",
   "execution_count": 2,
   "metadata": {},
   "outputs": [
    {
     "name": "stdout",
     "output_type": "stream",
     "text": [
      "running __repr__\n"
     ]
    },
    {
     "data": {
      "text/plain": [
       "Example()"
      ]
     },
     "execution_count": 2,
     "metadata": {},
     "output_type": "execute_result"
    }
   ],
   "source": [
    "example = Example()\n",
    "example\n"
   ]
  },
  {
   "cell_type": "code",
   "execution_count": 3,
   "metadata": {},
   "outputs": [
    {
     "name": "stdout",
     "output_type": "stream",
     "text": [
      "running __len__\n"
     ]
    },
    {
     "data": {
      "text/plain": [
       "10"
      ]
     },
     "execution_count": 3,
     "metadata": {},
     "output_type": "execute_result"
    }
   ],
   "source": [
    "len(example)\n"
   ]
  },
  {
   "cell_type": "code",
   "execution_count": 4,
   "metadata": {},
   "outputs": [
    {
     "name": "stdout",
     "output_type": "stream",
     "text": [
      "running __bool__\n"
     ]
    }
   ],
   "source": [
    "if example:\n",
    "    pass\n"
   ]
  },
  {
   "cell_type": "markdown",
   "metadata": {},
   "source": [
    "To check the whether `example` is truthy it calls effectively calls `bool(example)` which looks for `example.__bool__()`\n",
    "If there is no `__bool__` python tries to invoke `__len__` and if that returns 0 then `False` else `True`.\n"
   ]
  },
  {
   "cell_type": "markdown",
   "metadata": {},
   "source": [
    "### `__repr__` and `__str__`\n"
   ]
  },
  {
   "cell_type": "markdown",
   "metadata": {},
   "source": [
    "`__repr__` - unambiguous for developers.  \n",
    "`__str__` - for the end user.\n"
   ]
  },
  {
   "cell_type": "markdown",
   "metadata": {},
   "source": [
    "### Unpacking sequences\n"
   ]
  },
  {
   "cell_type": "code",
   "execution_count": 5,
   "metadata": {},
   "outputs": [
    {
     "name": "stdout",
     "output_type": "stream",
     "text": [
      "Simon\n",
      "Ward-Jones\n",
      "[1, 2, 3]\n"
     ]
    }
   ],
   "source": [
    "person_data = (\"Simon\", \"Ward-Jones\", 1, 2, 3)\n",
    "name, surname, *numbers = person_data\n",
    "print(name, surname, numbers, sep=\"\\n\")\n"
   ]
  },
  {
   "cell_type": "code",
   "execution_count": 6,
   "metadata": {},
   "outputs": [
    {
     "data": {
      "text/plain": [
       "['Simon', 'Ward-Jones', 1, 2, 3]"
      ]
     },
     "execution_count": 6,
     "metadata": {},
     "output_type": "execute_result"
    }
   ],
   "source": [
    "# Unpacking into a list\n",
    "person_data = [*person_data]\n",
    "person_data\n"
   ]
  },
  {
   "cell_type": "markdown",
   "metadata": {},
   "source": [
    "### Bad matrix\n"
   ]
  },
  {
   "cell_type": "code",
   "execution_count": 7,
   "metadata": {},
   "outputs": [
    {
     "data": {
      "text/plain": [
       "[[1, None, None], [1, None, None], [1, None, None]]"
      ]
     },
     "execution_count": 7,
     "metadata": {},
     "output_type": "execute_result"
    }
   ],
   "source": [
    "matrix = [[None] * 3] * 3\n",
    "matrix[0][0] = 1\n",
    "matrix\n"
   ]
  },
  {
   "cell_type": "code",
   "execution_count": 8,
   "metadata": {},
   "outputs": [
    {
     "data": {
      "text/plain": [
       "[[1, None, None], [None, None, None], [None, None, None]]"
      ]
     },
     "execution_count": 8,
     "metadata": {},
     "output_type": "execute_result"
    }
   ],
   "source": [
    "# you probably want:\n",
    "matrix = []\n",
    "for _ in range(3):\n",
    "    matrix.append([None] * 3)\n",
    "matrix[0][0] = 1\n",
    "matrix\n"
   ]
  },
  {
   "cell_type": "markdown",
   "metadata": {},
   "source": [
    "### Key in min, max and sorted\n"
   ]
  },
  {
   "cell_type": "code",
   "execution_count": 9,
   "metadata": {},
   "outputs": [],
   "source": [
    "numbers = [3, \"5\", 1, \"10\", 2, \"4\", \"6\"]\n"
   ]
  },
  {
   "cell_type": "code",
   "execution_count": 10,
   "metadata": {},
   "outputs": [
    {
     "name": "stdout",
     "output_type": "stream",
     "text": [
      "[1, 2, 3, '4', '5', '6', '10']\n",
      "1\n"
     ]
    }
   ],
   "source": [
    "print(sorted(numbers, key=int))\n",
    "print(min(numbers, key=int))\n"
   ]
  },
  {
   "cell_type": "code",
   "execution_count": 11,
   "metadata": {},
   "outputs": [],
   "source": [
    "### Unpacking mappings\n"
   ]
  },
  {
   "cell_type": "code",
   "execution_count": 12,
   "metadata": {},
   "outputs": [],
   "source": [
    "person_data_1 = {\"name\": \"Simon\", \"surname\": \"Ward-Jones\", \"age\": 20}\n",
    "person_data_2 = {\n",
    "    \"name\": \"Simon\",\n",
    "    \"surname\": \"Ward-Jones\",\n",
    "    \"age\": 30,\n",
    "    \"height\": 2,\n",
    "    \"weight\": 3,\n",
    "}\n"
   ]
  },
  {
   "cell_type": "code",
   "execution_count": 13,
   "metadata": {},
   "outputs": [
    {
     "data": {
      "text/plain": [
       "{'name': 'Simon', 'surname': 'Ward-Jones', 'age': 30, 'height': 2, 'weight': 3}"
      ]
     },
     "execution_count": 13,
     "metadata": {},
     "output_type": "execute_result"
    }
   ],
   "source": [
    "{**person_data_1, **person_data_2}\n"
   ]
  },
  {
   "cell_type": "code",
   "execution_count": 14,
   "metadata": {},
   "outputs": [
    {
     "data": {
      "text/plain": [
       "{'name': 'Simon', 'surname': 'Ward-Jones', 'age': 30, 'height': 2, 'weight': 3}"
      ]
     },
     "execution_count": 14,
     "metadata": {},
     "output_type": "execute_result"
    }
   ],
   "source": [
    "person_data_1 | person_data_2\n"
   ]
  },
  {
   "cell_type": "code",
   "execution_count": 15,
   "metadata": {},
   "outputs": [],
   "source": [
    "### Dictionary comprehension\n"
   ]
  },
  {
   "cell_type": "code",
   "execution_count": 16,
   "metadata": {},
   "outputs": [],
   "source": [
    "country_population_pairs = [\n",
    "    (\"China\", 1409517397),\n",
    "    (\"India\", 1324171354),\n",
    "    (\"United States\", 325234000),\n",
    "    (\"Indonesia\", 255461563),\n",
    "    (\"Brazil\", 210147125),\n",
    "    (\"Pakistan\", 197015955),\n",
    "    (\"Nigeria\", 206139589),\n",
    "    (\"Bangladesh\", 164895000),\n",
    "    (\"Russia\", 146585181),\n",
    "    (\"Japan\", 126470000),\n",
    "]\n"
   ]
  },
  {
   "cell_type": "code",
   "execution_count": 17,
   "metadata": {},
   "outputs": [],
   "source": [
    "# create a dictionary of country populations\n",
    "country_populations = {\n",
    "    country: population for country, population in country_population_pairs\n",
    "}\n"
   ]
  },
  {
   "cell_type": "markdown",
   "metadata": {},
   "source": [
    "### Dictionary setdefault method\n"
   ]
  },
  {
   "cell_type": "code",
   "execution_count": 18,
   "metadata": {},
   "outputs": [],
   "source": [
    "person_data_1 = {\"name\": \"Simon\", \"surname\": \"Ward-Jones\", \"age\": 20}\n",
    "person_data_2 = {\n",
    "    \"name\": \"Simon\",\n",
    "    \"surname\": \"Ward-Jones\",\n",
    "    \"age\": 30,\n",
    "    \"height\": 2,\n",
    "    \"weight\": 3,\n",
    "}\n"
   ]
  },
  {
   "cell_type": "code",
   "execution_count": 19,
   "metadata": {},
   "outputs": [
    {
     "data": {
      "text/plain": [
       "'Simon'"
      ]
     },
     "execution_count": 19,
     "metadata": {},
     "output_type": "execute_result"
    }
   ],
   "source": [
    "# set default looks up the key and returns the value if it exists\n",
    "# if it doesn't exist, it sets the key to the default value and returns the default value\n",
    "person_data_1.setdefault(\"name\", \"John\")\n"
   ]
  },
  {
   "cell_type": "code",
   "execution_count": 20,
   "metadata": {},
   "outputs": [
    {
     "data": {
      "text/plain": [
       "{'name': 'Simon',\n",
       " 'surname': 'Ward-Jones',\n",
       " 'age': 20,\n",
       " 'animals': {'cats': ['cat']}}"
      ]
     },
     "execution_count": 20,
     "metadata": {},
     "output_type": "execute_result"
    }
   ],
   "source": [
    "# This is really useful for something like this:\n",
    "person_data_1.setdefault(\"animals\", {}).setdefault(\"cats\", []).append(\"cat\")\n",
    "person_data_1\n"
   ]
  },
  {
   "cell_type": "markdown",
   "metadata": {},
   "source": [
    "### Dictionary views and mappings work like sets\n"
   ]
  },
  {
   "cell_type": "code",
   "execution_count": 21,
   "metadata": {},
   "outputs": [
    {
     "data": {
      "text/plain": [
       "{'age', 'name', 'surname'}"
      ]
     },
     "execution_count": 21,
     "metadata": {},
     "output_type": "execute_result"
    }
   ],
   "source": [
    "person_data_1 = {\"name\": \"Simon\", \"surname\": \"Ward-Jones\", \"age\": 20}\n",
    "person_data_2 = {\n",
    "    \"name\": \"Simon\",\n",
    "    \"surname\": \"Ward-Jones\",\n",
    "    \"age\": 30,\n",
    "    \"height\": 2,\n",
    "    \"weight\": 3,\n",
    "}\n",
    "# finding common keys\n",
    "person_data_1.keys() & person_data_2.keys()\n"
   ]
  },
  {
   "cell_type": "markdown",
   "metadata": {},
   "source": [
    "### Unicode names\n"
   ]
  },
  {
   "cell_type": "code",
   "execution_count": 22,
   "metadata": {},
   "outputs": [],
   "source": [
    "from unicodedata import name\n",
    "import random\n"
   ]
  },
  {
   "cell_type": "code",
   "execution_count": 23,
   "metadata": {},
   "outputs": [
    {
     "name": "stdout",
     "output_type": "stream",
     "text": [
      "𘮴 KHITAN SMALL SCRIPT CHARACTER-18BB4\n",
      "潚 CJK UNIFIED IDEOGRAPH-6F5A\n",
      "𝤍 SIGNWRITING STRIKE BETWEEN\n",
      "ﶢ ARABIC LIGATURE TEH WITH KHAH WITH ALEF MAKSURA FINAL FORM\n",
      "ם HEBREW LETTER FINAL MEM\n"
     ]
    }
   ],
   "source": [
    "n = 0\n",
    "while n < 5:\n",
    "    unicode_point = chr(random.randint(0, 0x10FFFF))  # pick a random unicode point\n",
    "    if unicode_name := name(unicode_point, \"\"):\n",
    "        print(unicode_point, unicode_name)  # print the point and the name\n",
    "        n += 1\n"
   ]
  },
  {
   "cell_type": "markdown",
   "metadata": {},
   "source": [
    "### string translation\n"
   ]
  },
  {
   "cell_type": "code",
   "execution_count": 24,
   "metadata": {},
   "outputs": [],
   "source": [
    "translation = str.maketrans(\"simon\", \"abcde\")\n"
   ]
  },
  {
   "cell_type": "code",
   "execution_count": 25,
   "metadata": {},
   "outputs": [
    {
     "data": {
      "text/plain": [
       "'helld abcde'"
      ]
     },
     "execution_count": 25,
     "metadata": {},
     "output_type": "execute_result"
    }
   ],
   "source": [
    "\"hello simon\".translate(translation)\n"
   ]
  },
  {
   "cell_type": "markdown",
   "metadata": {},
   "source": [
    "### Dataclasses save you a lot of typing\n"
   ]
  },
  {
   "cell_type": "code",
   "execution_count": 26,
   "metadata": {},
   "outputs": [],
   "source": [
    "from dataclasses import dataclass\n"
   ]
  },
  {
   "cell_type": "code",
   "execution_count": 27,
   "metadata": {},
   "outputs": [],
   "source": [
    "from dataclasses import field\n",
    "from typing import Optional\n",
    "\n",
    "\n",
    "@dataclass\n",
    "class Book:\n",
    "    title: str\n",
    "    author: Optional[str] = \"unknown\"\n",
    "    pages: int = 0\n",
    "    price: float = field(default=0.0, repr=False)\n",
    "\n",
    "    def __post_init__(self):\n",
    "        self.long_title = self.title + \" by \" + self.author\n"
   ]
  },
  {
   "cell_type": "code",
   "execution_count": 28,
   "metadata": {},
   "outputs": [
    {
     "data": {
      "text/plain": [
       "Book(title='Python Programming', author='Simon Ward-Jones', pages=300)"
      ]
     },
     "execution_count": 28,
     "metadata": {},
     "output_type": "execute_result"
    }
   ],
   "source": [
    "book = Book(title=\"Python Programming\", author=\"Simon Ward-Jones\", pages=300)\n",
    "book\n"
   ]
  },
  {
   "cell_type": "markdown",
   "metadata": {},
   "source": [
    "### Variables are not boxes 📦 🏷\n"
   ]
  },
  {
   "cell_type": "code",
   "execution_count": 29,
   "metadata": {},
   "outputs": [
    {
     "data": {
      "text/plain": [
       "['📦 ', '🏷', '📦']"
      ]
     },
     "execution_count": 29,
     "metadata": {},
     "output_type": "execute_result"
    }
   ],
   "source": [
    "variable = [\"📦 \", \"🏷\"]\n",
    "other_variable = variable\n",
    "other_variable.append(\"📦\")\n",
    "variable  # say what...\n"
   ]
  },
  {
   "cell_type": "markdown",
   "metadata": {},
   "source": [
    "# Fin."
   ]
  }
 ],
 "metadata": {
  "kernelspec": {
   "display_name": "Python 3.10.2 64-bit ('3.10.2')",
   "language": "python",
   "name": "python3"
  },
  "language_info": {
   "codemirror_mode": {
    "name": "ipython",
    "version": 3
   },
   "file_extension": ".py",
   "mimetype": "text/x-python",
   "name": "python",
   "nbconvert_exporter": "python",
   "pygments_lexer": "ipython3",
   "version": "3.10.2"
  },
  "orig_nbformat": 4,
  "vscode": {
   "interpreter": {
    "hash": "fc83838f2863df29c089611030fa8a7be502196ead7c5a2bbfc52f1a3dbbd35e"
   }
  }
 },
 "nbformat": 4,
 "nbformat_minor": 2
}
