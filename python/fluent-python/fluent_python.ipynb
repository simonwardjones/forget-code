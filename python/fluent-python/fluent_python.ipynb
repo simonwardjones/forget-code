{
 "cells": [
  {
   "cell_type": "markdown",
   "metadata": {},
   "source": [
    "# Fluent Python\n"
   ]
  },
  {
   "cell_type": "markdown",
   "metadata": {},
   "source": [
    "Reading fluent python by Luciano Ramalho this is a collection of my favourite bits.\n"
   ]
  },
  {
   "cell_type": "markdown",
   "metadata": {},
   "source": [
    "### Python data model - bool and `__bool__`\n"
   ]
  },
  {
   "cell_type": "markdown",
   "metadata": {},
   "source": [
    "The python data model allows you to implement special methods that make custom types behave like the builtin types.\n"
   ]
  },
  {
   "cell_type": "code",
   "execution_count": 1,
   "metadata": {},
   "outputs": [],
   "source": [
    "class Example:\n",
    "    def __len__(self):\n",
    "        print(f\"running __len__\")\n",
    "        return 10\n",
    "\n",
    "    def __repr__(self):\n",
    "        print(f\"running __repr__\")\n",
    "        return f\"Example()\"\n",
    "\n",
    "    def __str__(self):\n",
    "        print(f\"running __str__\")\n",
    "        return f\"<Example Python object\"\n",
    "\n",
    "    def __bool__(self):\n",
    "        print(f\"running __bool__\")\n",
    "        return True\n"
   ]
  },
  {
   "cell_type": "code",
   "execution_count": 2,
   "metadata": {},
   "outputs": [
    {
     "name": "stdout",
     "output_type": "stream",
     "text": [
      "running __repr__\n"
     ]
    },
    {
     "data": {
      "text/plain": [
       "Example()"
      ]
     },
     "execution_count": 2,
     "metadata": {},
     "output_type": "execute_result"
    }
   ],
   "source": [
    "example = Example()\n",
    "example\n"
   ]
  },
  {
   "cell_type": "code",
   "execution_count": 3,
   "metadata": {},
   "outputs": [
    {
     "name": "stdout",
     "output_type": "stream",
     "text": [
      "running __len__\n"
     ]
    },
    {
     "data": {
      "text/plain": [
       "10"
      ]
     },
     "execution_count": 3,
     "metadata": {},
     "output_type": "execute_result"
    }
   ],
   "source": [
    "len(example)\n"
   ]
  },
  {
   "cell_type": "code",
   "execution_count": 4,
   "metadata": {},
   "outputs": [
    {
     "name": "stdout",
     "output_type": "stream",
     "text": [
      "running __bool__\n"
     ]
    }
   ],
   "source": [
    "if example:\n",
    "    pass\n"
   ]
  },
  {
   "cell_type": "markdown",
   "metadata": {},
   "source": [
    "To check the whether `example` is truthy it calls effectively calls `bool(example)` which looks for `example.__bool__()`\n",
    "If there is no `__bool__` python tries to invoke `__len__` and if that returns 0 then `False` else `True`.\n"
   ]
  },
  {
   "cell_type": "markdown",
   "metadata": {},
   "source": [
    "### `__repr__` and `__str__`\n"
   ]
  },
  {
   "cell_type": "markdown",
   "metadata": {},
   "source": [
    "`__repr__` - unambiguous for developers.  \n",
    "`__str__` - for the end user.\n"
   ]
  },
  {
   "cell_type": "markdown",
   "metadata": {},
   "source": [
    "### Unpacking sequences\n"
   ]
  },
  {
   "cell_type": "code",
   "execution_count": 5,
   "metadata": {},
   "outputs": [
    {
     "name": "stdout",
     "output_type": "stream",
     "text": [
      "Simon\n",
      "Ward-Jones\n",
      "[1, 2, 3]\n"
     ]
    }
   ],
   "source": [
    "person_data = (\"Simon\", \"Ward-Jones\", 1, 2, 3)\n",
    "name, surname, *numbers = person_data\n",
    "print(name, surname, numbers, sep=\"\\n\")\n"
   ]
  },
  {
   "cell_type": "code",
   "execution_count": 6,
   "metadata": {},
   "outputs": [
    {
     "data": {
      "text/plain": [
       "['Simon', 'Ward-Jones', 1, 2, 3]"
      ]
     },
     "execution_count": 6,
     "metadata": {},
     "output_type": "execute_result"
    }
   ],
   "source": [
    "# Unpacking into a list\n",
    "person_data = [*person_data]\n",
    "person_data\n"
   ]
  },
  {
   "cell_type": "markdown",
   "metadata": {},
   "source": [
    "### Bad matrix\n"
   ]
  },
  {
   "cell_type": "code",
   "execution_count": 7,
   "metadata": {},
   "outputs": [
    {
     "data": {
      "text/plain": [
       "[[1, None, None], [1, None, None], [1, None, None]]"
      ]
     },
     "execution_count": 7,
     "metadata": {},
     "output_type": "execute_result"
    }
   ],
   "source": [
    "matrix = [[None] * 3] * 3\n",
    "matrix[0][0] = 1\n",
    "matrix\n"
   ]
  },
  {
   "cell_type": "code",
   "execution_count": 8,
   "metadata": {},
   "outputs": [
    {
     "data": {
      "text/plain": [
       "[[1, None, None], [None, None, None], [None, None, None]]"
      ]
     },
     "execution_count": 8,
     "metadata": {},
     "output_type": "execute_result"
    }
   ],
   "source": [
    "# you probably want:\n",
    "matrix = []\n",
    "for _ in range(3):\n",
    "    matrix.append([None] * 3)\n",
    "matrix[0][0] = 1\n",
    "matrix\n"
   ]
  },
  {
   "cell_type": "markdown",
   "metadata": {},
   "source": [
    "### Key in min, max and sorted\n"
   ]
  },
  {
   "cell_type": "code",
   "execution_count": 9,
   "metadata": {},
   "outputs": [],
   "source": [
    "numbers = [3, \"5\", 1, \"10\", 2, \"4\", \"6\"]\n"
   ]
  },
  {
   "cell_type": "code",
   "execution_count": 10,
   "metadata": {},
   "outputs": [
    {
     "name": "stdout",
     "output_type": "stream",
     "text": [
      "[1, 2, 3, '4', '5', '6', '10']\n",
      "1\n"
     ]
    }
   ],
   "source": [
    "print(sorted(numbers, key=int))\n",
    "print(min(numbers, key=int))\n"
   ]
  },
  {
   "cell_type": "markdown",
   "metadata": {},
   "source": [
    "### Unpacking mappings\n"
   ]
  },
  {
   "cell_type": "code",
   "execution_count": 11,
   "metadata": {},
   "outputs": [],
   "source": [
    "person_data_1 = {\"name\": \"Simon\", \"surname\": \"Ward-Jones\", \"age\": 20}\n",
    "person_data_2 = {\n",
    "    \"name\": \"Simon\",\n",
    "    \"surname\": \"Ward-Jones\",\n",
    "    \"age\": 30,\n",
    "    \"height\": 2,\n",
    "    \"weight\": 3,\n",
    "}\n"
   ]
  },
  {
   "cell_type": "code",
   "execution_count": 12,
   "metadata": {},
   "outputs": [
    {
     "data": {
      "text/plain": [
       "{'name': 'Simon', 'surname': 'Ward-Jones', 'age': 30, 'height': 2, 'weight': 3}"
      ]
     },
     "execution_count": 12,
     "metadata": {},
     "output_type": "execute_result"
    }
   ],
   "source": [
    "{**person_data_1, **person_data_2}\n"
   ]
  },
  {
   "cell_type": "code",
   "execution_count": 13,
   "metadata": {},
   "outputs": [
    {
     "data": {
      "text/plain": [
       "{'name': 'Simon', 'surname': 'Ward-Jones', 'age': 30, 'height': 2, 'weight': 3}"
      ]
     },
     "execution_count": 13,
     "metadata": {},
     "output_type": "execute_result"
    }
   ],
   "source": [
    "person_data_1 | person_data_2\n"
   ]
  },
  {
   "cell_type": "markdown",
   "metadata": {},
   "source": [
    "### Dictionary comprehensions\n"
   ]
  },
  {
   "cell_type": "code",
   "execution_count": 14,
   "metadata": {},
   "outputs": [],
   "source": [
    "country_population_pairs = [\n",
    "    (\"China\", 1409517397),\n",
    "    (\"India\", 1324171354),\n",
    "    (\"United States\", 325234000),\n",
    "    (\"Indonesia\", 255461563),\n",
    "    (\"Brazil\", 210147125),\n",
    "    (\"Pakistan\", 197015955),\n",
    "    (\"Nigeria\", 206139589),\n",
    "    (\"Bangladesh\", 164895000),\n",
    "    (\"Russia\", 146585181),\n",
    "    (\"Japan\", 126470000),\n",
    "]\n"
   ]
  },
  {
   "cell_type": "code",
   "execution_count": 15,
   "metadata": {},
   "outputs": [],
   "source": [
    "# create a dictionary of country populations\n",
    "country_populations = {\n",
    "    country: population for country, population in country_population_pairs\n",
    "}\n"
   ]
  },
  {
   "cell_type": "markdown",
   "metadata": {},
   "source": [
    "### Dictionary setdefault method\n"
   ]
  },
  {
   "cell_type": "code",
   "execution_count": 16,
   "metadata": {},
   "outputs": [],
   "source": [
    "person_data_1 = {\"name\": \"Simon\", \"surname\": \"Ward-Jones\", \"age\": 20}\n",
    "person_data_2 = {\n",
    "    \"name\": \"Simon\",\n",
    "    \"surname\": \"Ward-Jones\",\n",
    "    \"age\": 30,\n",
    "    \"height\": 2,\n",
    "    \"weight\": 3,\n",
    "}\n"
   ]
  },
  {
   "cell_type": "code",
   "execution_count": 17,
   "metadata": {},
   "outputs": [
    {
     "data": {
      "text/plain": [
       "'Simon'"
      ]
     },
     "execution_count": 17,
     "metadata": {},
     "output_type": "execute_result"
    }
   ],
   "source": [
    "# set default looks up the key and returns the value if it exists\n",
    "# if it doesn't exist, it sets the key to the default value and returns the default value\n",
    "person_data_1.setdefault(\"name\", \"John\")\n"
   ]
  },
  {
   "cell_type": "code",
   "execution_count": 18,
   "metadata": {},
   "outputs": [
    {
     "data": {
      "text/plain": [
       "{'name': 'Simon',\n",
       " 'surname': 'Ward-Jones',\n",
       " 'age': 20,\n",
       " 'animals': {'cats': ['cat']}}"
      ]
     },
     "execution_count": 18,
     "metadata": {},
     "output_type": "execute_result"
    }
   ],
   "source": [
    "# This is really useful for something like this:\n",
    "person_data_1.setdefault(\"animals\", {}).setdefault(\"cats\", []).append(\"cat\")\n",
    "person_data_1\n"
   ]
  },
  {
   "cell_type": "markdown",
   "metadata": {},
   "source": [
    "### Dictionary views and mappings work like sets\n"
   ]
  },
  {
   "cell_type": "code",
   "execution_count": 19,
   "metadata": {},
   "outputs": [
    {
     "data": {
      "text/plain": [
       "{'age', 'name', 'surname'}"
      ]
     },
     "execution_count": 19,
     "metadata": {},
     "output_type": "execute_result"
    }
   ],
   "source": [
    "person_data_1 = {\"name\": \"Simon\", \"surname\": \"Ward-Jones\", \"age\": 20}\n",
    "person_data_2 = {\n",
    "    \"name\": \"Simon\",\n",
    "    \"surname\": \"Ward-Jones\",\n",
    "    \"age\": 30,\n",
    "    \"height\": 2,\n",
    "    \"weight\": 3,\n",
    "}\n",
    "# finding common keys\n",
    "person_data_1.keys() & person_data_2.keys()\n"
   ]
  },
  {
   "cell_type": "markdown",
   "metadata": {},
   "source": [
    "### Unicode names\n"
   ]
  },
  {
   "cell_type": "code",
   "execution_count": 20,
   "metadata": {},
   "outputs": [],
   "source": [
    "from unicodedata import name\n",
    "import random\n"
   ]
  },
  {
   "cell_type": "code",
   "execution_count": 21,
   "metadata": {},
   "outputs": [
    {
     "name": "stdout",
     "output_type": "stream",
     "text": [
      "𧶖 CJK UNIFIED IDEOGRAPH-27D96\n",
      "𨄼 CJK UNIFIED IDEOGRAPH-2813C\n",
      "ꄩ YI SYLLABLE TOT\n",
      "Ḋ LATIN CAPITAL LETTER D WITH DOT ABOVE\n",
      "𣚴 CJK UNIFIED IDEOGRAPH-236B4\n"
     ]
    }
   ],
   "source": [
    "n = 0\n",
    "while n < 5:\n",
    "    unicode_point = chr(random.randint(0, 0x10FFFF))  # pick a random unicode point\n",
    "    if unicode_name := name(unicode_point, \"\"):\n",
    "        print(unicode_point, unicode_name)  # print the point and the name\n",
    "        n += 1\n"
   ]
  },
  {
   "cell_type": "markdown",
   "metadata": {},
   "source": [
    "### string translation\n"
   ]
  },
  {
   "cell_type": "code",
   "execution_count": 22,
   "metadata": {},
   "outputs": [],
   "source": [
    "translation = str.maketrans(\"simon\", \"abcde\")\n"
   ]
  },
  {
   "cell_type": "code",
   "execution_count": 23,
   "metadata": {},
   "outputs": [
    {
     "data": {
      "text/plain": [
       "'helld abcde'"
      ]
     },
     "execution_count": 23,
     "metadata": {},
     "output_type": "execute_result"
    }
   ],
   "source": [
    "\"hello simon\".translate(translation)\n"
   ]
  },
  {
   "cell_type": "markdown",
   "metadata": {},
   "source": [
    "### Dataclasses save you a lot of typing\n"
   ]
  },
  {
   "cell_type": "code",
   "execution_count": 24,
   "metadata": {},
   "outputs": [],
   "source": [
    "from dataclasses import dataclass\n",
    "from dataclasses import field\n",
    "from typing import Optional\n",
    "\n",
    "\n",
    "@dataclass\n",
    "class Book:\n",
    "    title: str\n",
    "    author: Optional[str] = \"unknown\"\n",
    "    pages: int = 0\n",
    "    price: float = field(default=0.0, repr=False)\n",
    "\n",
    "    def __post_init__(self):\n",
    "        self.long_title = self.title + \" by \" + self.author\n"
   ]
  },
  {
   "cell_type": "code",
   "execution_count": 25,
   "metadata": {},
   "outputs": [
    {
     "data": {
      "text/plain": [
       "Book(title='Python Programming', author='Simon Ward-Jones', pages=300)"
      ]
     },
     "execution_count": 25,
     "metadata": {},
     "output_type": "execute_result"
    }
   ],
   "source": [
    "book = Book(title=\"Python Programming\", author=\"Simon Ward-Jones\", pages=300)\n",
    "book\n"
   ]
  },
  {
   "cell_type": "markdown",
   "metadata": {},
   "source": [
    "### Variables are not boxes 📦 🏷\n"
   ]
  },
  {
   "cell_type": "code",
   "execution_count": 26,
   "metadata": {},
   "outputs": [
    {
     "data": {
      "text/plain": [
       "['📦 ', '🏷', '📦']"
      ]
     },
     "execution_count": 26,
     "metadata": {},
     "output_type": "execute_result"
    }
   ],
   "source": [
    "variable = [\"📦 \", \"🏷\"]\n",
    "other_variable = variable\n",
    "other_variable.append(\"📦\")\n",
    "variable  # say what...\n"
   ]
  },
  {
   "cell_type": "markdown",
   "metadata": {},
   "source": [
    "### Copy is only one level deep\n"
   ]
  },
  {
   "cell_type": "code",
   "execution_count": 27,
   "metadata": {},
   "outputs": [
    {
     "name": "stdout",
     "output_type": "stream",
     "text": [
      "4554309872 4554309872\n",
      "4554309904 4554309904\n",
      "4604433856 4604433856\n"
     ]
    }
   ],
   "source": [
    "data = [1, 2, [3, 4]]\n",
    "new_data = data.copy()\n",
    "for item, new_item in zip(data, new_data):\n",
    "    print(id(item), id(new_item))\n"
   ]
  },
  {
   "cell_type": "markdown",
   "metadata": {},
   "source": [
    "### Watch out for passing a mutable object to a function\n"
   ]
  },
  {
   "cell_type": "code",
   "execution_count": 28,
   "metadata": {},
   "outputs": [
    {
     "name": "stdout",
     "output_type": "stream",
     "text": [
      "Removing last item before sum: 4\n",
      "The sum is 6 but data is now: [1, 2, 3]\n"
     ]
    }
   ],
   "source": [
    "# the function will modify the mutable data passed to it\n",
    "data = [1, 2, 3, 4]\n",
    "\n",
    "\n",
    "def sum_all_but_last(data):\n",
    "    last_item = data.pop()\n",
    "    print(f\"Removing last item before sum: {last_item}\")\n",
    "    return sum(data)\n",
    "\n",
    "\n",
    "data_sum_all_but_last = sum_all_but_last(data)\n",
    "print(f\"The sum is {data_sum_all_but_last} but data is now: {data}\")\n"
   ]
  },
  {
   "cell_type": "markdown",
   "metadata": {},
   "source": [
    "### Really watch out for mutable default arguments\n"
   ]
  },
  {
   "cell_type": "code",
   "execution_count": 29,
   "metadata": {},
   "outputs": [
    {
     "data": {
      "text/plain": [
       "['cat']"
      ]
     },
     "execution_count": 29,
     "metadata": {},
     "output_type": "execute_result"
    }
   ],
   "source": [
    "class Person:\n",
    "    def __init__(self, name, pets=[]):\n",
    "        self.name = name\n",
    "        self.pets = pets\n",
    "\n",
    "\n",
    "simon = Person(\"Simon\")\n",
    "paul = Person(\"Paul\")\n",
    "paul.pets.append(\"cat\")\n",
    "# Now simon has a pet cat too!\n",
    "simon.pets\n"
   ]
  },
  {
   "cell_type": "markdown",
   "metadata": {},
   "source": [
    "### Classic late binding lambdas trick\n"
   ]
  },
  {
   "cell_type": "code",
   "execution_count": 30,
   "metadata": {},
   "outputs": [
    {
     "name": "stdout",
     "output_type": "stream",
     "text": [
      "3\n",
      "3\n",
      "3\n"
     ]
    }
   ],
   "source": [
    "# The value of i is looked up at execution time.\n",
    "for function in [lambda x: x + i for i in range(3)]:\n",
    "    print(function(1))\n"
   ]
  },
  {
   "cell_type": "markdown",
   "metadata": {},
   "source": [
    "### Tuples are immutable but their contents can be changed\n"
   ]
  },
  {
   "cell_type": "code",
   "execution_count": 37,
   "metadata": {},
   "outputs": [],
   "source": [
    "address = \"42 Wallaby Way, Sydney\"\n",
    "rooms = [\"kitchen\", \"living room\", \"dining room\", \"bathroom\"]\n",
    "house = (address, rooms)\n"
   ]
  },
  {
   "cell_type": "code",
   "execution_count": 38,
   "metadata": {},
   "outputs": [
    {
     "data": {
      "text/plain": [
       "('42 Wallaby Way, Sydney',\n",
       " ['kitchen', 'living room', 'dining room', 'bathroom', 'office'])"
      ]
     },
     "execution_count": 38,
     "metadata": {},
     "output_type": "execute_result"
    }
   ],
   "source": [
    "house[1].append(\"office\")\n",
    "house\n"
   ]
  },
  {
   "cell_type": "markdown",
   "metadata": {},
   "source": [
    "### The operator module is handy when reducing\n"
   ]
  },
  {
   "cell_type": "code",
   "execution_count": 39,
   "metadata": {},
   "outputs": [
    {
     "name": "stdout",
     "output_type": "stream",
     "text": [
      "360\n"
     ]
    }
   ],
   "source": [
    "from operator import mul\n",
    "from functools import reduce\n",
    "\n",
    "numbers = [3, 4, 5, 6]\n",
    "product_of_numbers = reduce(mul, numbers)\n",
    "\n",
    "# without the mul operator:\n",
    "# product_of_numbers = reduce(lambda x, y: x * y, numbers)\n",
    "\n",
    "print(product_of_numbers)\n"
   ]
  },
  {
   "cell_type": "markdown",
   "metadata": {},
   "source": [
    "### Use the operator itemgetter to sort a list by specific item\n"
   ]
  },
  {
   "cell_type": "code",
   "execution_count": 40,
   "metadata": {},
   "outputs": [
    {
     "data": {
      "text/plain": [
       "[('b', 1), ('a', 2), ('c', 3)]"
      ]
     },
     "execution_count": 40,
     "metadata": {},
     "output_type": "execute_result"
    }
   ],
   "source": [
    "from operator import itemgetter\n",
    "\n",
    "sorted([(\"a\", 2), (\"b\", 1), (\"c\", 3)], key=itemgetter(1))\n",
    "\n",
    "# This is the same as doing:\n",
    "# sorted([(\"a\", 2), (\"b\", 1), (\"c\", 3)], key=lambda x: x[1])\n"
   ]
  },
  {
   "cell_type": "markdown",
   "metadata": {},
   "source": [
    "### Use the operator attrgetter to sort by specific (maybe nested) attribute\n"
   ]
  },
  {
   "cell_type": "code",
   "execution_count": 41,
   "metadata": {},
   "outputs": [],
   "source": [
    "from operator import attrgetter\n",
    "from typing import NamedTuple, Optional\n",
    "\n",
    "\n",
    "class Pet(NamedTuple):\n",
    "    name: str\n",
    "    species: str\n",
    "    age: int\n",
    "\n",
    "\n",
    "class Human(NamedTuple):\n",
    "    name: str\n",
    "    pet: Pet\n",
    "\n",
    "\n",
    "people = [\n",
    "    Human(name=\"Simon\", pet=Pet(name=\"Whiskers\", species=\"cat\", age=3)),\n",
    "    Human(name=\"Richard\", pet=Pet(name=\"Giles\", species=\"shark\", age=1)),\n",
    "    Human(name=\"Paul\", pet=Pet(name=\"Alfie\", species=\"dog\", age=2)),\n",
    "    Human(name=\"Tom\", pet=Pet(name=\"Rupert\", species=\"cat\", age=3)),\n",
    "]\n"
   ]
  },
  {
   "cell_type": "code",
   "execution_count": 42,
   "metadata": {},
   "outputs": [
    {
     "data": {
      "text/plain": [
       "[Human(name='Richard', pet=Pet(name='Giles', species='shark', age=1)),\n",
       " Human(name='Paul', pet=Pet(name='Alfie', species='dog', age=2)),\n",
       " Human(name='Simon', pet=Pet(name='Whiskers', species='cat', age=3)),\n",
       " Human(name='Tom', pet=Pet(name='Rupert', species='cat', age=3))]"
      ]
     },
     "execution_count": 42,
     "metadata": {},
     "output_type": "execute_result"
    }
   ],
   "source": [
    "# sort by animal age ascending\n",
    "sorted(people, key=attrgetter(\"pet.age\"))\n",
    "\n",
    "# This is equivalent to:\n",
    "# sorted(people, key=lambda x: x.pet.age)\n"
   ]
  },
  {
   "cell_type": "code",
   "execution_count": 43,
   "metadata": {},
   "outputs": [
    {
     "data": {
      "text/plain": [
       "[Human(name='Richard', pet=Pet(name='Giles', species='shark', age=1)),\n",
       " Human(name='Paul', pet=Pet(name='Alfie', species='dog', age=2)),\n",
       " Human(name='Simon', pet=Pet(name='Whiskers', species='cat', age=3)),\n",
       " Human(name='Tom', pet=Pet(name='Rupert', species='cat', age=3))]"
      ]
     },
     "execution_count": 43,
     "metadata": {},
     "output_type": "execute_result"
    }
   ],
   "source": [
    "# sort by animal age then by owner name (note Simon's 3 year olf pet comes before Tom's)\n",
    "sorted(people, key=attrgetter(\"pet.age\", \"name\"))\n",
    "\n",
    "# This is equivalent to:\n",
    "# sorted(people, key=lambda x: (x.pet.age, x.name))\n"
   ]
  },
  {
   "cell_type": "markdown",
   "metadata": {},
   "source": [
    "### Key word only arguments\n"
   ]
  },
  {
   "cell_type": "code",
   "execution_count": 44,
   "metadata": {},
   "outputs": [
    {
     "data": {
      "text/plain": [
       "1"
      ]
     },
     "execution_count": 44,
     "metadata": {},
     "output_type": "execute_result"
    }
   ],
   "source": [
    "def count_letters(string: str, *, letters: str = \"aeiou\") -> int:\n",
    "    return sum(1 for c in string if c.lower() in letters)\n",
    "\n",
    "\n",
    "# This call would fail:\n",
    "# count_letters(\"simon\", \"aei\")\n",
    "# One must call with letters key word like:\n",
    "count_letters(\"simon\", letters=\"aei\")\n"
   ]
  },
  {
   "cell_type": "markdown",
   "metadata": {},
   "source": [
    "### Positional only parameters\n"
   ]
  },
  {
   "cell_type": "code",
   "execution_count": 45,
   "metadata": {},
   "outputs": [
    {
     "data": {
      "text/plain": [
       "1"
      ]
     },
     "execution_count": 45,
     "metadata": {},
     "output_type": "execute_result"
    }
   ],
   "source": [
    "def count_letters(string: str, /, letters: str = \"aeiou\") -> int:\n",
    "    return sum(1 for c in string if c.lower() in letters)\n",
    "\n",
    "\n",
    "# This call would fail:\n",
    "# count_letters(string=\"simon\", letters=\"aei\")\n",
    "# One must call using positional argument like:\n",
    "count_letters(\"simon\", \"aei\")\n"
   ]
  },
  {
   "cell_type": "markdown",
   "metadata": {},
   "source": [
    "### Positional only parameters and Keyword only parameters\n"
   ]
  },
  {
   "cell_type": "code",
   "execution_count": 46,
   "metadata": {},
   "outputs": [
    {
     "data": {
      "text/plain": [
       "1"
      ]
     },
     "execution_count": 46,
     "metadata": {},
     "output_type": "execute_result"
    }
   ],
   "source": [
    "# Note we can combine positional only with keyword only arguments\n",
    "\n",
    "\n",
    "def count_letters(\n",
    "    string: str, /, letters: str = \"aeiou\", *, case_sensitive: bool = False\n",
    ") -> int:\n",
    "    if not case_sensitive:\n",
    "        string = string.lower()\n",
    "    return sum(1 for c in string if c.lower() in letters)\n",
    "\n",
    "\n",
    "# In this case:\n",
    "#     string must be a positional argument\n",
    "#     letters can be a keyword argument or a positional argument\n",
    "#     case_sensitive mst be a keyword argument\n",
    "\n",
    "count_letters(\"simon\", letters=\"aei\", case_sensitive=True)\n",
    "count_letters(\"simon\", \"aei\", case_sensitive=True)\n"
   ]
  },
  {
   "cell_type": "markdown",
   "metadata": {},
   "source": [
    "### Closures capture variable values in the outer scope\n"
   ]
  },
  {
   "cell_type": "code",
   "execution_count": 47,
   "metadata": {},
   "outputs": [
    {
     "name": "stdout",
     "output_type": "stream",
     "text": [
      "('name',)\n",
      "('wives',)\n",
      "('catherine_of_aragon', 'anne_boleyn', 'jane_seymour', 'anne_of_cleves', 'catherine_howard', 'catherine_parr')\n",
      "('catherine_of_aragon', 'anne_boleyn', 'jane_seymour', 'anne_of_cleves', 'catherine_howard', 'catherine_parr')\n"
     ]
    }
   ],
   "source": [
    "def get_wife_function():\n",
    "    wives = ()\n",
    "\n",
    "    def add_wife(name: str):\n",
    "        nonlocal wives\n",
    "        wives += (name,)\n",
    "        return wives\n",
    "\n",
    "    return add_wife\n",
    "\n",
    "\n",
    "henrys_wives = get_wife_function()\n",
    "\n",
    "henrys_wives(\"catherine_of_aragon\")\n",
    "henrys_wives(\"anne_boleyn\")\n",
    "henrys_wives(\"jane_seymour\")\n",
    "henrys_wives(\"anne_of_cleves\")\n",
    "henrys_wives(\"catherine_howard\")\n",
    "wives = henrys_wives(\"catherine_parr\")\n",
    "\n",
    "\n",
    "print(henrys_wives.__code__.co_varnames)\n",
    "print(henrys_wives.__code__.co_freevars)\n",
    "\n",
    "print(wives)\n",
    "print(henrys_wives.__closure__[0].cell_contents)\n"
   ]
  },
  {
   "cell_type": "markdown",
   "metadata": {},
   "source": [
    "### Another example of scope to create a simple counter\n"
   ]
  },
  {
   "cell_type": "code",
   "execution_count": 48,
   "metadata": {},
   "outputs": [
    {
     "name": "stdout",
     "output_type": "stream",
     "text": [
      "1\n",
      "2\n",
      "3\n",
      "4\n"
     ]
    }
   ],
   "source": [
    "# We specify non local to reference a variable that is in the outer scope.\n",
    "# If we did not we would get an error.\n",
    "\n",
    "\n",
    "def get_counter():\n",
    "    count = 0\n",
    "\n",
    "    def counter():\n",
    "        nonlocal count\n",
    "        count += 1\n",
    "        return count\n",
    "\n",
    "    return counter\n",
    "\n",
    "\n",
    "counter = get_counter()\n",
    "\n",
    "while (x := counter()) < 5:\n",
    "    print(x)\n"
   ]
  },
  {
   "cell_type": "markdown",
   "metadata": {},
   "source": [
    "### Use single dispatch to implement polymorphism\n"
   ]
  },
  {
   "cell_type": "code",
   "execution_count": 49,
   "metadata": {},
   "outputs": [
    {
     "name": "stdout",
     "output_type": "stream",
     "text": [
      "Using generic Iterator implementation\n",
      "#0a141e\n",
      "Using RGB implementation\n",
      "#0a141e\n",
      "Using str implementation\n",
      "#0a141e\n"
     ]
    }
   ],
   "source": [
    "# The function called depends on the type at runtime.\n",
    "\n",
    "from typing import NamedTuple\n",
    "from collections.abc import Iterable\n",
    "from functools import singledispatch\n",
    "import re\n",
    "\n",
    "\n",
    "class RGB(NamedTuple):\n",
    "    red: int\n",
    "    green: int\n",
    "    blue: int\n",
    "\n",
    "\n",
    "@singledispatch\n",
    "def get_hex(rgb: Iterable[int]) -> str:\n",
    "    print(\"Using str implementation\")\n",
    "    red, green, blue = rgb\n",
    "    return f\"#{red:02x}{green:02x}{blue:02x}\"\n",
    "\n",
    "\n",
    "@get_hex.register\n",
    "def _(rgb: RGB) -> str:\n",
    "    print(\"Using RGB implementation\")\n",
    "    return f\"#{rgb.red:02x}{rgb.green:02x}{rgb.blue:02x}\"\n",
    "\n",
    "\n",
    "@get_hex.register\n",
    "def _(rgb: str) -> str:\n",
    "    red, green, blue = (int(x) for x in re.findall(r\"\\d+\", rgb))\n",
    "    print(\"Using generic Iterator implementation\")\n",
    "    return f\"#{red:02x}{green:02x}{blue:02x}\"\n",
    "\n",
    "\n",
    "print(get_hex(\"RGB(10, 20, 30)\"))\n",
    "print(get_hex(RGB(red=10, green=20, blue=30)))\n",
    "print(get_hex((10, 20, 30)))\n"
   ]
  },
  {
   "cell_type": "markdown",
   "metadata": {},
   "source": [
    "### Static Duck Typing with Protocols and runtime_checks.\n"
   ]
  },
  {
   "cell_type": "code",
   "execution_count": 50,
   "metadata": {},
   "outputs": [],
   "source": [
    "from typing import Protocol, runtime_checkable\n",
    "\n",
    "\n",
    "@runtime_checkable\n",
    "class Dog(Protocol):\n",
    "    def bark(self) -> str:\n",
    "        ...\n",
    "\n",
    "\n",
    "class Dalmatian:\n",
    "    def bark(self) -> str:\n",
    "        return \"woof woof\"\n",
    "\n",
    "\n",
    "# These only work as we used the runtime_checkable decorator.\n",
    "assert isinstance(Dalmatian(), Dog)\n",
    "assert issubclass(Dalmatian, Dog)\n"
   ]
  },
  {
   "cell_type": "markdown",
   "metadata": {},
   "source": [
    "### Registering a virtual subclass\n"
   ]
  },
  {
   "cell_type": "code",
   "execution_count": 51,
   "metadata": {},
   "outputs": [],
   "source": [
    "import abc\n",
    "\n",
    "\n",
    "class Duck(abc.ABC):\n",
    "    @abc.abstractmethod\n",
    "    def quack(self):\n",
    "        pass\n",
    "\n",
    "\n",
    "@Duck.register\n",
    "class Goose:\n",
    "    def quack(self) -> None:\n",
    "        print(\"Quack!\")\n",
    "\n",
    "\n",
    "goose = Goose()\n",
    "\n",
    "assert isinstance(goose, Duck)\n",
    "assert issubclass(Goose, Duck)\n"
   ]
  },
  {
   "cell_type": "markdown",
   "metadata": {},
   "source": [
    "### Using the `__subclasshook__`\n"
   ]
  },
  {
   "cell_type": "code",
   "execution_count": 52,
   "metadata": {},
   "outputs": [],
   "source": [
    "import abc\n",
    "\n",
    "\n",
    "class Duck(abc.ABC):\n",
    "    @classmethod\n",
    "    def __subclasshook__(cls, instance) -> None:\n",
    "        if any(\"quack\" in B.__dict__ for B in instance.__mro__):\n",
    "            return True\n",
    "        return NotImplemented\n",
    "\n",
    "    @abc.abstractmethod\n",
    "    def quack(self):\n",
    "        pass\n",
    "\n",
    "\n",
    "class Goose:\n",
    "    def quack(self) -> None:\n",
    "        print(\"Quack!\")\n",
    "\n",
    "\n",
    "goose = Goose()\n",
    "\n",
    "assert isinstance(goose, Duck)\n",
    "assert issubclass(Goose, Duck)\n"
   ]
  },
  {
   "cell_type": "markdown",
   "metadata": {},
   "source": [
    "### Nested f-strings are a thing!\n"
   ]
  },
  {
   "cell_type": "code",
   "execution_count": 53,
   "metadata": {},
   "outputs": [
    {
     "name": "stdout",
     "output_type": "stream",
     "text": [
      "3\n",
      "2.7\n",
      "2.72\n",
      "2.718\n",
      "2.7183\n"
     ]
    }
   ],
   "source": [
    "import math\n",
    "\n",
    "for points in range(5):\n",
    "    print(f\"{math.e:.{points}f}\")\n"
   ]
  },
  {
   "cell_type": "markdown",
   "metadata": {},
   "source": [
    "### f-string tips\n"
   ]
  },
  {
   "cell_type": "code",
   "execution_count": 54,
   "metadata": {},
   "outputs": [
    {
     "data": {
      "text/plain": [
       "'3.1416'"
      ]
     },
     "execution_count": 54,
     "metadata": {},
     "output_type": "execute_result"
    }
   ],
   "source": [
    "format(math.pi, \".4f\")\n"
   ]
  },
  {
   "cell_type": "markdown",
   "metadata": {},
   "source": [
    "### Formatting spec mini language\n"
   ]
  },
  {
   "cell_type": "code",
   "execution_count": 55,
   "metadata": {},
   "outputs": [
    {
     "name": "stdout",
     "output_type": "stream",
     "text": [
      "|   Value    |   Spec   |       Output       |\n",
      "|    9992    |   ->10   |    '------9992'    |\n",
      "|    9992    |   *<10   |    '9992******'    |\n",
      "|    9992    |   ^10    |    '   9992   '    |\n",
      "|    9992    |   ^10_   |    '  9_992   '    |\n",
      "|    9992    |   ^10,   |    '  9,992   '    |\n",
      "|    9992    |   ^+10   |    '  +9992   '    |\n",
      "|    9992    | ^+10.0%  |    ' +999200% '    |\n",
      "|    9992    | =+10.2f  |    '+  9992.00'    |\n",
      "|    9992    |  10.2G   |    '     1E+04'    |\n",
      "|    9992    |    b     |  '10011100001000'  |\n",
      "|    9992    |   ^10c   |    '    ✈     '    |\n",
      "|    9992    |   ^10d   |    '   9992   '    |\n",
      "|    9992    |   ^10x   |    '   2708   '    |\n",
      "|    9992    |  ^#10x   |    '  0x2708  '    |\n",
      "| 1234.56789 | ^10,.2f  |    ' 1,234.57 '    |\n",
      "| 1234.56789 |  ^10.2G  |    ' 1.2E+03  '    |\n"
     ]
    }
   ],
   "source": [
    "# https://docs.python.org/3/library/string.html#format-specification-mini-language\n",
    "\n",
    "examples = [\n",
    "    (9992, \"->10\"),\n",
    "    (9992, \"*<10\"),\n",
    "    (9992, \"^10\"),\n",
    "    (9992, \"^10_\"),\n",
    "    (9992, \"^10,\"),\n",
    "    (9992, \"^+10\"),\n",
    "    (9992, \"^+10.0%\"),\n",
    "    (9992, \"=+10.2f\"),\n",
    "    (9992, \"10.2G\"),\n",
    "    (9992, \"b\"),\n",
    "    (9992, \"^10c\"),\n",
    "    (9992, \"^10d\"),\n",
    "    (9992, \"^10x\"),\n",
    "    (9992, \"^#10x\"),\n",
    "    (1234.56789, \"^10,.2f\"),\n",
    "    (1234.56789, \"^10.2G\"),\n",
    "]\n",
    "cw = 15\n",
    "print(f\"|{'Value':^12}|{'Spec':^10}|{'Output':^20}|\")\n",
    "for value, format_spec in examples:\n",
    "    output = f\"'{value:{format_spec}}'\"\n",
    "    print(f\"|{value:^12}|{format_spec:^10}|{output:^20}|\")\n"
   ]
  },
  {
   "cell_type": "markdown",
   "metadata": {},
   "source": [
    "### conversion flags in f strings\n"
   ]
  },
  {
   "cell_type": "code",
   "execution_count": 56,
   "metadata": {},
   "outputs": [
    {
     "name": "stdout",
     "output_type": "stream",
     "text": [
      "!a calls ascii(): '\\u2708\\ufe0f'\n",
      "!s calls str(): ✈️\n",
      "!r calls repr(): '✈️'\n"
     ]
    }
   ],
   "source": [
    "import math\n",
    "\n",
    "emoji = \"✈️\"\n",
    "\n",
    "print(f\"!a calls ascii(): {emoji!a}\")\n",
    "print(f\"!s calls str(): {emoji!s}\")\n",
    "print(f\"!r calls repr(): {emoji!r}\")\n"
   ]
  },
  {
   "cell_type": "markdown",
   "metadata": {},
   "source": [
    "### Enhance f-string with `__format__`\n"
   ]
  },
  {
   "cell_type": "code",
   "execution_count": 57,
   "metadata": {},
   "outputs": [
    {
     "name": "stdout",
     "output_type": "stream",
     "text": [
      "By default f-strings use __str__ = ✈️\n",
      "Force use of __repr__ with !r = Plane()\n",
      "Demo of custom format spec = ✈️✈️\n",
      "Demo of custom format spec = ✈️✈️\n",
      "Demo of custom format spec = ✈️✈️✈️✈️✈️\n"
     ]
    }
   ],
   "source": [
    "import re\n",
    "\n",
    "\n",
    "class Plane:\n",
    "    def __repr__(self):\n",
    "        return f\"{self.__class__.__name__}()\"\n",
    "\n",
    "    def __str__(self):\n",
    "        return f\"✈️\"\n",
    "\n",
    "    def __format__(self, __format_spec: str):\n",
    "        if match := re.match(r\"(.*?)(\\d+)?r\", __format_spec):\n",
    "            repeat = int(match[2]) if match[2] else 2\n",
    "            return super().__format__(match[1]) * repeat\n",
    "        return super().__format__(__format_spec)\n",
    "\n",
    "\n",
    "plane = Plane()\n",
    "\n",
    "print(f\"By default f-strings use __str__ = {plane}\")\n",
    "print(f\"Force use of __repr__ with !r = {plane!r}\")\n",
    "print(f\"Demo of custom format spec = {plane:r}\")\n",
    "print(f\"Demo of custom format spec = {plane:2r}\")\n",
    "print(f\"Demo of custom format spec = {plane:5r}\")\n"
   ]
  },
  {
   "cell_type": "markdown",
   "metadata": {},
   "source": [
    "### Customising the `__match_args__`\n"
   ]
  },
  {
   "cell_type": "code",
   "execution_count": 58,
   "metadata": {},
   "outputs": [
    {
     "name": "stdout",
     "output_type": "stream",
     "text": [
      "10 Jersey 600 {'weight': 600}\n"
     ]
    }
   ],
   "source": [
    "class Cow:\n",
    "    __match_args__ = (\"age\", \"breed\", \"info\")\n",
    "\n",
    "    def __init__(self, age: int, breed: str, info: dict[str:int]) -> None:\n",
    "        self.age = age\n",
    "        self.breed = breed\n",
    "        self.info = info\n",
    "\n",
    "\n",
    "cow = Cow(10, \"Jersey\", {\"weight\": 600})\n",
    "\n",
    "match cow:\n",
    "    case Cow(10 as age, name, {\"weight\": weight} as info):\n",
    "        print(age, name, weight, info)\n"
   ]
  },
  {
   "cell_type": "markdown",
   "metadata": {},
   "source": [
    "### Itertools filtering generator functions\n"
   ]
  },
  {
   "cell_type": "code",
   "execution_count": 59,
   "metadata": {},
   "outputs": [
    {
     "name": "stdout",
     "output_type": "stream",
     "text": [
      "['H', 'E', 'L', 'L', 'O']\n",
      "['i', 'h', 'd', 's', 's', 'a', 's', 'a', 's', 'a']\n",
      "['i', 'E', 'h', 'd', 's', 'L', 's', 'a', 'L', 's', 'a', 's', 'a', 'O']\n",
      "['H']\n",
      "['i', 's', 'L', 'a', 's', 's', 'O']\n"
     ]
    }
   ],
   "source": [
    "import itertools\n",
    "\n",
    "print(list(filter(str.isupper, \"HiEhdsLsaLsasaO\")))\n",
    "print(list(itertools.filterfalse(str.isupper, \"HiEhdsLsaLsasaO\")))\n",
    "print(list(itertools.dropwhile(str.isupper, \"HiEhdsLsaLsasaO\")))\n",
    "print(list(itertools.takewhile(str.isupper, \"HiEhdsLsaLsasaO\")))\n",
    "\n",
    "filter_by = (0, 1, 0, 0, 0, 1, 1, 0, 1, 0, 1, 0, 1, 0, 1)\n",
    "print(list(itertools.compress(\"HiEhdsLsaLsasaO\", filter_by)))\n"
   ]
  },
  {
   "cell_type": "markdown",
   "metadata": {},
   "source": [
    "### Itertools mapping generator functions\n"
   ]
  },
  {
   "cell_type": "code",
   "execution_count": 60,
   "metadata": {},
   "outputs": [
    {
     "name": "stdout",
     "output_type": "stream",
     "text": [
      "[2, 8, 11, 89, 93, 102, 108, 108, 111, 211]\n",
      "[2, 2, 2, 2, 2, 2, 2, 0, 0, 0]\n",
      "[2, 6, 6, 78, 78, 78, 78, 78, 78, 100]\n",
      "[2, 12, 36, 2808, 11232, 101088, 606528, 0, 0, 0]\n",
      "[(0, 2), (1, 6), (2, 3), (3, 78), (4, 4), (5, 9), (6, 6), (7, 0), (8, 3), (9, 100)]\n",
      "[4, 36, 9, 6084, 16, 81, 36, 0, 9, 10000]\n",
      "[4, 13, 8, 159, 12, 23, 18, 7, 14, 209]\n"
     ]
    }
   ],
   "source": [
    "import itertools\n",
    "from operator import mul\n",
    "\n",
    "numbers = [2, 6, 3, 78, 4, 9, 6, 0, 3, 100]\n",
    "\n",
    "print(list(itertools.accumulate(numbers)))\n",
    "print(list(itertools.accumulate(numbers, min)))\n",
    "print(list(itertools.accumulate(numbers, max)))\n",
    "print(list(itertools.accumulate(numbers, mul)))\n",
    "print(list(enumerate(numbers)))\n",
    "print(list(map(lambda x: x**2, numbers)))\n",
    "print(list(itertools.starmap(lambda x, y: x + 2 * y, enumerate(numbers))))\n"
   ]
  },
  {
   "cell_type": "markdown",
   "metadata": {},
   "source": [
    "### Itertools merging generators\n"
   ]
  },
  {
   "cell_type": "code",
   "execution_count": 61,
   "metadata": {},
   "outputs": [
    {
     "name": "stdout",
     "output_type": "stream",
     "text": [
      "[1, 2, 3, 4, 5, 6, 7]\n",
      "[1, 2, 3, 4, 5, 6, 7]\n",
      "[(1, 3, 6), (1, 3, 7), (1, 4, 6), (1, 4, 7), (1, 5, 6), (1, 5, 7), (2, 3, 6), (2, 3, 7), (2, 4, 6), (2, 4, 7), (2, 5, 6), (2, 5, 7)]\n",
      "[(1, 3, 6), (2, 4, 7)]\n",
      "[(1, 3, 6), (2, 4, 7), (None, 5, None)]\n"
     ]
    }
   ],
   "source": [
    "import itertools\n",
    "\n",
    "print(list(itertools.chain([1, 2], [3, 4, 5], [6, 7])))\n",
    "print(list(itertools.chain.from_iterable([[1, 2], [3, 4, 5], [6, 7]])))\n",
    "print(list(itertools.product([1, 2], [3, 4, 5], [6, 7])))\n",
    "print(list(zip([1, 2], [3, 4, 5], [6, 7])))\n",
    "print(list(itertools.zip_longest([1, 2], [3, 4, 5], [6, 7])))\n"
   ]
  },
  {
   "cell_type": "markdown",
   "metadata": {},
   "source": [
    "### Itertools expanding iterables\n"
   ]
  },
  {
   "cell_type": "code",
   "execution_count": 62,
   "metadata": {},
   "outputs": [
    {
     "name": "stdout",
     "output_type": "stream",
     "text": [
      "[(3, 4), (3, 5), (3, 5), (4, 5), (4, 5), (5, 5)]\n",
      "[(3, 3), (3, 4), (3, 5), (3, 5), (4, 4), (4, 5), (4, 5), (5, 5), (5, 5), (5, 5)]\n",
      "[(3, 4), (3, 5), (3, 5), (4, 3), (4, 5), (4, 5), (5, 3), (5, 4), (5, 5), (5, 3), (5, 4), (5, 5)]\n",
      "[(3, 3), (3, 4), (3, 5), (3, 5), (4, 3), (4, 4), (4, 5), (4, 5), (5, 3), (5, 4), (5, 5), (5, 5), (5, 3), (5, 4), (5, 5), (5, 5)]\n",
      "[1, 11, 21, 31, 41, 51, 61, 71, 81, 91]\n",
      "[1, 10, 1, 10, 1, 10, 1, 10]\n",
      "[(0, 1), (1, 2), (2, 3), (3, 4), (4, 5), (5, 6)]\n",
      "[[1, 10], [1, 10], [1, 10]]\n"
     ]
    }
   ],
   "source": [
    "import itertools\n",
    "\n",
    "numbers = [3, 4, 5, 5]\n",
    "\n",
    "print(list(itertools.combinations(numbers, r=2)))\n",
    "print(list(itertools.combinations_with_replacement(numbers, r=2)))\n",
    "print(list(itertools.permutations(numbers, r=2)))\n",
    "print(list(itertools.product(numbers, repeat=2)))\n",
    "\n",
    "print(list(itertools.takewhile(lambda x: x < 100, itertools.count(1, 10))))\n",
    "print(list(itertools.islice(itertools.cycle([1, 10]), 8)))\n",
    "print(list(itertools.pairwise(range(7))))\n",
    "print(list(itertools.repeat([1, 10], times=3)))\n"
   ]
  },
  {
   "cell_type": "markdown",
   "metadata": {},
   "source": [
    "### Itertools rearranging generators\n"
   ]
  },
  {
   "cell_type": "code",
   "execution_count": 73,
   "metadata": {},
   "outputs": [
    {
     "name": "stdout",
     "output_type": "stream",
     "text": [
      "[('m', ['m']), ('i', ['i']), ('s', ['s', 's']), ('i', ['i']), ('s', ['s', 's']), ('i', ['i']), ('p', ['p', 'p']), ('i', ['i'])]\n",
      "['i', 'p', 'p', 'i', 's', 's', 'i', 's', 's', 'i', 'm']\n",
      "[(0, 0), (1, 1), (2, 2), (3, 3), (4, 4), (5, 5)]\n"
     ]
    }
   ],
   "source": [
    "import itertools\n",
    "\n",
    "print([(x, list(y)) for x, y in itertools.groupby(\"mississippi\")])\n",
    "print(list(reversed(\"mississippi\")))\n",
    "print(list(zip(*itertools.tee(range(6)))))\n"
   ]
  },
  {
   "cell_type": "markdown",
   "metadata": {},
   "source": [
    "### yield from\n"
   ]
  },
  {
   "cell_type": "code",
   "execution_count": 75,
   "metadata": {},
   "outputs": [
    {
     "name": "stdout",
     "output_type": "stream",
     "text": [
      "1\n",
      "2\n",
      "3\n",
      "4\n"
     ]
    }
   ],
   "source": [
    "def small_range():\n",
    "    yield 1\n",
    "    yield 2\n",
    "    yield 3\n",
    "\n",
    "\n",
    "def demo():\n",
    "    yield from small_range()\n",
    "    yield 4\n",
    "\n",
    "\n",
    "for x in demo():\n",
    "    print(x)\n"
   ]
  },
  {
   "cell_type": "markdown",
   "metadata": {},
   "source": [
    "### Contextlib can make making a context manager easier\n"
   ]
  },
  {
   "cell_type": "code",
   "execution_count": 95,
   "metadata": {},
   "outputs": [
    {
     "name": "stdout",
     "output_type": "stream",
     "text": [
      "True\n",
      "2.718281828459045\n",
      "3.141592653589793\n",
      "True\n",
      "2.718281828459045\n",
      "3.141592653589793\n",
      "8.539734222673566\n"
     ]
    }
   ],
   "source": [
    "import contextlib\n",
    "import math\n",
    "\n",
    "\n",
    "class MathEnv:\n",
    "    def __enter__(self):\n",
    "        global e, pi\n",
    "        pi = math.pi\n",
    "        e = math.e\n",
    "        # you can imagine adding more\n",
    "        return True\n",
    "\n",
    "    def __exit__(self, exc_type, exc_value, traceback):\n",
    "        global e, pi\n",
    "        del pi\n",
    "        del e\n",
    "\n",
    "\n",
    "with MathEnv() as this:\n",
    "    print(this)\n",
    "    print(e)\n",
    "    print(pi)\n",
    "\n",
    "# or with context lib\n",
    "\n",
    "\n",
    "@contextlib.contextmanager\n",
    "def math_env():\n",
    "    global e, pi\n",
    "    pi = math.pi\n",
    "    e = math.e\n",
    "    yield True\n",
    "    del pi\n",
    "    del e\n",
    "\n",
    "\n",
    "with math_env() as this:\n",
    "    print(this)\n",
    "    print(e)\n",
    "    print(pi)\n",
    "\n",
    "# Also we can do\n",
    "\n",
    "\n",
    "@math_env()\n",
    "def using_the_context():\n",
    "    print(e * pi)\n",
    "\n",
    "\n",
    "using_the_context()\n",
    "\n",
    "# This would raise error.\n",
    "# print(e)\n"
   ]
  },
  {
   "cell_type": "markdown",
   "metadata": {},
   "source": [
    "### Progress bouncer with threading"
   ]
  },
  {
   "cell_type": "code",
   "execution_count": 21,
   "metadata": {},
   "outputs": [
    {
     "name": "stdout",
     "output_type": "stream",
     "text": [
      "\u001b[?25h                                                "
     ]
    },
    {
     "data": {
      "text/plain": [
       "100"
      ]
     },
     "execution_count": 21,
     "metadata": {},
     "output_type": "execute_result"
    }
   ],
   "source": [
    "from itertools import chain, cycle\n",
    "from threading import Event, Thread\n",
    "from time import sleep\n",
    "import asyncio\n",
    "\n",
    "\n",
    "def slow_io_bound_function():\n",
    "    sleep(4)\n",
    "    return 100\n",
    "\n",
    "\n",
    "def bouncer(done: Event):\n",
    "    n = 50\n",
    "    print(\"\\x1b[?25l\", end=\"\")  # hidden\n",
    "    for i in cycle(chain(range(n), reversed(range(n)))):\n",
    "        line = \"\\r┃\" + \" \" * i + \"━\" + \" \" * (n - i) + \"┃\"\n",
    "        print(line, end=\"\")\n",
    "        if done.wait(0.05):\n",
    "            break\n",
    "    print(\"\\r\" + \" \" * len(line), end=\"\")\n",
    "    print(\"\\r\\x1b[?25h\", end=\"\")  # show cursor.\n",
    "\n",
    "\n",
    "def main():\n",
    "    done = Event()\n",
    "    bouncer_task = Thread(target=bouncer, args=(done,))\n",
    "    bouncer_task.start()\n",
    "    result = slow_io_bound_function()\n",
    "    done.set()\n",
    "    bouncer_task.join()\n",
    "    return result\n",
    "\n",
    "\n",
    "main()\n"
   ]
  },
  {
   "cell_type": "markdown",
   "metadata": {},
   "source": [
    "### Progress bouncer with native coroutines"
   ]
  },
  {
   "cell_type": "code",
   "execution_count": null,
   "metadata": {},
   "outputs": [
    {
     "name": "stdout",
     "output_type": "stream",
     "text": [
      "\u001b[?25h                                                "
     ]
    }
   ],
   "source": [
    "from itertools import chain, cycle\n",
    "from threading import Event, Thread\n",
    "from time import sleep\n",
    "import asyncio\n",
    "\n",
    "\n",
    "async def slow_io_bound_function():\n",
    "    await asyncio.sleep(10)\n",
    "    return 100\n",
    "\n",
    "\n",
    "async def bouncer():\n",
    "    n = 50\n",
    "    print(\"\\x1b[?25l\", end=\"\")  # hidden\n",
    "    for i in cycle(chain(range(n), reversed(range(n)))):\n",
    "        line = \"\\r┃\" + \" \" * i + \"━\" + \" \" * (n - i) + \"┃\"\n",
    "        print(line, end=\"\", flush=True)\n",
    "        try:\n",
    "            await asyncio.sleep(0.05)\n",
    "        except asyncio.CancelledError:\n",
    "            break\n",
    "    print(\"\\r\" + \" \" * len(line), end=\"\")\n",
    "    print(\"\\r\\x1b[?25h\", end=\"\")  # show cursor.\n",
    "\n",
    "\n",
    "async def main():\n",
    "    bouncer_task = asyncio.create_task(bouncer())\n",
    "    result = await slow_io_bound_function()\n",
    "    bouncer_task.cancel()\n",
    "    return result\n",
    "\n",
    "\n",
    "# asyncio.run(main()) # this doesn't work in jupyter.\n",
    "loop = asyncio.get_event_loop()\n",
    "asyncio.run_coroutine_threadsafe(main(), loop)\n",
    "\n",
    "None\n"
   ]
  },
  {
   "cell_type": "markdown",
   "metadata": {},
   "source": [
    "### Customise the fallback `__getattr__` method"
   ]
  },
  {
   "cell_type": "code",
   "execution_count": 31,
   "metadata": {},
   "outputs": [
    {
     "data": {
      "text/plain": [
       "DotMonster({'name': 'simon', 'age': 105, 'friends': ['Tom', 'Tim']})"
      ]
     },
     "execution_count": 31,
     "metadata": {},
     "output_type": "execute_result"
    }
   ],
   "source": [
    "from functools import partial\n",
    "from typing import Any\n",
    "from collections import abc\n",
    "\n",
    "\n",
    "class DotMonster:\n",
    "    def __getattr__(self, value: str):\n",
    "        if value.lower().startswith(\"set_\"):\n",
    "            return partial(self.set_value_return_self, value[4:].lower())\n",
    "        if value.lower().startswith(\"add_\"):\n",
    "            return partial(self.add_value_return_self, value[4:].lower())\n",
    "        raise AttributeError(f\"{value} is not a valid attribute\")\n",
    "\n",
    "    def set_value_return_self(self, name: str, value: Any):\n",
    "        setattr(self, name, value)\n",
    "        return self\n",
    "\n",
    "    def add_value_return_self(self, name: str, value: Any):\n",
    "        if not hasattr(self, name):\n",
    "            if isinstance(value, list):\n",
    "                setattr(self, name, list(value))\n",
    "            else:\n",
    "                setattr(self, name, value)\n",
    "        elif isinstance(getattr(self, name), list):\n",
    "            getattr(self, name).append(value)\n",
    "        else:\n",
    "            setattr(self, name, [getattr(self, name), value])\n",
    "        return self\n",
    "\n",
    "    def __repr__(self):\n",
    "        return f\"{self.__class__.__name__}({self.__dict__})\"\n",
    "\n",
    "\n",
    "monster = DotMonster()\n",
    "\n",
    "monster.set_name(\"simon\").set_age(105).add_friends(\"Tom\").add_friends(\"Tim\")\n",
    "\n",
    "# monster.friends\n",
    "monster\n"
   ]
  },
  {
   "cell_type": "markdown",
   "metadata": {},
   "source": [
    "### MetaClass"
   ]
  },
  {
   "cell_type": "code",
   "execution_count": 139,
   "metadata": {},
   "outputs": [
    {
     "name": "stdout",
     "output_type": "stream",
     "text": [
      "Meta.__prepare__:\n",
      "\t(<class '__main__.Meta'>, 'Example', ())\n",
      "Meta.__new__:\n",
      "\t (<class '__main__.Meta'>, 'Example', (), {'__module__': '__main__', '__qualname__': 'Example', '__init__': <function Example.__init__ at 0x112be81f0>, '__init_subclass__': <function Example.__init_subclass__ at 0x112be8280>})\n",
      "Meta.__prepare__:\n",
      "\t(<class '__main__.Meta'>, 'SubExample', (<class '__main__.Example'>,))\n",
      "Meta.__new__:\n",
      "\t (<class '__main__.Meta'>, 'SubExample', (<class '__main__.Example'>,), {'__module__': '__main__', '__qualname__': 'SubExample', 'a': 10})\n",
      "Example.__init_subclass__:\n",
      "\t(<class '__main__.SubExample'>, {})\n",
      "Example.__init__:\n",
      "\t(<__main__.SubExample object at 0x112b4f0a0>)\n"
     ]
    }
   ],
   "source": [
    "class Meta(type):\n",
    "    def __new__(mcl, cls, bases, namespace):\n",
    "        args = (mcl, cls, bases, namespace)\n",
    "        print(\"Meta.__new__:\")\n",
    "        print(\"\\t\", args)\n",
    "        cls = super().__new__(*args)\n",
    "        return cls\n",
    "\n",
    "    @classmethod\n",
    "    def __prepare__(mcs, class_name, bases):\n",
    "        print(\"Meta.__prepare__:\")\n",
    "        print(f\"\\t{(mcs, class_name, bases)}\")\n",
    "        return {}\n",
    "\n",
    "\n",
    "class Example(metaclass=Meta):\n",
    "    def __init__(self):\n",
    "        print(f\"Example.__init__:\")\n",
    "        print(f\"\\t({self})\")\n",
    "\n",
    "    def __init_subclass__(cls, **kwargs):\n",
    "        print(f\"Example.__init_subclass__:\")\n",
    "        print(f\"\\t({cls}, {kwargs})\")\n",
    "        return cls\n",
    "\n",
    "\n",
    "class SubExample(Example):\n",
    "    a = 10\n",
    "\n",
    "\n",
    "sub_example = SubExample()\n"
   ]
  },
  {
   "cell_type": "code",
   "execution_count": null,
   "metadata": {},
   "outputs": [],
   "source": [
    "class MirrorDict(dict):\n",
    "    def __missing__(self, key):\n",
    "        self[key] = key\n",
    "        return key\n",
    "\n",
    "\n",
    "class StringEnumMeta(type):\n",
    "    @classmethod\n",
    "    def __prepare__(mcs, class_name, bases):\n",
    "        return MirrorDict()\n",
    "\n",
    "    def __contains__(cls, value):\n",
    "        return hasattr(cls, value)\n",
    "\n",
    "    def __iter__(cls):\n",
    "        for key in cls.__dict__:\n",
    "            if not key.startswith(\"__\"):\n",
    "                yield key\n",
    "\n",
    "\n",
    "class StringEnum(metaclass=StringEnumMeta):\n",
    "    pass\n",
    "\n",
    "\n",
    "class Cities(StringEnum):\n",
    "    France\n",
    "    Spain\n",
    "    Germany\n",
    "\n",
    "\n",
    "for x in Cities:\n",
    "    print(x)\n"
   ]
  },
  {
   "cell_type": "markdown",
   "metadata": {},
   "source": [
    "# Fin.\n"
   ]
  }
 ],
 "metadata": {
  "kernelspec": {
   "display_name": "Python 3.10.2 64-bit ('3.10.2')",
   "language": "python",
   "name": "python3"
  },
  "language_info": {
   "codemirror_mode": {
    "name": "ipython",
    "version": 3
   },
   "file_extension": ".py",
   "mimetype": "text/x-python",
   "name": "python",
   "nbconvert_exporter": "python",
   "pygments_lexer": "ipython3",
   "version": "3.10.2"
  },
  "orig_nbformat": 4,
  "vscode": {
   "interpreter": {
    "hash": "fc83838f2863df29c089611030fa8a7be502196ead7c5a2bbfc52f1a3dbbd35e"
   }
  }
 },
 "nbformat": 4,
 "nbformat_minor": 2
}
