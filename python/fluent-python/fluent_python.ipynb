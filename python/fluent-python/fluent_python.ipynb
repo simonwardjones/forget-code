{
 "cells": [
  {
   "cell_type": "markdown",
   "metadata": {},
   "source": [
    "# Fluent Python\n"
   ]
  },
  {
   "cell_type": "markdown",
   "metadata": {},
   "source": [
    "Reading fluent python by Luciano Ramalho this is a collection of my favourite bits.\n"
   ]
  },
  {
   "cell_type": "markdown",
   "metadata": {},
   "source": [
    "### Python data model - bool and `__bool__`\n"
   ]
  },
  {
   "cell_type": "markdown",
   "metadata": {},
   "source": [
    "The python data model allows you to implement special methods that make custom types behave like the builtin types.\n"
   ]
  },
  {
   "cell_type": "code",
   "execution_count": 1,
   "metadata": {},
   "outputs": [],
   "source": [
    "class Example:\n",
    "    def __len__(self):\n",
    "        print(f\"running __len__\")\n",
    "        return 10\n",
    "\n",
    "    def __repr__(self):\n",
    "        print(f\"running __repr__\")\n",
    "        return f\"Example()\"\n",
    "\n",
    "    def __str__(self):\n",
    "        print(f\"running __str__\")\n",
    "        return f\"<Example Python object\"\n",
    "\n",
    "    def __bool__(self):\n",
    "        print(f\"running __bool__\")\n",
    "        return True\n"
   ]
  },
  {
   "cell_type": "code",
   "execution_count": 2,
   "metadata": {},
   "outputs": [
    {
     "name": "stdout",
     "output_type": "stream",
     "text": [
      "running __repr__\n"
     ]
    },
    {
     "data": {
      "text/plain": [
       "Example()"
      ]
     },
     "execution_count": 2,
     "metadata": {},
     "output_type": "execute_result"
    }
   ],
   "source": [
    "example = Example()\n",
    "example\n"
   ]
  },
  {
   "cell_type": "code",
   "execution_count": 3,
   "metadata": {},
   "outputs": [
    {
     "name": "stdout",
     "output_type": "stream",
     "text": [
      "running __len__\n"
     ]
    },
    {
     "data": {
      "text/plain": [
       "10"
      ]
     },
     "execution_count": 3,
     "metadata": {},
     "output_type": "execute_result"
    }
   ],
   "source": [
    "len(example)\n"
   ]
  },
  {
   "cell_type": "code",
   "execution_count": 4,
   "metadata": {},
   "outputs": [
    {
     "name": "stdout",
     "output_type": "stream",
     "text": [
      "running __bool__\n"
     ]
    }
   ],
   "source": [
    "if example:\n",
    "    pass\n"
   ]
  },
  {
   "cell_type": "markdown",
   "metadata": {},
   "source": [
    "To check the whether `example` is truthy it calls effectively calls `bool(example)` which looks for `example.__bool__()`\n",
    "If there is no `__bool__` python tries to invoke `__len__` and if that returns 0 then `False` else `True`.\n"
   ]
  },
  {
   "cell_type": "markdown",
   "metadata": {},
   "source": [
    "### `__repr__` and `__str__`\n"
   ]
  },
  {
   "cell_type": "markdown",
   "metadata": {},
   "source": [
    "`__repr__` - unambiguous for developers.  \n",
    "`__str__` - for the end user.\n"
   ]
  },
  {
   "cell_type": "markdown",
   "metadata": {},
   "source": [
    "### Unpacking sequences\n"
   ]
  },
  {
   "cell_type": "code",
   "execution_count": 5,
   "metadata": {},
   "outputs": [
    {
     "name": "stdout",
     "output_type": "stream",
     "text": [
      "Simon\n",
      "Ward-Jones\n",
      "[1, 2, 3]\n"
     ]
    }
   ],
   "source": [
    "person_data = (\"Simon\", \"Ward-Jones\", 1, 2, 3)\n",
    "name, surname, *numbers = person_data\n",
    "print(name, surname, numbers, sep=\"\\n\")\n"
   ]
  },
  {
   "cell_type": "code",
   "execution_count": 6,
   "metadata": {},
   "outputs": [
    {
     "data": {
      "text/plain": [
       "['Simon', 'Ward-Jones', 1, 2, 3]"
      ]
     },
     "execution_count": 6,
     "metadata": {},
     "output_type": "execute_result"
    }
   ],
   "source": [
    "# Unpacking into a list\n",
    "person_data = [*person_data]\n",
    "person_data\n"
   ]
  },
  {
   "cell_type": "markdown",
   "metadata": {},
   "source": [
    "### Bad matrix\n"
   ]
  },
  {
   "cell_type": "code",
   "execution_count": 7,
   "metadata": {},
   "outputs": [
    {
     "data": {
      "text/plain": [
       "[[1, None, None], [1, None, None], [1, None, None]]"
      ]
     },
     "execution_count": 7,
     "metadata": {},
     "output_type": "execute_result"
    }
   ],
   "source": [
    "matrix = [[None] * 3] * 3\n",
    "matrix[0][0] = 1\n",
    "matrix\n"
   ]
  },
  {
   "cell_type": "code",
   "execution_count": 8,
   "metadata": {},
   "outputs": [
    {
     "data": {
      "text/plain": [
       "[[1, None, None], [None, None, None], [None, None, None]]"
      ]
     },
     "execution_count": 8,
     "metadata": {},
     "output_type": "execute_result"
    }
   ],
   "source": [
    "# you probably want:\n",
    "matrix = []\n",
    "for _ in range(3):\n",
    "    matrix.append([None] * 3)\n",
    "matrix[0][0] = 1\n",
    "matrix\n"
   ]
  },
  {
   "cell_type": "markdown",
   "metadata": {},
   "source": [
    "### Key in min, max and sorted\n"
   ]
  },
  {
   "cell_type": "code",
   "execution_count": 9,
   "metadata": {},
   "outputs": [],
   "source": [
    "numbers = [3, \"5\", 1, \"10\", 2, \"4\", \"6\"]\n"
   ]
  },
  {
   "cell_type": "code",
   "execution_count": 10,
   "metadata": {},
   "outputs": [
    {
     "name": "stdout",
     "output_type": "stream",
     "text": [
      "[1, 2, 3, '4', '5', '6', '10']\n",
      "1\n"
     ]
    }
   ],
   "source": [
    "print(sorted(numbers, key=int))\n",
    "print(min(numbers, key=int))\n"
   ]
  },
  {
   "cell_type": "markdown",
   "metadata": {},
   "source": [
    "### Unpacking mappings\n"
   ]
  },
  {
   "cell_type": "code",
   "execution_count": 12,
   "metadata": {},
   "outputs": [],
   "source": [
    "person_data_1 = {\"name\": \"Simon\", \"surname\": \"Ward-Jones\", \"age\": 20}\n",
    "person_data_2 = {\n",
    "    \"name\": \"Simon\",\n",
    "    \"surname\": \"Ward-Jones\",\n",
    "    \"age\": 30,\n",
    "    \"height\": 2,\n",
    "    \"weight\": 3,\n",
    "}\n"
   ]
  },
  {
   "cell_type": "code",
   "execution_count": 13,
   "metadata": {},
   "outputs": [
    {
     "data": {
      "text/plain": [
       "{'name': 'Simon', 'surname': 'Ward-Jones', 'age': 30, 'height': 2, 'weight': 3}"
      ]
     },
     "execution_count": 13,
     "metadata": {},
     "output_type": "execute_result"
    }
   ],
   "source": [
    "{**person_data_1, **person_data_2}\n"
   ]
  },
  {
   "cell_type": "code",
   "execution_count": 14,
   "metadata": {},
   "outputs": [
    {
     "data": {
      "text/plain": [
       "{'name': 'Simon', 'surname': 'Ward-Jones', 'age': 30, 'height': 2, 'weight': 3}"
      ]
     },
     "execution_count": 14,
     "metadata": {},
     "output_type": "execute_result"
    }
   ],
   "source": [
    "person_data_1 | person_data_2\n"
   ]
  },
  {
   "cell_type": "markdown",
   "metadata": {},
   "source": [
    "### Dictionary comprehensions\n"
   ]
  },
  {
   "cell_type": "code",
   "execution_count": 16,
   "metadata": {},
   "outputs": [],
   "source": [
    "country_population_pairs = [\n",
    "    (\"China\", 1409517397),\n",
    "    (\"India\", 1324171354),\n",
    "    (\"United States\", 325234000),\n",
    "    (\"Indonesia\", 255461563),\n",
    "    (\"Brazil\", 210147125),\n",
    "    (\"Pakistan\", 197015955),\n",
    "    (\"Nigeria\", 206139589),\n",
    "    (\"Bangladesh\", 164895000),\n",
    "    (\"Russia\", 146585181),\n",
    "    (\"Japan\", 126470000),\n",
    "]\n"
   ]
  },
  {
   "cell_type": "code",
   "execution_count": 17,
   "metadata": {},
   "outputs": [],
   "source": [
    "# create a dictionary of country populations\n",
    "country_populations = {\n",
    "    country: population for country, population in country_population_pairs\n",
    "}\n"
   ]
  },
  {
   "cell_type": "markdown",
   "metadata": {},
   "source": [
    "### Dictionary setdefault method\n"
   ]
  },
  {
   "cell_type": "code",
   "execution_count": 18,
   "metadata": {},
   "outputs": [],
   "source": [
    "person_data_1 = {\"name\": \"Simon\", \"surname\": \"Ward-Jones\", \"age\": 20}\n",
    "person_data_2 = {\n",
    "    \"name\": \"Simon\",\n",
    "    \"surname\": \"Ward-Jones\",\n",
    "    \"age\": 30,\n",
    "    \"height\": 2,\n",
    "    \"weight\": 3,\n",
    "}\n"
   ]
  },
  {
   "cell_type": "code",
   "execution_count": 19,
   "metadata": {},
   "outputs": [
    {
     "data": {
      "text/plain": [
       "'Simon'"
      ]
     },
     "execution_count": 19,
     "metadata": {},
     "output_type": "execute_result"
    }
   ],
   "source": [
    "# set default looks up the key and returns the value if it exists\n",
    "# if it doesn't exist, it sets the key to the default value and returns the default value\n",
    "person_data_1.setdefault(\"name\", \"John\")\n"
   ]
  },
  {
   "cell_type": "code",
   "execution_count": 20,
   "metadata": {},
   "outputs": [
    {
     "data": {
      "text/plain": [
       "{'name': 'Simon',\n",
       " 'surname': 'Ward-Jones',\n",
       " 'age': 20,\n",
       " 'animals': {'cats': ['cat']}}"
      ]
     },
     "execution_count": 20,
     "metadata": {},
     "output_type": "execute_result"
    }
   ],
   "source": [
    "# This is really useful for something like this:\n",
    "person_data_1.setdefault(\"animals\", {}).setdefault(\"cats\", []).append(\"cat\")\n",
    "person_data_1\n"
   ]
  },
  {
   "cell_type": "markdown",
   "metadata": {},
   "source": [
    "### Dictionary views and mappings work like sets\n"
   ]
  },
  {
   "cell_type": "code",
   "execution_count": 21,
   "metadata": {},
   "outputs": [
    {
     "data": {
      "text/plain": [
       "{'age', 'name', 'surname'}"
      ]
     },
     "execution_count": 21,
     "metadata": {},
     "output_type": "execute_result"
    }
   ],
   "source": [
    "person_data_1 = {\"name\": \"Simon\", \"surname\": \"Ward-Jones\", \"age\": 20}\n",
    "person_data_2 = {\n",
    "    \"name\": \"Simon\",\n",
    "    \"surname\": \"Ward-Jones\",\n",
    "    \"age\": 30,\n",
    "    \"height\": 2,\n",
    "    \"weight\": 3,\n",
    "}\n",
    "# finding common keys\n",
    "person_data_1.keys() & person_data_2.keys()\n"
   ]
  },
  {
   "cell_type": "markdown",
   "metadata": {},
   "source": [
    "### Unicode names\n"
   ]
  },
  {
   "cell_type": "code",
   "execution_count": 22,
   "metadata": {},
   "outputs": [],
   "source": [
    "from unicodedata import name\n",
    "import random\n"
   ]
  },
  {
   "cell_type": "code",
   "execution_count": 23,
   "metadata": {},
   "outputs": [
    {
     "name": "stdout",
     "output_type": "stream",
     "text": [
      "𘮴 KHITAN SMALL SCRIPT CHARACTER-18BB4\n",
      "潚 CJK UNIFIED IDEOGRAPH-6F5A\n",
      "𝤍 SIGNWRITING STRIKE BETWEEN\n",
      "ﶢ ARABIC LIGATURE TEH WITH KHAH WITH ALEF MAKSURA FINAL FORM\n",
      "ם HEBREW LETTER FINAL MEM\n"
     ]
    }
   ],
   "source": [
    "n = 0\n",
    "while n < 5:\n",
    "    unicode_point = chr(random.randint(0, 0x10FFFF))  # pick a random unicode point\n",
    "    if unicode_name := name(unicode_point, \"\"):\n",
    "        print(unicode_point, unicode_name)  # print the point and the name\n",
    "        n += 1\n"
   ]
  },
  {
   "cell_type": "markdown",
   "metadata": {},
   "source": [
    "### string translation\n"
   ]
  },
  {
   "cell_type": "code",
   "execution_count": 24,
   "metadata": {},
   "outputs": [],
   "source": [
    "translation = str.maketrans(\"simon\", \"abcde\")\n"
   ]
  },
  {
   "cell_type": "code",
   "execution_count": 25,
   "metadata": {},
   "outputs": [
    {
     "data": {
      "text/plain": [
       "'helld abcde'"
      ]
     },
     "execution_count": 25,
     "metadata": {},
     "output_type": "execute_result"
    }
   ],
   "source": [
    "\"hello simon\".translate(translation)\n"
   ]
  },
  {
   "cell_type": "markdown",
   "metadata": {},
   "source": [
    "### Dataclasses save you a lot of typing\n"
   ]
  },
  {
   "cell_type": "code",
   "execution_count": 27,
   "metadata": {},
   "outputs": [],
   "source": [
    "from dataclasses import dataclass\n",
    "from dataclasses import field\n",
    "from typing import Optional\n",
    "\n",
    "\n",
    "@dataclass\n",
    "class Book:\n",
    "    title: str\n",
    "    author: Optional[str] = \"unknown\"\n",
    "    pages: int = 0\n",
    "    price: float = field(default=0.0, repr=False)\n",
    "\n",
    "    def __post_init__(self):\n",
    "        self.long_title = self.title + \" by \" + self.author\n"
   ]
  },
  {
   "cell_type": "code",
   "execution_count": 28,
   "metadata": {},
   "outputs": [
    {
     "data": {
      "text/plain": [
       "Book(title='Python Programming', author='Simon Ward-Jones', pages=300)"
      ]
     },
     "execution_count": 28,
     "metadata": {},
     "output_type": "execute_result"
    }
   ],
   "source": [
    "book = Book(title=\"Python Programming\", author=\"Simon Ward-Jones\", pages=300)\n",
    "book\n"
   ]
  },
  {
   "cell_type": "markdown",
   "metadata": {},
   "source": [
    "### Variables are not boxes 📦 🏷\n"
   ]
  },
  {
   "cell_type": "code",
   "execution_count": 29,
   "metadata": {},
   "outputs": [
    {
     "data": {
      "text/plain": [
       "['📦 ', '🏷', '📦']"
      ]
     },
     "execution_count": 29,
     "metadata": {},
     "output_type": "execute_result"
    }
   ],
   "source": [
    "variable = [\"📦 \", \"🏷\"]\n",
    "other_variable = variable\n",
    "other_variable.append(\"📦\")\n",
    "variable  # say what...\n"
   ]
  },
  {
   "cell_type": "markdown",
   "metadata": {},
   "source": [
    "### Copy is only one level deep\n"
   ]
  },
  {
   "cell_type": "code",
   "execution_count": 5,
   "metadata": {},
   "outputs": [
    {
     "name": "stdout",
     "output_type": "stream",
     "text": [
      "4560093424 4560093424\n",
      "4560093456 4560093456\n",
      "4685638528 4685638528\n"
     ]
    }
   ],
   "source": [
    "data = [1, 2, [3, 4]]\n",
    "new_data = data.copy()\n",
    "for item, new_item in zip(data, new_data):\n",
    "    print(id(item), id(new_item))\n"
   ]
  },
  {
   "cell_type": "markdown",
   "metadata": {},
   "source": [
    "### Watch out for passing a mutable object to a function\n"
   ]
  },
  {
   "cell_type": "code",
   "execution_count": 14,
   "metadata": {},
   "outputs": [
    {
     "name": "stdout",
     "output_type": "stream",
     "text": [
      "Removing last item before sum: 4\n",
      "The sum is 6 but data is now: [1, 2, 3]\n"
     ]
    }
   ],
   "source": [
    "# the function will modify the mutable data passed to it\n",
    "data = [1, 2, 3, 4]\n",
    "\n",
    "\n",
    "def sum_all_but_last(data):\n",
    "    last_item = data.pop()\n",
    "    print(f\"Removing last item before sum: {last_item}\")\n",
    "    return sum(data)\n",
    "\n",
    "\n",
    "data_sum_all_but_last = sum_all_but_last(data)\n",
    "print(f\"The sum is {data_sum_all_but_last} but data is now: {data}\")\n"
   ]
  },
  {
   "cell_type": "markdown",
   "metadata": {},
   "source": [
    "### Really watch out for mutable default arguments\n"
   ]
  },
  {
   "cell_type": "code",
   "execution_count": 16,
   "metadata": {},
   "outputs": [
    {
     "data": {
      "text/plain": [
       "['cat']"
      ]
     },
     "execution_count": 16,
     "metadata": {},
     "output_type": "execute_result"
    }
   ],
   "source": [
    "class Person:\n",
    "    def __init__(self, name, pets=[]):\n",
    "        self.name = name\n",
    "        self.pets = pets\n",
    "\n",
    "\n",
    "simon = Person(\"Simon\")\n",
    "paul = Person(\"Paul\")\n",
    "paul.pets.append(\"cat\")\n",
    "# Now simon has a pet cat too!\n",
    "simon.pets\n"
   ]
  },
  {
   "cell_type": "markdown",
   "metadata": {},
   "source": [
    "### Classic late binding lambdas trick\n"
   ]
  },
  {
   "cell_type": "code",
   "execution_count": 23,
   "metadata": {},
   "outputs": [
    {
     "name": "stdout",
     "output_type": "stream",
     "text": [
      "3\n",
      "3\n",
      "3\n"
     ]
    }
   ],
   "source": [
    "# The value of i is looked up at execution time.\n",
    "for function in [lambda x: x + i for i in range(3)]:\n",
    "    print(function(1))\n"
   ]
  },
  {
   "cell_type": "markdown",
   "metadata": {},
   "source": [
    "### Tuples are immutable but their contents can be changed\n"
   ]
  },
  {
   "cell_type": "code",
   "execution_count": 27,
   "metadata": {},
   "outputs": [],
   "source": [
    "address = \"42 Wallaby Way, Sydney\"\n",
    "rooms = [\"kitchen\", \"living room\", \"dining room\", \"bathroom\"]\n",
    "house = (address,)\n"
   ]
  },
  {
   "cell_type": "code",
   "execution_count": 28,
   "metadata": {},
   "outputs": [
    {
     "data": {
      "text/plain": [
       "('42 Wallaby Way, Sydney',\n",
       " ['kitchen', 'living room', 'dining room', 'bathroom', 'office'])"
      ]
     },
     "execution_count": 28,
     "metadata": {},
     "output_type": "execute_result"
    }
   ],
   "source": [
    "house[1].append(\"office\")\n",
    "house\n"
   ]
  },
  {
   "cell_type": "markdown",
   "metadata": {},
   "source": [
    "### The operator module is handy when reducing\n"
   ]
  },
  {
   "cell_type": "code",
   "execution_count": 2,
   "metadata": {},
   "outputs": [
    {
     "name": "stdout",
     "output_type": "stream",
     "text": [
      "360\n"
     ]
    }
   ],
   "source": [
    "from operator import mul\n",
    "from functools import reduce\n",
    "\n",
    "numbers = [3, 4, 5, 6]\n",
    "product_of_numbers = reduce(mul, numbers)\n",
    "\n",
    "# without the mul operator:\n",
    "# product_of_numbers = reduce(lambda x, y: x * y, numbers)\n",
    "\n",
    "print(product_of_numbers)\n"
   ]
  },
  {
   "cell_type": "markdown",
   "metadata": {},
   "source": [
    "### Use the operator itemgetter to sort a list by specific item\n"
   ]
  },
  {
   "cell_type": "code",
   "execution_count": 24,
   "metadata": {},
   "outputs": [
    {
     "data": {
      "text/plain": [
       "[('b', 1), ('a', 2), ('c', 3)]"
      ]
     },
     "execution_count": 24,
     "metadata": {},
     "output_type": "execute_result"
    }
   ],
   "source": [
    "from operator import itemgetter\n",
    "\n",
    "sorted([(\"a\", 2), (\"b\", 1), (\"c\", 3)], key=itemgetter(1))\n",
    "\n",
    "# This is the same as doing:\n",
    "# sorted([(\"a\", 2), (\"b\", 1), (\"c\", 3)], key=lambda x: x[1])\n"
   ]
  },
  {
   "cell_type": "markdown",
   "metadata": {},
   "source": [
    "### Use the operator attrgetter to sort by specific (maybe nested) attribute\n"
   ]
  },
  {
   "cell_type": "code",
   "execution_count": 25,
   "metadata": {},
   "outputs": [],
   "source": [
    "from operator import attrgetter\n",
    "from typing import NamedTuple, Optional\n",
    "\n",
    "\n",
    "class Pet(NamedTuple):\n",
    "    name: str\n",
    "    species: str\n",
    "    age: int\n",
    "\n",
    "\n",
    "class Human(NamedTuple):\n",
    "    name: str\n",
    "    pet: Pet\n",
    "\n",
    "\n",
    "people = [\n",
    "    Human(name=\"Simon\", pet=Pet(name=\"Whiskers\", species=\"cat\", age=3)),\n",
    "    Human(name=\"Richard\", pet=Pet(name=\"Giles\", species=\"shark\", age=1)),\n",
    "    Human(name=\"Paul\", pet=Pet(name=\"Alfie\", species=\"dog\", age=2)),\n",
    "    Human(name=\"Tom\", pet=Pet(name=\"Rupert\", species=\"cat\", age=3)),\n",
    "]\n"
   ]
  },
  {
   "cell_type": "code",
   "execution_count": 26,
   "metadata": {},
   "outputs": [
    {
     "data": {
      "text/plain": [
       "[Human(name='Richard', pet=Pet(name='Giles', species='shark', age=1)),\n",
       " Human(name='Paul', pet=Pet(name='Alfie', species='dog', age=2)),\n",
       " Human(name='Simon', pet=Pet(name='Whiskers', species='cat', age=3)),\n",
       " Human(name='Tom', pet=Pet(name='Rupert', species='cat', age=3))]"
      ]
     },
     "execution_count": 26,
     "metadata": {},
     "output_type": "execute_result"
    }
   ],
   "source": [
    "# sort by animal age ascending\n",
    "sorted(people, key=attrgetter(\"pet.age\"))\n",
    "\n",
    "# This is equivalent to:\n",
    "# sorted(people, key=lambda x: x.pet.age)\n"
   ]
  },
  {
   "cell_type": "code",
   "execution_count": 27,
   "metadata": {},
   "outputs": [
    {
     "data": {
      "text/plain": [
       "[Human(name='Richard', pet=Pet(name='Giles', species='shark', age=1)),\n",
       " Human(name='Paul', pet=Pet(name='Alfie', species='dog', age=2)),\n",
       " Human(name='Simon', pet=Pet(name='Whiskers', species='cat', age=3)),\n",
       " Human(name='Tom', pet=Pet(name='Rupert', species='cat', age=3))]"
      ]
     },
     "execution_count": 27,
     "metadata": {},
     "output_type": "execute_result"
    }
   ],
   "source": [
    "# sort by animal age then by owner name (note Simon's 3 year olf pet comes before Tom's)\n",
    "sorted(people, key=attrgetter(\"pet.age\", \"name\"))\n",
    "\n",
    "# This is equivalent to:\n",
    "# sorted(people, key=lambda x: (x.pet.age, x.name))\n"
   ]
  },
  {
   "cell_type": "markdown",
   "metadata": {},
   "source": [
    "### Key word only arguments\n"
   ]
  },
  {
   "cell_type": "code",
   "execution_count": 51,
   "metadata": {},
   "outputs": [
    {
     "data": {
      "text/plain": [
       "1"
      ]
     },
     "execution_count": 51,
     "metadata": {},
     "output_type": "execute_result"
    }
   ],
   "source": [
    "def count_letters(string: str, *, letters: str = \"aeiou\") -> int:\n",
    "    return sum(1 for c in string if c.lower() in letters)\n",
    "\n",
    "\n",
    "# This call would fail:\n",
    "# count_letters(\"simon\", \"aei\")\n",
    "# One must call with letters key word like:\n",
    "count_letters(\"simon\", letters=\"aei\")\n"
   ]
  },
  {
   "cell_type": "markdown",
   "metadata": {},
   "source": [
    "### Positional only parameters\n"
   ]
  },
  {
   "cell_type": "code",
   "execution_count": 52,
   "metadata": {},
   "outputs": [
    {
     "data": {
      "text/plain": [
       "1"
      ]
     },
     "execution_count": 52,
     "metadata": {},
     "output_type": "execute_result"
    }
   ],
   "source": [
    "def count_letters(string: str, /, letters: str = \"aeiou\") -> int:\n",
    "    return sum(1 for c in string if c.lower() in letters)\n",
    "\n",
    "\n",
    "# This call would fail:\n",
    "# count_letters(string=\"simon\", letters=\"aei\")\n",
    "# One must call using positional argument like:\n",
    "count_letters(\"simon\", \"aei\")\n"
   ]
  },
  {
   "cell_type": "markdown",
   "metadata": {},
   "source": [
    "### Positional only parameters and Keyword only parameters\n"
   ]
  },
  {
   "cell_type": "code",
   "execution_count": 50,
   "metadata": {},
   "outputs": [
    {
     "data": {
      "text/plain": [
       "1"
      ]
     },
     "execution_count": 50,
     "metadata": {},
     "output_type": "execute_result"
    }
   ],
   "source": [
    "# Note we can combine positional only with keyword only arguments\n",
    "\n",
    "\n",
    "def count_letters(\n",
    "    string: str, /, letters: str = \"aeiou\", *, case_sensitive: bool = False\n",
    ") -> int:\n",
    "    if not case_sensitive:\n",
    "        string = string.lower()\n",
    "    return sum(1 for c in string if c.lower() in letters)\n",
    "\n",
    "\n",
    "# In this case:\n",
    "#     string must be a positional argument\n",
    "#     letters can be a keyword argument or a positional argument\n",
    "#     case_sensitive mst be a keyword argument\n",
    "\n",
    "count_letters(\"simon\", letters=\"aei\", case_sensitive=True)\n",
    "count_letters(\"simon\", \"aei\", case_sensitive=True)\n"
   ]
  },
  {
   "cell_type": "markdown",
   "metadata": {},
   "source": [
    "### Closures capture variable values in the outer scope\n"
   ]
  },
  {
   "cell_type": "code",
   "execution_count": 39,
   "metadata": {},
   "outputs": [
    {
     "name": "stdout",
     "output_type": "stream",
     "text": [
      "('name',)\n",
      "('wives',)\n",
      "('catherine_of_aragon', 'anne_boleyn', 'jane_seymour', 'anne_of_cleves', 'catherine_howard', 'catherine_parr')\n",
      "('catherine_of_aragon', 'anne_boleyn', 'jane_seymour', 'anne_of_cleves', 'catherine_howard', 'catherine_parr')\n"
     ]
    }
   ],
   "source": [
    "def get_wife_function():\n",
    "    wives = ()\n",
    "\n",
    "    def add_wife(name: str):\n",
    "        nonlocal wives\n",
    "        wives += (name,)\n",
    "        return wives\n",
    "\n",
    "    return add_wife\n",
    "\n",
    "\n",
    "henrys_wives = get_wife_function()\n",
    "\n",
    "henrys_wives(\"catherine_of_aragon\")\n",
    "henrys_wives(\"anne_boleyn\")\n",
    "henrys_wives(\"jane_seymour\")\n",
    "henrys_wives(\"anne_of_cleves\")\n",
    "henrys_wives(\"catherine_howard\")\n",
    "wives = henrys_wives(\"catherine_parr\")\n",
    "\n",
    "\n",
    "print(henrys_wives.__code__.co_varnames)\n",
    "print(henrys_wives.__code__.co_freevars)\n",
    "\n",
    "print(wives)\n",
    "print(henrys_wives.__closure__[0].cell_contents)\n"
   ]
  },
  {
   "cell_type": "markdown",
   "metadata": {},
   "source": [
    "### Another example of scope to create a simple counter\n"
   ]
  },
  {
   "cell_type": "code",
   "execution_count": 44,
   "metadata": {},
   "outputs": [
    {
     "name": "stdout",
     "output_type": "stream",
     "text": [
      "1\n",
      "2\n",
      "3\n",
      "4\n"
     ]
    }
   ],
   "source": [
    "# We specify non local to reference a variable that is in the outer scope.\n",
    "# If we did not we would get an error.\n",
    "\n",
    "\n",
    "def get_counter():\n",
    "    count = 0\n",
    "\n",
    "    def counter():\n",
    "        nonlocal count\n",
    "        count += 1\n",
    "        return count\n",
    "\n",
    "    return counter\n",
    "\n",
    "\n",
    "counter = get_counter()\n",
    "\n",
    "while (x := counter()) < 5:\n",
    "    print(x)\n"
   ]
  },
  {
   "cell_type": "markdown",
   "metadata": {},
   "source": [
    "### Use single dispatch to implement polymorphism\n"
   ]
  },
  {
   "cell_type": "code",
   "execution_count": 20,
   "metadata": {},
   "outputs": [
    {
     "name": "stdout",
     "output_type": "stream",
     "text": [
      "Using generic Iterator implementation\n",
      "#0a141e\n",
      "Using RGB implementation\n",
      "#0a141e\n",
      "Using str implementation\n",
      "#0a141e\n"
     ]
    }
   ],
   "source": [
    "# The function called depends on the type at runtime.\n",
    "\n",
    "from typing import NamedTuple\n",
    "from collections.abc import Iterable\n",
    "from functools import singledispatch\n",
    "import re\n",
    "\n",
    "\n",
    "class RGB(NamedTuple):\n",
    "    red: int\n",
    "    green: int\n",
    "    blue: int\n",
    "\n",
    "\n",
    "@singledispatch\n",
    "def get_hex(rgb: Iterable[int]) -> str:\n",
    "    print(\"Using str implementation\")\n",
    "    red, green, blue = rgb\n",
    "    return f\"#{red:02x}{green:02x}{blue:02x}\"\n",
    "\n",
    "\n",
    "@get_hex.register\n",
    "def _(rgb: RGB) -> str:\n",
    "    print(\"Using RGB implementation\")\n",
    "    return f\"#{rgb.red:02x}{rgb.green:02x}{rgb.blue:02x}\"\n",
    "\n",
    "\n",
    "@get_hex.register\n",
    "def _(rgb: str) -> str:\n",
    "    red, green, blue = (int(x) for x in re.findall(r\"\\d+\", rgb))\n",
    "    print(\"Using generic Iterator implementation\")\n",
    "    return f\"#{red:02x}{green:02x}{blue:02x}\"\n",
    "\n",
    "\n",
    "print(get_hex(\"RGB(10, 20, 30)\"))\n",
    "print(get_hex(RGB(red=10, green=20, blue=30)))\n",
    "print(get_hex((10, 20, 30)))\n"
   ]
  },
  {
   "cell_type": "markdown",
   "metadata": {},
   "source": [
    "# Fin.\n"
   ]
  }
 ],
 "metadata": {
  "kernelspec": {
   "display_name": "Python 3.10.2 64-bit ('3.10.2')",
   "language": "python",
   "name": "python3"
  },
  "language_info": {
   "codemirror_mode": {
    "name": "ipython",
    "version": 3
   },
   "file_extension": ".py",
   "mimetype": "text/x-python",
   "name": "python",
   "nbconvert_exporter": "python",
   "pygments_lexer": "ipython3",
   "version": "3.10.2"
  },
  "orig_nbformat": 4,
  "vscode": {
   "interpreter": {
    "hash": "fc83838f2863df29c089611030fa8a7be502196ead7c5a2bbfc52f1a3dbbd35e"
   }
  }
 },
 "nbformat": 4,
 "nbformat_minor": 2
}
