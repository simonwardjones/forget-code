{
 "cells": [
  {
   "cell_type": "markdown",
   "metadata": {},
   "source": [
    "# learnPython "
   ]
  },
  {
   "cell_type": "code",
   "execution_count": 1,
   "metadata": {},
   "outputs": [
    {
     "data": {
      "text/html": [
       "<a href=#learnPython> learnPython</a><br>&#8195;&#8195;<a href=#Print> Print</a><br>&#8195;&#8195;<a href=#Basic-Maths> Basic Maths</a><br>&#8195;&#8195;<a href=#Variables> Variables</a><br>&#8195;&#8195;<a href=#While-Loop> While Loop</a><br>&#8195;&#8195;<a href=#For-Loop> For Loop</a><br>&#8195;&#8195;<a href=#If-Statements> If Statements</a><br>&#8195;&#8195;<a href=#Functions> Functions</a><br>&#8195;&#8195;&#8195;&#8195;<a href=#Default-function-values> Default function values</a><br>&#8195;&#8195;<a href=#Global-and-local-Variables> Global and local Variables</a><br>&#8195;&#8195;<a href=#Write-and-Read-File> Write and Read File</a><br>&#8195;&#8195;&#8195;&#8195;<a href=#Appending-text> Appending text</a><br>&#8195;&#8195;&#8195;&#8195;<a href=#Read-from-file> Read from file</a><br>&#8195;&#8195;<a href=#Classes> Classes</a><br>&#8195;&#8195;<a href=#if-\\__name__-==-\"\\__main__\":> if \\__name__ == \"\\__main__\":</a><br>&#8195;&#8195;<a href=#User-input> User input</a><br>&#8195;&#8195;<a href=#Statistics> Statistics</a><br>&#8195;&#8195;<a href=#Imports> Imports</a><br>&#8195;&#8195;<a href=#Lists-and-Tuples> Lists and Tuples</a><br>&#8195;&#8195;&#8195;&#8195;<a href=#Appending,-inserting-and-removing> Appending, inserting and removing</a><br>&#8195;&#8195;&#8195;&#8195;<a href=#Refencing-and-slicing> Refencing and slicing</a><br>&#8195;&#8195;&#8195;&#8195;<a href=#Sorting-lists> Sorting lists</a><br>&#8195;&#8195;&#8195;&#8195;<a href=#Multidimensional-Lists> Multidimensional Lists</a><br>&#8195;&#8195;&#8195;&#8195;<a href=#Flatten-lists> Flatten lists</a><br>&#8195;&#8195;&#8195;&#8195;<a href=#Combine-two-lists-into-tuples> Combine two lists into tuples</a><br>&#8195;&#8195;&#8195;&#8195;<a href=#Merge-two-lists> Merge two lists</a><br>&#8195;&#8195;&#8195;&#8195;<a href=#Dict-from-lists> Dict from lists</a><br>&#8195;&#8195;<a href=#Error-Handling> Error Handling</a><br>&#8195;&#8195;<a href=#MultiLine-Print> MultiLine Print</a><br>&#8195;&#8195;<a href=#wrap-single-line> wrap single line</a><br>&#8195;&#8195;<a href=#Dictionaries> Dictionaries</a><br>&#8195;&#8195;<a href=#Python-Built-in-Functions-and-Libraries> Python Built in Functions and Libraries</a><br>&#8195;&#8195;<a href=#OS> OS</a><br>&#8195;&#8195;<a href=#Sys> Sys</a><br>&#8195;&#8195;<a href=#urllib> urllib</a><br>&#8195;&#8195;<a href=#Regular-Expressions> Regular Expressions</a><br>&#8195;&#8195;<a href=#Regular-expression-on-HTML> Regular expression on HTML</a><br>&#8195;&#8195;<a href=#TKinter---Windows,-Buttons,-Events,-Images-and-Menu> TKinter - Windows, Buttons, Events, Images and Menu</a><br>&#8195;&#8195;<a href=#Threading> Threading</a><br>&#8195;&#8195;<a href=#Freeze-python-to-exe> Freeze python to exe</a><br>&#8195;&#8195;<a href=#subprocess> subprocess</a><br>&#8195;&#8195;<a href=#Bader-tricks> Bader tricks</a><br>&#8195;&#8195;&#8195;&#8195;<a href=#Unpacking-Dictionaries> Unpacking Dictionaries</a><br>&#8195;&#8195;&#8195;&#8195;<a href=#Accessing-dictionaries-with-default-if-no-key-there> Accessing dictionaries with default if no key there</a><br>&#8195;&#8195;&#8195;&#8195;<a href=#Named-Tuples> Named Tuples</a><br>&#8195;&#8195;<a href=#Matplotlib> Matplotlib</a><br>&#8195;&#8195;<a href=#Logging> Logging</a><br>&#8195;&#8195;<a href=#Sockets> Sockets</a><br>&#8195;&#8195;<a href=#Serialisation> Serialisation</a><br>&#8195;&#8195;<a href=#Eval>  Eval</a><br>&#8195;&#8195;<a href=#Exec> Exec</a><br>&#8195;&#8195;<a href=#Apply-funcion-on-list-elements> Apply funcion on list elements</a><br>&#8195;&#8195;<a href=#Find-maximum-sub-string-sum> Find maximum sub string sum</a><br>&#8195;&#8195;<a href=#Pig-english> Pig english</a><br>&#8195;&#8195;<a href=#Check-alpha-numeric> Check alpha numeric</a><br>&#8195;&#8195;<a href=#Finding-list-peaks> Finding list peaks</a><br>&#8195;&#8195;<a href=#ast----parsing-python-files-and-regexp-(re)> ast -  parsing python files and regexp (re)</a><br>&#8195;&#8195;<a href=#urllib> urllib</a><br>&#8195;&#8195;<a href=#Beautiful-soup> Beautiful soup</a><br>&#8195;&#8195;<a href=#Beautiful-html> Beautiful html</a><br>&#8195;&#8195;<a href=#list-methods/attributes> list methods/attributes</a><br>&#8195;&#8195;<a href=#Reload-module> Reload module</a><br>&#8195;&#8195;<a href=#loop-on-files> loop on files</a><br>&#8195;&#8195;<a href=#Specific-file-types> Specific file types</a><br>&#8195;&#8195;<a href=#map-on-list> map on list</a><br>&#8195;&#8195;<a href=#Copy-and-Paste> Copy and Paste</a><br>&#8195;&#8195;<a href=#Check-on-a-subprocess> Check on a subprocess</a><br>&#8195;&#8195;<a href=#list-to-string> list to string</a><br>&#8195;&#8195;<a href=#Threading-lock> Threading lock</a><br>&#8195;&#8195;<a href=#MetaClasses-and-object-creation> MetaClasses and object creation</a><br>&#8195;&#8195;<a href=#Properties> Properties</a><br>"
      ],
      "text/plain": [
       "<IPython.core.display.HTML object>"
      ]
     },
     "metadata": {},
     "output_type": "display_data"
    }
   ],
   "source": [
    "# Use python to make contents\n",
    "import re, json\n",
    "from IPython.display import HTML\n",
    "with open('learn_python.ipynb','r') as f:\n",
    "        notebook = json.loads(f.read())\n",
    "\n",
    "markdown_cells = [ cell[\"source\"] \n",
    "                  for cell in notebook[\"cells\"] \n",
    "                  if (cell[\"cell_type\"] == \"markdown\"\n",
    "                  and len(re.findall('#', \"\\n\".join(cell[\"source\"]))) > 0)]\n",
    "## Note we only want titles (including a #)\n",
    "\n",
    "# Now build the html string\n",
    "html_contents = ''\n",
    "for sublist in markdown_cells:\n",
    "    for item in sublist:\n",
    "        level = item.count(\"#\")\n",
    "        text = item.strip().replace(\"#\",\"\")\n",
    "        clean_text = item.replace(\"#\",\"\").strip(\" \").replace(\" \",\"-\")\n",
    "        html_contents += ('&#8195;'*(level-1)*2+'<a href=#{}>{}</a><br>'.format(clean_text,text))\n",
    "\n",
    "display(HTML(html_contents))"
   ]
  },
  {
   "cell_type": "markdown",
   "metadata": {},
   "source": [
    "## Print"
   ]
  },
  {
   "cell_type": "code",
   "execution_count": 4,
   "metadata": {},
   "outputs": [
    {
     "name": "stdout",
     "output_type": "stream",
     "text": [
      "Example string\n",
      "He said \"Using quotes is hard\"\n",
      "He's got it!\n",
      "Or strings can use double 'quotes'\n",
      "The double esacpe works like this: \" tada! \n",
      "String and number 5\n",
      "String and number 5\n",
      "13\n"
     ]
    }
   ],
   "source": [
    "# Comments like this!\n",
    "print('Example string')\n",
    "print('He said \"Using quotes is hard\"')\n",
    "print('He\\'s got it!')\n",
    "print(\"Or strings can use double 'quotes'\")\n",
    "print(\"The double esacpe works like this: \\\" tada! \")\n",
    "\n",
    "# Concatenation:\n",
    "print(\"String and number\", 5)\n",
    "print(\"String and number \"+ str(5))\n",
    "print(int(\"8\") + 5)"
   ]
  },
  {
   "cell_type": "markdown",
   "metadata": {},
   "source": [
    "## Basic Maths"
   ]
  },
  {
   "cell_type": "code",
   "execution_count": 5,
   "metadata": {},
   "outputs": [
    {
     "name": "stdout",
     "output_type": "stream",
     "text": [
      "Add 4+4 = 8\n",
      "Add 4*4 = 16\n",
      "Add 4-2 = 2\n",
      "Add 4/3 = 1.3333333333333333\n"
     ]
    }
   ],
   "source": [
    "print('Add 4+4 =',4+4)\n",
    "print('Add 4*4 =',4*4)\n",
    "print('Add 4-2 =',4-2)\n",
    "print('Add 4/3 =',4/3)"
   ]
  },
  {
   "cell_type": "markdown",
   "metadata": {},
   "source": [
    "## Variables"
   ]
  },
  {
   "cell_type": "code",
   "execution_count": 6,
   "metadata": {},
   "outputs": [
    {
     "name": "stdout",
     "output_type": "stream",
     "text": [
      "String Var\n",
      "r = 3\n",
      "y = 6\n"
     ]
    }
   ],
   "source": [
    "exampleVar = \"String Var\"\n",
    "print(exampleVar)\n",
    "\n",
    "# multiple setting\n",
    "x,y = 5,6\n",
    "r,s =(3,5)\n",
    "print(\"r =\",r)\n",
    "print(\"y =\",y)"
   ]
  },
  {
   "cell_type": "markdown",
   "metadata": {},
   "source": [
    "## While Loop "
   ]
  },
  {
   "cell_type": "code",
   "execution_count": 7,
   "metadata": {},
   "outputs": [
    {
     "name": "stdout",
     "output_type": "stream",
     "text": [
      "1\n",
      "2\n",
      "3\n",
      "4\n",
      "5\n"
     ]
    }
   ],
   "source": [
    "condition = 1\n",
    "while condition < 6:\n",
    "    print(condition)\n",
    "    condition += 1"
   ]
  },
  {
   "cell_type": "markdown",
   "metadata": {},
   "source": [
    "## For Loop"
   ]
  },
  {
   "cell_type": "code",
   "execution_count": 8,
   "metadata": {},
   "outputs": [
    {
     "name": "stdout",
     "output_type": "stream",
     "text": [
      "45\n",
      "4325\n",
      "257\n",
      "6\n",
      "4\n"
     ]
    }
   ],
   "source": [
    "exampleList =  [45,4325,257,6,4]\n",
    "for eachNumber in exampleList:\n",
    "    print(eachNumber)"
   ]
  },
  {
   "cell_type": "markdown",
   "metadata": {},
   "source": [
    "## If Statements "
   ]
  },
  {
   "cell_type": "code",
   "execution_count": 9,
   "metadata": {},
   "outputs": [
    {
     "name": "stdout",
     "output_type": "stream",
     "text": [
      "y is greater than x and z\n",
      "x not equal to z\n"
     ]
    }
   ],
   "source": [
    "x,y,z = 5,8,4\n",
    "if x < y > z:\n",
    "    print(\"y is greater than x and z\")\n",
    "if z != x:\n",
    "    print(\"x not equal to z\")\n",
    "if x != x:\n",
    "    print(\"x not equal to x\")"
   ]
  },
  {
   "cell_type": "code",
   "execution_count": 10,
   "metadata": {},
   "outputs": [],
   "source": [
    "# If and elif"
   ]
  },
  {
   "cell_type": "code",
   "execution_count": 11,
   "metadata": {},
   "outputs": [
    {
     "name": "stdout",
     "output_type": "stream",
     "text": [
      "x smaller than or equal to y\n"
     ]
    }
   ],
   "source": [
    "if x > y:\n",
    "    print(\"x greater than y \")\n",
    "elif x == y:\n",
    "    print(\"x == y\")\n",
    "else:\n",
    "    print(\"x smaller than or equal to y\")"
   ]
  },
  {
   "cell_type": "code",
   "execution_count": 12,
   "metadata": {},
   "outputs": [
    {
     "name": "stdout",
     "output_type": "stream",
     "text": [
      "x == y\n"
     ]
    }
   ],
   "source": [
    "y = x\n",
    "if x > y:\n",
    "    print(\"x greater than y \")\n",
    "elif x == y:\n",
    "    print(\"x == y\")\n",
    "elif 1==1:\n",
    "    print(\"true but not prinited\")\n",
    "else:\n",
    "    print(\"x smaller than or equal to y\")"
   ]
  },
  {
   "cell_type": "markdown",
   "metadata": {},
   "source": [
    "## Functions "
   ]
  },
  {
   "cell_type": "code",
   "execution_count": 13,
   "metadata": {},
   "outputs": [
    {
     "name": "stdout",
     "output_type": "stream",
     "text": [
      "4\n",
      "a = 2 b =  3 \n",
      "ans = 5\n"
     ]
    }
   ],
   "source": [
    "def exampleFunc():\n",
    "    z = 4\n",
    "    print(4)\n",
    "\n",
    "def simpleAdd(a,b):\n",
    "    ans =  a + b\n",
    "    print(\"a =\",a,\"b = \",b,\"\\nans =\",ans)\n",
    "    \n",
    "exampleFunc()\n",
    "simpleAdd(a=2,b=3)"
   ]
  },
  {
   "cell_type": "markdown",
   "metadata": {},
   "source": [
    "### Default function values"
   ]
  },
  {
   "cell_type": "code",
   "execution_count": 14,
   "metadata": {},
   "outputs": [
    {
     "name": "stdout",
     "output_type": "stream",
     "text": [
      "7\n"
     ]
    }
   ],
   "source": [
    "def simple(a,b=3):\n",
    "    print(a+b)\n",
    "\n",
    "simple(4)"
   ]
  },
  {
   "cell_type": "markdown",
   "metadata": {},
   "source": [
    "## Global and local Variables "
   ]
  },
  {
   "cell_type": "code",
   "execution_count": 15,
   "metadata": {},
   "outputs": [
    {
     "name": "stdout",
     "output_type": "stream",
     "text": [
      "we can access x = 6 but we can't edit it\n",
      "6 7\n"
     ]
    }
   ],
   "source": [
    "x = y = 6\n",
    "def example():\n",
    "    global y\n",
    "    print(\"we can access x =\",x,\"but we can't edit it\")\n",
    "    # x+=1 would error\n",
    "    y+=1\n",
    "    \n",
    "example()\n",
    "print(x,y)"
   ]
  },
  {
   "cell_type": "markdown",
   "metadata": {},
   "source": [
    "## Write and Read File "
   ]
  },
  {
   "cell_type": "code",
   "execution_count": 238,
   "metadata": {},
   "outputs": [],
   "source": [
    "text = \"Sample file text\"\n",
    "saveFile = open(\"example_file.txt\",\"w\")\n",
    "saveFile.write(text)\n",
    "saveFile.close()"
   ]
  },
  {
   "cell_type": "markdown",
   "metadata": {},
   "source": [
    "### Appending text"
   ]
  },
  {
   "cell_type": "code",
   "execution_count": 239,
   "metadata": {},
   "outputs": [],
   "source": [
    "appendMe = \"\\nThis is a new line\"\n",
    "appendFile = open(\"example_file.txt\",\"a\")\n",
    "appendFile.write(appendMe)\n",
    "appendFile.close() # Don't forget to close the file"
   ]
  },
  {
   "cell_type": "markdown",
   "metadata": {},
   "source": [
    "### Read from file"
   ]
  },
  {
   "cell_type": "code",
   "execution_count": 18,
   "metadata": {},
   "outputs": [
    {
     "name": "stdout",
     "output_type": "stream",
     "text": [
      "readMe =  Sample file text\n",
      "This is a new line \n",
      "\n",
      "readMeList =  ['Sample file text\\n', 'This is a new line']\n"
     ]
    }
   ],
   "source": [
    "readMe  = open(\"exampleFile.txt\",'r').read()\n",
    "readMeList = open(\"exampleFile.txt\",'r').readlines()\n",
    "print(\"readMe = \", readMe, \"\\n\")\n",
    "print(\"readMeList = \", readMeList)"
   ]
  },
  {
   "cell_type": "markdown",
   "metadata": {},
   "source": [
    "## Classes"
   ]
  },
  {
   "cell_type": "code",
   "execution_count": 19,
   "metadata": {},
   "outputs": [
    {
     "name": "stdout",
     "output_type": "stream",
     "text": [
      "15\n",
      "3.0\n"
     ]
    }
   ],
   "source": [
    "class calculator:\n",
    "    \n",
    "    def addition(x,y):\n",
    "        added = x + y\n",
    "        print(added)\n",
    "        \n",
    "    def subtraction(x,y):\n",
    "        subb = x - y\n",
    "        print(subb)\n",
    "    \n",
    "    def multipication(x,y):\n",
    "        mult = x * y\n",
    "        print(mult)\n",
    "    \n",
    "    def division(x,y):\n",
    "        div = x / y\n",
    "        print(div)\n",
    "        \n",
    "calculator.multipication(3,5)\n",
    "calculator.division(9,3)"
   ]
  },
  {
   "cell_type": "markdown",
   "metadata": {},
   "source": [
    "## if \\__name__ == \"\\__main__\":"
   ]
  },
  {
   "cell_type": "code",
   "execution_count": 20,
   "metadata": {},
   "outputs": [
    {
     "name": "stdout",
     "output_type": "stream",
     "text": [
      "lol\n"
     ]
    }
   ],
   "source": [
    "# The print lol is only called if the currently running script is the \"main\" file\n",
    "if __name__ == \"__main__\":\n",
    "    print(\"lol\")"
   ]
  },
  {
   "cell_type": "markdown",
   "metadata": {},
   "source": [
    "## User input "
   ]
  },
  {
   "cell_type": "code",
   "execution_count": 21,
   "metadata": {},
   "outputs": [
    {
     "name": "stdout",
     "output_type": "stream",
     "text": [
      "What's your name fella? \n",
      "Hi \n"
     ]
    }
   ],
   "source": [
    "x = input(\"What's your name fella? \")\n",
    "print(\"Hi\",x)"
   ]
  },
  {
   "cell_type": "markdown",
   "metadata": {},
   "source": [
    "## Statistics "
   ]
  },
  {
   "cell_type": "code",
   "execution_count": 22,
   "metadata": {},
   "outputs": [
    {
     "name": "stdout",
     "output_type": "stream",
     "text": [
      "Mean = 637\n",
      "Mode = 234\n",
      "Standard Deviaion=  1417.2567062563405\n",
      "Variance=  2008616.5714285714\n"
     ]
    }
   ],
   "source": [
    "import statistics\n",
    "\n",
    "exampleList = [4123,443,32,23,4,3,234,234]\n",
    "print(\"Mean =\",statistics.mean(exampleList))\n",
    "print(\"Mode =\",statistics.mode(exampleList))\n",
    "print(\"Standard Deviaion= \",statistics.stdev(exampleList))\n",
    "print(\"Variance= \",statistics.variance(exampleList))"
   ]
  },
  {
   "cell_type": "markdown",
   "metadata": {},
   "source": [
    "## Imports "
   ]
  },
  {
   "cell_type": "code",
   "execution_count": 23,
   "metadata": {},
   "outputs": [
    {
     "name": "stdout",
     "output_type": "stream",
     "text": [
      "Mean = 637\n",
      "Variance = 2008616.5714285714\n",
      "Mode =  234\n"
     ]
    }
   ],
   "source": [
    "import statistics as s # Aliasing\n",
    "from statistics import variance as v, mode as m # Import methods from modules\n",
    "print(\"Mean =\",s.mean(exampleList))\n",
    "print(\"Variance =\",v(exampleList))\n",
    "print(\"Mode = \",m(exampleList))"
   ]
  },
  {
   "cell_type": "code",
   "execution_count": 27,
   "metadata": {},
   "outputs": [
    {
     "name": "stdout",
     "output_type": "stream",
     "text": [
      "data = [4, 5, 6]\n"
     ]
    }
   ],
   "source": [
    "# Now to import an example I made\n",
    "import example_module # This has one function called ex\n",
    "\n",
    "example_module.ex([4,5,6])"
   ]
  },
  {
   "cell_type": "markdown",
   "metadata": {},
   "source": [
    "## Lists and Tuples "
   ]
  },
  {
   "cell_type": "markdown",
   "metadata": {},
   "source": [
    "Lists are muttable but tuples are not"
   ]
  },
  {
   "cell_type": "code",
   "execution_count": 28,
   "metadata": {},
   "outputs": [],
   "source": [
    "# List x an tuple y\n",
    "x = [5,6,2,6]\n",
    "y = (5,6,2,6)\n",
    "# This would error.  y[0] = 4"
   ]
  },
  {
   "cell_type": "code",
   "execution_count": 29,
   "metadata": {},
   "outputs": [
    {
     "name": "stdout",
     "output_type": "stream",
     "text": [
      "6\n"
     ]
    }
   ],
   "source": [
    "# Use tuples from unpacking\n",
    "def a():\n",
    "    return 5,6\n",
    "b,c = a()\n",
    "print(c)"
   ]
  },
  {
   "cell_type": "markdown",
   "metadata": {},
   "source": [
    "### Appending, inserting and removing"
   ]
  },
  {
   "cell_type": "code",
   "execution_count": 30,
   "metadata": {},
   "outputs": [
    {
     "name": "stdout",
     "output_type": "stream",
     "text": [
      "Note\n",
      "- The 9 on the end\n",
      "- The 200 (with index as first element)\n",
      "- The missing 2 value\n",
      "- The missing 3 value\n",
      " [5, 200, 6, 6, 9]\n"
     ]
    }
   ],
   "source": [
    "x = [5,6,3,2,6]\n",
    "x.append(9)\n",
    "x.insert(1,200)\n",
    "x.remove(2) # remove by value\n",
    "del x[3] # remove by index\n",
    "\n",
    "print(\"\"\"Note\n",
    "- The 9 on the end\n",
    "- The 200 (with index as first element)\n",
    "- The missing 2 value\n",
    "- The missing 3 value\n",
    "\"\"\",x)"
   ]
  },
  {
   "cell_type": "markdown",
   "metadata": {},
   "source": [
    "### Refencing and slicing"
   ]
  },
  {
   "cell_type": "code",
   "execution_count": 31,
   "metadata": {},
   "outputs": [
    {
     "name": "stdout",
     "output_type": "stream",
     "text": [
      "Select single value at index 2, x[2]= 6\n",
      "Select slice index 2:3, x[2:4]= [6, 6]\n",
      "One can reference the (first) index of a vlaue e.g. x.index(6) is 2\n"
     ]
    }
   ],
   "source": [
    "print(\"Select single value at index 2, x[2]=\",x[2])\n",
    "print(\"Select slice index 2:3, x[2:4]=\",x[2:4])\n",
    "print(\"One can reference the (first) index of a vlaue e.g. x.index(6) is\",x.index(6))"
   ]
  },
  {
   "cell_type": "markdown",
   "metadata": {},
   "source": [
    "### Sorting lists "
   ]
  },
  {
   "cell_type": "code",
   "execution_count": 32,
   "metadata": {},
   "outputs": [
    {
     "data": {
      "text/plain": [
       "[[99, 99], [12, 12], [11, 11], [1, 10], [10, 1]]"
      ]
     },
     "execution_count": 32,
     "metadata": {},
     "output_type": "execute_result"
    }
   ],
   "source": [
    "l = [[12,12],[11,11],[1,10],[10,1],[99,99]]\n",
    "l.sort(key=lambda x : x[1], reverse=True)\n",
    "l"
   ]
  },
  {
   "cell_type": "code",
   "execution_count": 33,
   "metadata": {},
   "outputs": [
    {
     "data": {
      "text/plain": [
       "[3, 4, 5, 5, 6, 7]"
      ]
     },
     "execution_count": 33,
     "metadata": {},
     "output_type": "execute_result"
    }
   ],
   "source": [
    "l_2 = [3,5,4,6,5,7]\n",
    "l_2.sort()\n",
    "l_2"
   ]
  },
  {
   "cell_type": "code",
   "execution_count": 34,
   "metadata": {},
   "outputs": [
    {
     "data": {
      "text/plain": [
       "[3, 4, 6, 7, 34]"
      ]
     },
     "execution_count": 34,
     "metadata": {},
     "output_type": "execute_result"
    }
   ],
   "source": [
    "sorted([3,7,4,6,34])"
   ]
  },
  {
   "cell_type": "markdown",
   "metadata": {},
   "source": [
    "### Multidimensional Lists"
   ]
  },
  {
   "cell_type": "code",
   "execution_count": 35,
   "metadata": {},
   "outputs": [
    {
     "data": {
      "text/plain": [
       "49"
      ]
     },
     "execution_count": 35,
     "metadata": {},
     "output_type": "execute_result"
    }
   ],
   "source": [
    "multiList = [\n",
    "    [[3,54,4],[43,49,5]],\n",
    "    [[5,6],[5,2]],\n",
    "    [[3]]\n",
    "]\n",
    "multiList[0][1][1]"
   ]
  },
  {
   "cell_type": "markdown",
   "metadata": {},
   "source": [
    "### Flatten lists "
   ]
  },
  {
   "cell_type": "code",
   "execution_count": 36,
   "metadata": {},
   "outputs": [],
   "source": [
    "list1 = [1,2,3,4]\n",
    "list2 = [1,2,3,4,list1]\n",
    "list3 = [1,2,3,5,67,list2]\n",
    "list4 = [1,2,4,list3]"
   ]
  },
  {
   "cell_type": "code",
   "execution_count": 37,
   "metadata": {},
   "outputs": [
    {
     "data": {
      "text/plain": [
       "[1, 2, 4, [1, 2, 3, 5, 67, [1, 2, 3, 4, [1, 2, 3, 4]]]]"
      ]
     },
     "execution_count": 37,
     "metadata": {},
     "output_type": "execute_result"
    }
   ],
   "source": [
    "list4"
   ]
  },
  {
   "cell_type": "code",
   "execution_count": 38,
   "metadata": {},
   "outputs": [
    {
     "data": {
      "text/plain": [
       "['an', 'example', 'list', 'of', 'strings', 123, 34, 3, 12, 32, 14]"
      ]
     },
     "execution_count": 38,
     "metadata": {},
     "output_type": "execute_result"
    }
   ],
   "source": [
    "example_string_list = ['an','example','list','of','strings']\n",
    "example_int_list = [123,34,3,12,32,14]\n",
    "example_nested_list = [example_string_list,example_int_list]\n",
    "\n",
    "flattened = [item for sublist in example_nested_list for item in sublist]\n",
    "flattened"
   ]
  },
  {
   "cell_type": "code",
   "execution_count": 39,
   "metadata": {},
   "outputs": [
    {
     "data": {
      "text/plain": [
       "['an', 'example', 'list', 'of', 'strings', 123, 34, 3, 12, 32, 14]"
      ]
     },
     "execution_count": 39,
     "metadata": {},
     "output_type": "execute_result"
    }
   ],
   "source": [
    "import itertools\n",
    "\n",
    "\n",
    "list(itertools.chain.from_iterable(example_nested_list))"
   ]
  },
  {
   "cell_type": "code",
   "execution_count": 40,
   "metadata": {},
   "outputs": [
    {
     "data": {
      "text/plain": [
       "[1, 2, 4, 1, 2, 3, 5, 67, 1, 2, 3, 4, 1, 2, 3, 4]"
      ]
     },
     "execution_count": 40,
     "metadata": {},
     "output_type": "execute_result"
    }
   ],
   "source": [
    "def flatten(nested_lists):\n",
    "    flattened_list = []\n",
    "    for element in nested_lists:\n",
    "        if isinstance(element, list):\n",
    "            for sub_element in flatten(element):\n",
    "                flattened_list.append(sub_element)\n",
    "        else:\n",
    "            flattened_list.append(element)\n",
    "    return flattened_list\n",
    "\n",
    "example_deeply_nested_list = [1, 2, 4, [1, 2, 3, 5, 67, [1, 2, 3, 4, [1, 2, 3, 4]]]]\n",
    "flattened = flatten(example_deeply_nested_list)\n",
    "flattened"
   ]
  },
  {
   "cell_type": "code",
   "execution_count": 41,
   "metadata": {},
   "outputs": [],
   "source": [
    "def iterable_flatten(nested_lists):\n",
    "    stack = nested_lists\n",
    "    out=[]\n",
    "    while len(stack):\n",
    "        new_stack=[]\n",
    "        for element in stack:\n",
    "            if isinstance(element,list):\n",
    "                new_stack+=element\n",
    "            else:\n",
    "                out.append(element)\n",
    "        stack=new_stack\n",
    "    return out"
   ]
  },
  {
   "cell_type": "code",
   "execution_count": 42,
   "metadata": {},
   "outputs": [
    {
     "data": {
      "text/plain": [
       "[1, 2, 4, 1, 2, 3, 5, 67, 1, 2, 3, 4, 1, 2, 3, 4]"
      ]
     },
     "execution_count": 42,
     "metadata": {},
     "output_type": "execute_result"
    }
   ],
   "source": [
    "iterable_flatten(example_deeply_nested_list)"
   ]
  },
  {
   "cell_type": "code",
   "execution_count": 43,
   "metadata": {},
   "outputs": [
    {
     "name": "stdout",
     "output_type": "stream",
     "text": [
      "6.18 µs ± 180 ns per loop (mean ± std. dev. of 7 runs, 100000 loops each)\n"
     ]
    }
   ],
   "source": [
    "%timeit flattened = flatten(example_deeply_nested_list)"
   ]
  },
  {
   "cell_type": "code",
   "execution_count": 44,
   "metadata": {},
   "outputs": [
    {
     "name": "stdout",
     "output_type": "stream",
     "text": [
      "4.27 µs ± 110 ns per loop (mean ± std. dev. of 7 runs, 100000 loops each)\n"
     ]
    }
   ],
   "source": [
    "%timeit flattened = iterable_flatten(example_deeply_nested_list)"
   ]
  },
  {
   "cell_type": "code",
   "execution_count": 45,
   "metadata": {},
   "outputs": [],
   "source": [
    "# better to use iterable - you always can!"
   ]
  },
  {
   "cell_type": "markdown",
   "metadata": {},
   "source": [
    "### Combine two lists into tuples "
   ]
  },
  {
   "cell_type": "code",
   "execution_count": 46,
   "metadata": {},
   "outputs": [
    {
     "data": {
      "text/plain": [
       "[(1, 5), (2, 6), (3, 7), (4, 8)]"
      ]
     },
     "execution_count": 46,
     "metadata": {},
     "output_type": "execute_result"
    }
   ],
   "source": [
    "list_a = [1, 2, 3, 4]\n",
    "list_b = [5, 6, 7, 8]\n",
    "\n",
    "list(zip(list_a, list_b))"
   ]
  },
  {
   "cell_type": "markdown",
   "metadata": {},
   "source": [
    "### Merge two lists "
   ]
  },
  {
   "cell_type": "code",
   "execution_count": 47,
   "metadata": {},
   "outputs": [
    {
     "data": {
      "text/plain": [
       "[1, 5, 2, 6, 3, 7, 4, 8]"
      ]
     },
     "execution_count": 47,
     "metadata": {},
     "output_type": "execute_result"
    }
   ],
   "source": [
    "[x for t in zip(list_a,list_b) for x in t]"
   ]
  },
  {
   "cell_type": "code",
   "execution_count": 48,
   "metadata": {},
   "outputs": [],
   "source": [
    "a = ['d', 'h', 'g']\n",
    "b = ['1', '2', '3']\n",
    "c = list(map(str.__add__, a, b))"
   ]
  },
  {
   "cell_type": "markdown",
   "metadata": {},
   "source": [
    "### Dict from lists "
   ]
  },
  {
   "cell_type": "code",
   "execution_count": 49,
   "metadata": {},
   "outputs": [
    {
     "data": {
      "text/plain": [
       "{'zebra': 12, 'bear': 43, 'dog': 54}"
      ]
     },
     "execution_count": 49,
     "metadata": {},
     "output_type": "execute_result"
    }
   ],
   "source": [
    "words = ['zebra','bear','dog']\n",
    "counts = [12, 43, 54]\n",
    "count_look_up_dict = dict(zip(words,counts))\n",
    "\n",
    "count_look_up_dict"
   ]
  },
  {
   "cell_type": "markdown",
   "metadata": {},
   "source": [
    "## Error Handling "
   ]
  },
  {
   "cell_type": "code",
   "execution_count": 51,
   "metadata": {},
   "outputs": [
    {
     "name": "stdout",
     "output_type": "stream",
     "text": [
      "['blue', 'red', 'mauve', 'green', 'yellow', 'black', 'chartruesse']\n",
      "['3', '3', '6', '7', '2', '8', '5']\n",
      "\n",
      "\n",
      "Pease enter a colour sss\n",
      "Please select a colour from ['blue', 'red', 'mauve', 'green', 'yellow', 'black', 'chartruesse']\n",
      "program finished\n"
     ]
    }
   ],
   "source": [
    "import csv\n",
    "with open(\"example_csv.csv\") as f:\n",
    "    readCSV = csv.reader(f,delimiter=\",\")\n",
    "    number = []\n",
    "    colour = []\n",
    "    for i, row in enumerate(readCSV):\n",
    "        if i > 1:\n",
    "            number.append(row[1])\n",
    "            colour.append(row[2])\n",
    "    print(colour)\n",
    "    print(number)\n",
    "    print(\"\\n\")\n",
    "\n",
    "    try:\n",
    "        userColour = input('Pease enter a colour ').lower()\n",
    "        if userColour in colour:\n",
    "            coldex = colour.index(userColour)\n",
    "            userNumber = number[coldex]\n",
    "            print(\"the number for your colour\",userColour,\"is\",userNumber)\n",
    "        else:\n",
    "            print(\"Please select a colour from\",colour)\n",
    "    except Exception as e:\n",
    "        print(e)\n",
    "    print(\"program finished\")"
   ]
  },
  {
   "cell_type": "markdown",
   "metadata": {},
   "source": [
    "## MultiLine Print "
   ]
  },
  {
   "cell_type": "code",
   "execution_count": 52,
   "metadata": {},
   "outputs": [
    {
     "name": "stdout",
     "output_type": "stream",
     "text": [
      "\n",
      "This is an \n",
      "example of a multiline\n",
      "print!!\n",
      "\n",
      "||=============================||\n",
      "||Authors: Simon, Matthew      ||\n",
      "||Date: 5/10/17                ||\n",
      "||                             || \n",
      "||=============================||\n",
      "\n"
     ]
    }
   ],
   "source": [
    "print(\"\"\"\n",
    "This is an \n",
    "example of a multiline\n",
    "print!!\n",
    "\n",
    "||=============================||\n",
    "||Authors: Simon, Matthew      ||\n",
    "||Date: 5/10/17                ||\n",
    "||                             || \n",
    "||=============================||\n",
    "\"\"\")"
   ]
  },
  {
   "cell_type": "markdown",
   "metadata": {},
   "source": [
    "## wrap single line"
   ]
  },
  {
   "cell_type": "code",
   "execution_count": 53,
   "metadata": {},
   "outputs": [
    {
     "name": "stdout",
     "output_type": "stream",
     "text": [
      "This is a very verylong sentence but i want it tolook dam good on the page.\n"
     ]
    }
   ],
   "source": [
    "long_line = (\n",
    "    'This is a very very'\n",
    "    'long sentence but i want it to'\n",
    "    'look dam good on the page.')\n",
    "print(long_line)"
   ]
  },
  {
   "cell_type": "markdown",
   "metadata": {},
   "source": [
    "## Dictionaries "
   ]
  },
  {
   "cell_type": "markdown",
   "metadata": {},
   "source": [
    "Dictionaries do not have order!"
   ]
  },
  {
   "cell_type": "code",
   "execution_count": 54,
   "metadata": {},
   "outputs": [
    {
     "name": "stdout",
     "output_type": "stream",
     "text": [
      "stan's value  [34, 'very blond']\n",
      "{'simon': [23, 'blond'], 'matt': [9, 'brown'], 'stan': [34]}\n"
     ]
    }
   ],
   "source": [
    "exampleDict = {\n",
    "    \"simon\": [23,\"blond\"],\n",
    "    \"matt\": [445,\"brown\"],\n",
    "    \"stan\": [34,\"very blond\"],\n",
    "    \"george\": [23,\"black\"]\n",
    "}\n",
    "\n",
    "print(\"stan's value \",exampleDict[\"stan\"])\n",
    "del exampleDict[\"george\"]\n",
    "exampleDict[\"matt\"][0] = 9 # change matt's age\n",
    "del exampleDict[\"stan\"][1] # delete stan's hair colour\n",
    "print(exampleDict)"
   ]
  },
  {
   "cell_type": "markdown",
   "metadata": {},
   "source": [
    "## Python Built in Functions and Libraries"
   ]
  },
  {
   "cell_type": "code",
   "execution_count": 55,
   "metadata": {},
   "outputs": [
    {
     "name": "stdout",
     "output_type": "stream",
     "text": [
      "2\n",
      "3.235\n"
     ]
    }
   ],
   "source": [
    "# Abosulte value\n",
    "print(abs(-2))\n",
    "# Round\n",
    "print(round(3.234543,3))\n",
    "# help() # type q to quit"
   ]
  },
  {
   "cell_type": "markdown",
   "metadata": {},
   "source": [
    "## OS"
   ]
  },
  {
   "cell_type": "code",
   "execution_count": 56,
   "metadata": {},
   "outputs": [
    {
     "name": "stdout",
     "output_type": "stream",
     "text": [
      "/Users/simonward-jones/OneDrive/Documents/Simon/data-science/general-repos/ForgetCode/Python/teaching-python-basics\n",
      "['example_module.py', 'logging.log', 'example_pic.jpeg', 'exampleDir', 'example_csv.csv', '__pycache__', 'learn_pandas.py', 'example_pic.png', 'example_file.txt', 'example_dict.pickle', 'learn_pandas.ipynb', 'Learn_python.md', 'pandas_cheat_sheet.pdf', 'learn_python.ipynb', 'exampleFile.txt', '.ipynb_checkpoints']\n",
      "['example_module.py', 'logging.log', 'example_pic.jpeg', 'example_csv.csv', '__pycache__', 'learn_pandas.py', 'example_pic.png', 'example_file.txt', 'example_dict.pickle', 'learn_pandas.ipynb', 'Learn_python.md', 'pandas_cheat_sheet.pdf', 'learn_python.ipynb', 'exampleFile.txt', 'changedDir', '.ipynb_checkpoints']\n",
      "['example_module.py', 'logging.log', 'example_pic.jpeg', 'example_csv.csv', '__pycache__', 'learn_pandas.py', 'example_pic.png', 'example_file.txt', 'example_dict.pickle', 'learn_pandas.ipynb', 'Learn_python.md', 'pandas_cheat_sheet.pdf', 'learn_python.ipynb', 'exampleFile.txt', '.ipynb_checkpoints']\n"
     ]
    }
   ],
   "source": [
    "import os\n",
    "cwd = os.getcwd()\n",
    "print(cwd)\n",
    "\n",
    "# Make a new Dir\n",
    "os.mkdir(\"exampleDir/\")\n",
    "print(os.listdir())\n",
    "\n",
    "# Rename\n",
    "os.rename(\"exampleDir/\",\"changedDir/\")\n",
    "print(os.listdir())\n",
    "\n",
    "# Remove Directory\n",
    "os.rmdir(\"changedDir\")\n",
    "print(os.listdir())\n",
    "\n"
   ]
  },
  {
   "cell_type": "markdown",
   "metadata": {},
   "source": [
    "## Sys "
   ]
  },
  {
   "cell_type": "code",
   "execution_count": 57,
   "metadata": {},
   "outputs": [],
   "source": [
    "import sys"
   ]
  },
  {
   "cell_type": "code",
   "execution_count": 58,
   "metadata": {},
   "outputs": [
    {
     "name": "stderr",
     "output_type": "stream",
     "text": [
      "This is stderr text\n"
     ]
    },
    {
     "name": "stdout",
     "output_type": "stream",
     "text": [
      "This is stdout text\n",
      "['/usr/local/lib/python3.7/site-packages/ipykernel_launcher.py', '-f', '/Users/simonward-jones/Library/Jupyter/runtime/kernel-af483f9d-bb1f-4580-a95c-5ea06f4d9274.json']\n"
     ]
    }
   ],
   "source": [
    "sys.stderr.write(\"This is stderr text\\n\")\n",
    "sys.stderr.flush()\n",
    "sys.stdout.write(\"This is stdout text\\n\")\n",
    "\n",
    "print(sys.argv)\n",
    "## The sys.argv is the array of inputs passed \n",
    "## to the python interprter"
   ]
  },
  {
   "cell_type": "markdown",
   "metadata": {},
   "source": [
    "## urllib "
   ]
  },
  {
   "cell_type": "code",
   "execution_count": 59,
   "metadata": {},
   "outputs": [
    {
     "name": "stdout",
     "output_type": "stream",
     "text": [
      "b'<!doctype html><html itemscope=\"\" itemtype=\"http://schema.org/WebPage\" lang=\"en-GB\"><head><meta content=\"text/html; charset=UTF-8\" http-equiv=\"Content-Type\"><meta content=\"/images/branding/googleg/1x/googleg_standard_color_128dp.png\" itemprop=\"image\"><title>Google</title><script nonce=\"GV7TrOotYzMWL'\n"
     ]
    }
   ],
   "source": [
    "import urllib.request\n",
    "google = urllib.request.urlopen(\"http://google.com\")\n",
    "print(google.read()[:300])"
   ]
  },
  {
   "cell_type": "code",
   "execution_count": 60,
   "metadata": {},
   "outputs": [
    {
     "name": "stdout",
     "output_type": "stream",
     "text": [
      "b'<html>\\n\\t<head>\\n\\n\\t\\t<!--\\n\\t\\tpalette:\\n\\t\\tdark blue: #003F72\\n\\t\\tyellow: #FFD166\\n\\t\\tsalmon: #EF476F\\n\\t\\toffwhite: #e7d7d7\\n\\t\\tLight Blue: #118AB2\\n\\t\\tLight green: #7DDF64\\n\\t\\t-->\\n\\n\\t\\t<meta name=\"viewport\" content = \"width=device-width, initial-scale=1.0\">\\n\\t\\t<title>Python Programming Tutorials</title>\\n\\n\\t\\t<meta name=\"d'\n"
     ]
    }
   ],
   "source": [
    "import urllib.parse\n",
    "url = \"http://pythonprogramming.net\"\n",
    "values = {'s':'basic',\n",
    "         'submit':'search'}\n",
    "data = urllib.parse.urlencode(values)\n",
    "data = data.encode('utf-8')\n",
    "req = urllib.request.Request(url,data)\n",
    "resp = urllib.request.urlopen(req)\n",
    "respData = resp.read()\n",
    "print(respData[:300])"
   ]
  },
  {
   "cell_type": "code",
   "execution_count": 61,
   "metadata": {},
   "outputs": [
    {
     "data": {
      "text/plain": [
       "[('Content-type', 'application/x-www-form-urlencoded'),\n",
       " ('Content-length', '21'),\n",
       " ('Host', 'pythonprogramming.net'),\n",
       " ('User-agent', 'Python-urllib/3.7')]"
      ]
     },
     "execution_count": 61,
     "metadata": {},
     "output_type": "execute_result"
    }
   ],
   "source": [
    "req.header_items()"
   ]
  },
  {
   "cell_type": "code",
   "execution_count": 62,
   "metadata": {},
   "outputs": [
    {
     "name": "stdout",
     "output_type": "stream",
     "text": [
      "b'<?xml version=\"1.0\" encoding=\"UTF-8\"?><!DOCTYPE html PUBLIC \"-//WAPFORUM//DTD XHTML Mobile 1.0//EN\" \"http://www.wapforum.org/DTD/xhtml-mobile10.dtd\"><html xmlns=\"http://www.w3.org/1999/xhtml\" lang=\"en-GB\"><head><meta content=\"application/xhtml+xml; charset=UTF-8\" http-equiv=\"Content-Type\"/><meta con'\n"
     ]
    }
   ],
   "source": [
    "# using an android user agent header to get rpund google kn0wing we are python\n",
    "try:\n",
    "    headers = {}\n",
    "    headers['User-Agent']= 'Mozilla/5.0 (Android 4.4; Mobile; rv:41.0) Gecko/41.0 Firefox/41.0'\n",
    "    url ='https://google.com/search?q=test'\n",
    "    req = urllib.request.Request(url, headers=headers)\n",
    "    resp = urllib.request.urlopen(req)\n",
    "    respData = resp.read()\n",
    "    print(respData[:300])\n",
    "except Exception as e:\n",
    "    print(str(e))\n",
    "        "
   ]
  },
  {
   "cell_type": "code",
   "execution_count": 63,
   "metadata": {},
   "outputs": [
    {
     "data": {
      "text/plain": [
       "[('Host', 'google.com'),\n",
       " ('User-agent',\n",
       "  'Mozilla/5.0 (Android 4.4; Mobile; rv:41.0) Gecko/41.0 Firefox/41.0')]"
      ]
     },
     "execution_count": 63,
     "metadata": {},
     "output_type": "execute_result"
    }
   ],
   "source": [
    "req.header_items()"
   ]
  },
  {
   "cell_type": "markdown",
   "metadata": {},
   "source": [
    "## Regular Expressions "
   ]
  },
  {
   "cell_type": "code",
   "execution_count": 64,
   "metadata": {},
   "outputs": [
    {
     "name": "stdout",
     "output_type": "stream",
     "text": [
      "\n",
      "Identifiers\n",
      "\n",
      "\\d Any digit\n",
      "\\D Any Non-digit\n",
      "\\s Space\n",
      "\\s Any Non-space\n",
      "\\w Any character\n",
      "\\W Anythin but a character\n",
      ". Any character except newline\n",
      "\b White space around words\n",
      "\\. Full stop\n",
      "\n",
      "Modifiers\n",
      "{1,3} We're expecting 1-3 \n",
      "+ Match 1 or more\n",
      "? Match 0 or 1\n",
      "* Match 0 or more\n",
      "$ Match the end of a string\n",
      "^ Match the beginning of a string\n",
      "| Or\n",
      "[] range e.g. [0-9A-Z]\n",
      "{x} We're expecting x\n",
      "\n",
      "White space Characters\n",
      "\n",
      " New-line\n",
      "\\s Space\n",
      "\t Tab\n",
      "\\e Escape\n",
      "\f",
      " Form feed\n",
      "\r",
      " Carriage return\n",
      "\n",
      "Don't forget\n",
      ". + * ? [ ] $ ^ { } | \n"
     ]
    }
   ],
   "source": [
    "print(\"\"\"\n",
    "Identifiers\n",
    "\n",
    "\\d Any digit\n",
    "\\D Any Non-digit\n",
    "\\s Space\n",
    "\\s Any Non-space\n",
    "\\w Any character\n",
    "\\W Anythin but a character\n",
    ". Any character except newline\n",
    "\\b White space around words\n",
    "\\. Full stop\n",
    "\n",
    "Modifiers\n",
    "{1,3} We're expecting 1-3 \n",
    "+ Match 1 or more\n",
    "? Match 0 or 1\n",
    "* Match 0 or more\n",
    "$ Match the end of a string\n",
    "^ Match the beginning of a string\n",
    "| Or\n",
    "[] range e.g. [0-9A-Z]\n",
    "{x} We're expecting x\n",
    "\n",
    "White space Characters\n",
    "\\n New-line\n",
    "\\s Space\n",
    "\\t Tab\n",
    "\\e Escape\n",
    "\\f Form feed\n",
    "\\r Carriage return\n",
    "\n",
    "Don't forget\n",
    ". + * ? [ ] $ ^ { } | \\\n",
    "\"\"\")"
   ]
  },
  {
   "cell_type": "code",
   "execution_count": 65,
   "metadata": {},
   "outputs": [],
   "source": [
    "import re\n",
    "exampleString = \"\"\"\n",
    "Jessica is 15 years old, and Daniel is 27 years old.\n",
    "Edward is 97, and his grandfather, Oscar, is 102.\n",
    "\"\"\"\n",
    "ages = re.findall(r'\\d+', exampleString)\n",
    "names = re.findall(r'[A-Z]\\w+', exampleString)"
   ]
  },
  {
   "cell_type": "code",
   "execution_count": 66,
   "metadata": {},
   "outputs": [
    {
     "name": "stdout",
     "output_type": "stream",
     "text": [
      "['15', '27', '97', '102']\n",
      "['Jessica', 'Daniel', 'Edward', 'Oscar']\n"
     ]
    },
    {
     "data": {
      "text/plain": [
       "{'Jessica': '102', 'Daniel': '102', 'Edward': '102', 'Oscar': '102'}"
      ]
     },
     "execution_count": 66,
     "metadata": {},
     "output_type": "execute_result"
    }
   ],
   "source": [
    "print(ages)\n",
    "print(names)\n",
    "\n",
    "ageDict = {}\n",
    "\n",
    "for name in names:\n",
    "    for age in ages:\n",
    "        ageDict[name] = age\n",
    "        \n",
    "ageDict"
   ]
  },
  {
   "cell_type": "markdown",
   "metadata": {},
   "source": [
    "## Regular expression on HTML"
   ]
  },
  {
   "cell_type": "code",
   "execution_count": 67,
   "metadata": {},
   "outputs": [],
   "source": [
    "import urllib.request\n",
    "import urllib.parse\n",
    "import re\n",
    "\n",
    "url = \"http://pythonprogramming.net\"\n",
    "values = { \"s\":\"basics\",\n",
    "         \"submit\":\"search\"}\n",
    "data = urllib.parse.urlencode(values)\n",
    "data = data.encode(\"utf-8\")\n",
    "req = urllib.request.Request(url, data)\n",
    "resp = urllib.request.urlopen(req)\n",
    "respData = resp.read()\n",
    "# print(respData)\n",
    "\n",
    "paragraphs = re.findall(r\"<p>(.*?)</p>\",str(respData))"
   ]
  },
  {
   "cell_type": "code",
   "execution_count": 68,
   "metadata": {},
   "outputs": [
    {
     "name": "stdout",
     "output_type": "stream",
     "text": [
      "Employ both supervised and unsupervised machine learning, to make predictions or to understand data.\n",
      "\n",
      "Learn how to use Python with Pandas, Matplotlib, and other modules to gather insights from and about your data.\n",
      "\n",
      "Learn the basics and concepts of working with quantum computers and qubits through practical applications and the Qiskit package.\n",
      "\n"
     ]
    }
   ],
   "source": [
    "for i, p in enumerate(paragraphs):\n",
    "    if i < 3:\n",
    "        print(p)\n",
    "        print()"
   ]
  },
  {
   "cell_type": "markdown",
   "metadata": {},
   "source": [
    "## TKinter - Windows, Buttons, Events, Images and Menu"
   ]
  },
  {
   "cell_type": "code",
   "execution_count": 240,
   "metadata": {},
   "outputs": [
    {
     "name": "stdout",
     "output_type": "stream",
     "text": [
      "Hi Simon\n",
      "Hi Simon\n"
     ]
    }
   ],
   "source": [
    "from tkinter import *\n",
    "from PIL import Image, ImageTk\n",
    "class Window(Frame):\n",
    "    \n",
    "    def __init__(self,master=None):\n",
    "        Frame.__init__(self, master)\n",
    "        self.master = master\n",
    "        \n",
    "        self.init_window()\n",
    "    \n",
    "    def init_window(self):\n",
    "        \n",
    "        self.master.title(\"Simon's GUI\")\n",
    "        \n",
    "        self.pack(fill=BOTH, expand=1)\n",
    "        \n",
    "#         # Example Button\n",
    "#         quitButton = Button(master=self, text=\"Quit\", command=self.client_exit)\n",
    "#         quitButton.place(x=0,y=0)\n",
    "        \n",
    "       # Define the main menu object and add it to root \n",
    "        menu = Menu(self.master)\n",
    "        self.master.config(menu=menu)\n",
    "        \n",
    "        # define file drop down\n",
    "        file = Menu(menu)\n",
    "        file.add_command(label=\"Exit\",command=self.client_exit)\n",
    "        file.add_command(label=\"Save\",command=lambda: print(\"I didn't really save\"))\n",
    "        file.add_command(label=\"Say hi\",command=lambda: print(\"Hi Simon\"))\n",
    "        menu.add_cascade(label=\"File\",menu=file)\n",
    "    \n",
    "        # Define edit drop down\n",
    "        edit = Menu(menu)\n",
    "        edit.add_command(label=\"Show Image\",command=self.showImg)\n",
    "        edit.add_command(label=\"Show Text\",command=self.showText)\n",
    "        menu.add_cascade(label=\"Edit\",menu=edit)\n",
    "    \n",
    "    def showImg(self):\n",
    "        load = Image.open(\"./example_pic.png\")\n",
    "        render = ImageTk.PhotoImage(load)\n",
    "        img = Label(self, image=render)\n",
    "        img.image = render\n",
    "        img.place(x=0,y=0)\n",
    "    \n",
    "    def showText(self):\n",
    "        text = Label(self,text=\"Hey there\")\n",
    "        text.pack()\n",
    "                         \n",
    "    def client_exit(self):\n",
    "        self.master.destroy()\n",
    "\n",
    "root = Tk()\n",
    "root.geometry(\"400x400\")\n",
    "app = Window(root)\n",
    "root.mainloop()"
   ]
  },
  {
   "cell_type": "markdown",
   "metadata": {},
   "source": [
    "## Threading "
   ]
  },
  {
   "cell_type": "code",
   "execution_count": 72,
   "metadata": {},
   "outputs": [
    {
     "name": "stdout",
     "output_type": "stream",
     "text": [
      "Collecting pillow\n",
      "\u001b[?25l  Downloading https://files.pythonhosted.org/packages/0c/43/b52847e473ac6cbd10a749b63018b2bb08b55c6e1a1923872361443906de/Pillow-7.0.0-cp37-cp37m-macosx_10_6_intel.whl (3.9MB)\n",
      "\u001b[K    100% |████████████████████████████████| 3.9MB 3.3MB/s ta 0:00:011\n",
      "\u001b[?25hInstalling collected packages: pillow\n",
      "Successfully installed pillow-7.0.0\n"
     ]
    }
   ],
   "source": [
    "!pip3 install pillow"
   ]
  },
  {
   "cell_type": "code",
   "execution_count": 73,
   "metadata": {},
   "outputs": [
    {
     "name": "stdout",
     "output_type": "stream",
     "text": [
      "Thread-15 1\n",
      "Thread-16 2\n",
      "Thread-19 5\n",
      "Thread-20 6\n",
      "Thread-21 7\n",
      "Thread-22 8\n",
      "Thread-23 9\n",
      "Thread-14 0\n",
      "Thread-18 4\n",
      "Thread-17 3\n",
      "Thread-15 10\n",
      "Thread-16 11\n",
      "Thread-19 12\n",
      "Thread-23 16\n",
      "Thread-14 17\n",
      "Thread-21 14\n",
      "Thread-22 15\n",
      "Thread-20 13\n",
      "Thread-18 18\n",
      "Thread-17 19\n",
      "Entire job took 1.020904302597046\n",
      "0.0002219676971435547\n",
      "0.00023698806762695312\n",
      "0.0002510547637939453\n",
      "0.0002639293670654297\n",
      "0.0002770423889160156\n",
      "0.0002892017364501953\n",
      "0.0003018379211425781\n",
      "0.0003631114959716797\n",
      "0.00037598609924316406\n",
      "0.00038886070251464844\n",
      "0.5064530372619629\n",
      "0.507390022277832\n",
      "0.5080442428588867\n",
      "0.5085031986236572\n",
      "0.5090000629425049\n",
      "0.5095839500427246\n",
      "0.5099389553070068\n",
      "0.5104799270629883\n",
      "0.5109248161315918\n",
      "0.5112659931182861\n"
     ]
    }
   ],
   "source": [
    "# threading and queue are python inbuilts\n",
    "import threading\n",
    "from queue import Queue\n",
    "import time  # To mimic processing\n",
    "\n",
    "print_lock = threading.Lock()\n",
    "\n",
    "tr = {}\n",
    "\n",
    "def exampleJob(job_id):\n",
    "    tr[job_id] = time.time()\n",
    "    time.sleep(0.5)\n",
    "    with print_lock:\n",
    "        print(threading.currentThread().name, job_id)\n",
    "\n",
    "\n",
    "def threader():\n",
    "    while True:\n",
    "        worker = q.get()\n",
    "        exampleJob(worker)\n",
    "        q.task_done()\n",
    "\n",
    "\n",
    "# Create a queue\n",
    "q = Queue()\n",
    "\n",
    "# Start the timer\n",
    "start = time.time()\n",
    "\n",
    "# we create 10 threads each targeting the threader function and then start the threads\n",
    "# the threader function continuously checks the queue for work\n",
    "# note the queue is empty at this stage in the code\n",
    "\n",
    "for x in range(10):\n",
    "    t = threading.Thread(target=threader)\n",
    "    t.daemon = True # thread dies when main dies (saves clean up)\n",
    "    t.start()\n",
    "\n",
    "#time.sleep(2)\n",
    "\n",
    "# add work to the queue (the hungry threads will snap this up very quickly\n",
    "t = time.time()\n",
    "for job_id in range(20):\n",
    "    q.put(job_id)\n",
    "\n",
    "q.join()\n",
    "\n",
    "print(\"Entire job took\", time.time() - start)\n",
    "\n",
    "# this allows you to see the wave of workers starting\n",
    "for i in range(20):\n",
    "    print(tr[i]-t)\n"
   ]
  },
  {
   "cell_type": "markdown",
   "metadata": {},
   "source": [
    "## Freeze python to exe"
   ]
  },
  {
   "cell_type": "code",
   "execution_count": 75,
   "metadata": {},
   "outputs": [
    {
     "name": "stdout",
     "output_type": "stream",
     "text": [
      "Collecting cx_freeze\n",
      "  Using cached https://files.pythonhosted.org/packages/37/f9/c02f24d5804096b936a6aa16d459aafe895110206ef5fc676c153a33c086/cx_Freeze-6.1.tar.gz\n",
      "Building wheels for collected packages: cx-freeze\n",
      "  Building wheel for cx-freeze (setup.py): started\n",
      "  Building wheel for cx-freeze (setup.py): finished with status 'done'\n",
      "  Stored in directory: /Users/simonward-jones/Library/Caches/pip/wheels/47/77/d4/295ded38700f999d5d1093fde3ad760dba43d9ab1dd8d42d79\n",
      "Successfully built cx-freeze\n",
      "Installing collected packages: cx-freeze\n",
      "Successfully installed cx-freeze-6.1\n"
     ]
    }
   ],
   "source": [
    "%%bash\n",
    "\n",
    "pip3 install cx_freeze"
   ]
  },
  {
   "cell_type": "markdown",
   "metadata": {},
   "source": [
    "This tutorial did not work did not work!!!!\n",
    "\n",
    "The new best practise for mac is to use pyinstaller!\n"
   ]
  },
  {
   "cell_type": "markdown",
   "metadata": {},
   "source": [
    "To build simply run \n",
    "```pysintaller dist_me.py```"
   ]
  },
  {
   "cell_type": "markdown",
   "metadata": {},
   "source": [
    "## subprocess "
   ]
  },
  {
   "cell_type": "code",
   "execution_count": 76,
   "metadata": {},
   "outputs": [
    {
     "name": "stdout",
     "output_type": "stream",
     "text": [
      "Learn_python.md\n",
      "__pycache__\n",
      "exampleFile.txt\n",
      "example_csv.csv\n",
      "example_dict.pickle\n",
      "example_file.txt\n",
      "example_module.py\n",
      "example_pic.jpeg\n",
      "example_pic.png\n",
      "learn_pandas.ipynb\n",
      "learn_pandas.py\n",
      "learn_python.ipynb\n",
      "logging.log\n",
      "pandas_cheat_sheet.pdf\n",
      "\n"
     ]
    }
   ],
   "source": [
    "import subprocess\n",
    "\n",
    "# Running the shell from python!\n",
    "output  = subprocess.call(\"ls\",shell=True)\n",
    "output  = subprocess.check_output(\"ls\",shell=True)\n",
    "\n",
    "print(output.decode('UTF-8'))"
   ]
  },
  {
   "cell_type": "markdown",
   "metadata": {},
   "source": [
    "## Bader tricks"
   ]
  },
  {
   "cell_type": "markdown",
   "metadata": {},
   "source": [
    "### Unpacking Dictionaries"
   ]
  },
  {
   "cell_type": "code",
   "execution_count": 80,
   "metadata": {},
   "outputs": [
    {
     "name": "stdout",
     "output_type": "stream",
     "text": [
      "z_key :  {'Ann', 'Stephen', 'Paul', 'Simon', 'Richard'}\n",
      "z :  {'Simon': 178, 'Paul': 174, 'Richard': 176, 'Ann': 156, 'Stephen': 175}\n"
     ]
    }
   ],
   "source": [
    "x = {\"Simon\":175,\"Paul\":174,\"Richard\":176}\n",
    "y = {\"Simon\":178,\"Ann\":156,\"Stephen\":175}\n",
    "z_key = {*x,*y} # Just keys\n",
    "z = {**x,**y} # Unpack all\n",
    "print(\"z_key : \",z_key)\n",
    "print(\"z : \",z)"
   ]
  },
  {
   "cell_type": "markdown",
   "metadata": {},
   "source": [
    "### Accessing dictionaries with default if no key there"
   ]
  },
  {
   "cell_type": "code",
   "execution_count": 81,
   "metadata": {},
   "outputs": [
    {
     "name": "stdout",
     "output_type": "stream",
     "text": [
      "Key for Simon:  178\n",
      "Key for missing key Ben:  No Key in dict\n"
     ]
    }
   ],
   "source": [
    "print(\"Key for Simon: \",z.get(\"Simon\",100))\n",
    "print(\"Key for missing key Ben: \",z.get(\"Ben\",\"No Key in dict\"))"
   ]
  },
  {
   "cell_type": "markdown",
   "metadata": {},
   "source": [
    "### Named Tuples "
   ]
  },
  {
   "cell_type": "code",
   "execution_count": 82,
   "metadata": {},
   "outputs": [
    {
     "name": "stdout",
     "output_type": "stream",
     "text": [
      "My car is silver.\n",
      "Sorry no re-spray -- can't set attribute.\n"
     ]
    }
   ],
   "source": [
    "from collections import namedtuple\n",
    "Car = namedtuple('Car','color milage')\n",
    "\n",
    "my_car = Car('silver',15000)\n",
    "\n",
    "print(\"My car is\", str(my_car.color)+\".\")\n",
    "try:\n",
    "    my_car.color = \"red\"\n",
    "except Exception as e:\n",
    "    # Named tuples are immutable (just like tuples)\n",
    "    print(\"Sorry no re-spray -- \"+ str(e)+ \".\")"
   ]
  },
  {
   "cell_type": "markdown",
   "metadata": {},
   "source": [
    "## Matplotlib "
   ]
  },
  {
   "cell_type": "code",
   "execution_count": 87,
   "metadata": {},
   "outputs": [],
   "source": [
    "# !pip3 install matplotlib"
   ]
  },
  {
   "cell_type": "code",
   "execution_count": 91,
   "metadata": {},
   "outputs": [
    {
     "name": "stdout",
     "output_type": "stream",
     "text": [
      "['seaborn-dark', 'seaborn-darkgrid', 'seaborn-ticks', 'fivethirtyeight', 'seaborn-whitegrid', 'classic', '_classic_test', 'fast', 'seaborn-talk', 'seaborn-dark-palette', 'seaborn-bright', 'seaborn-pastel', 'grayscale', 'seaborn-notebook', 'ggplot', 'seaborn-colorblind', 'seaborn-muted', 'seaborn', 'Solarize_Light2', 'seaborn-paper', 'bmh', 'tableau-colorblind10', 'seaborn-white', 'dark_background', 'seaborn-poster', 'seaborn-deep']\n"
     ]
    },
    {
     "data": {
      "image/png": "[encoded data removed]",
      "text/plain": [
       "<Figure size 432x288 with 1 Axes>"
      ]
     },
     "metadata": {},
     "output_type": "display_data"
    }
   ],
   "source": [
    "from matplotlib import pyplot as plt\n",
    "\n",
    "x = [5,6,7,8]\n",
    "y = [7,3,8,3]\n",
    "y2 = [8,13,4,2]\n",
    "\n",
    "print(plt.style.available)\n",
    "\n",
    "# basing rule x,y,color\n",
    "plt.plot(x,y,'g-o',label=\"Line1\",linewidth=5)\n",
    "plt.plot(x,y2,'c-o',label=\"Line2\",linewidth=3)\n",
    "style_n = 3\n",
    "plt.style.use(plt.style.available[style_n])\n",
    "    \n",
    "# Label it up\n",
    "plt.title(\"Chart Title, Style = \"+ str(plt.style.available[style_n]))\n",
    "plt.ylabel(\"Y axis label\")\n",
    "plt.xlabel(\"X axis label\")\n",
    "plt.legend()\n",
    "plt.grid()\n",
    "\n",
    "plt.show()"
   ]
  },
  {
   "cell_type": "code",
   "execution_count": 92,
   "metadata": {},
   "outputs": [
    {
     "data": {
      "image/png": "[encoded data removed]",
      "text/plain": [
       "<Figure size 432x288 with 1 Axes>"
      ]
     },
     "metadata": {},
     "output_type": "display_data"
    }
   ],
   "source": [
    "from matplotlib import pyplot as plt\n",
    "\n",
    "plt.scatter(x,y2,color='c')\n",
    "plt.scatter(x,y,color=\"b\")\n",
    "    \n",
    "# Label it up\n",
    "plt.title(\"Scatter Chart Title, Style = \"+ str(plt.style.available[style_n]))\n",
    "plt.ylabel(\"Y axis label\")\n",
    "plt.xlabel(\"X axis label\")\n",
    "\n",
    "plt.show()"
   ]
  },
  {
   "cell_type": "code",
   "execution_count": 93,
   "metadata": {},
   "outputs": [
    {
     "data": {
      "image/png": "[encoded data removed]",
      "text/plain": [
       "<Figure size 432x288 with 1 Axes>"
      ]
     },
     "metadata": {},
     "output_type": "display_data"
    }
   ],
   "source": [
    "from matplotlib import pyplot as plt\n",
    "\n",
    "# Bar chart\n",
    "plt.bar(x,y2,color='c',width=0.6)\n",
    "\n",
    "# Label it up\n",
    "plt.title(\"Bar Chart Title, Style = \"+ str(plt.style.available[style_n]))\n",
    "plt.ylabel(\"Y axis label\")\n",
    "plt.xlabel(\"X axis label\")\n",
    "\n",
    "plt.show()"
   ]
  },
  {
   "cell_type": "code",
   "execution_count": 95,
   "metadata": {},
   "outputs": [
    {
     "data": {
      "image/png": "[encoded data removed]",
      "text/plain": [
       "<Figure size 432x288 with 1 Axes>"
      ]
     },
     "metadata": {},
     "output_type": "display_data"
    }
   ],
   "source": [
    "from matplotlib import pyplot as plt\n",
    "import pandas as pd\n",
    "\n",
    "df = pd.read_csv('example_csv.csv')\n",
    "\n",
    "# Bar chart\n",
    "plt.scatter(df[\"Number\"]\n",
    "            , df[\"Number2\"]\n",
    "            , color='c')\n",
    "\n",
    "# Label it up\n",
    "plt.title(\"Bar Chart Title, Style = \"+ str(plt.style.available[style_n]))\n",
    "plt.ylabel(\"Y axis label\")\n",
    "plt.xlabel(\"X axis label\")\n",
    "\n",
    "df.head()\n",
    "plt.show()"
   ]
  },
  {
   "cell_type": "markdown",
   "metadata": {},
   "source": [
    "## Logging "
   ]
  },
  {
   "cell_type": "markdown",
   "metadata": {},
   "source": [
    "Error levels:\n",
    "\n",
    " - CRITICAL\t50\n",
    " - ERROR\t40\n",
    " - WARNING\t30\n",
    " - INFO\t20\n",
    " - DEBUG\t10\n",
    " - NOTSET\t0"
   ]
  },
  {
   "cell_type": "code",
   "execution_count": 96,
   "metadata": {},
   "outputs": [],
   "source": [
    "import logging\n",
    "\n",
    "logger = logging.getLogger(name=\"Examplelogger\")\n",
    "logger.setLevel(logging.DEBUG)\n",
    "formatter =  logging.Formatter('%(asctime)s - %(name)s - %(levelname)s - %(message)s')\n",
    "\n",
    "# File handler\n",
    "fh = logging.FileHandler(\"logging.log\")\n",
    "fh.setLevel(logging.DEBUG)\n",
    "fh.setFormatter(formatter)\n",
    "\n",
    "# Stream handler\n",
    "ch = logging.StreamHandler()\n",
    "ch.setLevel(logging.INFO)\n",
    "ch.setFormatter(formatter)\n",
    "\n",
    "logger.addHandler(fh)\n",
    "logger.addHandler(ch)"
   ]
  },
  {
   "cell_type": "code",
   "execution_count": 97,
   "metadata": {},
   "outputs": [],
   "source": [
    "def add(x,y):\n",
    "    logger.info(str(x) + \" added to \" + str(y) + \" to give \"+ str((x+y)))\n",
    "    return x+y\n",
    "\n",
    "def subtract(x,y):\n",
    "    return x-y\n",
    "\n",
    "def division(x,y):\n",
    "    try:\n",
    "        x/y\n",
    "    except Exception as e:\n",
    "        logger.error(e)\n",
    "\n",
    "num1 = 4\n",
    "num2 = 3\n",
    "num3 = 0\n",
    "\n",
    "\n",
    "logger.debug(\"Bespoke message only for file\") # This only writes to log file"
   ]
  },
  {
   "cell_type": "code",
   "execution_count": 98,
   "metadata": {},
   "outputs": [
    {
     "name": "stderr",
     "output_type": "stream",
     "text": [
      "2020-01-26 13:47:30,202 - Examplelogger - INFO - 4 added to 3 to give 7\n"
     ]
    }
   ],
   "source": [
    "add_result = add(num1,num2)"
   ]
  },
  {
   "cell_type": "code",
   "execution_count": 99,
   "metadata": {},
   "outputs": [
    {
     "name": "stderr",
     "output_type": "stream",
     "text": [
      "2020-01-26 13:47:30,742 - Examplelogger - ERROR - division by zero\n"
     ]
    }
   ],
   "source": [
    "divide_result = division(num1,num3)"
   ]
  },
  {
   "cell_type": "markdown",
   "metadata": {},
   "source": [
    "## Sockets"
   ]
  },
  {
   "cell_type": "code",
   "execution_count": 100,
   "metadata": {},
   "outputs": [
    {
     "name": "stdout",
     "output_type": "stream",
     "text": [
      "104.237.143.20\n",
      "\n",
      "\n",
      "<!DOCTYPE html PUBLIC \"-//W3C//DTD XHTML 1.0 Transitional//EN\" \"http://www.w3.org/TR/xhtml1/DTD/xhtml1-transitional.dtd\">\n",
      "<html xmlns=\"http://www.w3.org/1999/xhtml\">\n",
      "  <!--\n",
      "    Modified from the Debian original for Ubuntu\n",
      "    Last updated: 2014-03-19\n",
      "    See: https://launchpad.net/bugs/1288690\n",
      "  -->\n",
      "  <head>\n",
      "    <meta http-equiv=\"Content-Type\" content=\"text/html; charset=UTF-8\" />\n",
      "    <title>Apache2 Ubuntu Default Page: It works</title>\n",
      "    <style type=\"text/css\" media=\"screen\">\n",
      "  * {\n",
      "    margi\n"
     ]
    }
   ],
   "source": [
    "import socket\n",
    "s = socket.socket(socket.AF_INET, socket.SOCK_STREAM)\n",
    "server = 'pythonprogramming.net'\n",
    "port = 80\n",
    "\n",
    "server_ip = socket.gethostbyname(server)\n",
    "\n",
    "print(server_ip)\n",
    "\n",
    "request = \"GET\\nHost: \"+server+\"\\n\\n\"\n",
    "\n",
    "s.connect((server,port))\n",
    "s.send(request.encode())\n",
    "result = s.recv(4096)\n",
    "\n",
    "print()\n",
    "print(result.decode()[:500])"
   ]
  },
  {
   "cell_type": "code",
   "execution_count": 105,
   "metadata": {},
   "outputs": [
    {
     "name": "stdout",
     "output_type": "stream",
     "text": [
      "What website to scan?: \n",
      "Port 1 not open\n",
      "Port 2 not open\n",
      "Port 3 not open\n",
      "Port 4 not open\n",
      "Port 5 not open\n",
      "Port 6 not open\n",
      "Port 7 not open\n",
      "Port 8 not open\n",
      "Port 9 not open\n",
      "Port 10 not open\n",
      "Port 11 not open\n",
      "Port 12 not open\n",
      "Port 13 not open\n",
      "Port 14 not open\n",
      "Port 15 not open\n",
      "Port 16 not open\n",
      "Port 17 not open\n",
      "Port 18 not open\n",
      "Port 19 not open\n",
      "Port 20 not open\n",
      "Port 21 not open\n",
      "Port 22 not open\n",
      "Port 23 not open\n",
      "Port 24 not open\n",
      "Port 25 not open\n"
     ]
    }
   ],
   "source": [
    "import socket\n",
    "\n",
    "s = socket.socket(socket.AF_INET, socket.SOCK_STREAM)\n",
    "\n",
    "target = input('What website to scan?: ')\n",
    "# programming.net\n",
    "\n",
    "def pscan(port):\n",
    "    try:\n",
    "        con = s.connect((target,port))\n",
    "        return True\n",
    "    except:\n",
    "        return False\n",
    "\n",
    "\n",
    "for x in range(1,26):\n",
    "    if pscan(x):\n",
    "        print('Port',x,'is open') \n",
    "    else:\n",
    "        print('Port',x,\"not open\")\n"
   ]
  },
  {
   "cell_type": "markdown",
   "metadata": {},
   "source": [
    "## Serialisation"
   ]
  },
  {
   "cell_type": "code",
   "execution_count": 106,
   "metadata": {},
   "outputs": [
    {
     "name": "stdout",
     "output_type": "stream",
     "text": [
      "4\n"
     ]
    }
   ],
   "source": [
    "import pickle\n",
    "\n",
    "example_dict = {1:\"6\",2:\"4\",3:\"%\"}\n",
    "with open(\"example_dict.pickle\",'wb') as pickle_out:\n",
    "    pickle.dump(example_dict,pickle_out)\n",
    "with open(\"example_dict.pickle\",'rb') as pickle_in:\n",
    "    example_dict_in = pickle.load(pickle_in)\n",
    "\n",
    "print(example_dict_in[2])"
   ]
  },
  {
   "cell_type": "markdown",
   "metadata": {},
   "source": [
    "##  Eval"
   ]
  },
  {
   "cell_type": "code",
   "execution_count": 107,
   "metadata": {},
   "outputs": [
    {
     "name": "stdout",
     "output_type": "stream",
     "text": [
      "hello, this is how to evaluate expressions\n"
     ]
    }
   ],
   "source": [
    "string_list = \"[1,2,'hello, this is how to evaluate expressions']\"\n",
    "list_object = eval(string_list)\n",
    "print(list_object[2])"
   ]
  },
  {
   "cell_type": "code",
   "execution_count": 108,
   "metadata": {},
   "outputs": [
    {
     "name": "stdout",
     "output_type": "stream",
     "text": [
      "True\n"
     ]
    }
   ],
   "source": [
    "print(eval(\"5<10\"))"
   ]
  },
  {
   "cell_type": "markdown",
   "metadata": {},
   "source": [
    "## Exec"
   ]
  },
  {
   "cell_type": "code",
   "execution_count": 109,
   "metadata": {},
   "outputs": [
    {
     "name": "stdout",
     "output_type": "stream",
     "text": [
      "Ha Ha Ha Ha Ha Ha Ha Ha Ha Ha \n"
     ]
    }
   ],
   "source": [
    "exec(\"def simon(x): return x*10\")\n",
    "# exec complies and evaluates and executes the string\n",
    "\n",
    "print(simon(\"Ha \"))"
   ]
  },
  {
   "cell_type": "markdown",
   "metadata": {},
   "source": [
    "## Apply funcion on list elements"
   ]
  },
  {
   "cell_type": "code",
   "execution_count": 110,
   "metadata": {},
   "outputs": [
    {
     "data": {
      "text/plain": [
       "[1, 2, 2, 1]"
      ]
     },
     "execution_count": 110,
     "metadata": {},
     "output_type": "execute_result"
    }
   ],
   "source": [
    "# Never forget to map\n",
    "s =[1,2,2,3]\n",
    "list(map(lambda x:(s.count(x)),s))"
   ]
  },
  {
   "cell_type": "markdown",
   "metadata": {},
   "source": [
    "## Find maximum sub string sum "
   ]
  },
  {
   "cell_type": "code",
   "execution_count": 111,
   "metadata": {},
   "outputs": [
    {
     "data": {
      "text/plain": [
       "9"
      ]
     },
     "execution_count": 111,
     "metadata": {},
     "output_type": "execute_result"
    }
   ],
   "source": [
    "def maxSequence(arr):\n",
    "    max_sum = 0\n",
    "    i_max = j_max = 0\n",
    "    for i in range(len(arr)):\n",
    "        for j in range(i+1,len(arr)+1):\n",
    "            s = sum(arr[i:j])\n",
    "            if s > max_sum:\n",
    "                i_max = i\n",
    "                j_max = j\n",
    "                max_sum = s\n",
    "    return max(sum(arr[i_max:j_max]),0)\n",
    "\n",
    "\n",
    "\n",
    "arr = [1,-2,2,3,4,-3,1]\n",
    "maxSequence(arr)"
   ]
  },
  {
   "cell_type": "markdown",
   "metadata": {},
   "source": [
    "## Pig english "
   ]
  },
  {
   "cell_type": "code",
   "execution_count": 112,
   "metadata": {},
   "outputs": [
    {
     "data": {
      "text/plain": [
       "'imonsay asway oay erehay !'"
      ]
     },
     "execution_count": 112,
     "metadata": {},
     "output_type": "execute_result"
    }
   ],
   "source": [
    "import string\n",
    "def pig_it(text):\n",
    "    return \" \".join([word[1:] + word[:1] + \"ay\"  if word not in string.punctuation else word for word in text.split()])\n",
    "\n",
    "pig_it(\"simon was o here !\")"
   ]
  },
  {
   "cell_type": "code",
   "execution_count": 113,
   "metadata": {},
   "outputs": [
    {
     "data": {
      "text/plain": [
       "'!\"#$%&\\'()*+,-./:;<=>?@[\\\\]^_`{|}~'"
      ]
     },
     "execution_count": 113,
     "metadata": {},
     "output_type": "execute_result"
    }
   ],
   "source": [
    "string.punctuation"
   ]
  },
  {
   "cell_type": "markdown",
   "metadata": {},
   "source": [
    "## Check alpha numeric "
   ]
  },
  {
   "cell_type": "code",
   "execution_count": 114,
   "metadata": {},
   "outputs": [
    {
     "data": {
      "text/plain": [
       "False"
      ]
     },
     "execution_count": 114,
     "metadata": {},
     "output_type": "execute_result"
    }
   ],
   "source": [
    "\"23l4uyv2.35v324\".isalnum()"
   ]
  },
  {
   "cell_type": "markdown",
   "metadata": {},
   "source": [
    "## Finding list peaks"
   ]
  },
  {
   "cell_type": "code",
   "execution_count": 115,
   "metadata": {},
   "outputs": [],
   "source": [
    "def pick_peaks(arr):\n",
    "    peak = [False]+[arr[i-1]<arr[i]>=arr[i+1] if not all(arr[i]==arr[t] for t in range(i+1,len(arr))) else False for i in range(1,len(arr)-1)]+[False]\n",
    "    return {'pos': [x for x in range(len(peak)) if peak[x]],\n",
    "            'peaks': [arr[x] for x in range(len(peak)) if peak[x]]}"
   ]
  },
  {
   "cell_type": "code",
   "execution_count": 116,
   "metadata": {},
   "outputs": [
    {
     "data": {
      "text/plain": [
       "{'pos': [3, 7], 'peaks': [6, 3]}"
      ]
     },
     "execution_count": 116,
     "metadata": {},
     "output_type": "execute_result"
    }
   ],
   "source": [
    "test = [3, 2, 3, 6, 4, 1, 2, 3, 2, 1, 2, 3]\n",
    "peak = pick_peaks(test)\n",
    "# [x for x in range(len(peak)) if peak[x]]\n",
    "peak"
   ]
  },
  {
   "cell_type": "code",
   "execution_count": 117,
   "metadata": {},
   "outputs": [
    {
     "data": {
      "text/plain": [
       "{'pos': [2], 'peaks': [3]}"
      ]
     },
     "execution_count": 117,
     "metadata": {},
     "output_type": "execute_result"
    }
   ],
   "source": [
    "pick_peaks([2,1,3,1,2,2,2,2])"
   ]
  },
  {
   "cell_type": "markdown",
   "metadata": {},
   "source": [
    "## ast -  parsing python files and regexp (re)"
   ]
  },
  {
   "cell_type": "code",
   "execution_count": 118,
   "metadata": {},
   "outputs": [],
   "source": [
    "import ast\n",
    "DEMO = '''\n",
    "\"\"\"\n",
    "Section:\n",
    "    flask\n",
    "\n",
    "Author:\n",
    "    Simon Ward-Jones\n",
    "\n",
    "Description:\n",
    "    An example route definition module\n",
    "    \n",
    "Tags:\n",
    "    simon, was, here ,2k18\n",
    "    \n",
    "\"\"\"\n",
    "\n",
    "from flask import Blueprint, jsonify, current_app, redirect, \\\n",
    "    render_template, request, url_for\n",
    "from .model import Recipe, db\n",
    "from flask_wtf import FlaskForm\n",
    "from wtforms import StringField\n",
    "from wtforms.validators import InputRequired\n",
    "\n",
    "\n",
    "crud = Blueprint('crud', __name__)\n",
    "\n",
    "\n",
    "@crud.route(\"/\", methods=['GET', 'POST'])\n",
    "def list():\n",
    "    \"\"\"this should remain\"\"\"\n",
    "    recipes = Recipe.query.all()\n",
    "    next_page_token = None\n",
    "    form = SearchForm()\n",
    "    if request.method == 'POST':\n",
    "        if form.validate():\n",
    "            print('Search Hit',request.method, form.query.data)\n",
    "            recipes = Recipe.query.whoosh_search(form.query.data).all()\n",
    "            render_template(\"list.html\", recipes=recipes, \n",
    "                            next_page_token=next_page_token, form=form)\n",
    "        else:\n",
    "            return render_template(\"list.html\", recipes=recipes, \n",
    "                                   next_page_token=next_page_token, form=form)\n",
    "\n",
    "\n",
    "    return render_template(\n",
    "        \"list.html\",\n",
    "        recipes=recipes,\n",
    "        next_page_token=next_page_token,\n",
    "        form=form)\n",
    "\n",
    "\n",
    "@crud.route('/<id>')\n",
    "def snippet(id):\n",
    "    recipe = Recipe.query.get(id)\n",
    "    return render_template(\"view.html\", recipe=recipe, form=SearchForm())\n",
    "\n",
    "\n",
    "@crud.route('/<id>/data')\n",
    "def snippet2(id):\n",
    "    recipe = Recipe.query.get(id)\n",
    "\n",
    "    return jsonify({'title': recipe.title,\n",
    "                    'author':recipe.author,\n",
    "                    'snippet':recipe.snippet})\n",
    "\n",
    "    # form = SearchForm()\n",
    "    # next_page_token = None\n",
    "    # recipes = Recipe.query.whoosh_search(query)\n",
    "    # return render_template(\"list.html\",recipes=recipes,next_page_token=next_page_token)\n",
    "\n",
    "\n",
    "class SearchForm(FlaskForm):\n",
    "    query = StringField('Search',validators=[InputRequired()])\n",
    "\n",
    "'''\n",
    "\n",
    "mod = ast.parse(DEMO)"
   ]
  },
  {
   "cell_type": "code",
   "execution_count": 119,
   "metadata": {},
   "outputs": [
    {
     "name": "stdout",
     "output_type": "stream",
     "text": [
      "['An example route definition module']\n",
      "['Simon Ward-Jones']\n",
      "['simon', 'was', 'here', '2k18']\n"
     ]
    }
   ],
   "source": [
    "import re\n",
    "doc = ast.get_docstring(mod)\n",
    "if doc:\n",
    "    # First get tags\n",
    "    tag_results = re.findall(r\"tags:[\\t\\s\\n]+(.*?)(?:\\n\\s*\\n|\\Z)\",doc, re.IGNORECASE | re.DOTALL)\n",
    "    if tag_results:\n",
    "        tags = [x.lower().strip() for x in re.split('\\n|,',tag_results[0].strip())]\n",
    "    \n",
    "    # Now the Description\n",
    "    description = re.findall(r\"description:[\\t\\s\\n]+(.*?)(?:\\n\\s*\\n|\\Z)\",doc, re.IGNORECASE | re.DOTALL)\n",
    "    \n",
    "    author = re.findall(r\"author:[\\t\\s\\n]+(.*?)(?:\\n\\s*\\n|\\Z)\",doc, re.IGNORECASE | re.DOTALL)\n",
    "    \n",
    "    print(description)\n",
    "    print(author)\n",
    "    print(tags)"
   ]
  },
  {
   "cell_type": "code",
   "execution_count": 120,
   "metadata": {},
   "outputs": [
    {
     "name": "stdout",
     "output_type": "stream",
     "text": [
      "from flask import Blueprint, jsonify, current_app, redirect,     render_template, request, url_for\n",
      "from .model import Recipe, db\n",
      "from flask_wtf import FlaskForm\n",
      "from wtforms import StringField\n",
      "from wtforms.validators import InputRequired\n",
      "\n",
      "\n",
      "crud = Blueprint('crud', __name__)\n",
      "\n",
      "\n",
      "@crud.route(\"/\", methods=['GET', 'POST'])\n",
      "def list():\n",
      "    \"\"\"this should remain\"\"\"\n",
      "    recipes = Recipe.query.all()\n",
      "    next_page_token = None\n",
      "    form = SearchForm()\n",
      "    if request.method == 'POST':\n",
      "        if form.validat\n"
     ]
    }
   ],
   "source": [
    "print(re.sub('\"\"\"', \"\", DEMO.replace(doc,\"\"), 2).strip()[:500])"
   ]
  },
  {
   "cell_type": "markdown",
   "metadata": {},
   "source": [
    "## urllib"
   ]
  },
  {
   "cell_type": "markdown",
   "metadata": {},
   "source": [
    "Four key things\n",
    "    1. urlsplit (split url into 4 peices)\n",
    "    2. urlunsplit (undoes split works on a list)\n",
    "    3. urlencode (encodes pairs, works on dict or list of pairs)\n",
    "    4. parse_qs or parse_qsl (splis query string into pairs)"
   ]
  },
  {
   "cell_type": "code",
   "execution_count": 121,
   "metadata": {},
   "outputs": [
    {
     "data": {
      "text/plain": [
       "'https://www.google.co.uk/search?q=%22search+example%22&oq=%22search+example%22&aqs=chrome..69i57j0l5.5927j0j7&sourceid=chrome&ie=UTF-8'"
      ]
     },
     "execution_count": 121,
     "metadata": {},
     "output_type": "execute_result"
    }
   ],
   "source": [
    "import urllib\n",
    "url = \"https://www.google.co.uk/search?q=%22search+example%22&oq=%22search+example%22&aqs=chrome..69i57j0l5.5927j0j7&sourceid=chrome&ie=UTF-8\"\n",
    "url"
   ]
  },
  {
   "cell_type": "code",
   "execution_count": 122,
   "metadata": {},
   "outputs": [
    {
     "data": {
      "text/plain": [
       "SplitResult(scheme='https', netloc='www.google.co.uk', path='/search', query='q=%22search+example%22&oq=%22search+example%22&aqs=chrome..69i57j0l5.5927j0j7&sourceid=chrome&ie=UTF-8', fragment='')"
      ]
     },
     "execution_count": 122,
     "metadata": {},
     "output_type": "execute_result"
    }
   ],
   "source": [
    "urllib.parse.urlparse(url) # better to use urlsplit\n",
    "split_url = urllib.parse.urlsplit(url)\n",
    "split_url"
   ]
  },
  {
   "cell_type": "markdown",
   "metadata": {},
   "source": [
    "## Beautiful soup"
   ]
  },
  {
   "cell_type": "code",
   "execution_count": 126,
   "metadata": {},
   "outputs": [
    {
     "name": "stdout",
     "output_type": "stream",
     "text": [
      "Collecting bs4\n",
      "  Using cached https://files.pythonhosted.org/packages/10/ed/7e8b97591f6f456174139ec089c769f89a94a1a4025fe967691de971f314/bs4-0.0.1.tar.gz\n",
      "Collecting beautifulsoup4 (from bs4)\n",
      "\u001b[?25l  Downloading https://files.pythonhosted.org/packages/cb/a1/c698cf319e9cfed6b17376281bd0efc6bfc8465698f54170ef60a485ab5d/beautifulsoup4-4.8.2-py3-none-any.whl (106kB)\n",
      "\u001b[K    100% |████████████████████████████████| 112kB 3.6MB/s ta 0:00:01\n",
      "\u001b[?25hCollecting soupsieve>=1.2 (from beautifulsoup4->bs4)\n",
      "  Using cached https://files.pythonhosted.org/packages/81/94/03c0f04471fc245d08d0a99f7946ac228ca98da4fa75796c507f61e688c2/soupsieve-1.9.5-py2.py3-none-any.whl\n",
      "Building wheels for collected packages: bs4\n",
      "  Building wheel for bs4 (setup.py) ... \u001b[?25ldone\n",
      "\u001b[?25h  Stored in directory: /Users/simonward-jones/Library/Caches/pip/wheels/a0/b0/b2/4f80b9456b87abedbc0bf2d52235414c3467d8889be38dd472\n",
      "Successfully built bs4\n",
      "Installing collected packages: soupsieve, beautifulsoup4, bs4\n",
      "Successfully installed beautifulsoup4-4.8.2 bs4-0.0.1 soupsieve-1.9.5\n"
     ]
    }
   ],
   "source": [
    "!pip3 install bs4"
   ]
  },
  {
   "cell_type": "code",
   "execution_count": 127,
   "metadata": {},
   "outputs": [],
   "source": [
    "from bs4 import BeautifulSoup\n",
    "import requests\n",
    "import re\n",
    "headers = {'User-Agent': 'Mozilla/5.0 (Macintosh; Intel Mac OS X 10_12_6) \"\\\n",
    "\"AppleWebKit/537.36 (KHTML, like Gecko) Chrome/63.0.3239.132 Safari/537.36'}\n",
    "page = requests.request(url=url, method=\"get\") #,headers=headers)\n",
    "soup = BeautifulSoup(page.content, 'lxml')\n",
    "       "
   ]
  },
  {
   "cell_type": "code",
   "execution_count": 128,
   "metadata": {},
   "outputs": [
    {
     "data": {
      "text/plain": [
       "<a href=\"/?sa=X&amp;ved=0ahUKEwjjo5KotKHnAhXMbMAKHT3zBLcQOwgC\"><span class=\"V6gwVd\">G</span><span class=\"iWkuvd\">o</span><span class=\"cDrQ7\">o</span><span class=\"V6gwVd\">g</span><span class=\"ntlR9\">l</span><span class=\"iWkuvd tJ3Myc\">e</span></a>"
      ]
     },
     "execution_count": 128,
     "metadata": {},
     "output_type": "execute_result"
    }
   ],
   "source": [
    "soup.body.div.a"
   ]
  },
  {
   "cell_type": "markdown",
   "metadata": {},
   "source": [
    "## Beautiful html "
   ]
  },
  {
   "cell_type": "code",
   "execution_count": 129,
   "metadata": {},
   "outputs": [],
   "source": [
    "soup.find_all('div','g') # find all links\n",
    "for x in soup.find_all('div','g'):\n",
    "    print(urllib.parse.parse_qs(urllib.parse.urlsplit(x.find('a')['href']).query)['q'][0]) ; print()"
   ]
  },
  {
   "cell_type": "markdown",
   "metadata": {},
   "source": [
    "## list methods/attributes "
   ]
  },
  {
   "cell_type": "code",
   "execution_count": 134,
   "metadata": {},
   "outputs": [
    {
     "data": {
      "text/plain": [
       "['__add__',\n",
       " '__class__',\n",
       " '__contains__',\n",
       " '__delattr__',\n",
       " '__delitem__',\n",
       " '__dir__',\n",
       " '__doc__',\n",
       " '__eq__',\n",
       " '__format__',\n",
       " '__ge__']"
      ]
     },
     "execution_count": 134,
     "metadata": {},
     "output_type": "execute_result"
    }
   ],
   "source": [
    "dir(list)[:10]"
   ]
  },
  {
   "cell_type": "markdown",
   "metadata": {},
   "source": [
    "## Reload module "
   ]
  },
  {
   "cell_type": "code",
   "execution_count": 135,
   "metadata": {},
   "outputs": [
    {
     "data": {
      "text/plain": [
       "<module 'imp' from '/usr/local/Cellar/python/3.7.3/Frameworks/Python.framework/Versions/3.7/lib/python3.7/imp.py'>"
      ]
     },
     "execution_count": 135,
     "metadata": {},
     "output_type": "execute_result"
    }
   ],
   "source": [
    "import imp\n",
    "\n",
    "imp.reload(imp)"
   ]
  },
  {
   "cell_type": "markdown",
   "metadata": {},
   "source": [
    "## loop on files "
   ]
  },
  {
   "cell_type": "code",
   "execution_count": 138,
   "metadata": {},
   "outputs": [
    {
     "name": "stdout",
     "output_type": "stream",
     "text": [
      "Collecting tqdm\n",
      "  Using cached https://files.pythonhosted.org/packages/cc/2e/4307206db63f05ed37e21d4c0d843d0fbcacd62479f8ce99ba0f2c0875e0/tqdm-4.42.0-py2.py3-none-any.whl\n",
      "Installing collected packages: tqdm\n",
      "Successfully installed tqdm-4.42.0\n"
     ]
    }
   ],
   "source": [
    "!pip3 install tqdm"
   ]
  },
  {
   "cell_type": "code",
   "execution_count": 139,
   "metadata": {},
   "outputs": [
    {
     "name": "stderr",
     "output_type": "stream",
     "text": [
      "100%|██████████| 15/15 [00:07<00:00,  1.98it/s]\n"
     ]
    }
   ],
   "source": [
    "import tqdm as tqdm\n",
    "# tqdm is a progress bar library\n",
    "import os\n",
    "import time\n",
    "\n",
    "for file in tqdm.tqdm(os.listdir('.')):\n",
    "    # here you might actually want to do more than sleep\n",
    "    time.sleep(0.5)        "
   ]
  },
  {
   "cell_type": "markdown",
   "metadata": {},
   "source": [
    "## Specific file types "
   ]
  },
  {
   "cell_type": "code",
   "execution_count": 140,
   "metadata": {},
   "outputs": [
    {
     "name": "stdout",
     "output_type": "stream",
     "text": [
      "example_module.py\n",
      "learn_pandas.py\n"
     ]
    }
   ],
   "source": [
    "import os\n",
    "for file in os.listdir('.'):\n",
    "    if file.endswith('.py'):\n",
    "        print(file)"
   ]
  },
  {
   "cell_type": "markdown",
   "metadata": {},
   "source": [
    "## map on list "
   ]
  },
  {
   "cell_type": "code",
   "execution_count": 141,
   "metadata": {},
   "outputs": [
    {
     "data": {
      "text/plain": [
       "['dictionary-from-two-lists.py',\n",
       " 'flask-routing.py',\n",
       " 'flask-sqlalchemy-model.py',\n",
       " 'flatten-list-of-lists.py']"
      ]
     },
     "execution_count": 141,
     "metadata": {},
     "output_type": "execute_result"
    }
   ],
   "source": [
    "example_dir_list = ['dictionary_from_two_lists.py',\n",
    "                    'flask_routing.py',\n",
    "                    'flask_sqlalchemy_model.py',\n",
    "                    'flatten_list_of_lists.py']\n",
    "\n",
    "dashed_names = [*map(lambda x: x.replace('_', '-'),\n",
    "                     example_dir_list)]\n",
    "\n",
    "dashed_names"
   ]
  },
  {
   "cell_type": "code",
   "execution_count": 142,
   "metadata": {},
   "outputs": [
    {
     "data": {
      "text/plain": [
       "[0, 1, 4, 9, 16]"
      ]
     },
     "execution_count": 142,
     "metadata": {},
     "output_type": "execute_result"
    }
   ],
   "source": [
    "squares = list(map(lambda x: x * x, [0, 1, 2, 3, 4]))\n",
    "squares"
   ]
  },
  {
   "cell_type": "markdown",
   "metadata": {},
   "source": [
    "## Copy and Paste"
   ]
  },
  {
   "cell_type": "code",
   "execution_count": 147,
   "metadata": {},
   "outputs": [
    {
     "data": {
      "text/plain": [
       "'A wild zebra'"
      ]
     },
     "execution_count": 147,
     "metadata": {},
     "output_type": "execute_result"
    }
   ],
   "source": [
    "import clipboard\n",
    "\n",
    "clipboard.copy('A wild zebra')\n",
    "\n",
    "clipboard.paste()"
   ]
  },
  {
   "cell_type": "markdown",
   "metadata": {},
   "source": [
    "## Check on a subprocess "
   ]
  },
  {
   "cell_type": "code",
   "execution_count": 148,
   "metadata": {},
   "outputs": [],
   "source": [
    "import os\n",
    "import subprocess\n",
    "from subprocess import check_output, run\n",
    "string_to_do =\"sleep 1; echo hello\"\n",
    "out = run(string_to_do,shell=True,stdout=subprocess.PIPE)"
   ]
  },
  {
   "cell_type": "code",
   "execution_count": 149,
   "metadata": {},
   "outputs": [
    {
     "name": "stdout",
     "output_type": "stream",
     "text": [
      "hello\n",
      "\n"
     ]
    }
   ],
   "source": [
    "print(str(out.stdout.decode('utf-8')))"
   ]
  },
  {
   "cell_type": "code",
   "execution_count": 150,
   "metadata": {},
   "outputs": [],
   "source": [
    "import os\n",
    "import subprocess\n",
    "from subprocess import check_output, run\n"
   ]
  },
  {
   "cell_type": "markdown",
   "metadata": {},
   "source": [
    "## list to string"
   ]
  },
  {
   "cell_type": "code",
   "execution_count": 151,
   "metadata": {},
   "outputs": [
    {
     "name": "stdout",
     "output_type": "stream",
     "text": [
      "The,Zebra,has,5,stripes\n",
      "'The','Zebra','has','5','stripes'\n"
     ]
    }
   ],
   "source": [
    "example_list = ['The', 'Zebra', 'has', 5, 'stripes']\n",
    "comma_sep_string = ','.join(map(str, example_list))\n",
    "quote_comma_sep_string = ','.join(f\"'{w}'\" for w in example_list)\n",
    "\n",
    "print(comma_sep_string)\n",
    "# 'The,Zebra,has,5,stripes'\n",
    "\n",
    "print(quote_comma_sep_string)"
   ]
  },
  {
   "cell_type": "markdown",
   "metadata": {},
   "source": [
    "## Threading lock"
   ]
  },
  {
   "cell_type": "markdown",
   "metadata": {},
   "source": [
    "Does the threading lock really lock everything\n",
    "Answer: Yes, to see this use two slow jobs rather than two fast. So the point is use the Lock selectively. i.e. only when updating shared state"
   ]
  },
  {
   "cell_type": "code",
   "execution_count": 152,
   "metadata": {},
   "outputs": [
    {
     "name": "stdout",
     "output_type": "stream",
     "text": [
      "<Thread(Thread-27, started 123145481895936)>\n",
      "<Thread(Thread-26, started 123145487151104)>\n"
     ]
    }
   ],
   "source": [
    "import threading\n",
    "from time import sleep\n",
    "\n",
    "def job(lock):\n",
    "    sleep(1)\n",
    "    with lock:\n",
    "        print(threading.current_thread())\n",
    "\n",
    "def slow_job(lock):\n",
    "    with lock:\n",
    "        sleep(1)\n",
    "        print(threading.current_thread())\n",
    "        \n",
    "def job(lock):\n",
    "    sleep(1)\n",
    "    print(threading.current_thread())\n",
    "\n",
    "def slow_job(lock):\n",
    "    sleep(1)\n",
    "    print(threading.current_thread())\n",
    "\n",
    "\n",
    "lock = threading.Lock()\n",
    "t = threading.Thread(target=job,args=(lock,))\n",
    "t_slow = threading.Thread(target=job,args=(lock,))\n",
    "\n",
    "t_slow.start()\n",
    "t.start()"
   ]
  },
  {
   "cell_type": "markdown",
   "metadata": {},
   "source": [
    "## MetaClasses and object creation"
   ]
  },
  {
   "cell_type": "code",
   "execution_count": 153,
   "metadata": {},
   "outputs": [
    {
     "name": "stdout",
     "output_type": "stream",
     "text": [
      "a.__class__ = <class '__main__.A'>\n",
      "A.__class__ = <class 'type'>\n"
     ]
    }
   ],
   "source": [
    "class A:\n",
    "    pass\n",
    "\n",
    "a = A()\n",
    "\n",
    "print(f'a.__class__ = {a.__class__}')\n",
    "print(f'A.__class__ = {A.__class__}')"
   ]
  },
  {
   "cell_type": "code",
   "execution_count": 154,
   "metadata": {},
   "outputs": [
    {
     "name": "stdout",
     "output_type": "stream",
     "text": [
      "a.__class__ = <class '__main__.A'>\n",
      "A.__class__ = <class 'type'>\n"
     ]
    }
   ],
   "source": [
    "# what just happened? well the same thing here:\n",
    "# we created and object subclass using the metaclass type!\n",
    "\n",
    "class A(object, metaclass=type):\n",
    "    pass\n",
    "\n",
    "a = A()\n",
    "\n",
    "print(f'a.__class__ = {a.__class__}')\n",
    "print(f'A.__class__ = {A.__class__}')"
   ]
  },
  {
   "cell_type": "code",
   "execution_count": 155,
   "metadata": {},
   "outputs": [],
   "source": [
    "# class statement actually calls __call__ on the meta-meta class which in tern calls"
   ]
  },
  {
   "cell_type": "code",
   "execution_count": 156,
   "metadata": {},
   "outputs": [
    {
     "name": "stdout",
     "output_type": "stream",
     "text": [
      "a.__class__ = <class '__main__.A'>\n",
      "A.__class__ = <class 'type'>\n"
     ]
    }
   ],
   "source": [
    "A = type('A',(),{})\n",
    "a = A()\n",
    "\n",
    "print(f'a.__class__ = {a.__class__}')\n",
    "print(f'A.__class__ = {A.__class__}')"
   ]
  },
  {
   "cell_type": "code",
   "execution_count": 157,
   "metadata": {},
   "outputs": [],
   "source": [
    "# ok lets change the class we inherit from and the meta class one by one"
   ]
  },
  {
   "cell_type": "code",
   "execution_count": 158,
   "metadata": {},
   "outputs": [
    {
     "name": "stdout",
     "output_type": "stream",
     "text": [
      "new ChattyObject instance\n",
      "initialise ChattyObject instance with args and kwargs (1,) {'s': 3}\n",
      "\n",
      "chattyobject called\n"
     ]
    }
   ],
   "source": [
    "class ChattyObject(object):\n",
    "    a=1\n",
    "    def __init__(self,*args,**kwargs):\n",
    "        print('initialise ChattyObject instance with args and kwargs',args,kwargs)\n",
    "        super().__init__()\n",
    "    def __new__(cls, *args, **kwargs):\n",
    "        print('new ChattyObject instance')\n",
    "        return super().__new__(cls)\n",
    "    def __call__(self):\n",
    "        print('chattyobject called')\n",
    "\n",
    "c = ChattyObject(1,s=3)\n",
    "print()\n",
    "c()"
   ]
  },
  {
   "cell_type": "code",
   "execution_count": 159,
   "metadata": {},
   "outputs": [
    {
     "name": "stdout",
     "output_type": "stream",
     "text": [
      "new ChattyObject instance\n",
      "initialise ChattyObject instance with args and kwargs () {}\n",
      "a.__class__ = <class '__main__.A'>\n",
      "A.__class__ = <class 'type'>\n"
     ]
    }
   ],
   "source": [
    "class A(ChattyObject, metaclass=type):\n",
    "    pass\n",
    "\n",
    "a = A()\n",
    "\n",
    "print(f'a.__class__ = {a.__class__}')\n",
    "print(f'A.__class__ = {A.__class__}')"
   ]
  },
  {
   "cell_type": "code",
   "execution_count": 160,
   "metadata": {},
   "outputs": [],
   "source": [
    "object.__prepare__?"
   ]
  },
  {
   "cell_type": "code",
   "execution_count": 161,
   "metadata": {},
   "outputs": [],
   "source": [
    "class ChattyType(type):\n",
    "    def __prepare__(owner_name, bases):\n",
    "        print('preparing',owner_name, bases)\n",
    "        namespace = {}\n",
    "        return namespace\n",
    "    def __new__(cls, name, bases, namespace):\n",
    "        print('making new class Chatty (note this is an object!) in chatty type with params',name,bases,namespace)\n",
    "        return super().__new__(cls,name,bases,namespace)\n",
    "    def __init__(cls,name,bases,namespace):\n",
    "        print('initialising class object in chatty type',name,bases,namespace)\n",
    "        return super().__init__(name,bases,namespace)\n",
    "    def __call__(cls,*args,**kwargs):\n",
    "        print(f'Calling using __call__ in Chatty type')\n",
    "        return super().__call__(*args,**kwargs)"
   ]
  },
  {
   "cell_type": "code",
   "execution_count": 162,
   "metadata": {},
   "outputs": [
    {
     "name": "stdout",
     "output_type": "stream",
     "text": [
      "preparing A (<class '__main__.ChattyObject'>,)\n",
      "making new class Chatty (note this is an object!) in chatty type with params A (<class '__main__.ChattyObject'>,) {'__module__': '__main__', '__qualname__': 'A'}\n",
      "initialising class object in chatty type A (<class '__main__.ChattyObject'>,) {'__module__': '__main__', '__qualname__': 'A'}\n",
      "\n",
      "Calling using __call__ in Chatty type\n",
      "new ChattyObject instance\n",
      "initialise ChattyObject instance with args and kwargs () {}\n",
      "\n",
      "a.__class__ = <class '__main__.A'>\n",
      "A.__class__ = <class '__main__.ChattyType'>\n"
     ]
    }
   ],
   "source": [
    "class A(ChattyObject, metaclass=ChattyType):\n",
    "    pass\n",
    "\n",
    "print()\n",
    "\n",
    "a = A()\n",
    "\n",
    "print()\n",
    "\n",
    "print(f'a.__class__ = {a.__class__}')\n",
    "print(f'A.__class__ = {A.__class__}')"
   ]
  },
  {
   "cell_type": "code",
   "execution_count": 163,
   "metadata": {},
   "outputs": [],
   "source": [
    "# so we can see the class creatinon uses the method new and init from the metaclass (which is usually type)"
   ]
  },
  {
   "cell_type": "code",
   "execution_count": 164,
   "metadata": {},
   "outputs": [],
   "source": [
    "# to complete the story fully new and init methods (defined in the metaclass)\n",
    "# are acutally called from the meta-class of the metaclass i.e. the meta-metaclass \n",
    "# defined in the __call__ method"
   ]
  },
  {
   "cell_type": "code",
   "execution_count": 165,
   "metadata": {},
   "outputs": [],
   "source": [
    "# note __call__ is an instance method"
   ]
  },
  {
   "cell_type": "code",
   "execution_count": 166,
   "metadata": {},
   "outputs": [
    {
     "name": "stdout",
     "output_type": "stream",
     "text": [
      "preparing ChattyTypeDouble (<class 'type'>,)\n",
      "making new class Chatty (note this is an object!) in chatty type with params ChattyTypeDouble (<class 'type'>,) {'__module__': '__main__', '__qualname__': 'ChattyTypeDouble', '__prepare__': <function ChattyTypeDouble.__prepare__ at 0x118cf69d8>, '__new__': <function ChattyTypeDouble.__new__ at 0x118cf6950>, '__init__': <function ChattyTypeDouble.__init__ at 0x118cf68c8>, '__call__': <function ChattyTypeDouble.__call__ at 0x118cf6d08>, '__classcell__': <cell at 0x118cfcbb8: empty>}\n",
      "initialising class object in chatty type ChattyTypeDouble (<class 'type'>,) {'__module__': '__main__', '__qualname__': 'ChattyTypeDouble', '__prepare__': <function ChattyTypeDouble.__prepare__ at 0x118cf69d8>, '__new__': <function ChattyTypeDouble.__new__ at 0x118cf6950>, '__init__': <function ChattyTypeDouble.__init__ at 0x118cf68c8>, '__call__': <function ChattyTypeDouble.__call__ at 0x118cf6d08>, '__classcell__': <cell at 0x118cfcbb8: ChattyType object at 0x7fd7feda7758>}\n"
     ]
    }
   ],
   "source": [
    "class ChattyTypeDouble(type,metaclass=ChattyType):\n",
    "    def __prepare__(owner_name, bases):\n",
    "        print('preparing ',owner_name, bases)\n",
    "        namespace = {}\n",
    "        return namespace\n",
    "    def __new__(cls, name, bases, dict):\n",
    "        print('making new class Chatty (note this is an object!) in chatty type with params',name,bases,dict)\n",
    "        return super().__new__(cls,name,bases,dict)\n",
    "    def __init__(cls,name,bases,dict):\n",
    "        print('initialising class object in chatty type',name,bases,dict)\n",
    "        return super().__init__(name,bases,dict)\n",
    "    def __call__(cls,*args,**kwargs):\n",
    "        print(f'Calling using __call__ in Chatty typeDouble')\n",
    "        return super().__call__(*args,**kwargs)"
   ]
  },
  {
   "cell_type": "code",
   "execution_count": 167,
   "metadata": {},
   "outputs": [
    {
     "name": "stdout",
     "output_type": "stream",
     "text": [
      "preparing  A (<class '__main__.ChattyObject'>,)\n",
      "Calling using __call__ in Chatty type\n",
      "making new class Chatty (note this is an object!) in chatty type with params A (<class '__main__.ChattyObject'>,) {'__module__': '__main__', '__qualname__': 'A', 'a': 1}\n",
      "initialising class object in chatty type A (<class '__main__.ChattyObject'>,) {'__module__': '__main__', '__qualname__': 'A', 'a': 1}\n",
      "\n",
      "Calling using __call__ in Chatty typeDouble\n",
      "new ChattyObject instance\n",
      "initialise ChattyObject instance with args and kwargs () {}\n",
      "\n",
      "a.__class__ = <class '__main__.A'>\n",
      "A.__class__ = <class '__main__.ChattyTypeDouble'>\n"
     ]
    }
   ],
   "source": [
    "class A(ChattyObject, metaclass=ChattyTypeDouble):\n",
    "    a=1\n",
    "\n",
    "print()\n",
    "\n",
    "a = A()\n",
    "\n",
    "print()\n",
    "\n",
    "print(f'a.__class__ = {a.__class__}')\n",
    "print(f'A.__class__ = {A.__class__}')"
   ]
  },
  {
   "cell_type": "code",
   "execution_count": 168,
   "metadata": {},
   "outputs": [
    {
     "name": "stdout",
     "output_type": "stream",
     "text": [
      "ExampleName (<class 'object'>,) {'__module__': '__main__', '__qualname__': 'ExampleName', 'foo': 2}\n"
     ]
    }
   ],
   "source": [
    "# It may be easier to think that the class statement simply calls the metaclass with the params from \n",
    "class ExampleName(object, metaclass=print):\n",
    "    foo = 2"
   ]
  },
  {
   "cell_type": "markdown",
   "metadata": {},
   "source": [
    "## Properties"
   ]
  },
  {
   "cell_type": "code",
   "execution_count": 169,
   "metadata": {},
   "outputs": [],
   "source": [
    "class Celsius:\n",
    "    def __init__(self, temperature = 0):\n",
    "        self.temperature = temperature\n",
    "\n",
    "    def to_fahrenheit(self):\n",
    "        return (self.temperature * 1.8) + 32\n",
    "\n",
    "    def get_temperature(self):\n",
    "        print(\"Getting value\")\n",
    "        return self._temperature\n",
    "\n",
    "    def set_temperature(self, value):\n",
    "        if value < -273:\n",
    "            raise ValueError(\"Temperature below -273 is not possible\")\n",
    "        print(\"Setting value\")\n",
    "        self._temperature = value\n",
    "\n",
    "    temperature = property(get_temperature, set_temperature)"
   ]
  },
  {
   "cell_type": "code",
   "execution_count": 170,
   "metadata": {},
   "outputs": [
    {
     "data": {
      "text/plain": [
       "type"
      ]
     },
     "execution_count": 170,
     "metadata": {},
     "output_type": "execute_result"
    }
   ],
   "source": [
    "class A(type):\n",
    "    pass\n",
    "class B(metaclass=A):\n",
    "    c = property(lambda x: print('hi'))\n",
    "b=B()\n",
    "b.__class__.__class__.__class__"
   ]
  },
  {
   "cell_type": "code",
   "execution_count": 171,
   "metadata": {},
   "outputs": [
    {
     "name": "stdout",
     "output_type": "stream",
     "text": [
      "hi\n"
     ]
    }
   ],
   "source": [
    "b.c"
   ]
  },
  {
   "cell_type": "code",
   "execution_count": 172,
   "metadata": {},
   "outputs": [
    {
     "ename": "AttributeError",
     "evalue": "'B' object has no attribute 'd'",
     "output_type": "error",
     "traceback": [
      "\u001b[0;31m---------------------------------------------------------------------------\u001b[0m",
      "\u001b[0;31mAttributeError\u001b[0m                            Traceback (most recent call last)",
      "\u001b[0;32m<ipython-input-172-5f3823c3dab6>\u001b[0m in \u001b[0;36m<module>\u001b[0;34m\u001b[0m\n\u001b[0;32m----> 1\u001b[0;31m \u001b[0mb\u001b[0m\u001b[0;34m.\u001b[0m\u001b[0md\u001b[0m\u001b[0;34m\u001b[0m\u001b[0;34m\u001b[0m\u001b[0m\n\u001b[0m",
      "\u001b[0;31mAttributeError\u001b[0m: 'B' object has no attribute 'd'"
     ]
    }
   ],
   "source": [
    "b.d"
   ]
  },
  {
   "cell_type": "code",
   "execution_count": 173,
   "metadata": {},
   "outputs": [],
   "source": [
    "import datetime\n",
    "import pytz"
   ]
  },
  {
   "cell_type": "code",
   "execution_count": 174,
   "metadata": {},
   "outputs": [],
   "source": [
    "class Api():\n",
    "    \"\"\"Class demonstrating time check\"\"\"\n",
    "    data = None\n",
    "    \n",
    "    def __init__(self):\n",
    "        \"\"\"init and set time to utcnow\"\"\"\n",
    "        self.authorise()\n",
    "    \n",
    "    def authorise(self):\n",
    "        self.auth_time = datetime.datetime.now(tz=pytz.utc)\n",
    "        self.auth = 'this expires in 2 seconds'\n",
    "        \n",
    "    def auth_valid(self):\n",
    "        \"\"\"Check if the auth_time is valid\"\"\"\n",
    "        return (self.auth_time <= \n",
    "                    datetime.datetime.now(tz=pytz.utc) <=\n",
    "                    self.auth_time + datetime.timedelta(seconds=2))\n",
    "    \n",
    "    def get_data(self, a):\n",
    "        if self.auth_valid():\n",
    "            print('valid data updated')\n",
    "            self.data = 'updated'\n",
    "            return\n",
    "        print('Not valid')\n",
    "\n",
    "        "
   ]
  },
  {
   "cell_type": "code",
   "execution_count": 175,
   "metadata": {},
   "outputs": [],
   "source": [
    "import datetime"
   ]
  },
  {
   "cell_type": "code",
   "execution_count": 176,
   "metadata": {},
   "outputs": [
    {
     "data": {
      "text/plain": [
       "datetime.datetime(1970, 1, 1, 1, 0)"
      ]
     },
     "execution_count": 176,
     "metadata": {},
     "output_type": "execute_result"
    }
   ],
   "source": [
    "datetime.datetime.fromtimestamp(0)"
   ]
  },
  {
   "cell_type": "code",
   "execution_count": 177,
   "metadata": {},
   "outputs": [
    {
     "name": "stdout",
     "output_type": "stream",
     "text": [
      "2020-01-26 13:52:50.310816+00:00\n"
     ]
    }
   ],
   "source": [
    "api = Api()\n",
    "print(api.auth_time)"
   ]
  },
  {
   "cell_type": "code",
   "execution_count": 178,
   "metadata": {},
   "outputs": [
    {
     "name": "stdout",
     "output_type": "stream",
     "text": [
      "valid data updated\n"
     ]
    }
   ],
   "source": [
    "api.get_data(a=1)"
   ]
  },
  {
   "cell_type": "code",
   "execution_count": 179,
   "metadata": {},
   "outputs": [
    {
     "name": "stdout",
     "output_type": "stream",
     "text": [
      "valid data updated\n"
     ]
    }
   ],
   "source": [
    "api.authorise()\n",
    "api.get_data(a=1)"
   ]
  },
  {
   "cell_type": "code",
   "execution_count": 180,
   "metadata": {},
   "outputs": [],
   "source": [
    "# Aim implement auth_valid check as a decorator"
   ]
  },
  {
   "cell_type": "code",
   "execution_count": 181,
   "metadata": {},
   "outputs": [],
   "source": [
    "# new API def NOT WORTH THE COMPLEXITY:"
   ]
  },
  {
   "cell_type": "code",
   "execution_count": 182,
   "metadata": {},
   "outputs": [
    {
     "name": "stdout",
     "output_type": "stream",
     "text": [
      "__init__ called with <function Api.get_data at 0x118d19510>\n"
     ]
    }
   ],
   "source": [
    "from functools import partial\n",
    "class Api():\n",
    "\n",
    "    class Auth():\n",
    "        def __init__(self, function):\n",
    "            print(f'__init__ called with {function}')\n",
    "            self.f = function\n",
    "        def __get__(self, instance, owner):\n",
    "            print('__get__ called with:')\n",
    "            print(f'\\tself: {self}',\n",
    "                  f'\\tinstance: {instance}',\n",
    "                  f'\\towner: {owner}',\n",
    "                  sep='\\n')\n",
    "            return partial(self.__call__, instance) \n",
    "        def __call__(self, *args,**kwargs):\n",
    "            print('__call__ made with:',\n",
    "                  f'\\tself: {self}',\n",
    "                  f'\\t*args: {args}',\n",
    "                  f'\\t**kwargs: {kwargs}',\n",
    "                  sep='\\n')\n",
    "            instance = args[0]\n",
    "            if instance.auth_valid():\n",
    "                print('valid data updated')\n",
    "                return self.f(*args,**kwargs)\n",
    "            print('Not valid')\n",
    "\n",
    "        def __repr__(self):\n",
    "            return f'<Auth function={self.f}>'\n",
    "\n",
    "    \"\"\"Class demonstrating time check\"\"\"\n",
    "    data = None\n",
    "    \n",
    "    def __init__(self):\n",
    "        \"\"\"init and set time to utcnow\"\"\"\n",
    "        self.authorise()\n",
    "    \n",
    "    def authorise(self):\n",
    "        self.auth_time = datetime.datetime.now(tz=pytz.utc)\n",
    "        self.auth = 'this expires in 2 seconds'\n",
    "        \n",
    "    def auth_valid(self):\n",
    "        \"\"\"Check if the auth_time is valid\"\"\"\n",
    "        return (self.auth_time <= \n",
    "                    datetime.datetime.now(tz=pytz.utc) <=\n",
    "                    self.auth_time + datetime.timedelta(seconds=2))\n",
    "\n",
    "    def get_data(self, a):\n",
    "        self.data = 'updated'\n",
    "    \n",
    "    get_data = Auth(get_data)\n"
   ]
  },
  {
   "cell_type": "code",
   "execution_count": 183,
   "metadata": {},
   "outputs": [],
   "source": [
    "api = Api()"
   ]
  },
  {
   "cell_type": "code",
   "execution_count": 184,
   "metadata": {},
   "outputs": [
    {
     "name": "stdout",
     "output_type": "stream",
     "text": [
      "__get__ called with:\n",
      "\tself: <Auth function=<function Api.get_data at 0x118d19510>>\n",
      "\tinstance: <__main__.Api object at 0x118d0e860>\n",
      "\towner: <class '__main__.Api'>\n",
      "__call__ made with:\n",
      "\tself: <Auth function=<function Api.get_data at 0x118d19510>>\n",
      "\t*args: (<__main__.Api object at 0x118d0e860>,)\n",
      "\t**kwargs: {'a': 1}\n",
      "valid data updated\n"
     ]
    }
   ],
   "source": [
    "api.get_data(a=1)"
   ]
  },
  {
   "cell_type": "code",
   "execution_count": 185,
   "metadata": {},
   "outputs": [
    {
     "name": "stdout",
     "output_type": "stream",
     "text": [
      "__get__ called with:\n",
      "\tself: <Auth function=<function Api.get_data at 0x118d19510>>\n",
      "\tinstance: <__main__.Api object at 0x118d0e860>\n",
      "\towner: <class '__main__.Api'>\n",
      "__call__ made with:\n",
      "\tself: <Auth function=<function Api.get_data at 0x118d19510>>\n",
      "\t*args: (<__main__.Api object at 0x118d0e860>,)\n",
      "\t**kwargs: {'a': 1}\n",
      "valid data updated\n"
     ]
    }
   ],
   "source": [
    "api.authorise()\n",
    "api.get_data(a=1)"
   ]
  },
  {
   "cell_type": "code",
   "execution_count": 186,
   "metadata": {},
   "outputs": [
    {
     "data": {
      "text/plain": [
       "'updated'"
      ]
     },
     "execution_count": 186,
     "metadata": {},
     "output_type": "execute_result"
    }
   ],
   "source": [
    "api.data"
   ]
  },
  {
   "cell_type": "code",
   "execution_count": 187,
   "metadata": {},
   "outputs": [],
   "source": [
    "class Celsius:\n",
    "    def __init__(self, temperature = 0):\n",
    "        self.temperature = temperature\n",
    "\n",
    "    def to_fahrenheit(self):\n",
    "        return (self.temperature * 1.8) + 32\n",
    "\n",
    "    def get_temperature(self):\n",
    "        print(\"Getting value\")\n",
    "        return self._temperature\n",
    "\n",
    "    def set_temperature(self, value):\n",
    "        if value < -273:\n",
    "            raise ValueError(\"Temperature below -273 is not possible\")\n",
    "        print(\"Setting value\")\n",
    "        self._temperature = value\n",
    "    \n",
    "    def delete_temperature(self):\n",
    "        print('deleted')\n",
    "        self._temperature = 0\n",
    "\n",
    "    temperature = property(get_temperature, set_temperature, delete_temperature, doc=\"lol\")"
   ]
  },
  {
   "cell_type": "code",
   "execution_count": 188,
   "metadata": {},
   "outputs": [
    {
     "name": "stdout",
     "output_type": "stream",
     "text": [
      "Setting value\n"
     ]
    }
   ],
   "source": [
    "room_temp = Celsius()"
   ]
  },
  {
   "cell_type": "code",
   "execution_count": 189,
   "metadata": {},
   "outputs": [
    {
     "name": "stdout",
     "output_type": "stream",
     "text": [
      "deleted\n"
     ]
    }
   ],
   "source": [
    "del room_temp.temperature"
   ]
  },
  {
   "cell_type": "code",
   "execution_count": 190,
   "metadata": {},
   "outputs": [
    {
     "name": "stdout",
     "output_type": "stream",
     "text": [
      "Setting value\n"
     ]
    }
   ],
   "source": [
    "room_temp.temperature = 5"
   ]
  },
  {
   "cell_type": "code",
   "execution_count": 191,
   "metadata": {},
   "outputs": [
    {
     "data": {
      "text/plain": [
       "property"
      ]
     },
     "execution_count": 191,
     "metadata": {},
     "output_type": "execute_result"
    }
   ],
   "source": [
    "Celsius.temperature.__class__"
   ]
  },
  {
   "cell_type": "code",
   "execution_count": 192,
   "metadata": {},
   "outputs": [
    {
     "name": "stdout",
     "output_type": "stream",
     "text": [
      "Getting value\n"
     ]
    },
    {
     "data": {
      "text/plain": [
       "5"
      ]
     },
     "execution_count": 192,
     "metadata": {},
     "output_type": "execute_result"
    }
   ],
   "source": [
    "type(room_temp).__dict__['temperature'].__get__(room_temp,Celsius)"
   ]
  },
  {
   "cell_type": "code",
   "execution_count": 193,
   "metadata": {},
   "outputs": [
    {
     "data": {
      "text/plain": [
       "'lol'"
      ]
     },
     "execution_count": 193,
     "metadata": {},
     "output_type": "execute_result"
    }
   ],
   "source": [
    "Celsius.temperature.__doc__"
   ]
  },
  {
   "cell_type": "code",
   "execution_count": 194,
   "metadata": {},
   "outputs": [
    {
     "name": "stdout",
     "output_type": "stream",
     "text": [
      "deleted\n"
     ]
    }
   ],
   "source": [
    "room_temp.__delattr__('temperature')"
   ]
  },
  {
   "cell_type": "code",
   "execution_count": 195,
   "metadata": {},
   "outputs": [
    {
     "name": "stdout",
     "output_type": "stream",
     "text": [
      "Setting value\n"
     ]
    }
   ],
   "source": [
    "room_temp.temperature =3"
   ]
  },
  {
   "cell_type": "code",
   "execution_count": 196,
   "metadata": {},
   "outputs": [
    {
     "name": "stdout",
     "output_type": "stream",
     "text": [
      "deleted\n"
     ]
    }
   ],
   "source": [
    "type(room_temp).__dict__['temperature'].__delete__(room_temp)"
   ]
  },
  {
   "cell_type": "code",
   "execution_count": 197,
   "metadata": {},
   "outputs": [],
   "source": [
    "a = object()"
   ]
  },
  {
   "cell_type": "code",
   "execution_count": 198,
   "metadata": {},
   "outputs": [
    {
     "name": "stdout",
     "output_type": "stream",
     "text": [
      "deleted\n"
     ]
    }
   ],
   "source": [
    "Celsius.__dict__['temperature'].__delete__(Celsius)"
   ]
  },
  {
   "cell_type": "code",
   "execution_count": 199,
   "metadata": {},
   "outputs": [],
   "source": [
    "Celsius._temperature = 'spag'"
   ]
  },
  {
   "cell_type": "code",
   "execution_count": 200,
   "metadata": {},
   "outputs": [
    {
     "data": {
      "text/plain": [
       "'spag'"
      ]
     },
     "execution_count": 200,
     "metadata": {},
     "output_type": "execute_result"
    }
   ],
   "source": [
    "Celsius._temperature"
   ]
  },
  {
   "cell_type": "code",
   "execution_count": 201,
   "metadata": {},
   "outputs": [],
   "source": [
    "room_temp.__repr__ = lambda : 'lol2'"
   ]
  },
  {
   "cell_type": "code",
   "execution_count": 202,
   "metadata": {},
   "outputs": [],
   "source": [
    "Celsius.__repr__ = lambda self : 'lol'"
   ]
  },
  {
   "cell_type": "code",
   "execution_count": 203,
   "metadata": {},
   "outputs": [
    {
     "data": {
      "text/plain": [
       "lol"
      ]
     },
     "execution_count": 203,
     "metadata": {},
     "output_type": "execute_result"
    }
   ],
   "source": [
    "room_temp"
   ]
  },
  {
   "cell_type": "code",
   "execution_count": 204,
   "metadata": {},
   "outputs": [],
   "source": [
    "class Magic:\n",
    "    @property\n",
    "    def __repr__(self):\n",
    "        def inner():\n",
    "            return \"It works!\"\n",
    "        return inner"
   ]
  },
  {
   "cell_type": "code",
   "execution_count": 205,
   "metadata": {},
   "outputs": [],
   "source": [
    "m = Magic()"
   ]
  },
  {
   "cell_type": "code",
   "execution_count": 206,
   "metadata": {},
   "outputs": [
    {
     "data": {
      "text/plain": [
       "It works!"
      ]
     },
     "execution_count": 206,
     "metadata": {},
     "output_type": "execute_result"
    }
   ],
   "source": [
    "m"
   ]
  },
  {
   "cell_type": "code",
   "execution_count": 207,
   "metadata": {},
   "outputs": [
    {
     "data": {
      "text/plain": [
       "'It works!'"
      ]
     },
     "execution_count": 207,
     "metadata": {},
     "output_type": "execute_result"
    }
   ],
   "source": [
    "# so what just happened\n",
    "# well m calls\n",
    "m.__repr__()\n",
    "# same as looking up m.__repr__ and the calling"
   ]
  },
  {
   "cell_type": "code",
   "execution_count": 208,
   "metadata": {},
   "outputs": [
    {
     "data": {
      "text/plain": [
       "<property at 0x10b8b4ef8>"
      ]
     },
     "execution_count": 208,
     "metadata": {},
     "output_type": "execute_result"
    }
   ],
   "source": [
    "# which simply looks up the dunder on the class i.e.\n",
    "Magic.__repr__"
   ]
  },
  {
   "cell_type": "code",
   "execution_count": 209,
   "metadata": {},
   "outputs": [
    {
     "data": {
      "text/plain": [
       "<property at 0x10b8b4ef8>"
      ]
     },
     "execution_count": 209,
     "metadata": {},
     "output_type": "execute_result"
    }
   ],
   "source": [
    "# class look up and as it is a frikin descriptor\n",
    "Magic.__dict__['__repr__'].__get__(None, Magic)\n",
    "# then call it"
   ]
  },
  {
   "cell_type": "code",
   "execution_count": 210,
   "metadata": {},
   "outputs": [
    {
     "data": {
      "text/plain": [
       "<function __main__.Magic.__repr__.<locals>.inner()>"
      ]
     },
     "execution_count": 210,
     "metadata": {},
     "output_type": "execute_result"
    }
   ],
   "source": [
    "Magic.__dict__['__repr__'].__get__(m)"
   ]
  },
  {
   "cell_type": "code",
   "execution_count": 211,
   "metadata": {},
   "outputs": [],
   "source": [
    "# so we go from m to Magic.__dict__['__repr__'].__get__(m,Magic)()"
   ]
  },
  {
   "cell_type": "code",
   "execution_count": 212,
   "metadata": {},
   "outputs": [
    {
     "data": {
      "text/plain": [
       "'It works!'"
      ]
     },
     "execution_count": 212,
     "metadata": {},
     "output_type": "execute_result"
    }
   ],
   "source": [
    "Magic.__dict__['__repr__'].__get__(m,Magic)()"
   ]
  },
  {
   "cell_type": "code",
   "execution_count": 213,
   "metadata": {},
   "outputs": [
    {
     "data": {
      "text/plain": [
       "True"
      ]
     },
     "execution_count": 213,
     "metadata": {},
     "output_type": "execute_result"
    }
   ],
   "source": [
    "'__call__' in dir(type(Magic))"
   ]
  },
  {
   "cell_type": "code",
   "execution_count": 214,
   "metadata": {},
   "outputs": [
    {
     "data": {
      "text/plain": [
       "<method-wrapper '__call__' of type object at 0x7fd7fe86bdf8>"
      ]
     },
     "execution_count": 214,
     "metadata": {},
     "output_type": "execute_result"
    }
   ],
   "source": [
    "Magic.__call__"
   ]
  },
  {
   "cell_type": "code",
   "execution_count": 215,
   "metadata": {},
   "outputs": [
    {
     "name": "stdout",
     "output_type": "stream",
     "text": [
      "MetaMetaClass __call__\n",
      "\tmcls = <class '__main__.MetaClass'>\n",
      "\targs = ('Example', (), {'__module__': '__main__', '__qualname__': 'Example'})\n",
      "\tkwargs = {}\n",
      "MetaClass.__new__\n",
      "\tcls = <class '__main__.MetaClass'>\n",
      "\tname = Example\n",
      "\tbases = ()\n",
      "\tnamespace = {'__module__': '__main__', '__qualname__': 'Example'}\n",
      "MetaClass.__init__\n",
      "\tself = <class '__main__.Example'>\n"
     ]
    }
   ],
   "source": [
    "class MetaMetaClass(type):\n",
    "    def __call__(mcls, *args, **kwargs):\n",
    "        print(f'MetaMetaClass __call__\\n'\n",
    "             f'\\tmcls = {mcls}\\n\\targs = {args}\\n\\tkwargs = {kwargs}')\n",
    "        cls = mcls.__new__(mcls, *args, **kwargs)\n",
    "        mcls.__init__(cls, *args, **kwargs)\n",
    "        return cls\n",
    "        # this mimics the standard\n",
    "        # return super().__call__(*args, **kwargs)\n",
    "\n",
    "class MetaClass(type, metaclass=MetaMetaClass):\n",
    "    def __new__(cls, name, bases, namespace, *args, **kwargs):\n",
    "        print('MetaClass.__new__\\n'\n",
    "              f'\\tcls = {cls}\\n'\n",
    "              f'\\tname = {name}\\n\\tbases = {bases}\\n\\tnamespace = {namespace}' )\n",
    "        return super().__new__(cls, name, bases, namespace)\n",
    "    def __init__(self, *args, **kwargs):\n",
    "        print(f'MetaClass.__init__\\n\\tself = {self}')\n",
    "\n",
    "class Example(metaclass=MetaClass):\n",
    "    pass\n"
   ]
  },
  {
   "cell_type": "code",
   "execution_count": 216,
   "metadata": {},
   "outputs": [
    {
     "data": {
      "text/plain": [
       "__main__.Example"
      ]
     },
     "execution_count": 216,
     "metadata": {},
     "output_type": "execute_result"
    }
   ],
   "source": [
    "type.__call__(type,'Example', (), {})"
   ]
  },
  {
   "cell_type": "code",
   "execution_count": 217,
   "metadata": {},
   "outputs": [
    {
     "name": "stdout",
     "output_type": "stream",
     "text": [
      "MetaMetaClass __call__\n",
      "\tmcls = <class '__main__.MetaClass'>\n",
      "\targs = ('Example', (), {})\n",
      "\tkwargs = {}\n",
      "MetaClass.__new__\n",
      "\tcls = <class '__main__.MetaClass'>\n",
      "\tname = Example\n",
      "\tbases = ()\n",
      "\tnamespace = {}\n",
      "MetaClass.__init__\n",
      "\tself = <class '__main__.Example'>\n"
     ]
    },
    {
     "data": {
      "text/plain": [
       "__main__.Example"
      ]
     },
     "execution_count": 217,
     "metadata": {},
     "output_type": "execute_result"
    }
   ],
   "source": [
    "MetaMetaClass.__call__(MetaClass,'Example', (), {})\n",
    "# we can use standard type __call__ see below"
   ]
  },
  {
   "cell_type": "code",
   "execution_count": 218,
   "metadata": {},
   "outputs": [
    {
     "name": "stdout",
     "output_type": "stream",
     "text": [
      "MetaClass.__new__\n",
      "\tcls = <class '__main__.MetaClass'>\n",
      "\tname = Example\n",
      "\tbases = ()\n",
      "\tnamespace = {}\n",
      "MetaClass.__init__\n",
      "\tself = <class '__main__.Example'>\n"
     ]
    },
    {
     "data": {
      "text/plain": [
       "__main__.Example"
      ]
     },
     "execution_count": 218,
     "metadata": {},
     "output_type": "execute_result"
    }
   ],
   "source": [
    "type.__call__(MetaClass,'Example', (), {})"
   ]
  },
  {
   "cell_type": "code",
   "execution_count": 219,
   "metadata": {},
   "outputs": [],
   "source": [
    "# question is new a static method? YES that is an instance is not bound to it"
   ]
  },
  {
   "cell_type": "code",
   "execution_count": 220,
   "metadata": {},
   "outputs": [
    {
     "data": {
      "text/plain": [
       "<function type.__new__(*args, **kwargs)>"
      ]
     },
     "execution_count": 220,
     "metadata": {},
     "output_type": "execute_result"
    }
   ],
   "source": [
    "MetaMetaClass.__new__"
   ]
  },
  {
   "cell_type": "code",
   "execution_count": 221,
   "metadata": {},
   "outputs": [
    {
     "data": {
      "text/plain": [
       "<method-wrapper '__call__' of type object at 0x108642030>"
      ]
     },
     "execution_count": 221,
     "metadata": {},
     "output_type": "execute_result"
    }
   ],
   "source": [
    "type.__dict__['__call__'].__get__(type)"
   ]
  },
  {
   "cell_type": "code",
   "execution_count": 222,
   "metadata": {},
   "outputs": [
    {
     "data": {
      "text/plain": [
       "<slot wrapper '__call__' of 'type' objects>"
      ]
     },
     "execution_count": 222,
     "metadata": {},
     "output_type": "execute_result"
    }
   ],
   "source": [
    "type.__call__"
   ]
  },
  {
   "cell_type": "code",
   "execution_count": 223,
   "metadata": {},
   "outputs": [
    {
     "data": {
      "text/plain": [
       "type"
      ]
     },
     "execution_count": 223,
     "metadata": {},
     "output_type": "execute_result"
    }
   ],
   "source": [
    "type"
   ]
  },
  {
   "cell_type": "code",
   "execution_count": 224,
   "metadata": {},
   "outputs": [],
   "source": [
    "class A:\n",
    "    def simon():\n",
    "        pass"
   ]
  },
  {
   "cell_type": "code",
   "execution_count": 225,
   "metadata": {},
   "outputs": [
    {
     "data": {
      "text/plain": [
       "__main__.A"
      ]
     },
     "execution_count": 225,
     "metadata": {},
     "output_type": "execute_result"
    }
   ],
   "source": [
    "type('A',(),{\"a\":1})"
   ]
  },
  {
   "cell_type": "code",
   "execution_count": 226,
   "metadata": {},
   "outputs": [
    {
     "data": {
      "text/plain": [
       "__main__.A"
      ]
     },
     "execution_count": 226,
     "metadata": {},
     "output_type": "execute_result"
    }
   ],
   "source": [
    "# what aabout this \n",
    "type.__new__(type,'A',(),{\"a\":1})"
   ]
  },
  {
   "cell_type": "code",
   "execution_count": 227,
   "metadata": {},
   "outputs": [],
   "source": [
    "class LetsGetMeta(type):\n",
    "    def __init__(cls, name, bases, namespace):\n",
    "        print(cls, name, bases, namespace)"
   ]
  },
  {
   "cell_type": "code",
   "execution_count": 228,
   "metadata": {},
   "outputs": [],
   "source": [
    "s = type.__new__(type,'MetaClass',(),{\"a\":1})"
   ]
  },
  {
   "cell_type": "code",
   "execution_count": 229,
   "metadata": {},
   "outputs": [
    {
     "data": {
      "text/plain": [
       "type"
      ]
     },
     "execution_count": 229,
     "metadata": {},
     "output_type": "execute_result"
    }
   ],
   "source": [
    "s.__class__"
   ]
  },
  {
   "cell_type": "code",
   "execution_count": 230,
   "metadata": {},
   "outputs": [
    {
     "data": {
      "text/plain": [
       "type"
      ]
     },
     "execution_count": 230,
     "metadata": {},
     "output_type": "execute_result"
    }
   ],
   "source": [
    "LetsGetMeta.__class__"
   ]
  },
  {
   "cell_type": "code",
   "execution_count": 231,
   "metadata": {},
   "outputs": [
    {
     "data": {
      "text/plain": [
       "type"
      ]
     },
     "execution_count": 231,
     "metadata": {},
     "output_type": "execute_result"
    }
   ],
   "source": [
    "# how to create a class using type\n",
    "P = type.__new__(LetsGetMeta,'S',(),{})\n",
    "P.__class__.__class__"
   ]
  },
  {
   "cell_type": "code",
   "execution_count": 232,
   "metadata": {},
   "outputs": [
    {
     "data": {
      "text/plain": [
       "__main__.S"
      ]
     },
     "execution_count": 232,
     "metadata": {},
     "output_type": "execute_result"
    }
   ],
   "source": [
    "type.__new__(LetsGetMeta,'S',(),{})"
   ]
  },
  {
   "cell_type": "code",
   "execution_count": null,
   "metadata": {},
   "outputs": [],
   "source": []
  },
  {
   "cell_type": "code",
   "execution_count": 233,
   "metadata": {},
   "outputs": [],
   "source": [
    "def print_classes(o):\n",
    "    print(f'{o} has class {o.__class__}')\n",
    "    while not o.__class__ is type:\n",
    "        o = o.__class__\n",
    "        print(f'{o} has class {o.__class__}')\n"
   ]
  },
  {
   "cell_type": "code",
   "execution_count": 234,
   "metadata": {},
   "outputs": [
    {
     "name": "stdout",
     "output_type": "stream",
     "text": [
      "<class '__main__.M1'> has class <class 'type'>\n"
     ]
    }
   ],
   "source": [
    "Meta = type('M1',(type,),{})\n",
    "print_classes(Meta)"
   ]
  },
  {
   "cell_type": "code",
   "execution_count": 235,
   "metadata": {},
   "outputs": [
    {
     "name": "stdout",
     "output_type": "stream",
     "text": [
      "<class '__main__.M2'> has class <class '__main__.M1'>\n",
      "<class '__main__.M1'> has class <class 'type'>\n"
     ]
    }
   ],
   "source": [
    "Meta2 = Meta('M2',(),{})\n",
    "print_classes(Meta2)"
   ]
  },
  {
   "cell_type": "code",
   "execution_count": 236,
   "metadata": {},
   "outputs": [
    {
     "name": "stdout",
     "output_type": "stream",
     "text": [
      "<class '__main__.M3'> has class <class '__main__.M1'>\n",
      "<class '__main__.M1'> has class <class 'type'>\n"
     ]
    }
   ],
   "source": [
    "Meta3 = type.__new__(Meta,'M3',(),{})\n",
    "print_classes(Meta3)"
   ]
  },
  {
   "cell_type": "code",
   "execution_count": 237,
   "metadata": {},
   "outputs": [
    {
     "data": {
      "text/plain": [
       "__main__.M3"
      ]
     },
     "execution_count": 237,
     "metadata": {},
     "output_type": "execute_result"
    }
   ],
   "source": [
    "Meta3"
   ]
  },
  {
   "cell_type": "code",
   "execution_count": null,
   "metadata": {},
   "outputs": [],
   "source": []
  }
 ],
 "metadata": {
  "kernelspec": {
   "display_name": "Python 3",
   "language": "python",
   "name": "python3"
  },
  "language_info": {
   "codemirror_mode": {
    "name": "ipython",
    "version": 3
   },
   "file_extension": ".py",
   "mimetype": "text/x-python",
   "name": "python",
   "nbconvert_exporter": "python",
   "pygments_lexer": "ipython3",
   "version": "3.7.3"
  }
 },
 "nbformat": 4,
 "nbformat_minor": 2
}
