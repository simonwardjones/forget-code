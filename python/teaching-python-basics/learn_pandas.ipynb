{
 "cells": [
  {
   "cell_type": "markdown",
   "metadata": {},
   "source": [
    "# learnPandas"
   ]
  },
  {
   "cell_type": "code",
   "execution_count": 2,
   "metadata": {},
   "outputs": [
    {
     "data": {
      "application/javascript": [
       "// JAVASCRIPT CONETENTS\n",
       "setTimeout(function(){\n",
       "$(\":header\").each(function(i){ \n",
       "    var level = this.tagName[1]\n",
       "    var buffer = \"\"\n",
       "    for(var j = 0;j <= level; j++){\n",
       "\n",
       "        buffer += \"  \"\n",
       "    }\n",
       "    buffer += \"- \"\n",
       "    console.log(buffer)\n",
       "    element.append(\"<code>\"+ buffer + \"</code>\" + \"<a href=#\" + this.id + \">\" + this.innerText + \"</a><br>\"); \n",
       "})\n",
       "    },100);\n",
       "  \n"
      ],
      "text/plain": [
       "<IPython.core.display.Javascript object>"
      ]
     },
     "metadata": {},
     "output_type": "display_data"
    }
   ],
   "source": [
    "%%javascript\n",
    "// JAVASCRIPT CONETENTS\n",
    "setTimeout(function(){\n",
    "$(\":header\").each(function(i){ \n",
    "    var level = this.tagName[1]\n",
    "    var buffer = \"\"\n",
    "    for(var j = 0;j <= level; j++){\n",
    "\n",
    "        buffer += \"  \"\n",
    "    }\n",
    "    buffer += \"- \"\n",
    "    console.log(buffer)\n",
    "    element.append(\"<code>\"+ buffer + \"</code>\" + \"<a href=#\" + this.id + \">\" + this.innerText + \"</a><br>\"); \n",
    "})\n",
    "    },100);\n",
    "  "
   ]
  },
  {
   "cell_type": "markdown",
   "metadata": {
    "heading_collapsed": true
   },
   "source": [
    "## Resources \n",
    "\n",
    "https://pandas.pydata.org/pandas-docs/stable/10min.html\n"
   ]
  },
  {
   "cell_type": "markdown",
   "metadata": {
    "heading_collapsed": true
   },
   "source": [
    "## Basic Data Structures\n",
    "\n",
    " - Series\n",
    " - DataFrames\n",
    " - Panels (collection of DataFrames)"
   ]
  },
  {
   "cell_type": "markdown",
   "metadata": {
    "heading_collapsed": true
   },
   "source": [
    "## Imports"
   ]
  },
  {
   "cell_type": "code",
   "execution_count": 3,
   "metadata": {
    "hidden": true
   },
   "outputs": [],
   "source": [
    "import pandas as pd\n",
    "import numpy as np"
   ]
  },
  {
   "cell_type": "markdown",
   "metadata": {
    "heading_collapsed": true
   },
   "source": [
    "## Example Series, Daterange index and Dataframe"
   ]
  },
  {
   "cell_type": "code",
   "execution_count": 4,
   "metadata": {
    "hidden": true
   },
   "outputs": [],
   "source": [
    "s = pd.Series([1,3,5,np.nan,6,8])\n",
    "dates = pd.date_range('01/01/2017', periods=8,freq='D')\n",
    "df = pd.DataFrame(np.random.randn(8, 4), index=dates, columns=['A', 'B', 'C', 'D'])\n",
    "\n",
    "### Create from Dictionary\n",
    "df2 = pd.DataFrame({\"A\":1,\n",
    "                    'B' : pd.Timestamp('20130102'),\n",
    "                    'C' : pd.Series(1,index=list(range(4)),dtype='float32'),\n",
    "                    'D' : np.array([3] * 4,dtype='int32'),\n",
    "                    'E' : pd.Categorical([\"test\",\"train\",\"test\",\"train\"]),\n",
    "                    'F' : 'foo'\n",
    "                   })"
   ]
  },
  {
   "cell_type": "markdown",
   "metadata": {
    "heading_collapsed": true
   },
   "source": [
    "## Inspecting DataFrame"
   ]
  },
  {
   "cell_type": "markdown",
   "metadata": {
    "heading_collapsed": true,
    "hidden": true
   },
   "source": [
    "### head"
   ]
  },
  {
   "cell_type": "code",
   "execution_count": 5,
   "metadata": {
    "hidden": true
   },
   "outputs": [
    {
     "data": {
      "text/html": [
       "<div>\n",
       "<style scoped>\n",
       "    .dataframe tbody tr th:only-of-type {\n",
       "        vertical-align: middle;\n",
       "    }\n",
       "\n",
       "    .dataframe tbody tr th {\n",
       "        vertical-align: top;\n",
       "    }\n",
       "\n",
       "    .dataframe thead th {\n",
       "        text-align: right;\n",
       "    }\n",
       "</style>\n",
       "<table border=\"1\" class=\"dataframe\">\n",
       "  <thead>\n",
       "    <tr style=\"text-align: right;\">\n",
       "      <th></th>\n",
       "      <th>A</th>\n",
       "      <th>B</th>\n",
       "      <th>C</th>\n",
       "      <th>D</th>\n",
       "    </tr>\n",
       "  </thead>\n",
       "  <tbody>\n",
       "    <tr>\n",
       "      <th>2017-01-01</th>\n",
       "      <td>1.090135</td>\n",
       "      <td>-0.689298</td>\n",
       "      <td>-0.493380</td>\n",
       "      <td>-1.266129</td>\n",
       "    </tr>\n",
       "    <tr>\n",
       "      <th>2017-01-02</th>\n",
       "      <td>-0.495245</td>\n",
       "      <td>-1.130409</td>\n",
       "      <td>-0.784152</td>\n",
       "      <td>-1.971266</td>\n",
       "    </tr>\n",
       "  </tbody>\n",
       "</table>\n",
       "</div>"
      ],
      "text/plain": [
       "                   A         B         C         D\n",
       "2017-01-01  1.090135 -0.689298 -0.493380 -1.266129\n",
       "2017-01-02 -0.495245 -1.130409 -0.784152 -1.971266"
      ]
     },
     "execution_count": 5,
     "metadata": {},
     "output_type": "execute_result"
    }
   ],
   "source": [
    "df.head(n=2)"
   ]
  },
  {
   "cell_type": "markdown",
   "metadata": {
    "heading_collapsed": true,
    "hidden": true
   },
   "source": [
    "### tail"
   ]
  },
  {
   "cell_type": "code",
   "execution_count": 6,
   "metadata": {
    "hidden": true
   },
   "outputs": [
    {
     "data": {
      "text/html": [
       "<div>\n",
       "<style scoped>\n",
       "    .dataframe tbody tr th:only-of-type {\n",
       "        vertical-align: middle;\n",
       "    }\n",
       "\n",
       "    .dataframe tbody tr th {\n",
       "        vertical-align: top;\n",
       "    }\n",
       "\n",
       "    .dataframe thead th {\n",
       "        text-align: right;\n",
       "    }\n",
       "</style>\n",
       "<table border=\"1\" class=\"dataframe\">\n",
       "  <thead>\n",
       "    <tr style=\"text-align: right;\">\n",
       "      <th></th>\n",
       "      <th>A</th>\n",
       "      <th>B</th>\n",
       "      <th>C</th>\n",
       "      <th>D</th>\n",
       "    </tr>\n",
       "  </thead>\n",
       "  <tbody>\n",
       "    <tr>\n",
       "      <th>2017-01-08</th>\n",
       "      <td>-0.030202</td>\n",
       "      <td>-1.016389</td>\n",
       "      <td>-0.023042</td>\n",
       "      <td>-0.061567</td>\n",
       "    </tr>\n",
       "  </tbody>\n",
       "</table>\n",
       "</div>"
      ],
      "text/plain": [
       "                   A         B         C         D\n",
       "2017-01-08 -0.030202 -1.016389 -0.023042 -0.061567"
      ]
     },
     "execution_count": 6,
     "metadata": {},
     "output_type": "execute_result"
    }
   ],
   "source": [
    "df.tail(n=1)"
   ]
  },
  {
   "cell_type": "markdown",
   "metadata": {
    "heading_collapsed": true,
    "hidden": true
   },
   "source": [
    "### describe "
   ]
  },
  {
   "cell_type": "code",
   "execution_count": 7,
   "metadata": {
    "hidden": true
   },
   "outputs": [
    {
     "data": {
      "text/html": [
       "<div>\n",
       "<style scoped>\n",
       "    .dataframe tbody tr th:only-of-type {\n",
       "        vertical-align: middle;\n",
       "    }\n",
       "\n",
       "    .dataframe tbody tr th {\n",
       "        vertical-align: top;\n",
       "    }\n",
       "\n",
       "    .dataframe thead th {\n",
       "        text-align: right;\n",
       "    }\n",
       "</style>\n",
       "<table border=\"1\" class=\"dataframe\">\n",
       "  <thead>\n",
       "    <tr style=\"text-align: right;\">\n",
       "      <th></th>\n",
       "      <th>A</th>\n",
       "      <th>B</th>\n",
       "      <th>C</th>\n",
       "      <th>D</th>\n",
       "    </tr>\n",
       "  </thead>\n",
       "  <tbody>\n",
       "    <tr>\n",
       "      <th>count</th>\n",
       "      <td>8.000000</td>\n",
       "      <td>8.000000</td>\n",
       "      <td>8.000000</td>\n",
       "      <td>8.000000</td>\n",
       "    </tr>\n",
       "    <tr>\n",
       "      <th>mean</th>\n",
       "      <td>0.235599</td>\n",
       "      <td>0.120467</td>\n",
       "      <td>-0.065856</td>\n",
       "      <td>-0.250859</td>\n",
       "    </tr>\n",
       "    <tr>\n",
       "      <th>std</th>\n",
       "      <td>0.675412</td>\n",
       "      <td>1.117830</td>\n",
       "      <td>0.715205</td>\n",
       "      <td>1.383362</td>\n",
       "    </tr>\n",
       "    <tr>\n",
       "      <th>min</th>\n",
       "      <td>-0.604122</td>\n",
       "      <td>-1.130409</td>\n",
       "      <td>-0.784152</td>\n",
       "      <td>-1.971266</td>\n",
       "    </tr>\n",
       "    <tr>\n",
       "      <th>25%</th>\n",
       "      <td>-0.285482</td>\n",
       "      <td>-0.771071</td>\n",
       "      <td>-0.461599</td>\n",
       "      <td>-1.294694</td>\n",
       "    </tr>\n",
       "    <tr>\n",
       "      <th>50%</th>\n",
       "      <td>0.215872</td>\n",
       "      <td>-0.071345</td>\n",
       "      <td>-0.219570</td>\n",
       "      <td>-0.288621</td>\n",
       "    </tr>\n",
       "    <tr>\n",
       "      <th>75%</th>\n",
       "      <td>0.682838</td>\n",
       "      <td>0.831775</td>\n",
       "      <td>0.028512</td>\n",
       "      <td>0.185291</td>\n",
       "    </tr>\n",
       "    <tr>\n",
       "      <th>max</th>\n",
       "      <td>1.130771</td>\n",
       "      <td>1.727822</td>\n",
       "      <td>1.539788</td>\n",
       "      <td>2.323853</td>\n",
       "    </tr>\n",
       "  </tbody>\n",
       "</table>\n",
       "</div>"
      ],
      "text/plain": [
       "              A         B         C         D\n",
       "count  8.000000  8.000000  8.000000  8.000000\n",
       "mean   0.235599  0.120467 -0.065856 -0.250859\n",
       "std    0.675412  1.117830  0.715205  1.383362\n",
       "min   -0.604122 -1.130409 -0.784152 -1.971266\n",
       "25%   -0.285482 -0.771071 -0.461599 -1.294694\n",
       "50%    0.215872 -0.071345 -0.219570 -0.288621\n",
       "75%    0.682838  0.831775  0.028512  0.185291\n",
       "max    1.130771  1.727822  1.539788  2.323853"
      ]
     },
     "execution_count": 7,
     "metadata": {},
     "output_type": "execute_result"
    }
   ],
   "source": [
    "df.describe()"
   ]
  },
  {
   "cell_type": "markdown",
   "metadata": {
    "heading_collapsed": true,
    "hidden": true
   },
   "source": [
    "### info "
   ]
  },
  {
   "cell_type": "code",
   "execution_count": 8,
   "metadata": {
    "hidden": true
   },
   "outputs": [
    {
     "name": "stdout",
     "output_type": "stream",
     "text": [
      "<class 'pandas.core.frame.DataFrame'>\n",
      "DatetimeIndex: 8 entries, 2017-01-01 to 2017-01-08\n",
      "Freq: D\n",
      "Data columns (total 4 columns):\n",
      "A    8 non-null float64\n",
      "B    8 non-null float64\n",
      "C    8 non-null float64\n",
      "D    8 non-null float64\n",
      "dtypes: float64(4)\n",
      "memory usage: 320.0 bytes\n"
     ]
    }
   ],
   "source": [
    "df.info()"
   ]
  },
  {
   "cell_type": "markdown",
   "metadata": {
    "heading_collapsed": true,
    "hidden": true
   },
   "source": [
    "### columns "
   ]
  },
  {
   "cell_type": "code",
   "execution_count": 9,
   "metadata": {
    "hidden": true
   },
   "outputs": [
    {
     "data": {
      "text/plain": [
       "Index(['A', 'B', 'C', 'D'], dtype='object')"
      ]
     },
     "execution_count": 9,
     "metadata": {},
     "output_type": "execute_result"
    }
   ],
   "source": [
    "df.columns"
   ]
  },
  {
   "cell_type": "markdown",
   "metadata": {
    "heading_collapsed": true,
    "hidden": true
   },
   "source": [
    "### index"
   ]
  },
  {
   "cell_type": "code",
   "execution_count": 10,
   "metadata": {
    "hidden": true
   },
   "outputs": [
    {
     "data": {
      "text/plain": [
       "DatetimeIndex(['2017-01-01', '2017-01-02', '2017-01-03', '2017-01-04',\n",
       "               '2017-01-05', '2017-01-06', '2017-01-07', '2017-01-08'],\n",
       "              dtype='datetime64[ns]', freq='D')"
      ]
     },
     "execution_count": 10,
     "metadata": {},
     "output_type": "execute_result"
    }
   ],
   "source": [
    "df.index\n",
    "\n",
    "#print(xxxxx, end='\\n\\n',sep=\"\\n\")"
   ]
  },
  {
   "cell_type": "markdown",
   "metadata": {
    "hidden": true
   },
   "source": [
    " <br>"
   ]
  },
  {
   "cell_type": "markdown",
   "metadata": {
    "heading_collapsed": true
   },
   "source": [
    "## Selecting"
   ]
  },
  {
   "cell_type": "markdown",
   "metadata": {
    "heading_collapsed": true,
    "hidden": true
   },
   "source": [
    "### Select a Column (series type)"
   ]
  },
  {
   "cell_type": "code",
   "execution_count": 11,
   "metadata": {
    "hidden": true
   },
   "outputs": [
    {
     "data": {
      "text/plain": [
       "2017-01-01    1.090135\n",
       "2017-01-02   -0.495245\n",
       "2017-01-03   -0.604122\n",
       "2017-01-04    1.130771\n",
       "2017-01-05    0.547072\n",
       "2017-01-06    0.461945\n",
       "2017-01-07   -0.215562\n",
       "2017-01-08   -0.030202\n",
       "Freq: D, Name: A, dtype: float64"
      ]
     },
     "execution_count": 11,
     "metadata": {},
     "output_type": "execute_result"
    }
   ],
   "source": [
    "df['A']"
   ]
  },
  {
   "cell_type": "markdown",
   "metadata": {
    "heading_collapsed": true,
    "hidden": true
   },
   "source": [
    "### Select a Row slice"
   ]
  },
  {
   "cell_type": "code",
   "execution_count": 12,
   "metadata": {
    "hidden": true
   },
   "outputs": [
    {
     "data": {
      "text/html": [
       "<div>\n",
       "<style scoped>\n",
       "    .dataframe tbody tr th:only-of-type {\n",
       "        vertical-align: middle;\n",
       "    }\n",
       "\n",
       "    .dataframe tbody tr th {\n",
       "        vertical-align: top;\n",
       "    }\n",
       "\n",
       "    .dataframe thead th {\n",
       "        text-align: right;\n",
       "    }\n",
       "</style>\n",
       "<table border=\"1\" class=\"dataframe\">\n",
       "  <thead>\n",
       "    <tr style=\"text-align: right;\">\n",
       "      <th></th>\n",
       "      <th>A</th>\n",
       "      <th>B</th>\n",
       "      <th>C</th>\n",
       "      <th>D</th>\n",
       "    </tr>\n",
       "  </thead>\n",
       "  <tbody>\n",
       "    <tr>\n",
       "      <th>2017-01-02</th>\n",
       "      <td>-0.495245</td>\n",
       "      <td>-1.130409</td>\n",
       "      <td>-0.784152</td>\n",
       "      <td>-1.971266</td>\n",
       "    </tr>\n",
       "  </tbody>\n",
       "</table>\n",
       "</div>"
      ],
      "text/plain": [
       "                   A         B         C         D\n",
       "2017-01-02 -0.495245 -1.130409 -0.784152 -1.971266"
      ]
     },
     "execution_count": 12,
     "metadata": {},
     "output_type": "execute_result"
    }
   ],
   "source": [
    "df[1:2]"
   ]
  },
  {
   "cell_type": "markdown",
   "metadata": {
    "heading_collapsed": true,
    "hidden": true
   },
   "source": [
    "### Select by label - df.loc"
   ]
  },
  {
   "cell_type": "code",
   "execution_count": 13,
   "metadata": {
    "hidden": true
   },
   "outputs": [
    {
     "data": {
      "text/html": [
       "<div>\n",
       "<style scoped>\n",
       "    .dataframe tbody tr th:only-of-type {\n",
       "        vertical-align: middle;\n",
       "    }\n",
       "\n",
       "    .dataframe tbody tr th {\n",
       "        vertical-align: top;\n",
       "    }\n",
       "\n",
       "    .dataframe thead th {\n",
       "        text-align: right;\n",
       "    }\n",
       "</style>\n",
       "<table border=\"1\" class=\"dataframe\">\n",
       "  <thead>\n",
       "    <tr style=\"text-align: right;\">\n",
       "      <th></th>\n",
       "      <th>B</th>\n",
       "      <th>C</th>\n",
       "      <th>D</th>\n",
       "    </tr>\n",
       "  </thead>\n",
       "  <tbody>\n",
       "    <tr>\n",
       "      <th>2017-01-01</th>\n",
       "      <td>-0.689298</td>\n",
       "      <td>-0.493380</td>\n",
       "      <td>-1.266129</td>\n",
       "    </tr>\n",
       "    <tr>\n",
       "      <th>2017-01-02</th>\n",
       "      <td>-1.130409</td>\n",
       "      <td>-0.784152</td>\n",
       "      <td>-1.971266</td>\n",
       "    </tr>\n",
       "    <tr>\n",
       "      <th>2017-01-03</th>\n",
       "      <td>0.032015</td>\n",
       "      <td>0.006502</td>\n",
       "      <td>-1.380387</td>\n",
       "    </tr>\n",
       "    <tr>\n",
       "      <th>2017-01-04</th>\n",
       "      <td>0.556200</td>\n",
       "      <td>1.539788</td>\n",
       "      <td>0.925865</td>\n",
       "    </tr>\n",
       "  </tbody>\n",
       "</table>\n",
       "</div>"
      ],
      "text/plain": [
       "                   B         C         D\n",
       "2017-01-01 -0.689298 -0.493380 -1.266129\n",
       "2017-01-02 -1.130409 -0.784152 -1.971266\n",
       "2017-01-03  0.032015  0.006502 -1.380387\n",
       "2017-01-04  0.556200  1.539788  0.925865"
      ]
     },
     "execution_count": 13,
     "metadata": {},
     "output_type": "execute_result"
    }
   ],
   "source": [
    "# Selecting by multiaxis labels\n",
    "df.loc[:dates[3],'B':'D']"
   ]
  },
  {
   "cell_type": "code",
   "execution_count": 14,
   "metadata": {
    "hidden": true
   },
   "outputs": [
    {
     "data": {
      "text/plain": [
       "A    1.130771\n",
       "B    0.556200\n",
       "C    1.539788\n",
       "D    0.925865\n",
       "Name: 2017-01-04 00:00:00, dtype: float64"
      ]
     },
     "execution_count": 14,
     "metadata": {},
     "output_type": "execute_result"
    }
   ],
   "source": [
    "# Selecting a row (returns series)\n",
    "df.loc[dates[3],:]"
   ]
  },
  {
   "cell_type": "markdown",
   "metadata": {
    "heading_collapsed": true,
    "hidden": true
   },
   "source": [
    "### Select by Position - df.iloc"
   ]
  },
  {
   "cell_type": "code",
   "execution_count": 15,
   "metadata": {
    "hidden": true
   },
   "outputs": [
    {
     "data": {
      "text/html": [
       "<div>\n",
       "<style scoped>\n",
       "    .dataframe tbody tr th:only-of-type {\n",
       "        vertical-align: middle;\n",
       "    }\n",
       "\n",
       "    .dataframe tbody tr th {\n",
       "        vertical-align: top;\n",
       "    }\n",
       "\n",
       "    .dataframe thead th {\n",
       "        text-align: right;\n",
       "    }\n",
       "</style>\n",
       "<table border=\"1\" class=\"dataframe\">\n",
       "  <thead>\n",
       "    <tr style=\"text-align: right;\">\n",
       "      <th></th>\n",
       "      <th>C</th>\n",
       "      <th>D</th>\n",
       "    </tr>\n",
       "  </thead>\n",
       "  <tbody>\n",
       "    <tr>\n",
       "      <th>2017-01-04</th>\n",
       "      <td>1.539788</td>\n",
       "      <td>0.925865</td>\n",
       "    </tr>\n",
       "    <tr>\n",
       "      <th>2017-01-05</th>\n",
       "      <td>-0.451005</td>\n",
       "      <td>-0.484730</td>\n",
       "    </tr>\n",
       "  </tbody>\n",
       "</table>\n",
       "</div>"
      ],
      "text/plain": [
       "                   C         D\n",
       "2017-01-04  1.539788  0.925865\n",
       "2017-01-05 -0.451005 -0.484730"
      ]
     },
     "execution_count": 15,
     "metadata": {},
     "output_type": "execute_result"
    }
   ],
   "source": [
    "# Select multiple axis position\n",
    "df.iloc[3:5,2:]"
   ]
  },
  {
   "cell_type": "markdown",
   "metadata": {
    "heading_collapsed": true,
    "hidden": true
   },
   "source": [
    "### Boolean indexing"
   ]
  },
  {
   "cell_type": "code",
   "execution_count": 16,
   "metadata": {
    "hidden": true
   },
   "outputs": [
    {
     "data": {
      "text/html": [
       "<div>\n",
       "<style scoped>\n",
       "    .dataframe tbody tr th:only-of-type {\n",
       "        vertical-align: middle;\n",
       "    }\n",
       "\n",
       "    .dataframe tbody tr th {\n",
       "        vertical-align: top;\n",
       "    }\n",
       "\n",
       "    .dataframe thead th {\n",
       "        text-align: right;\n",
       "    }\n",
       "</style>\n",
       "<table border=\"1\" class=\"dataframe\">\n",
       "  <thead>\n",
       "    <tr style=\"text-align: right;\">\n",
       "      <th></th>\n",
       "      <th>A</th>\n",
       "      <th>B</th>\n",
       "      <th>C</th>\n",
       "      <th>D</th>\n",
       "    </tr>\n",
       "  </thead>\n",
       "  <tbody>\n",
       "    <tr>\n",
       "      <th>2017-01-01</th>\n",
       "      <td>1.090135</td>\n",
       "      <td>-0.689298</td>\n",
       "      <td>-0.493380</td>\n",
       "      <td>-1.266129</td>\n",
       "    </tr>\n",
       "    <tr>\n",
       "      <th>2017-01-04</th>\n",
       "      <td>1.130771</td>\n",
       "      <td>0.556200</td>\n",
       "      <td>1.539788</td>\n",
       "      <td>0.925865</td>\n",
       "    </tr>\n",
       "    <tr>\n",
       "      <th>2017-01-05</th>\n",
       "      <td>0.547072</td>\n",
       "      <td>1.658501</td>\n",
       "      <td>-0.451005</td>\n",
       "      <td>-0.484730</td>\n",
       "    </tr>\n",
       "    <tr>\n",
       "      <th>2017-01-06</th>\n",
       "      <td>0.461945</td>\n",
       "      <td>1.727822</td>\n",
       "      <td>0.094541</td>\n",
       "      <td>2.323853</td>\n",
       "    </tr>\n",
       "  </tbody>\n",
       "</table>\n",
       "</div>"
      ],
      "text/plain": [
       "                   A         B         C         D\n",
       "2017-01-01  1.090135 -0.689298 -0.493380 -1.266129\n",
       "2017-01-04  1.130771  0.556200  1.539788  0.925865\n",
       "2017-01-05  0.547072  1.658501 -0.451005 -0.484730\n",
       "2017-01-06  0.461945  1.727822  0.094541  2.323853"
      ]
     },
     "execution_count": 16,
     "metadata": {},
     "output_type": "execute_result"
    }
   ],
   "source": [
    "# Select by logical condition\n",
    "df[df.A > 0]"
   ]
  },
  {
   "cell_type": "code",
   "execution_count": 17,
   "metadata": {
    "hidden": true
   },
   "outputs": [
    {
     "data": {
      "text/html": [
       "<div>\n",
       "<style scoped>\n",
       "    .dataframe tbody tr th:only-of-type {\n",
       "        vertical-align: middle;\n",
       "    }\n",
       "\n",
       "    .dataframe tbody tr th {\n",
       "        vertical-align: top;\n",
       "    }\n",
       "\n",
       "    .dataframe thead th {\n",
       "        text-align: right;\n",
       "    }\n",
       "</style>\n",
       "<table border=\"1\" class=\"dataframe\">\n",
       "  <thead>\n",
       "    <tr style=\"text-align: right;\">\n",
       "      <th></th>\n",
       "      <th>C</th>\n",
       "      <th>D</th>\n",
       "    </tr>\n",
       "  </thead>\n",
       "  <tbody>\n",
       "    <tr>\n",
       "      <th>2017-01-04</th>\n",
       "      <td>1.539788</td>\n",
       "      <td>0.925865</td>\n",
       "    </tr>\n",
       "    <tr>\n",
       "      <th>2017-01-05</th>\n",
       "      <td>-0.451005</td>\n",
       "      <td>-0.484730</td>\n",
       "    </tr>\n",
       "  </tbody>\n",
       "</table>\n",
       "</div>"
      ],
      "text/plain": [
       "                   C         D\n",
       "2017-01-04  1.539788  0.925865\n",
       "2017-01-05 -0.451005 -0.484730"
      ]
     },
     "execution_count": 17,
     "metadata": {},
     "output_type": "execute_result"
    }
   ],
   "source": [
    "df.iloc[3:5,2:]"
   ]
  },
  {
   "cell_type": "markdown",
   "metadata": {
    "heading_collapsed": true,
    "hidden": true
   },
   "source": [
    "### isin"
   ]
  },
  {
   "cell_type": "code",
   "execution_count": 18,
   "metadata": {
    "hidden": true
   },
   "outputs": [
    {
     "data": {
      "text/html": [
       "<div>\n",
       "<style scoped>\n",
       "    .dataframe tbody tr th:only-of-type {\n",
       "        vertical-align: middle;\n",
       "    }\n",
       "\n",
       "    .dataframe tbody tr th {\n",
       "        vertical-align: top;\n",
       "    }\n",
       "\n",
       "    .dataframe thead th {\n",
       "        text-align: right;\n",
       "    }\n",
       "</style>\n",
       "<table border=\"1\" class=\"dataframe\">\n",
       "  <thead>\n",
       "    <tr style=\"text-align: right;\">\n",
       "      <th></th>\n",
       "      <th>A</th>\n",
       "      <th>B</th>\n",
       "      <th>C</th>\n",
       "      <th>D</th>\n",
       "      <th>E</th>\n",
       "    </tr>\n",
       "  </thead>\n",
       "  <tbody>\n",
       "    <tr>\n",
       "      <th>2017-01-03</th>\n",
       "      <td>-0.604122</td>\n",
       "      <td>0.032015</td>\n",
       "      <td>0.006502</td>\n",
       "      <td>-1.380387</td>\n",
       "      <td>3</td>\n",
       "    </tr>\n",
       "    <tr>\n",
       "      <th>2017-01-04</th>\n",
       "      <td>1.130771</td>\n",
       "      <td>0.556200</td>\n",
       "      <td>1.539788</td>\n",
       "      <td>0.925865</td>\n",
       "      <td>4</td>\n",
       "    </tr>\n",
       "  </tbody>\n",
       "</table>\n",
       "</div>"
      ],
      "text/plain": [
       "                   A         B         C         D  E\n",
       "2017-01-03 -0.604122  0.032015  0.006502 -1.380387  3\n",
       "2017-01-04  1.130771  0.556200  1.539788  0.925865  4"
      ]
     },
     "execution_count": 18,
     "metadata": {},
     "output_type": "execute_result"
    }
   ],
   "source": [
    "# Adding a column\n",
    "df['E'] = [1,2,3,4,5,6,7,8] \n",
    "df[df['E'].isin([3,4])]"
   ]
  },
  {
   "cell_type": "markdown",
   "metadata": {
    "hidden": true
   },
   "source": [
    "<br>"
   ]
  },
  {
   "cell_type": "markdown",
   "metadata": {
    "heading_collapsed": true
   },
   "source": [
    "## Missing Data "
   ]
  },
  {
   "cell_type": "markdown",
   "metadata": {
    "heading_collapsed": true,
    "hidden": true
   },
   "source": [
    "### dropna "
   ]
  },
  {
   "cell_type": "code",
   "execution_count": 19,
   "metadata": {
    "hidden": true
   },
   "outputs": [
    {
     "data": {
      "text/html": [
       "<div>\n",
       "<style scoped>\n",
       "    .dataframe tbody tr th:only-of-type {\n",
       "        vertical-align: middle;\n",
       "    }\n",
       "\n",
       "    .dataframe tbody tr th {\n",
       "        vertical-align: top;\n",
       "    }\n",
       "\n",
       "    .dataframe thead th {\n",
       "        text-align: right;\n",
       "    }\n",
       "</style>\n",
       "<table border=\"1\" class=\"dataframe\">\n",
       "  <thead>\n",
       "    <tr style=\"text-align: right;\">\n",
       "      <th></th>\n",
       "      <th>A</th>\n",
       "      <th>B</th>\n",
       "      <th>C</th>\n",
       "      <th>D</th>\n",
       "      <th>E</th>\n",
       "      <th>F</th>\n",
       "    </tr>\n",
       "  </thead>\n",
       "  <tbody>\n",
       "    <tr>\n",
       "      <th>2017-01-01</th>\n",
       "      <td>1.090135</td>\n",
       "      <td>-0.689298</td>\n",
       "      <td>-0.493380</td>\n",
       "      <td>-1.266129</td>\n",
       "      <td>1</td>\n",
       "      <td>20.0</td>\n",
       "    </tr>\n",
       "    <tr>\n",
       "      <th>2017-01-02</th>\n",
       "      <td>-0.495245</td>\n",
       "      <td>-1.130409</td>\n",
       "      <td>-0.784152</td>\n",
       "      <td>-1.971266</td>\n",
       "      <td>2</td>\n",
       "      <td>20.0</td>\n",
       "    </tr>\n",
       "    <tr>\n",
       "      <th>2017-01-03</th>\n",
       "      <td>-0.604122</td>\n",
       "      <td>0.032015</td>\n",
       "      <td>0.006502</td>\n",
       "      <td>-1.380387</td>\n",
       "      <td>3</td>\n",
       "      <td>20.0</td>\n",
       "    </tr>\n",
       "    <tr>\n",
       "      <th>2017-01-04</th>\n",
       "      <td>1.130771</td>\n",
       "      <td>0.556200</td>\n",
       "      <td>1.539788</td>\n",
       "      <td>0.925865</td>\n",
       "      <td>4</td>\n",
       "      <td>20.0</td>\n",
       "    </tr>\n",
       "  </tbody>\n",
       "</table>\n",
       "</div>"
      ],
      "text/plain": [
       "                   A         B         C         D  E     F\n",
       "2017-01-01  1.090135 -0.689298 -0.493380 -1.266129  1  20.0\n",
       "2017-01-02 -0.495245 -1.130409 -0.784152 -1.971266  2  20.0\n",
       "2017-01-03 -0.604122  0.032015  0.006502 -1.380387  3  20.0\n",
       "2017-01-04  1.130771  0.556200  1.539788  0.925865  4  20.0"
      ]
     },
     "execution_count": 19,
     "metadata": {},
     "output_type": "execute_result"
    }
   ],
   "source": [
    "df.loc[dates[0]:dates[3],'F'] = 20\n",
    "df.dropna()"
   ]
  },
  {
   "cell_type": "markdown",
   "metadata": {
    "heading_collapsed": true,
    "hidden": true
   },
   "source": [
    "### fillna"
   ]
  },
  {
   "cell_type": "code",
   "execution_count": 20,
   "metadata": {
    "hidden": true
   },
   "outputs": [
    {
     "data": {
      "text/html": [
       "<div>\n",
       "<style scoped>\n",
       "    .dataframe tbody tr th:only-of-type {\n",
       "        vertical-align: middle;\n",
       "    }\n",
       "\n",
       "    .dataframe tbody tr th {\n",
       "        vertical-align: top;\n",
       "    }\n",
       "\n",
       "    .dataframe thead th {\n",
       "        text-align: right;\n",
       "    }\n",
       "</style>\n",
       "<table border=\"1\" class=\"dataframe\">\n",
       "  <thead>\n",
       "    <tr style=\"text-align: right;\">\n",
       "      <th></th>\n",
       "      <th>A</th>\n",
       "      <th>B</th>\n",
       "      <th>C</th>\n",
       "      <th>D</th>\n",
       "      <th>E</th>\n",
       "      <th>F</th>\n",
       "    </tr>\n",
       "  </thead>\n",
       "  <tbody>\n",
       "    <tr>\n",
       "      <th>2017-01-01</th>\n",
       "      <td>1.090135</td>\n",
       "      <td>-0.689298</td>\n",
       "      <td>-0.493380</td>\n",
       "      <td>-1.266129</td>\n",
       "      <td>1</td>\n",
       "      <td>20.0</td>\n",
       "    </tr>\n",
       "    <tr>\n",
       "      <th>2017-01-02</th>\n",
       "      <td>-0.495245</td>\n",
       "      <td>-1.130409</td>\n",
       "      <td>-0.784152</td>\n",
       "      <td>-1.971266</td>\n",
       "      <td>2</td>\n",
       "      <td>20.0</td>\n",
       "    </tr>\n",
       "    <tr>\n",
       "      <th>2017-01-03</th>\n",
       "      <td>-0.604122</td>\n",
       "      <td>0.032015</td>\n",
       "      <td>0.006502</td>\n",
       "      <td>-1.380387</td>\n",
       "      <td>3</td>\n",
       "      <td>20.0</td>\n",
       "    </tr>\n",
       "    <tr>\n",
       "      <th>2017-01-04</th>\n",
       "      <td>1.130771</td>\n",
       "      <td>0.556200</td>\n",
       "      <td>1.539788</td>\n",
       "      <td>0.925865</td>\n",
       "      <td>4</td>\n",
       "      <td>20.0</td>\n",
       "    </tr>\n",
       "    <tr>\n",
       "      <th>2017-01-05</th>\n",
       "      <td>0.547072</td>\n",
       "      <td>1.658501</td>\n",
       "      <td>-0.451005</td>\n",
       "      <td>-0.484730</td>\n",
       "      <td>5</td>\n",
       "      <td>30.0</td>\n",
       "    </tr>\n",
       "    <tr>\n",
       "      <th>2017-01-06</th>\n",
       "      <td>0.461945</td>\n",
       "      <td>1.727822</td>\n",
       "      <td>0.094541</td>\n",
       "      <td>2.323853</td>\n",
       "      <td>6</td>\n",
       "      <td>30.0</td>\n",
       "    </tr>\n",
       "    <tr>\n",
       "      <th>2017-01-07</th>\n",
       "      <td>-0.215562</td>\n",
       "      <td>-0.174704</td>\n",
       "      <td>-0.416099</td>\n",
       "      <td>-0.092512</td>\n",
       "      <td>7</td>\n",
       "      <td>30.0</td>\n",
       "    </tr>\n",
       "    <tr>\n",
       "      <th>2017-01-08</th>\n",
       "      <td>-0.030202</td>\n",
       "      <td>-1.016389</td>\n",
       "      <td>-0.023042</td>\n",
       "      <td>-0.061567</td>\n",
       "      <td>8</td>\n",
       "      <td>30.0</td>\n",
       "    </tr>\n",
       "  </tbody>\n",
       "</table>\n",
       "</div>"
      ],
      "text/plain": [
       "                   A         B         C         D  E     F\n",
       "2017-01-01  1.090135 -0.689298 -0.493380 -1.266129  1  20.0\n",
       "2017-01-02 -0.495245 -1.130409 -0.784152 -1.971266  2  20.0\n",
       "2017-01-03 -0.604122  0.032015  0.006502 -1.380387  3  20.0\n",
       "2017-01-04  1.130771  0.556200  1.539788  0.925865  4  20.0\n",
       "2017-01-05  0.547072  1.658501 -0.451005 -0.484730  5  30.0\n",
       "2017-01-06  0.461945  1.727822  0.094541  2.323853  6  30.0\n",
       "2017-01-07 -0.215562 -0.174704 -0.416099 -0.092512  7  30.0\n",
       "2017-01-08 -0.030202 -1.016389 -0.023042 -0.061567  8  30.0"
      ]
     },
     "execution_count": 20,
     "metadata": {},
     "output_type": "execute_result"
    }
   ],
   "source": [
    "df.fillna(value=30)\n",
    "# note - these operations follow an immutable pattern"
   ]
  },
  {
   "cell_type": "markdown",
   "metadata": {
    "heading_collapsed": true,
    "hidden": true
   },
   "source": [
    "### isnull"
   ]
  },
  {
   "cell_type": "code",
   "execution_count": 21,
   "metadata": {
    "hidden": true
   },
   "outputs": [
    {
     "data": {
      "text/html": [
       "<div>\n",
       "<style scoped>\n",
       "    .dataframe tbody tr th:only-of-type {\n",
       "        vertical-align: middle;\n",
       "    }\n",
       "\n",
       "    .dataframe tbody tr th {\n",
       "        vertical-align: top;\n",
       "    }\n",
       "\n",
       "    .dataframe thead th {\n",
       "        text-align: right;\n",
       "    }\n",
       "</style>\n",
       "<table border=\"1\" class=\"dataframe\">\n",
       "  <thead>\n",
       "    <tr style=\"text-align: right;\">\n",
       "      <th></th>\n",
       "      <th>A</th>\n",
       "      <th>B</th>\n",
       "      <th>C</th>\n",
       "      <th>D</th>\n",
       "      <th>E</th>\n",
       "      <th>F</th>\n",
       "    </tr>\n",
       "  </thead>\n",
       "  <tbody>\n",
       "    <tr>\n",
       "      <th>2017-01-01</th>\n",
       "      <td>False</td>\n",
       "      <td>False</td>\n",
       "      <td>False</td>\n",
       "      <td>False</td>\n",
       "      <td>False</td>\n",
       "      <td>False</td>\n",
       "    </tr>\n",
       "    <tr>\n",
       "      <th>2017-01-02</th>\n",
       "      <td>False</td>\n",
       "      <td>False</td>\n",
       "      <td>False</td>\n",
       "      <td>False</td>\n",
       "      <td>False</td>\n",
       "      <td>False</td>\n",
       "    </tr>\n",
       "    <tr>\n",
       "      <th>2017-01-03</th>\n",
       "      <td>False</td>\n",
       "      <td>False</td>\n",
       "      <td>False</td>\n",
       "      <td>False</td>\n",
       "      <td>False</td>\n",
       "      <td>False</td>\n",
       "    </tr>\n",
       "    <tr>\n",
       "      <th>2017-01-04</th>\n",
       "      <td>False</td>\n",
       "      <td>False</td>\n",
       "      <td>False</td>\n",
       "      <td>False</td>\n",
       "      <td>False</td>\n",
       "      <td>False</td>\n",
       "    </tr>\n",
       "    <tr>\n",
       "      <th>2017-01-05</th>\n",
       "      <td>False</td>\n",
       "      <td>False</td>\n",
       "      <td>False</td>\n",
       "      <td>False</td>\n",
       "      <td>False</td>\n",
       "      <td>True</td>\n",
       "    </tr>\n",
       "    <tr>\n",
       "      <th>2017-01-06</th>\n",
       "      <td>False</td>\n",
       "      <td>False</td>\n",
       "      <td>False</td>\n",
       "      <td>False</td>\n",
       "      <td>False</td>\n",
       "      <td>True</td>\n",
       "    </tr>\n",
       "    <tr>\n",
       "      <th>2017-01-07</th>\n",
       "      <td>False</td>\n",
       "      <td>False</td>\n",
       "      <td>False</td>\n",
       "      <td>False</td>\n",
       "      <td>False</td>\n",
       "      <td>True</td>\n",
       "    </tr>\n",
       "    <tr>\n",
       "      <th>2017-01-08</th>\n",
       "      <td>False</td>\n",
       "      <td>False</td>\n",
       "      <td>False</td>\n",
       "      <td>False</td>\n",
       "      <td>False</td>\n",
       "      <td>True</td>\n",
       "    </tr>\n",
       "  </tbody>\n",
       "</table>\n",
       "</div>"
      ],
      "text/plain": [
       "                A      B      C      D      E      F\n",
       "2017-01-01  False  False  False  False  False  False\n",
       "2017-01-02  False  False  False  False  False  False\n",
       "2017-01-03  False  False  False  False  False  False\n",
       "2017-01-04  False  False  False  False  False  False\n",
       "2017-01-05  False  False  False  False  False   True\n",
       "2017-01-06  False  False  False  False  False   True\n",
       "2017-01-07  False  False  False  False  False   True\n",
       "2017-01-08  False  False  False  False  False   True"
      ]
     },
     "execution_count": 21,
     "metadata": {},
     "output_type": "execute_result"
    }
   ],
   "source": [
    "pd.isnull(df)"
   ]
  },
  {
   "cell_type": "markdown",
   "metadata": {
    "heading_collapsed": true
   },
   "source": [
    "## Reshaping"
   ]
  },
  {
   "cell_type": "markdown",
   "metadata": {
    "heading_collapsed": true,
    "hidden": true
   },
   "source": [
    "### Dropping column "
   ]
  },
  {
   "cell_type": "code",
   "execution_count": 22,
   "metadata": {
    "hidden": true
   },
   "outputs": [],
   "source": [
    "# make a silly column\n",
    "df[dates[0],'A']  = 4"
   ]
  },
  {
   "cell_type": "code",
   "execution_count": 23,
   "metadata": {
    "hidden": true
   },
   "outputs": [
    {
     "data": {
      "text/html": [
       "<div>\n",
       "<style scoped>\n",
       "    .dataframe tbody tr th:only-of-type {\n",
       "        vertical-align: middle;\n",
       "    }\n",
       "\n",
       "    .dataframe tbody tr th {\n",
       "        vertical-align: top;\n",
       "    }\n",
       "\n",
       "    .dataframe thead th {\n",
       "        text-align: right;\n",
       "    }\n",
       "</style>\n",
       "<table border=\"1\" class=\"dataframe\">\n",
       "  <thead>\n",
       "    <tr style=\"text-align: right;\">\n",
       "      <th></th>\n",
       "      <th>A</th>\n",
       "      <th>B</th>\n",
       "      <th>C</th>\n",
       "      <th>D</th>\n",
       "      <th>E</th>\n",
       "      <th>F</th>\n",
       "      <th>(2017-01-01 00:00:00, A)</th>\n",
       "    </tr>\n",
       "  </thead>\n",
       "  <tbody>\n",
       "    <tr>\n",
       "      <th>2017-01-01</th>\n",
       "      <td>1.090135</td>\n",
       "      <td>-0.689298</td>\n",
       "      <td>-0.493380</td>\n",
       "      <td>-1.266129</td>\n",
       "      <td>1</td>\n",
       "      <td>20.0</td>\n",
       "      <td>4</td>\n",
       "    </tr>\n",
       "    <tr>\n",
       "      <th>2017-01-02</th>\n",
       "      <td>-0.495245</td>\n",
       "      <td>-1.130409</td>\n",
       "      <td>-0.784152</td>\n",
       "      <td>-1.971266</td>\n",
       "      <td>2</td>\n",
       "      <td>20.0</td>\n",
       "      <td>4</td>\n",
       "    </tr>\n",
       "    <tr>\n",
       "      <th>2017-01-03</th>\n",
       "      <td>-0.604122</td>\n",
       "      <td>0.032015</td>\n",
       "      <td>0.006502</td>\n",
       "      <td>-1.380387</td>\n",
       "      <td>3</td>\n",
       "      <td>20.0</td>\n",
       "      <td>4</td>\n",
       "    </tr>\n",
       "    <tr>\n",
       "      <th>2017-01-04</th>\n",
       "      <td>1.130771</td>\n",
       "      <td>0.556200</td>\n",
       "      <td>1.539788</td>\n",
       "      <td>0.925865</td>\n",
       "      <td>4</td>\n",
       "      <td>20.0</td>\n",
       "      <td>4</td>\n",
       "    </tr>\n",
       "    <tr>\n",
       "      <th>2017-01-05</th>\n",
       "      <td>0.547072</td>\n",
       "      <td>1.658501</td>\n",
       "      <td>-0.451005</td>\n",
       "      <td>-0.484730</td>\n",
       "      <td>5</td>\n",
       "      <td>NaN</td>\n",
       "      <td>4</td>\n",
       "    </tr>\n",
       "    <tr>\n",
       "      <th>2017-01-06</th>\n",
       "      <td>0.461945</td>\n",
       "      <td>1.727822</td>\n",
       "      <td>0.094541</td>\n",
       "      <td>2.323853</td>\n",
       "      <td>6</td>\n",
       "      <td>NaN</td>\n",
       "      <td>4</td>\n",
       "    </tr>\n",
       "    <tr>\n",
       "      <th>2017-01-07</th>\n",
       "      <td>-0.215562</td>\n",
       "      <td>-0.174704</td>\n",
       "      <td>-0.416099</td>\n",
       "      <td>-0.092512</td>\n",
       "      <td>7</td>\n",
       "      <td>NaN</td>\n",
       "      <td>4</td>\n",
       "    </tr>\n",
       "    <tr>\n",
       "      <th>2017-01-08</th>\n",
       "      <td>-0.030202</td>\n",
       "      <td>-1.016389</td>\n",
       "      <td>-0.023042</td>\n",
       "      <td>-0.061567</td>\n",
       "      <td>8</td>\n",
       "      <td>NaN</td>\n",
       "      <td>4</td>\n",
       "    </tr>\n",
       "  </tbody>\n",
       "</table>\n",
       "</div>"
      ],
      "text/plain": [
       "                   A         B         C         D  E     F  \\\n",
       "2017-01-01  1.090135 -0.689298 -0.493380 -1.266129  1  20.0   \n",
       "2017-01-02 -0.495245 -1.130409 -0.784152 -1.971266  2  20.0   \n",
       "2017-01-03 -0.604122  0.032015  0.006502 -1.380387  3  20.0   \n",
       "2017-01-04  1.130771  0.556200  1.539788  0.925865  4  20.0   \n",
       "2017-01-05  0.547072  1.658501 -0.451005 -0.484730  5   NaN   \n",
       "2017-01-06  0.461945  1.727822  0.094541  2.323853  6   NaN   \n",
       "2017-01-07 -0.215562 -0.174704 -0.416099 -0.092512  7   NaN   \n",
       "2017-01-08 -0.030202 -1.016389 -0.023042 -0.061567  8   NaN   \n",
       "\n",
       "            (2017-01-01 00:00:00, A)  \n",
       "2017-01-01                         4  \n",
       "2017-01-02                         4  \n",
       "2017-01-03                         4  \n",
       "2017-01-04                         4  \n",
       "2017-01-05                         4  \n",
       "2017-01-06                         4  \n",
       "2017-01-07                         4  \n",
       "2017-01-08                         4  "
      ]
     },
     "execution_count": 23,
     "metadata": {},
     "output_type": "execute_result"
    }
   ],
   "source": [
    "df"
   ]
  },
  {
   "cell_type": "code",
   "execution_count": 24,
   "metadata": {
    "hidden": true
   },
   "outputs": [],
   "source": [
    "# remove the silly column\n",
    "df.drop(labels=df.columns[5],axis=1,inplace=True)"
   ]
  },
  {
   "cell_type": "markdown",
   "metadata": {
    "hidden": true
   },
   "source": [
    "<br>"
   ]
  },
  {
   "cell_type": "markdown",
   "metadata": {
    "heading_collapsed": true
   },
   "source": [
    "## Sorting "
   ]
  },
  {
   "cell_type": "markdown",
   "metadata": {
    "heading_collapsed": true,
    "hidden": true
   },
   "source": [
    "### Sort Using sort_index note inplace default is false"
   ]
  },
  {
   "cell_type": "code",
   "execution_count": 25,
   "metadata": {
    "hidden": true
   },
   "outputs": [
    {
     "data": {
      "text/html": [
       "<div>\n",
       "<style scoped>\n",
       "    .dataframe tbody tr th:only-of-type {\n",
       "        vertical-align: middle;\n",
       "    }\n",
       "\n",
       "    .dataframe tbody tr th {\n",
       "        vertical-align: top;\n",
       "    }\n",
       "\n",
       "    .dataframe thead th {\n",
       "        text-align: right;\n",
       "    }\n",
       "</style>\n",
       "<table border=\"1\" class=\"dataframe\">\n",
       "  <thead>\n",
       "    <tr style=\"text-align: right;\">\n",
       "      <th></th>\n",
       "      <th>2017-01-01 00:00:00</th>\n",
       "      <th>2017-01-02 00:00:00</th>\n",
       "      <th>2017-01-03 00:00:00</th>\n",
       "      <th>2017-01-04 00:00:00</th>\n",
       "      <th>2017-01-05 00:00:00</th>\n",
       "      <th>2017-01-06 00:00:00</th>\n",
       "      <th>2017-01-07 00:00:00</th>\n",
       "      <th>2017-01-08 00:00:00</th>\n",
       "    </tr>\n",
       "  </thead>\n",
       "  <tbody>\n",
       "    <tr>\n",
       "      <th>A</th>\n",
       "      <td>1.090135</td>\n",
       "      <td>-0.495245</td>\n",
       "      <td>-0.604122</td>\n",
       "      <td>1.130771</td>\n",
       "      <td>0.547072</td>\n",
       "      <td>0.461945</td>\n",
       "      <td>-0.215562</td>\n",
       "      <td>-0.030202</td>\n",
       "    </tr>\n",
       "    <tr>\n",
       "      <th>B</th>\n",
       "      <td>-0.689298</td>\n",
       "      <td>-1.130409</td>\n",
       "      <td>0.032015</td>\n",
       "      <td>0.556200</td>\n",
       "      <td>1.658501</td>\n",
       "      <td>1.727822</td>\n",
       "      <td>-0.174704</td>\n",
       "      <td>-1.016389</td>\n",
       "    </tr>\n",
       "    <tr>\n",
       "      <th>C</th>\n",
       "      <td>-0.493380</td>\n",
       "      <td>-0.784152</td>\n",
       "      <td>0.006502</td>\n",
       "      <td>1.539788</td>\n",
       "      <td>-0.451005</td>\n",
       "      <td>0.094541</td>\n",
       "      <td>-0.416099</td>\n",
       "      <td>-0.023042</td>\n",
       "    </tr>\n",
       "    <tr>\n",
       "      <th>D</th>\n",
       "      <td>-1.266129</td>\n",
       "      <td>-1.971266</td>\n",
       "      <td>-1.380387</td>\n",
       "      <td>0.925865</td>\n",
       "      <td>-0.484730</td>\n",
       "      <td>2.323853</td>\n",
       "      <td>-0.092512</td>\n",
       "      <td>-0.061567</td>\n",
       "    </tr>\n",
       "    <tr>\n",
       "      <th>E</th>\n",
       "      <td>1.000000</td>\n",
       "      <td>2.000000</td>\n",
       "      <td>3.000000</td>\n",
       "      <td>4.000000</td>\n",
       "      <td>5.000000</td>\n",
       "      <td>6.000000</td>\n",
       "      <td>7.000000</td>\n",
       "      <td>8.000000</td>\n",
       "    </tr>\n",
       "    <tr>\n",
       "      <th>(2017-01-01 00:00:00, A)</th>\n",
       "      <td>4.000000</td>\n",
       "      <td>4.000000</td>\n",
       "      <td>4.000000</td>\n",
       "      <td>4.000000</td>\n",
       "      <td>4.000000</td>\n",
       "      <td>4.000000</td>\n",
       "      <td>4.000000</td>\n",
       "      <td>4.000000</td>\n",
       "    </tr>\n",
       "  </tbody>\n",
       "</table>\n",
       "</div>"
      ],
      "text/plain": [
       "                          2017-01-01  2017-01-02  2017-01-03  2017-01-04  \\\n",
       "A                           1.090135   -0.495245   -0.604122    1.130771   \n",
       "B                          -0.689298   -1.130409    0.032015    0.556200   \n",
       "C                          -0.493380   -0.784152    0.006502    1.539788   \n",
       "D                          -1.266129   -1.971266   -1.380387    0.925865   \n",
       "E                           1.000000    2.000000    3.000000    4.000000   \n",
       "(2017-01-01 00:00:00, A)    4.000000    4.000000    4.000000    4.000000   \n",
       "\n",
       "                          2017-01-05  2017-01-06  2017-01-07  2017-01-08  \n",
       "A                           0.547072    0.461945   -0.215562   -0.030202  \n",
       "B                           1.658501    1.727822   -0.174704   -1.016389  \n",
       "C                          -0.451005    0.094541   -0.416099   -0.023042  \n",
       "D                          -0.484730    2.323853   -0.092512   -0.061567  \n",
       "E                           5.000000    6.000000    7.000000    8.000000  \n",
       "(2017-01-01 00:00:00, A)    4.000000    4.000000    4.000000    4.000000  "
      ]
     },
     "execution_count": 25,
     "metadata": {},
     "output_type": "execute_result"
    }
   ],
   "source": [
    "df.T"
   ]
  },
  {
   "cell_type": "markdown",
   "metadata": {
    "heading_collapsed": true,
    "hidden": true
   },
   "source": [
    "### Sort by Columns"
   ]
  },
  {
   "cell_type": "code",
   "execution_count": 26,
   "metadata": {
    "hidden": true
   },
   "outputs": [
    {
     "data": {
      "text/html": [
       "<div>\n",
       "<style scoped>\n",
       "    .dataframe tbody tr th:only-of-type {\n",
       "        vertical-align: middle;\n",
       "    }\n",
       "\n",
       "    .dataframe tbody tr th {\n",
       "        vertical-align: top;\n",
       "    }\n",
       "\n",
       "    .dataframe thead th {\n",
       "        text-align: right;\n",
       "    }\n",
       "</style>\n",
       "<table border=\"1\" class=\"dataframe\">\n",
       "  <thead>\n",
       "    <tr style=\"text-align: right;\">\n",
       "      <th></th>\n",
       "      <th>A</th>\n",
       "      <th>B</th>\n",
       "      <th>C</th>\n",
       "      <th>D</th>\n",
       "      <th>E</th>\n",
       "      <th>(2017-01-01 00:00:00, A)</th>\n",
       "    </tr>\n",
       "  </thead>\n",
       "  <tbody>\n",
       "    <tr>\n",
       "      <th>2017-01-08</th>\n",
       "      <td>-0.030202</td>\n",
       "      <td>-1.016389</td>\n",
       "      <td>-0.023042</td>\n",
       "      <td>-0.061567</td>\n",
       "      <td>8</td>\n",
       "      <td>4</td>\n",
       "    </tr>\n",
       "    <tr>\n",
       "      <th>2017-01-07</th>\n",
       "      <td>-0.215562</td>\n",
       "      <td>-0.174704</td>\n",
       "      <td>-0.416099</td>\n",
       "      <td>-0.092512</td>\n",
       "      <td>7</td>\n",
       "      <td>4</td>\n",
       "    </tr>\n",
       "    <tr>\n",
       "      <th>2017-01-06</th>\n",
       "      <td>0.461945</td>\n",
       "      <td>1.727822</td>\n",
       "      <td>0.094541</td>\n",
       "      <td>2.323853</td>\n",
       "      <td>6</td>\n",
       "      <td>4</td>\n",
       "    </tr>\n",
       "    <tr>\n",
       "      <th>2017-01-05</th>\n",
       "      <td>0.547072</td>\n",
       "      <td>1.658501</td>\n",
       "      <td>-0.451005</td>\n",
       "      <td>-0.484730</td>\n",
       "      <td>5</td>\n",
       "      <td>4</td>\n",
       "    </tr>\n",
       "    <tr>\n",
       "      <th>2017-01-04</th>\n",
       "      <td>1.130771</td>\n",
       "      <td>0.556200</td>\n",
       "      <td>1.539788</td>\n",
       "      <td>0.925865</td>\n",
       "      <td>4</td>\n",
       "      <td>4</td>\n",
       "    </tr>\n",
       "    <tr>\n",
       "      <th>2017-01-03</th>\n",
       "      <td>-0.604122</td>\n",
       "      <td>0.032015</td>\n",
       "      <td>0.006502</td>\n",
       "      <td>-1.380387</td>\n",
       "      <td>3</td>\n",
       "      <td>4</td>\n",
       "    </tr>\n",
       "    <tr>\n",
       "      <th>2017-01-02</th>\n",
       "      <td>-0.495245</td>\n",
       "      <td>-1.130409</td>\n",
       "      <td>-0.784152</td>\n",
       "      <td>-1.971266</td>\n",
       "      <td>2</td>\n",
       "      <td>4</td>\n",
       "    </tr>\n",
       "    <tr>\n",
       "      <th>2017-01-01</th>\n",
       "      <td>1.090135</td>\n",
       "      <td>-0.689298</td>\n",
       "      <td>-0.493380</td>\n",
       "      <td>-1.266129</td>\n",
       "      <td>1</td>\n",
       "      <td>4</td>\n",
       "    </tr>\n",
       "  </tbody>\n",
       "</table>\n",
       "</div>"
      ],
      "text/plain": [
       "                   A         B         C         D  E  \\\n",
       "2017-01-08 -0.030202 -1.016389 -0.023042 -0.061567  8   \n",
       "2017-01-07 -0.215562 -0.174704 -0.416099 -0.092512  7   \n",
       "2017-01-06  0.461945  1.727822  0.094541  2.323853  6   \n",
       "2017-01-05  0.547072  1.658501 -0.451005 -0.484730  5   \n",
       "2017-01-04  1.130771  0.556200  1.539788  0.925865  4   \n",
       "2017-01-03 -0.604122  0.032015  0.006502 -1.380387  3   \n",
       "2017-01-02 -0.495245 -1.130409 -0.784152 -1.971266  2   \n",
       "2017-01-01  1.090135 -0.689298 -0.493380 -1.266129  1   \n",
       "\n",
       "            (2017-01-01 00:00:00, A)  \n",
       "2017-01-08                         4  \n",
       "2017-01-07                         4  \n",
       "2017-01-06                         4  \n",
       "2017-01-05                         4  \n",
       "2017-01-04                         4  \n",
       "2017-01-03                         4  \n",
       "2017-01-02                         4  \n",
       "2017-01-01                         4  "
      ]
     },
     "execution_count": 26,
     "metadata": {},
     "output_type": "execute_result"
    }
   ],
   "source": [
    "df.sort_index(axis=0, ascending=False)"
   ]
  },
  {
   "cell_type": "markdown",
   "metadata": {
    "heading_collapsed": true,
    "hidden": true
   },
   "source": [
    "### Sort by index column"
   ]
  },
  {
   "cell_type": "code",
   "execution_count": 27,
   "metadata": {
    "hidden": true
   },
   "outputs": [
    {
     "data": {
      "text/html": [
       "<div>\n",
       "<style scoped>\n",
       "    .dataframe tbody tr th:only-of-type {\n",
       "        vertical-align: middle;\n",
       "    }\n",
       "\n",
       "    .dataframe tbody tr th {\n",
       "        vertical-align: top;\n",
       "    }\n",
       "\n",
       "    .dataframe thead th {\n",
       "        text-align: right;\n",
       "    }\n",
       "</style>\n",
       "<table border=\"1\" class=\"dataframe\">\n",
       "  <thead>\n",
       "    <tr style=\"text-align: right;\">\n",
       "      <th></th>\n",
       "      <th>A</th>\n",
       "      <th>B</th>\n",
       "      <th>C</th>\n",
       "      <th>D</th>\n",
       "      <th>E</th>\n",
       "      <th>(2017-01-01 00:00:00, A)</th>\n",
       "    </tr>\n",
       "  </thead>\n",
       "  <tbody>\n",
       "    <tr>\n",
       "      <th>2017-01-08</th>\n",
       "      <td>-0.030202</td>\n",
       "      <td>-1.016389</td>\n",
       "      <td>-0.023042</td>\n",
       "      <td>-0.061567</td>\n",
       "      <td>8</td>\n",
       "      <td>4</td>\n",
       "    </tr>\n",
       "    <tr>\n",
       "      <th>2017-01-07</th>\n",
       "      <td>-0.215562</td>\n",
       "      <td>-0.174704</td>\n",
       "      <td>-0.416099</td>\n",
       "      <td>-0.092512</td>\n",
       "      <td>7</td>\n",
       "      <td>4</td>\n",
       "    </tr>\n",
       "    <tr>\n",
       "      <th>2017-01-06</th>\n",
       "      <td>0.461945</td>\n",
       "      <td>1.727822</td>\n",
       "      <td>0.094541</td>\n",
       "      <td>2.323853</td>\n",
       "      <td>6</td>\n",
       "      <td>4</td>\n",
       "    </tr>\n",
       "    <tr>\n",
       "      <th>2017-01-05</th>\n",
       "      <td>0.547072</td>\n",
       "      <td>1.658501</td>\n",
       "      <td>-0.451005</td>\n",
       "      <td>-0.484730</td>\n",
       "      <td>5</td>\n",
       "      <td>4</td>\n",
       "    </tr>\n",
       "    <tr>\n",
       "      <th>2017-01-04</th>\n",
       "      <td>1.130771</td>\n",
       "      <td>0.556200</td>\n",
       "      <td>1.539788</td>\n",
       "      <td>0.925865</td>\n",
       "      <td>4</td>\n",
       "      <td>4</td>\n",
       "    </tr>\n",
       "    <tr>\n",
       "      <th>2017-01-03</th>\n",
       "      <td>-0.604122</td>\n",
       "      <td>0.032015</td>\n",
       "      <td>0.006502</td>\n",
       "      <td>-1.380387</td>\n",
       "      <td>3</td>\n",
       "      <td>4</td>\n",
       "    </tr>\n",
       "    <tr>\n",
       "      <th>2017-01-02</th>\n",
       "      <td>-0.495245</td>\n",
       "      <td>-1.130409</td>\n",
       "      <td>-0.784152</td>\n",
       "      <td>-1.971266</td>\n",
       "      <td>2</td>\n",
       "      <td>4</td>\n",
       "    </tr>\n",
       "    <tr>\n",
       "      <th>2017-01-01</th>\n",
       "      <td>1.090135</td>\n",
       "      <td>-0.689298</td>\n",
       "      <td>-0.493380</td>\n",
       "      <td>-1.266129</td>\n",
       "      <td>1</td>\n",
       "      <td>4</td>\n",
       "    </tr>\n",
       "  </tbody>\n",
       "</table>\n",
       "</div>"
      ],
      "text/plain": [
       "                   A         B         C         D  E  \\\n",
       "2017-01-08 -0.030202 -1.016389 -0.023042 -0.061567  8   \n",
       "2017-01-07 -0.215562 -0.174704 -0.416099 -0.092512  7   \n",
       "2017-01-06  0.461945  1.727822  0.094541  2.323853  6   \n",
       "2017-01-05  0.547072  1.658501 -0.451005 -0.484730  5   \n",
       "2017-01-04  1.130771  0.556200  1.539788  0.925865  4   \n",
       "2017-01-03 -0.604122  0.032015  0.006502 -1.380387  3   \n",
       "2017-01-02 -0.495245 -1.130409 -0.784152 -1.971266  2   \n",
       "2017-01-01  1.090135 -0.689298 -0.493380 -1.266129  1   \n",
       "\n",
       "            (2017-01-01 00:00:00, A)  \n",
       "2017-01-08                         4  \n",
       "2017-01-07                         4  \n",
       "2017-01-06                         4  \n",
       "2017-01-05                         4  \n",
       "2017-01-04                         4  \n",
       "2017-01-03                         4  \n",
       "2017-01-02                         4  \n",
       "2017-01-01                         4  "
      ]
     },
     "execution_count": 27,
     "metadata": {},
     "output_type": "execute_result"
    }
   ],
   "source": [
    "df.sort_index(axis=0, ascending=False)"
   ]
  },
  {
   "cell_type": "markdown",
   "metadata": {
    "heading_collapsed": true,
    "hidden": true
   },
   "source": [
    "### Sort by values"
   ]
  },
  {
   "cell_type": "code",
   "execution_count": 28,
   "metadata": {
    "hidden": true
   },
   "outputs": [
    {
     "data": {
      "text/html": [
       "<div>\n",
       "<style scoped>\n",
       "    .dataframe tbody tr th:only-of-type {\n",
       "        vertical-align: middle;\n",
       "    }\n",
       "\n",
       "    .dataframe tbody tr th {\n",
       "        vertical-align: top;\n",
       "    }\n",
       "\n",
       "    .dataframe thead th {\n",
       "        text-align: right;\n",
       "    }\n",
       "</style>\n",
       "<table border=\"1\" class=\"dataframe\">\n",
       "  <thead>\n",
       "    <tr style=\"text-align: right;\">\n",
       "      <th></th>\n",
       "      <th>A</th>\n",
       "      <th>B</th>\n",
       "      <th>C</th>\n",
       "      <th>D</th>\n",
       "      <th>E</th>\n",
       "      <th>(2017-01-01 00:00:00, A)</th>\n",
       "    </tr>\n",
       "  </thead>\n",
       "  <tbody>\n",
       "    <tr>\n",
       "      <th>2017-01-06</th>\n",
       "      <td>0.461945</td>\n",
       "      <td>1.727822</td>\n",
       "      <td>0.094541</td>\n",
       "      <td>2.323853</td>\n",
       "      <td>6</td>\n",
       "      <td>4</td>\n",
       "    </tr>\n",
       "    <tr>\n",
       "      <th>2017-01-05</th>\n",
       "      <td>0.547072</td>\n",
       "      <td>1.658501</td>\n",
       "      <td>-0.451005</td>\n",
       "      <td>-0.484730</td>\n",
       "      <td>5</td>\n",
       "      <td>4</td>\n",
       "    </tr>\n",
       "    <tr>\n",
       "      <th>2017-01-04</th>\n",
       "      <td>1.130771</td>\n",
       "      <td>0.556200</td>\n",
       "      <td>1.539788</td>\n",
       "      <td>0.925865</td>\n",
       "      <td>4</td>\n",
       "      <td>4</td>\n",
       "    </tr>\n",
       "    <tr>\n",
       "      <th>2017-01-03</th>\n",
       "      <td>-0.604122</td>\n",
       "      <td>0.032015</td>\n",
       "      <td>0.006502</td>\n",
       "      <td>-1.380387</td>\n",
       "      <td>3</td>\n",
       "      <td>4</td>\n",
       "    </tr>\n",
       "    <tr>\n",
       "      <th>2017-01-07</th>\n",
       "      <td>-0.215562</td>\n",
       "      <td>-0.174704</td>\n",
       "      <td>-0.416099</td>\n",
       "      <td>-0.092512</td>\n",
       "      <td>7</td>\n",
       "      <td>4</td>\n",
       "    </tr>\n",
       "    <tr>\n",
       "      <th>2017-01-01</th>\n",
       "      <td>1.090135</td>\n",
       "      <td>-0.689298</td>\n",
       "      <td>-0.493380</td>\n",
       "      <td>-1.266129</td>\n",
       "      <td>1</td>\n",
       "      <td>4</td>\n",
       "    </tr>\n",
       "    <tr>\n",
       "      <th>2017-01-08</th>\n",
       "      <td>-0.030202</td>\n",
       "      <td>-1.016389</td>\n",
       "      <td>-0.023042</td>\n",
       "      <td>-0.061567</td>\n",
       "      <td>8</td>\n",
       "      <td>4</td>\n",
       "    </tr>\n",
       "    <tr>\n",
       "      <th>2017-01-02</th>\n",
       "      <td>-0.495245</td>\n",
       "      <td>-1.130409</td>\n",
       "      <td>-0.784152</td>\n",
       "      <td>-1.971266</td>\n",
       "      <td>2</td>\n",
       "      <td>4</td>\n",
       "    </tr>\n",
       "  </tbody>\n",
       "</table>\n",
       "</div>"
      ],
      "text/plain": [
       "                   A         B         C         D  E  \\\n",
       "2017-01-06  0.461945  1.727822  0.094541  2.323853  6   \n",
       "2017-01-05  0.547072  1.658501 -0.451005 -0.484730  5   \n",
       "2017-01-04  1.130771  0.556200  1.539788  0.925865  4   \n",
       "2017-01-03 -0.604122  0.032015  0.006502 -1.380387  3   \n",
       "2017-01-07 -0.215562 -0.174704 -0.416099 -0.092512  7   \n",
       "2017-01-01  1.090135 -0.689298 -0.493380 -1.266129  1   \n",
       "2017-01-08 -0.030202 -1.016389 -0.023042 -0.061567  8   \n",
       "2017-01-02 -0.495245 -1.130409 -0.784152 -1.971266  2   \n",
       "\n",
       "            (2017-01-01 00:00:00, A)  \n",
       "2017-01-06                         4  \n",
       "2017-01-05                         4  \n",
       "2017-01-04                         4  \n",
       "2017-01-03                         4  \n",
       "2017-01-07                         4  \n",
       "2017-01-01                         4  \n",
       "2017-01-08                         4  \n",
       "2017-01-02                         4  "
      ]
     },
     "execution_count": 28,
     "metadata": {},
     "output_type": "execute_result"
    }
   ],
   "source": [
    "df.sort_values(by='B',ascending=False,axis=0)"
   ]
  },
  {
   "cell_type": "markdown",
   "metadata": {
    "heading_collapsed": true
   },
   "source": [
    "## Edit column width for Long Strings"
   ]
  },
  {
   "cell_type": "code",
   "execution_count": 29,
   "metadata": {
    "hidden": true
   },
   "outputs": [
    {
     "data": {
      "text/html": [
       "<div>\n",
       "<style scoped>\n",
       "    .dataframe tbody tr th:only-of-type {\n",
       "        vertical-align: middle;\n",
       "    }\n",
       "\n",
       "    .dataframe tbody tr th {\n",
       "        vertical-align: top;\n",
       "    }\n",
       "\n",
       "    .dataframe thead th {\n",
       "        text-align: right;\n",
       "    }\n",
       "</style>\n",
       "<table border=\"1\" class=\"dataframe\">\n",
       "  <thead>\n",
       "    <tr style=\"text-align: right;\">\n",
       "      <th></th>\n",
       "      <th>Long String</th>\n",
       "    </tr>\n",
       "  </thead>\n",
       "  <tbody>\n",
       "    <tr>\n",
       "      <th>0</th>\n",
       "      <td>Lorem ipsum dolor sit amet, consectetur adipiscing elit. \\nMorbi sed tincidunt massa. Praesent iaculis molestie accumsan. \\nCurabitur ac arcu sit amet nisi porta commodo. Praesent vel cursus urna....</td>\n",
       "    </tr>\n",
       "  </tbody>\n",
       "</table>\n",
       "</div>"
      ],
      "text/plain": [
       "                                                                                                                                                                                               Long String\n",
       "0  Lorem ipsum dolor sit amet, consectetur adipiscing elit. \\nMorbi sed tincidunt massa. Praesent iaculis molestie accumsan. \\nCurabitur ac arcu sit amet nisi porta commodo. Praesent vel cursus urna...."
      ]
     },
     "execution_count": 29,
     "metadata": {},
     "output_type": "execute_result"
    }
   ],
   "source": [
    "pd.set_option('display.max_colwidth', 200)\n",
    "\n",
    "pd.DataFrame({\"Long String\":\"\"\"Lorem ipsum dolor sit amet, consectetur adipiscing elit. \n",
    "Morbi sed tincidunt massa. Praesent iaculis molestie accumsan. \n",
    "Curabitur ac arcu sit amet nisi porta commodo. Praesent vel cursus urna. \n",
    "Nulla velit ante, laoreet ut velit sit amet, faucibus congue mi.\"\"\"},index=range(1))"
   ]
  },
  {
   "cell_type": "code",
   "execution_count": 30,
   "metadata": {
    "hidden": true
   },
   "outputs": [
    {
     "data": {
      "text/html": [
       "<div>\n",
       "<style scoped>\n",
       "    .dataframe tbody tr th:only-of-type {\n",
       "        vertical-align: middle;\n",
       "    }\n",
       "\n",
       "    .dataframe tbody tr th {\n",
       "        vertical-align: top;\n",
       "    }\n",
       "\n",
       "    .dataframe thead th {\n",
       "        text-align: right;\n",
       "    }\n",
       "</style>\n",
       "<table border=\"1\" class=\"dataframe\">\n",
       "  <thead>\n",
       "    <tr style=\"text-align: right;\">\n",
       "      <th></th>\n",
       "      <th>Long String</th>\n",
       "    </tr>\n",
       "  </thead>\n",
       "  <tbody>\n",
       "    <tr>\n",
       "      <th>0</th>\n",
       "      <td>Lorem ipsum dolor sit amet, consectetur adipis...</td>\n",
       "    </tr>\n",
       "  </tbody>\n",
       "</table>\n",
       "</div>"
      ],
      "text/plain": [
       "                                         Long String\n",
       "0  Lorem ipsum dolor sit amet, consectetur adipis..."
      ]
     },
     "execution_count": 30,
     "metadata": {},
     "output_type": "execute_result"
    }
   ],
   "source": [
    "pd.set_option('display.max_colwidth', 50) # Default\n",
    "\n",
    "pd.DataFrame({\"Long String\":\"\"\"Lorem ipsum dolor sit amet, consectetur adipiscing elit. \n",
    "Morbi sed tincidunt massa. Praesent iaculis molestie accumsan. \n",
    "Curabitur ac arcu sit amet nisi porta commodo. Praesent vel cursus urna. \n",
    "Nulla velit ante, laoreet ut velit sit amet, faucibus congue mi.\"\"\"},index=range(1))"
   ]
  },
  {
   "cell_type": "markdown",
   "metadata": {
    "heading_collapsed": true
   },
   "source": [
    "## Creating DataFrame from .csv "
   ]
  },
  {
   "cell_type": "markdown",
   "metadata": {
    "heading_collapsed": true,
    "hidden": true
   },
   "source": [
    "### load csv"
   ]
  },
  {
   "cell_type": "code",
   "execution_count": 33,
   "metadata": {
    "hidden": true
   },
   "outputs": [],
   "source": [
    "df3 = pd.read_csv('example_csv.csv')"
   ]
  },
  {
   "cell_type": "code",
   "execution_count": 37,
   "metadata": {
    "hidden": true
   },
   "outputs": [
    {
     "name": "stdout",
     "output_type": "stream",
     "text": [
      "Collecting progressbar2\n",
      "  Using cached https://files.pythonhosted.org/packages/16/68/adc395e0a3c86571081c8a2e2daaa5b58270f6854276a089a0e9b5fa2c33/progressbar2-3.47.0-py2.py3-none-any.whl\n",
      "Collecting python-utils>=2.3.0 (from progressbar2)\n",
      "  Using cached https://files.pythonhosted.org/packages/eb/a0/19119d8b7c05be49baf6c593f11c432d571b70d805f2fe94c0585e55e4c8/python_utils-2.3.0-py2.py3-none-any.whl\n",
      "Requirement already satisfied: six in /usr/local/lib/python3.7/site-packages (from progressbar2) (1.12.0)\n",
      "Installing collected packages: python-utils, progressbar2\n",
      "Successfully installed progressbar2-3.47.0 python-utils-2.3.0\n"
     ]
    }
   ],
   "source": [
    "%%bash\n",
    "pip3 install progressbar2"
   ]
  },
  {
   "cell_type": "code",
   "execution_count": 38,
   "metadata": {
    "hidden": true
   },
   "outputs": [
    {
     "name": "stderr",
     "output_type": "stream",
     "text": [
      "{=========================================================================}100%\n"
     ]
    }
   ],
   "source": [
    "import progressbar\n",
    "bar = progressbar.ProgressBar(widgets=[progressbar.Bar('=','{',\"}\"), progressbar.Percentage()])\n",
    "for i in bar(range(800000)):\n",
    "    bar.update(i+1)\n"
   ]
  },
  {
   "cell_type": "markdown",
   "metadata": {
    "heading_collapsed": true,
    "hidden": true
   },
   "source": [
    "### Pivot data dataframe"
   ]
  },
  {
   "cell_type": "code",
   "execution_count": 39,
   "metadata": {
    "hidden": true
   },
   "outputs": [
    {
     "data": {
      "text/html": [
       "<div>\n",
       "<style scoped>\n",
       "    .dataframe tbody tr th:only-of-type {\n",
       "        vertical-align: middle;\n",
       "    }\n",
       "\n",
       "    .dataframe tbody tr th {\n",
       "        vertical-align: top;\n",
       "    }\n",
       "\n",
       "    .dataframe thead tr th {\n",
       "        text-align: left;\n",
       "    }\n",
       "\n",
       "    .dataframe thead tr:last-of-type th {\n",
       "        text-align: right;\n",
       "    }\n",
       "</style>\n",
       "<table border=\"1\" class=\"dataframe\">\n",
       "  <thead>\n",
       "    <tr>\n",
       "      <th></th>\n",
       "      <th colspan=\"4\" halign=\"left\">mean</th>\n",
       "    </tr>\n",
       "    <tr>\n",
       "      <th></th>\n",
       "      <th colspan=\"2\" halign=\"left\">bad_column</th>\n",
       "      <th colspan=\"2\" halign=\"left\">weight</th>\n",
       "    </tr>\n",
       "    <tr>\n",
       "      <th>employed</th>\n",
       "      <th>False</th>\n",
       "      <th>True</th>\n",
       "      <th>False</th>\n",
       "      <th>True</th>\n",
       "    </tr>\n",
       "    <tr>\n",
       "      <th>animal</th>\n",
       "      <th></th>\n",
       "      <th></th>\n",
       "      <th></th>\n",
       "      <th></th>\n",
       "    </tr>\n",
       "  </thead>\n",
       "  <tbody>\n",
       "    <tr>\n",
       "      <th>lion</th>\n",
       "      <td>9.0</td>\n",
       "      <td>NaN</td>\n",
       "      <td>99.455342</td>\n",
       "      <td>80.434418</td>\n",
       "    </tr>\n",
       "    <tr>\n",
       "      <th>rhino</th>\n",
       "      <td>3.0</td>\n",
       "      <td>NaN</td>\n",
       "      <td>105.840994</td>\n",
       "      <td>NaN</td>\n",
       "    </tr>\n",
       "    <tr>\n",
       "      <th>zebra</th>\n",
       "      <td>3.0</td>\n",
       "      <td>1.0</td>\n",
       "      <td>103.979382</td>\n",
       "      <td>85.704014</td>\n",
       "    </tr>\n",
       "  </tbody>\n",
       "</table>\n",
       "</div>"
      ],
      "text/plain": [
       "               mean                             \n",
       "         bad_column            weight           \n",
       "employed      False True        False      True \n",
       "animal                                          \n",
       "lion            9.0   NaN   99.455342  80.434418\n",
       "rhino           3.0   NaN  105.840994        NaN\n",
       "zebra           3.0   1.0  103.979382  85.704014"
      ]
     },
     "execution_count": 39,
     "metadata": {},
     "output_type": "execute_result"
    }
   ],
   "source": [
    "import pandas as pd\n",
    "import numpy as np\n",
    "import random\n",
    "from datetime import datetime\n",
    "from dateutil.relativedelta import relativedelta\n",
    "\n",
    "# First we create example dataframe\n",
    "r = random.Random(12)\n",
    "\n",
    "\n",
    "def generate_random_date_in_last_year():\n",
    "    return (datetime.now() - relativedelta(days=365 * random.random())).date()\n",
    "\n",
    "\n",
    "dataframe = pd.DataFrame({\n",
    "    \"date_time\": [generate_random_date_in_last_year() for _ in range(10)],\n",
    "    \"animal\": ['zebra', 'zebra', 'zebra', 'zebra', 'lion', 'lion', 'lion',\n",
    "               'lion', 'rhino', 'rhino', ],\n",
    "    \"category\": ['stripy'] * 4 + ['dangerous'] * 6,\n",
    "    \"name\": ['Walter', 'Edmund', 'Gyles', 'John', 'Bartholomew', 'Frederyk',\n",
    "             'Raulf', 'Symond', 'Carlos', 'Arthur'],\n",
    "    \"weight\": [80 + 40 * r.random() for _ in range(10)],\n",
    "    \"favourite_integer\": [r.randint(0, 100) for _ in range(10)],\n",
    "    \"bad_column\": ['', 3, '', 1, None, 2, 23, 2, 3, 3],\n",
    "    'employed': [bool(r.randint(0, 1)) for i in range(10)]\n",
    "})\n",
    "dataframe.replace(to_replace='', value=np.nan, inplace=True)\n",
    "\n",
    "# Pivot table\n",
    "pivot_dataframe = pd.pivot_table(dataframe,\n",
    "                                 values=['weight', 'bad_column'],\n",
    "                                 index='animal',\n",
    "                                 columns='employed',\n",
    "                                 aggfunc=[np.mean])\n",
    "pivot_dataframe\n",
    "#          | mean       | mean       | mean               | mean\n",
    "#          | bad_column | bad_column | weight             | weight\n",
    "# employed | False      | True       | False              | True\n",
    "# animal   |            |            |                    |\n",
    "# lion     | 9.0        |            | 99.45534245035707  | 80.43441772360272\n",
    "# rhino    | 3.0        |            | 105.84099383532836 |\n",
    "# zebra    | 3.0        | 1.0        | 103.97938203294188 | 85.70401411701471"
   ]
  },
  {
   "cell_type": "code",
   "execution_count": 40,
   "metadata": {
    "hidden": true
   },
   "outputs": [],
   "source": [
    "# pivot_dataframe.to_clipboard(sep='|')"
   ]
  },
  {
   "cell_type": "markdown",
   "metadata": {
    "heading_collapsed": true,
    "hidden": true
   },
   "source": [
    "### Filter df by list"
   ]
  },
  {
   "cell_type": "code",
   "execution_count": 41,
   "metadata": {
    "hidden": true
   },
   "outputs": [
    {
     "data": {
      "text/html": [
       "<div>\n",
       "<style scoped>\n",
       "    .dataframe tbody tr th:only-of-type {\n",
       "        vertical-align: middle;\n",
       "    }\n",
       "\n",
       "    .dataframe tbody tr th {\n",
       "        vertical-align: top;\n",
       "    }\n",
       "\n",
       "    .dataframe thead th {\n",
       "        text-align: right;\n",
       "    }\n",
       "</style>\n",
       "<table border=\"1\" class=\"dataframe\">\n",
       "  <thead>\n",
       "    <tr style=\"text-align: right;\">\n",
       "      <th></th>\n",
       "      <th>date_time</th>\n",
       "      <th>animal</th>\n",
       "      <th>category</th>\n",
       "      <th>name</th>\n",
       "      <th>weight</th>\n",
       "      <th>favourite_integer</th>\n",
       "      <th>bad_column</th>\n",
       "      <th>employed</th>\n",
       "    </tr>\n",
       "  </thead>\n",
       "  <tbody>\n",
       "    <tr>\n",
       "      <th>4</th>\n",
       "      <td>2019-02-07</td>\n",
       "      <td>lion</td>\n",
       "      <td>dangerous</td>\n",
       "      <td>Bartholomew</td>\n",
       "      <td>80.434418</td>\n",
       "      <td>18</td>\n",
       "      <td>NaN</td>\n",
       "      <td>True</td>\n",
       "    </tr>\n",
       "    <tr>\n",
       "      <th>5</th>\n",
       "      <td>2019-06-11</td>\n",
       "      <td>lion</td>\n",
       "      <td>dangerous</td>\n",
       "      <td>Frederyk</td>\n",
       "      <td>94.990180</td>\n",
       "      <td>56</td>\n",
       "      <td>2.0</td>\n",
       "      <td>False</td>\n",
       "    </tr>\n",
       "    <tr>\n",
       "      <th>6</th>\n",
       "      <td>2019-01-28</td>\n",
       "      <td>lion</td>\n",
       "      <td>dangerous</td>\n",
       "      <td>Raulf</td>\n",
       "      <td>90.961926</td>\n",
       "      <td>47</td>\n",
       "      <td>23.0</td>\n",
       "      <td>False</td>\n",
       "    </tr>\n",
       "    <tr>\n",
       "      <th>7</th>\n",
       "      <td>2019-04-10</td>\n",
       "      <td>lion</td>\n",
       "      <td>dangerous</td>\n",
       "      <td>Symond</td>\n",
       "      <td>112.413922</td>\n",
       "      <td>20</td>\n",
       "      <td>2.0</td>\n",
       "      <td>False</td>\n",
       "    </tr>\n",
       "    <tr>\n",
       "      <th>8</th>\n",
       "      <td>2019-08-14</td>\n",
       "      <td>rhino</td>\n",
       "      <td>dangerous</td>\n",
       "      <td>Carlos</td>\n",
       "      <td>107.623706</td>\n",
       "      <td>43</td>\n",
       "      <td>3.0</td>\n",
       "      <td>False</td>\n",
       "    </tr>\n",
       "    <tr>\n",
       "      <th>9</th>\n",
       "      <td>2019-09-12</td>\n",
       "      <td>rhino</td>\n",
       "      <td>dangerous</td>\n",
       "      <td>Arthur</td>\n",
       "      <td>104.058282</td>\n",
       "      <td>26</td>\n",
       "      <td>3.0</td>\n",
       "      <td>False</td>\n",
       "    </tr>\n",
       "  </tbody>\n",
       "</table>\n",
       "</div>"
      ],
      "text/plain": [
       "    date_time animal   category         name      weight  favourite_integer  \\\n",
       "4  2019-02-07   lion  dangerous  Bartholomew   80.434418                 18   \n",
       "5  2019-06-11   lion  dangerous     Frederyk   94.990180                 56   \n",
       "6  2019-01-28   lion  dangerous        Raulf   90.961926                 47   \n",
       "7  2019-04-10   lion  dangerous       Symond  112.413922                 20   \n",
       "8  2019-08-14  rhino  dangerous       Carlos  107.623706                 43   \n",
       "9  2019-09-12  rhino  dangerous       Arthur  104.058282                 26   \n",
       "\n",
       "   bad_column  employed  \n",
       "4         NaN      True  \n",
       "5         2.0     False  \n",
       "6        23.0     False  \n",
       "7         2.0     False  \n",
       "8         3.0     False  \n",
       "9         3.0     False  "
      ]
     },
     "execution_count": 41,
     "metadata": {},
     "output_type": "execute_result"
    }
   ],
   "source": [
    "filter_list = ['lion','rhino']\n",
    "dataframe[dataframe['animal'].isin(filter_list)]"
   ]
  },
  {
   "cell_type": "code",
   "execution_count": 42,
   "metadata": {
    "hidden": true
   },
   "outputs": [
    {
     "data": {
      "text/html": [
       "<div>\n",
       "<style scoped>\n",
       "    .dataframe tbody tr th:only-of-type {\n",
       "        vertical-align: middle;\n",
       "    }\n",
       "\n",
       "    .dataframe tbody tr th {\n",
       "        vertical-align: top;\n",
       "    }\n",
       "\n",
       "    .dataframe thead th {\n",
       "        text-align: right;\n",
       "    }\n",
       "</style>\n",
       "<table border=\"1\" class=\"dataframe\">\n",
       "  <thead>\n",
       "    <tr style=\"text-align: right;\">\n",
       "      <th></th>\n",
       "      <th>date_time</th>\n",
       "      <th>animal</th>\n",
       "      <th>category</th>\n",
       "      <th>name</th>\n",
       "      <th>weight</th>\n",
       "      <th>favourite_integer</th>\n",
       "      <th>bad_column</th>\n",
       "      <th>employed</th>\n",
       "    </tr>\n",
       "  </thead>\n",
       "  <tbody>\n",
       "    <tr>\n",
       "      <th>4</th>\n",
       "      <td>2019-02-07</td>\n",
       "      <td>lion</td>\n",
       "      <td>dangerous</td>\n",
       "      <td>Bartholomew</td>\n",
       "      <td>80.434418</td>\n",
       "      <td>18</td>\n",
       "      <td>NaN</td>\n",
       "      <td>True</td>\n",
       "    </tr>\n",
       "    <tr>\n",
       "      <th>5</th>\n",
       "      <td>2019-06-11</td>\n",
       "      <td>lion</td>\n",
       "      <td>dangerous</td>\n",
       "      <td>Frederyk</td>\n",
       "      <td>94.990180</td>\n",
       "      <td>56</td>\n",
       "      <td>2.0</td>\n",
       "      <td>False</td>\n",
       "    </tr>\n",
       "    <tr>\n",
       "      <th>6</th>\n",
       "      <td>2019-01-28</td>\n",
       "      <td>lion</td>\n",
       "      <td>dangerous</td>\n",
       "      <td>Raulf</td>\n",
       "      <td>90.961926</td>\n",
       "      <td>47</td>\n",
       "      <td>23.0</td>\n",
       "      <td>False</td>\n",
       "    </tr>\n",
       "    <tr>\n",
       "      <th>7</th>\n",
       "      <td>2019-04-10</td>\n",
       "      <td>lion</td>\n",
       "      <td>dangerous</td>\n",
       "      <td>Symond</td>\n",
       "      <td>112.413922</td>\n",
       "      <td>20</td>\n",
       "      <td>2.0</td>\n",
       "      <td>False</td>\n",
       "    </tr>\n",
       "    <tr>\n",
       "      <th>8</th>\n",
       "      <td>2019-08-14</td>\n",
       "      <td>rhino</td>\n",
       "      <td>dangerous</td>\n",
       "      <td>Carlos</td>\n",
       "      <td>107.623706</td>\n",
       "      <td>43</td>\n",
       "      <td>3.0</td>\n",
       "      <td>False</td>\n",
       "    </tr>\n",
       "    <tr>\n",
       "      <th>9</th>\n",
       "      <td>2019-09-12</td>\n",
       "      <td>rhino</td>\n",
       "      <td>dangerous</td>\n",
       "      <td>Arthur</td>\n",
       "      <td>104.058282</td>\n",
       "      <td>26</td>\n",
       "      <td>3.0</td>\n",
       "      <td>False</td>\n",
       "    </tr>\n",
       "  </tbody>\n",
       "</table>\n",
       "</div>"
      ],
      "text/plain": [
       "    date_time animal   category         name      weight  favourite_integer  \\\n",
       "4  2019-02-07   lion  dangerous  Bartholomew   80.434418                 18   \n",
       "5  2019-06-11   lion  dangerous     Frederyk   94.990180                 56   \n",
       "6  2019-01-28   lion  dangerous        Raulf   90.961926                 47   \n",
       "7  2019-04-10   lion  dangerous       Symond  112.413922                 20   \n",
       "8  2019-08-14  rhino  dangerous       Carlos  107.623706                 43   \n",
       "9  2019-09-12  rhino  dangerous       Arthur  104.058282                 26   \n",
       "\n",
       "   bad_column  employed  \n",
       "4         NaN      True  \n",
       "5         2.0     False  \n",
       "6        23.0     False  \n",
       "7         2.0     False  \n",
       "8         3.0     False  \n",
       "9         3.0     False  "
      ]
     },
     "execution_count": 42,
     "metadata": {},
     "output_type": "execute_result"
    }
   ],
   "source": [
    "dataframe[dataframe['animal'].map(lambda x: x in filter_list)]"
   ]
  },
  {
   "cell_type": "code",
   "execution_count": 43,
   "metadata": {
    "hidden": true
   },
   "outputs": [
    {
     "data": {
      "text/html": [
       "<div>\n",
       "<style scoped>\n",
       "    .dataframe tbody tr th:only-of-type {\n",
       "        vertical-align: middle;\n",
       "    }\n",
       "\n",
       "    .dataframe tbody tr th {\n",
       "        vertical-align: top;\n",
       "    }\n",
       "\n",
       "    .dataframe thead th {\n",
       "        text-align: right;\n",
       "    }\n",
       "</style>\n",
       "<table border=\"1\" class=\"dataframe\">\n",
       "  <thead>\n",
       "    <tr style=\"text-align: right;\">\n",
       "      <th></th>\n",
       "      <th>date_time</th>\n",
       "      <th>animal</th>\n",
       "      <th>category</th>\n",
       "      <th>name</th>\n",
       "      <th>weight</th>\n",
       "      <th>favourite_integer</th>\n",
       "      <th>bad_column</th>\n",
       "      <th>employed</th>\n",
       "    </tr>\n",
       "  </thead>\n",
       "  <tbody>\n",
       "    <tr>\n",
       "      <th>4</th>\n",
       "      <td>2019-02-07</td>\n",
       "      <td>lion</td>\n",
       "      <td>dangerous</td>\n",
       "      <td>Bartholomew</td>\n",
       "      <td>80.434418</td>\n",
       "      <td>18</td>\n",
       "      <td>NaN</td>\n",
       "      <td>True</td>\n",
       "    </tr>\n",
       "    <tr>\n",
       "      <th>5</th>\n",
       "      <td>2019-06-11</td>\n",
       "      <td>lion</td>\n",
       "      <td>dangerous</td>\n",
       "      <td>Frederyk</td>\n",
       "      <td>94.990180</td>\n",
       "      <td>56</td>\n",
       "      <td>2.0</td>\n",
       "      <td>False</td>\n",
       "    </tr>\n",
       "    <tr>\n",
       "      <th>6</th>\n",
       "      <td>2019-01-28</td>\n",
       "      <td>lion</td>\n",
       "      <td>dangerous</td>\n",
       "      <td>Raulf</td>\n",
       "      <td>90.961926</td>\n",
       "      <td>47</td>\n",
       "      <td>23.0</td>\n",
       "      <td>False</td>\n",
       "    </tr>\n",
       "    <tr>\n",
       "      <th>7</th>\n",
       "      <td>2019-04-10</td>\n",
       "      <td>lion</td>\n",
       "      <td>dangerous</td>\n",
       "      <td>Symond</td>\n",
       "      <td>112.413922</td>\n",
       "      <td>20</td>\n",
       "      <td>2.0</td>\n",
       "      <td>False</td>\n",
       "    </tr>\n",
       "    <tr>\n",
       "      <th>8</th>\n",
       "      <td>2019-08-14</td>\n",
       "      <td>rhino</td>\n",
       "      <td>dangerous</td>\n",
       "      <td>Carlos</td>\n",
       "      <td>107.623706</td>\n",
       "      <td>43</td>\n",
       "      <td>3.0</td>\n",
       "      <td>False</td>\n",
       "    </tr>\n",
       "    <tr>\n",
       "      <th>9</th>\n",
       "      <td>2019-09-12</td>\n",
       "      <td>rhino</td>\n",
       "      <td>dangerous</td>\n",
       "      <td>Arthur</td>\n",
       "      <td>104.058282</td>\n",
       "      <td>26</td>\n",
       "      <td>3.0</td>\n",
       "      <td>False</td>\n",
       "    </tr>\n",
       "  </tbody>\n",
       "</table>\n",
       "</div>"
      ],
      "text/plain": [
       "    date_time animal   category         name      weight  favourite_integer  \\\n",
       "4  2019-02-07   lion  dangerous  Bartholomew   80.434418                 18   \n",
       "5  2019-06-11   lion  dangerous     Frederyk   94.990180                 56   \n",
       "6  2019-01-28   lion  dangerous        Raulf   90.961926                 47   \n",
       "7  2019-04-10   lion  dangerous       Symond  112.413922                 20   \n",
       "8  2019-08-14  rhino  dangerous       Carlos  107.623706                 43   \n",
       "9  2019-09-12  rhino  dangerous       Arthur  104.058282                 26   \n",
       "\n",
       "   bad_column  employed  \n",
       "4         NaN      True  \n",
       "5         2.0     False  \n",
       "6        23.0     False  \n",
       "7         2.0     False  \n",
       "8         3.0     False  \n",
       "9         3.0     False  "
      ]
     },
     "execution_count": 43,
     "metadata": {},
     "output_type": "execute_result"
    }
   ],
   "source": [
    "dataframe.query('animal in '+ str(filter_list))"
   ]
  },
  {
   "cell_type": "code",
   "execution_count": 44,
   "metadata": {
    "hidden": true
   },
   "outputs": [
    {
     "data": {
      "text/html": [
       "<div>\n",
       "<style scoped>\n",
       "    .dataframe tbody tr th:only-of-type {\n",
       "        vertical-align: middle;\n",
       "    }\n",
       "\n",
       "    .dataframe tbody tr th {\n",
       "        vertical-align: top;\n",
       "    }\n",
       "\n",
       "    .dataframe thead th {\n",
       "        text-align: right;\n",
       "    }\n",
       "</style>\n",
       "<table border=\"1\" class=\"dataframe\">\n",
       "  <thead>\n",
       "    <tr style=\"text-align: right;\">\n",
       "      <th></th>\n",
       "      <th>date_time</th>\n",
       "      <th>animal</th>\n",
       "      <th>category</th>\n",
       "      <th>name</th>\n",
       "      <th>weight</th>\n",
       "      <th>favourite_integer</th>\n",
       "      <th>bad_column</th>\n",
       "      <th>employed</th>\n",
       "    </tr>\n",
       "  </thead>\n",
       "  <tbody>\n",
       "    <tr>\n",
       "      <th>0</th>\n",
       "      <td>2019-02-13</td>\n",
       "      <td>zebra</td>\n",
       "      <td>stripy</td>\n",
       "      <td>Walter</td>\n",
       "      <td>98.982827</td>\n",
       "      <td>71</td>\n",
       "      <td>NaN</td>\n",
       "      <td>False</td>\n",
       "    </tr>\n",
       "    <tr>\n",
       "      <th>1</th>\n",
       "      <td>2019-07-28</td>\n",
       "      <td>zebra</td>\n",
       "      <td>stripy</td>\n",
       "      <td>Edmund</td>\n",
       "      <td>106.298900</td>\n",
       "      <td>0</td>\n",
       "      <td>3.0</td>\n",
       "      <td>False</td>\n",
       "    </tr>\n",
       "    <tr>\n",
       "      <th>2</th>\n",
       "      <td>2020-01-03</td>\n",
       "      <td>zebra</td>\n",
       "      <td>stripy</td>\n",
       "      <td>Gyles</td>\n",
       "      <td>106.656419</td>\n",
       "      <td>84</td>\n",
       "      <td>NaN</td>\n",
       "      <td>False</td>\n",
       "    </tr>\n",
       "    <tr>\n",
       "      <th>3</th>\n",
       "      <td>2019-08-17</td>\n",
       "      <td>zebra</td>\n",
       "      <td>stripy</td>\n",
       "      <td>John</td>\n",
       "      <td>85.704014</td>\n",
       "      <td>79</td>\n",
       "      <td>1.0</td>\n",
       "      <td>True</td>\n",
       "    </tr>\n",
       "  </tbody>\n",
       "</table>\n",
       "</div>"
      ],
      "text/plain": [
       "    date_time animal category    name      weight  favourite_integer  \\\n",
       "0  2019-02-13  zebra   stripy  Walter   98.982827                 71   \n",
       "1  2019-07-28  zebra   stripy  Edmund  106.298900                  0   \n",
       "2  2020-01-03  zebra   stripy   Gyles  106.656419                 84   \n",
       "3  2019-08-17  zebra   stripy    John   85.704014                 79   \n",
       "\n",
       "   bad_column  employed  \n",
       "0         NaN     False  \n",
       "1         3.0     False  \n",
       "2         NaN     False  \n",
       "3         1.0      True  "
      ]
     },
     "execution_count": 44,
     "metadata": {},
     "output_type": "execute_result"
    }
   ],
   "source": [
    "dataframe[~dataframe['animal'].isin(filter_list)]"
   ]
  },
  {
   "cell_type": "markdown",
   "metadata": {
    "heading_collapsed": true,
    "hidden": true
   },
   "source": [
    "### aggregations"
   ]
  },
  {
   "cell_type": "code",
   "execution_count": 45,
   "metadata": {
    "hidden": true
   },
   "outputs": [],
   "source": [
    "\"\"\"\n",
    "Section:\n",
    "    Pandas\n",
    "\n",
    "Author:\n",
    "    Simon Ward-Jones\n",
    "\n",
    "Description:\n",
    "    Dataframe aggregations\n",
    "\n",
    "Tags:\n",
    "    pandas , aggregate, sum, mean\n",
    "\"\"\"\n",
    "import pandas as pd\n",
    "import numpy as np\n",
    "import random\n",
    "from datetime import datetime\n",
    "from dateutil.relativedelta import relativedelta\n",
    "\n",
    "# First we create example dataframe\n",
    "r = random.Random(12)\n",
    "\n",
    "\n",
    "def generate_random_date_in_last_year():\n",
    "    return (datetime.now() - relativedelta(days=365 * random.random()))\n",
    "\n",
    "\n",
    "dataframe = pd.DataFrame({\n",
    "    \"date_time\": [generate_random_date_in_last_year() for _ in range(10)],\n",
    "    \"animal\": ['zebra', 'zebra', 'zebra', 'zebra', 'lion', 'lion', 'lion',\n",
    "               'lion', 'rhino', 'rhino', ],\n",
    "    \"category\": ['stripy'] * 4 + ['dangerous'] * 6,\n",
    "    \"name\": ['Walter', 'Edmund', 'Gyles', 'John', 'Bartholomew', 'Frederyk',\n",
    "             'Raulf', 'Symond', 'Carlos', 'Arthur'],\n",
    "    \"weight\": [80 + 40 * r.random() for _ in range(10)],\n",
    "    \"favourite_integer\": [r.randint(0, 100) for _ in range(10)],\n",
    "    \"bad_column\": ['', 3, '', 1, None, 2, 23, 2, 3, 3],\n",
    "    'employed': [bool(r.randint(0, 1)) for i in range(10)]\n",
    "})\n",
    "dataframe.replace(to_replace='', value=np.nan, inplace=True)\n",
    "dataframe\n",
    "\n",
    "dataframe_stats = dataframe.groupby(['animal','employed']).agg({\n",
    "    'favourite_integer': ['min', 'max', 'mean', 'std', 'sum'],\n",
    "    'weight':['sum']});\n",
    "animal_weight_stats = dataframe_stats['weight'].sort_values('sum', ascending=False);"
   ]
  },
  {
   "cell_type": "code",
   "execution_count": 46,
   "metadata": {
    "hidden": true
   },
   "outputs": [],
   "source": [
    "# animal_weight_stats.to_clipboard(sep='|')"
   ]
  },
  {
   "cell_type": "markdown",
   "metadata": {
    "heading_collapsed": true,
    "hidden": true
   },
   "source": [
    "### dataframe time "
   ]
  },
  {
   "cell_type": "code",
   "execution_count": 47,
   "metadata": {
    "hidden": true
   },
   "outputs": [
    {
     "data": {
      "text/html": [
       "<div>\n",
       "<style scoped>\n",
       "    .dataframe tbody tr th:only-of-type {\n",
       "        vertical-align: middle;\n",
       "    }\n",
       "\n",
       "    .dataframe tbody tr th {\n",
       "        vertical-align: top;\n",
       "    }\n",
       "\n",
       "    .dataframe thead th {\n",
       "        text-align: right;\n",
       "    }\n",
       "</style>\n",
       "<table border=\"1\" class=\"dataframe\">\n",
       "  <thead>\n",
       "    <tr style=\"text-align: right;\">\n",
       "      <th></th>\n",
       "      <th>date_time</th>\n",
       "      <th>month</th>\n",
       "      <th>day</th>\n",
       "      <th>hour</th>\n",
       "      <th>minute</th>\n",
       "      <th>day_of_week</th>\n",
       "    </tr>\n",
       "  </thead>\n",
       "  <tbody>\n",
       "    <tr>\n",
       "      <th>0</th>\n",
       "      <td>2019-03-03 22:34:17.122425</td>\n",
       "      <td>3</td>\n",
       "      <td>3</td>\n",
       "      <td>22</td>\n",
       "      <td>34</td>\n",
       "      <td>6</td>\n",
       "    </tr>\n",
       "    <tr>\n",
       "      <th>1</th>\n",
       "      <td>2019-10-18 09:22:44.849419</td>\n",
       "      <td>10</td>\n",
       "      <td>18</td>\n",
       "      <td>9</td>\n",
       "      <td>22</td>\n",
       "      <td>4</td>\n",
       "    </tr>\n",
       "    <tr>\n",
       "      <th>2</th>\n",
       "      <td>2019-03-15 03:49:21.409738</td>\n",
       "      <td>3</td>\n",
       "      <td>15</td>\n",
       "      <td>3</td>\n",
       "      <td>49</td>\n",
       "      <td>4</td>\n",
       "    </tr>\n",
       "    <tr>\n",
       "      <th>3</th>\n",
       "      <td>2019-06-08 05:41:02.863719</td>\n",
       "      <td>6</td>\n",
       "      <td>8</td>\n",
       "      <td>5</td>\n",
       "      <td>41</td>\n",
       "      <td>5</td>\n",
       "    </tr>\n",
       "    <tr>\n",
       "      <th>4</th>\n",
       "      <td>2019-05-25 07:46:37.366430</td>\n",
       "      <td>5</td>\n",
       "      <td>25</td>\n",
       "      <td>7</td>\n",
       "      <td>46</td>\n",
       "      <td>5</td>\n",
       "    </tr>\n",
       "    <tr>\n",
       "      <th>5</th>\n",
       "      <td>2019-07-29 18:16:37.359513</td>\n",
       "      <td>7</td>\n",
       "      <td>29</td>\n",
       "      <td>18</td>\n",
       "      <td>16</td>\n",
       "      <td>0</td>\n",
       "    </tr>\n",
       "    <tr>\n",
       "      <th>6</th>\n",
       "      <td>2019-04-14 18:36:27.086240</td>\n",
       "      <td>4</td>\n",
       "      <td>14</td>\n",
       "      <td>18</td>\n",
       "      <td>36</td>\n",
       "      <td>6</td>\n",
       "    </tr>\n",
       "    <tr>\n",
       "      <th>7</th>\n",
       "      <td>2019-04-17 16:08:30.966033</td>\n",
       "      <td>4</td>\n",
       "      <td>17</td>\n",
       "      <td>16</td>\n",
       "      <td>8</td>\n",
       "      <td>2</td>\n",
       "    </tr>\n",
       "    <tr>\n",
       "      <th>8</th>\n",
       "      <td>2019-12-13 16:00:23.223950</td>\n",
       "      <td>12</td>\n",
       "      <td>13</td>\n",
       "      <td>16</td>\n",
       "      <td>0</td>\n",
       "      <td>4</td>\n",
       "    </tr>\n",
       "    <tr>\n",
       "      <th>9</th>\n",
       "      <td>2019-02-03 21:45:29.410253</td>\n",
       "      <td>2</td>\n",
       "      <td>3</td>\n",
       "      <td>21</td>\n",
       "      <td>45</td>\n",
       "      <td>6</td>\n",
       "    </tr>\n",
       "  </tbody>\n",
       "</table>\n",
       "</div>"
      ],
      "text/plain": [
       "                   date_time  month  day  hour  minute  day_of_week\n",
       "0 2019-03-03 22:34:17.122425      3    3    22      34            6\n",
       "1 2019-10-18 09:22:44.849419     10   18     9      22            4\n",
       "2 2019-03-15 03:49:21.409738      3   15     3      49            4\n",
       "3 2019-06-08 05:41:02.863719      6    8     5      41            5\n",
       "4 2019-05-25 07:46:37.366430      5   25     7      46            5\n",
       "5 2019-07-29 18:16:37.359513      7   29    18      16            0\n",
       "6 2019-04-14 18:36:27.086240      4   14    18      36            6\n",
       "7 2019-04-17 16:08:30.966033      4   17    16       8            2\n",
       "8 2019-12-13 16:00:23.223950     12   13    16       0            4\n",
       "9 2019-02-03 21:45:29.410253      2    3    21      45            6"
      ]
     },
     "execution_count": 47,
     "metadata": {},
     "output_type": "execute_result"
    }
   ],
   "source": [
    "\"\"\"\n",
    "Section:\n",
    "    Pandas\n",
    "\n",
    "Author:\n",
    "    Simon Ward-Jones\n",
    "\n",
    "Description:\n",
    "    Dataframe datetime\n",
    "\n",
    "Tags:\n",
    "    pandas , datetime, timestamp\n",
    "\"\"\"\n",
    "import pandas as pd\n",
    "import numpy as np\n",
    "import random\n",
    "from datetime import datetime\n",
    "from dateutil.relativedelta import relativedelta\n",
    "\n",
    "# First we create example dataframe\n",
    "r = random.Random(12)\n",
    "\n",
    "\n",
    "def generate_random_date_in_last_year():\n",
    "    return (datetime.now() - relativedelta(days=365 * random.random()))\n",
    "\n",
    "\n",
    "dataframe = pd.DataFrame({\n",
    "    \"date_time\": [generate_random_date_in_last_year() for _ in range(10)]})\n",
    "dataframe['month']       = dataframe.date_time.dt.month\n",
    "dataframe['day']         = dataframe.date_time.dt.day\n",
    "dataframe['hour']        = dataframe.date_time.dt.hour\n",
    "dataframe['minute']      = dataframe.date_time.dt.minute\n",
    "dataframe['day_of_week'] = dataframe.date_time.dt.dayofweek\n",
    "dataframe"
   ]
  },
  {
   "cell_type": "code",
   "execution_count": 48,
   "metadata": {
    "hidden": true
   },
   "outputs": [],
   "source": [
    "dataframe.to_clipboard(sep='|')"
   ]
  },
  {
   "cell_type": "markdown",
   "metadata": {
    "heading_collapsed": true,
    "hidden": true
   },
   "source": [
    "### Index a value in a dataframe"
   ]
  },
  {
   "cell_type": "code",
   "execution_count": 49,
   "metadata": {
    "hidden": true
   },
   "outputs": [
    {
     "data": {
      "text/plain": [
       "'Walter'"
      ]
     },
     "execution_count": 49,
     "metadata": {},
     "output_type": "execute_result"
    }
   ],
   "source": [
    "\"\"\"\n",
    "Section:\n",
    "    Pandas\n",
    "\n",
    "Author:\n",
    "    Simon Ward-Jones\n",
    "\n",
    "Description:\n",
    "    Dataframe indexing\n",
    "\n",
    "Tags:\n",
    "    pandas , index, lookup\n",
    "\"\"\"\n",
    "import pandas as pd\n",
    "import numpy as np\n",
    "import random\n",
    "from datetime import datetime\n",
    "from dateutil.relativedelta import relativedelta\n",
    "\n",
    "# First we create example dataframe\n",
    "r = random.Random(12)\n",
    "\n",
    "\n",
    "def generate_random_date_in_last_year():\n",
    "    return (datetime.now() - relativedelta(days=365 * random.random()))\n",
    "\n",
    "\n",
    "dataframe = pd.DataFrame({\n",
    "    \"date_time\": [generate_random_date_in_last_year() for _ in range(10)],\n",
    "    \"animal\": ['zebra', 'zebra', 'zebra', 'zebra', 'lion', 'lion', 'lion',\n",
    "               'lion', 'rhino', 'rhino', ],\n",
    "    \"category\": ['stripy'] * 4 + ['dangerous'] * 6,\n",
    "    \"name\": ['Walter', 'Edmund', 'Gyles', 'John', 'Bartholomew', 'Frederyk',\n",
    "             'Raulf', 'Symond', 'Carlos', 'Arthur'],\n",
    "    \"weight\": [80 + 40 * r.random() for _ in range(10)],\n",
    "    \"favourite_integer\": [r.randint(0, 100) for _ in range(10)],\n",
    "    \"bad_column\": ['', 3, '', 1, None, 2, 23, 2, 3, 3],\n",
    "    'employed': [bool(r.randint(0, 1)) for i in range(10)]\n",
    "})\n",
    "dataframe.replace(to_replace='', value=np.nan, inplace=True)\n",
    "\n",
    "# How to get the value in row zero in the 'name' column\n",
    "\n",
    "idx = 0\n",
    "\n",
    "# All the below give the same result\n",
    "\n",
    "# Using .loc to select row and column\n",
    "dataframe.loc[idx,'name']\n",
    "# 'Walter'\n",
    "\n",
    "# Select the row then name \n",
    "# Use .iloc to select a row series and then select name entry\n",
    "dataframe.iloc[idx]['name']\n",
    "# 'Walter'\n",
    "\n",
    "# Select the column series and then select the idx entry\n",
    "dataframe['name'][idx]\n",
    "# 'Walter'\n",
    "\n",
    "# Same but with dot notation\n",
    "dataframe.name[idx]\n",
    "# 'Walter'"
   ]
  },
  {
   "cell_type": "code",
   "execution_count": 50,
   "metadata": {
    "hidden": true
   },
   "outputs": [
    {
     "data": {
      "text/plain": [
       "'Walter'"
      ]
     },
     "execution_count": 50,
     "metadata": {},
     "output_type": "execute_result"
    }
   ],
   "source": [
    "idx = 0\n",
    "\n",
    "# All the below give the same result\n",
    "\n",
    "# Using .loc to select row and column\n",
    "dataframe.loc[idx,'name']\n",
    "# 'Walter'\n",
    "\n",
    "# Select the row then name \n",
    "# Use .iloc to select a row series and then select name entry\n",
    "dataframe.iloc[idx]['name']\n",
    "# 'Walter'\n",
    "\n",
    "# select the column series and then select the idx entry\n",
    "dataframe['name'][idx]\n",
    "# 'Walter'\n",
    "\n",
    "# same but with dot notation\n",
    "dataframe.name[idx]\n",
    "# 'Walter'\n"
   ]
  },
  {
   "cell_type": "code",
   "execution_count": null,
   "metadata": {
    "hidden": true
   },
   "outputs": [],
   "source": []
  },
  {
   "cell_type": "code",
   "execution_count": null,
   "metadata": {
    "hidden": true
   },
   "outputs": [],
   "source": []
  }
 ],
 "metadata": {
  "kernelspec": {
   "display_name": "Python 3",
   "language": "python",
   "name": "python3"
  },
  "language_info": {
   "codemirror_mode": {
    "name": "ipython",
    "version": 3
   },
   "file_extension": ".py",
   "mimetype": "text/x-python",
   "name": "python",
   "nbconvert_exporter": "python",
   "pygments_lexer": "ipython3",
   "version": "3.7.3"
  }
 },
 "nbformat": 4,
 "nbformat_minor": 2
}
