{
 "cells": [
  {
   "cell_type": "markdown",
   "metadata": {},
   "source": [
    "# Package of the Week 🐍 📦"
   ]
  },
  {
   "cell_type": "markdown",
   "metadata": {},
   "source": [
    "## package: plotly"
   ]
  },
  {
   "cell_type": "markdown",
   "metadata": {},
   "source": [
    "## date: 08/08/2019 "
   ]
  },
  {
   "cell_type": "markdown",
   "metadata": {
    "heading_collapsed": true
   },
   "source": [
    "### Installing"
   ]
  },
  {
   "cell_type": "markdown",
   "metadata": {
    "hidden": true
   },
   "source": [
    "This is an interactive plottling library built on d3"
   ]
  },
  {
   "cell_type": "code",
   "execution_count": 4,
   "metadata": {
    "hidden": true
   },
   "outputs": [
    {
     "name": "stdout",
     "output_type": "stream",
     "text": [
      "pip install plotly\r\n"
     ]
    }
   ],
   "source": [
    "! echo pip install plotly"
   ]
  },
  {
   "cell_type": "markdown",
   "metadata": {
    "hidden": true
   },
   "source": [
    "#### Enable the figure widget\n",
    "\n",
    "```bash\n",
    "jupyter nbextension install --py --user plotlywidget\n",
    "jupyter nbextension enable --py --user plotlywidget\n",
    "jupyter nbextension list\n",
    "```"
   ]
  },
  {
   "cell_type": "markdown",
   "metadata": {
    "heading_collapsed": true
   },
   "source": [
    "### general figures"
   ]
  },
  {
   "cell_type": "code",
   "execution_count": 222,
   "metadata": {
    "hidden": true
   },
   "outputs": [],
   "source": [
    "import plotly.graph_objs as go\n",
    "import plotly.offline as py"
   ]
  },
  {
   "cell_type": "markdown",
   "metadata": {
    "hidden": true
   },
   "source": [
    "In general plotly has figures and these contain data and layout. In notebooks it is easier to work with the FigureWidget class rather than the Figure"
   ]
  },
  {
   "cell_type": "code",
   "execution_count": 215,
   "metadata": {
    "hidden": true
   },
   "outputs": [
    {
     "data": {
      "text/plain": [
       "{'data': [], 'layout': {}}"
      ]
     },
     "execution_count": 215,
     "metadata": {},
     "output_type": "execute_result"
    }
   ],
   "source": [
    "fig = go.FigureWidget()\n",
    "fig.to_dict()"
   ]
  },
  {
   "cell_type": "code",
   "execution_count": 216,
   "metadata": {
    "hidden": true
   },
   "outputs": [],
   "source": [
    "bar_example = go.Bar(\n",
    "    x=[1,2,3],\n",
    "    y=[20, 13, 12],\n",
    "    name='example bar')\n",
    "scatter_example = go.Scatter(\n",
    "    x=[0, 2, 3],\n",
    "    y=[20, 14, 23],\n",
    "    name='example scatter',\n",
    "    text=['hover 1','donkey','hover 3'])"
   ]
  },
  {
   "cell_type": "code",
   "execution_count": 217,
   "metadata": {
    "hidden": true
   },
   "outputs": [
    {
     "data": {
      "application/vnd.jupyter.widget-view+json": {
       "model_id": "698404e79a35411a9f6f24f892ad6265",
       "version_major": 2,
       "version_minor": 0
      },
      "text/plain": [
       "FigureWidget({\n",
       "    'data': [], 'layout': {}\n",
       "})"
      ]
     },
     "metadata": {},
     "output_type": "display_data"
    }
   ],
   "source": [
    "fig"
   ]
  },
  {
   "cell_type": "code",
   "execution_count": 218,
   "metadata": {
    "hidden": true
   },
   "outputs": [
    {
     "name": "stdout",
     "output_type": "stream",
     "text": [
      "Added bar and scatter trace to chart\n"
     ]
    }
   ],
   "source": [
    "bar = fig.add_trace(bar_example)\n",
    "scatter = fig.add_trace(scatter_example)\n",
    "print('Added bar and scatter trace to chart')"
   ]
  },
  {
   "cell_type": "markdown",
   "metadata": {
    "heading_collapsed": true
   },
   "source": [
    "### customisation"
   ]
  },
  {
   "cell_type": "code",
   "execution_count": 226,
   "metadata": {
    "hidden": true
   },
   "outputs": [],
   "source": [
    "some_nice_blues = ['#00a4ff', '#0083cc', '#004266', '#33b6ff', '#e6f6ff']\n",
    "\n",
    "# edit the bar object\n",
    "bar.width = 1\n",
    "bar.marker.color = some_nice_blues\n",
    "\n",
    "# edit the scatter object\n",
    "scatter.line.color= 'red'\n",
    "\n",
    "fig.layout.title = 'Line Chart'\n",
    "\n",
    "fig.layout.font.family = \"Proxima Nova\"\n",
    "\n",
    "fig.layout.plot_bgcolor = '#f4f4f4'\n",
    "fig.layout.xaxis.dtick = 3\n",
    "fig.layout.xaxis.zeroline = True  # we want x 0 line \n",
    "fig.layout.yaxis.showline = True # We want y axis line\n",
    "fig.layout.yaxis.visible = True\n",
    "fig.layout.xaxis.linewidth = 11\n",
    "fig.layout.xaxis.zerolinewidth = 5\n",
    "fig.layout.xaxis.title = 'X of course'\n",
    "fig.layout.yaxis.title = 'Y of course'"
   ]
  },
  {
   "cell_type": "code",
   "execution_count": 227,
   "metadata": {
    "hidden": true
   },
   "outputs": [
    {
     "data": {
      "text/plain": [
       "{'data': [{'name': 'example bar',\n",
       "   'x': [1, 2, 3],\n",
       "   'y': [20, 13, 12],\n",
       "   'type': 'bar',\n",
       "   'uid': '89738210-86bf-4a0a-9767-a0f25224bc77',\n",
       "   'width': 1,\n",
       "   'marker': {'color': ['#00a4ff',\n",
       "     '#0083cc',\n",
       "     '#004266',\n",
       "     '#33b6ff',\n",
       "     '#e6f6ff']}},\n",
       "  {'name': 'example scatter',\n",
       "   'text': ['hover 1', 'donkey', 'hover 3'],\n",
       "   'x': [0, 2, 3],\n",
       "   'y': [20, 14, 23],\n",
       "   'type': 'scatter',\n",
       "   'uid': '423a31c1-1019-4f1e-aac8-39771808b0ca',\n",
       "   'line': {'color': 'red'}}],\n",
       " 'layout': {'title': {'text': 'Line Chart'},\n",
       "  'font': {'family': 'Proxima Nova'},\n",
       "  'plot_bgcolor': '#f4f4f4',\n",
       "  'xaxis': {'dtick': 3,\n",
       "   'zeroline': True,\n",
       "   'linewidth': 11,\n",
       "   'zerolinewidth': 5,\n",
       "   'title': {'text': 'X of course'}},\n",
       "  'yaxis': {'showline': True,\n",
       "   'visible': True,\n",
       "   'title': {'text': 'Y of course'}}}}"
      ]
     },
     "execution_count": 227,
     "metadata": {},
     "output_type": "execute_result"
    }
   ],
   "source": [
    "fig.to_dict()"
   ]
  },
  {
   "cell_type": "markdown",
   "metadata": {
    "heading_collapsed": true
   },
   "source": [
    "### saving"
   ]
  },
  {
   "cell_type": "code",
   "execution_count": 147,
   "metadata": {
    "hidden": true
   },
   "outputs": [
    {
     "data": {
      "text/plain": [
       "'file:///Users/simonward-jones/Documents/personal/ForgetCode/Python/temp-plot.html'"
      ]
     },
     "execution_count": 147,
     "metadata": {},
     "output_type": "execute_result"
    }
   ],
   "source": [
    "py.plot(fig,filename='temp-plot.html')"
   ]
  },
  {
   "cell_type": "markdown",
   "metadata": {
    "heading_collapsed": true
   },
   "source": [
    "### subplots "
   ]
  },
  {
   "cell_type": "code",
   "execution_count": 75,
   "metadata": {
    "hidden": true
   },
   "outputs": [],
   "source": [
    "from plotly.tools import make_subplots"
   ]
  },
  {
   "cell_type": "code",
   "execution_count": 76,
   "metadata": {
    "hidden": true
   },
   "outputs": [],
   "source": [
    "import plotly.version"
   ]
  },
  {
   "cell_type": "code",
   "execution_count": 148,
   "metadata": {
    "hidden": true
   },
   "outputs": [
    {
     "name": "stdout",
     "output_type": "stream",
     "text": [
      "This is the format of your plot grid:\n",
      "[ (1,1) x1,y1 ]    [ (1,2) x2,y2 ]    [ (1,3) x3,y3 ]    [ (1,4) x4,y4 ]  \n",
      "[ (2,1) x5,y5 ]    [ (2,2) x6,y6 ]    [ (2,3) x7,y7 ]    [ (2,4) x8,y8 ]  \n",
      "[ (3,1) x9,y9 ]    [ (3,2) x10,y10 ]  [ (3,3) x11,y11 ]  [ (3,4) x12,y12 ]\n",
      "[ (4,1) x13,y13 ]  [ (4,2) x14,y14 ]  [ (4,3) x15,y15 ]  [ (4,4) x16,y16 ]\n",
      "\n"
     ]
    },
    {
     "data": {
      "application/vnd.jupyter.widget-view+json": {
       "model_id": "9f96505e0d254db09ad12059547e7a7c",
       "version_major": 2,
       "version_minor": 0
      },
      "text/plain": [
       "FigureWidget({\n",
       "    'data': [{'name': 'row 0 col 0',\n",
       "              'type': 'bar',\n",
       "              'uid': '0a53570…"
      ]
     },
     "metadata": {},
     "output_type": "display_data"
    }
   ],
   "source": [
    "# note subplots are indexed from 1,1\n",
    "subplot_fig = go.FigureWidget(make_subplots(rows=4,cols=4,subplot_titles=list(range(1,17))))\n",
    "import itertools\n",
    "for i, (row, col) in enumerate(itertools.product(range(4),range(4))):\n",
    "#     print(i, (row, col) )\n",
    "    subplot_fig.add_trace(\n",
    "        go.Bar(x=[1,2,3],\n",
    "               y=[2, 3, 1],\n",
    "               name='row {} col {}'.format(row,col),), \n",
    "        row=row+1, \n",
    "        col=col+1)\n",
    "    subplot_fig.layout.annotations[i].text = 'row {} col {}'.format(row,col)\n",
    "subplot_fig"
   ]
  },
  {
   "cell_type": "code",
   "execution_count": null,
   "metadata": {
    "hidden": true
   },
   "outputs": [],
   "source": []
  }
 ],
 "metadata": {
  "kernelspec": {
   "display_name": "Python 3",
   "language": "python",
   "name": "python3"
  },
  "language_info": {
   "codemirror_mode": {
    "name": "ipython",
    "version": 3
   },
   "file_extension": ".py",
   "mimetype": "text/x-python",
   "name": "python",
   "nbconvert_exporter": "python",
   "pygments_lexer": "ipython3",
   "version": "3.7.2"
  }
 },
 "nbformat": 4,
 "nbformat_minor": 2
}
