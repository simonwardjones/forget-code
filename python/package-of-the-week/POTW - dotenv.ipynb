{
 "cells": [
  {
   "cell_type": "markdown",
   "metadata": {},
   "source": [
    "# Package of the Week 🐍 📦"
   ]
  },
  {
   "cell_type": "markdown",
   "metadata": {},
   "source": [
    "## package: python-dotenv"
   ]
  },
  {
   "cell_type": "markdown",
   "metadata": {},
   "source": [
    "## date: 19/02/2020 ⚫️"
   ]
  },
  {
   "cell_type": "markdown",
   "metadata": {},
   "source": [
    "Reads the key-value pair from .env file and adds them to environment variable"
   ]
  },
  {
   "cell_type": "code",
   "execution_count": 48,
   "metadata": {},
   "outputs": [
    {
     "name": "stdout",
     "output_type": "stream",
     "text": [
      "Requirement already up-to-date: python-dotenv==0.10.3 in /usr/local/lib/python3.7/site-packages (0.10.3)\r\n"
     ]
    }
   ],
   "source": [
    "!pip3 install -U python-dotenv==0.10.3"
   ]
  },
  {
   "cell_type": "code",
   "execution_count": 49,
   "metadata": {},
   "outputs": [],
   "source": [
    "import os\n",
    "from pathlib import Path\n",
    "\n",
    "import dotenv"
   ]
  },
  {
   "cell_type": "markdown",
   "metadata": {},
   "source": [
    "### create example`.env` file"
   ]
  },
  {
   "cell_type": "code",
   "execution_count": 50,
   "metadata": {},
   "outputs": [
    {
     "name": "stdout",
     "output_type": "stream",
     "text": [
      "total 152\r\n",
      "drwxr-xr-x  8 simonward-jones  staff    256 19 Feb 13:43 \u001b[34m.\u001b[m\u001b[m\r\n",
      "drwxr-xr-x  8 simonward-jones  staff    256 26 Jan 14:03 \u001b[34m..\u001b[m\u001b[m\r\n",
      "drwxr-xr-x  4 simonward-jones  staff    128 19 Feb 12:51 \u001b[34m.ipynb_checkpoints\u001b[m\u001b[m\r\n",
      "-rw-r--r--  1 simonward-jones  staff  22267 26 Jan 14:01 POTW - Ipywidgets.ipynb\r\n",
      "-rw-r--r--  1 simonward-jones  staff   7416 19 Feb 13:43 POTW - dotenv.ipynb\r\n",
      "-rw-r--r--  1 simonward-jones  staff  20823 17 Feb 09:17 POTW - pathlib.ipynb\r\n",
      "-rw-r--r--  1 simonward-jones  staff   9492 26 Jan 14:01 POTW - plotly.ipynb\r\n",
      "-rw-r--r--  1 simonward-jones  staff   4174 26 Jan 14:01 POTW - tqmd.ipynb\r\n"
     ]
    }
   ],
   "source": [
    "!ls -alHG"
   ]
  },
  {
   "cell_type": "code",
   "execution_count": 63,
   "metadata": {},
   "outputs": [
    {
     "data": {
      "text/plain": [
       "210"
      ]
     },
     "execution_count": 63,
     "metadata": {},
     "output_type": "execute_result"
    }
   ],
   "source": [
    "# note exports are ignored but may as well include \n",
    "# so that the file can be sourced in bash\n",
    "\n",
    "# note the posix expansion\n",
    "env_file_path = Path('.env')\n",
    "env_file_path.write_text(\"\"\"# a comment that will be ignored.\n",
    "export EXAMPLE_ADDRESS=\"localhost:6379\"\n",
    "export MEANING_OF_LIFE=\"42\"\n",
    "export MULTILINE_VAR=\"hello\\nworld\"\n",
    "CONFIG_PATH=${HOME}/.config/foo\n",
    "DOMAIN=example.org\n",
    "EMAIL=admin@${DOMAIN}\n",
    "\"\"\")"
   ]
  },
  {
   "cell_type": "code",
   "execution_count": 64,
   "metadata": {},
   "outputs": [
    {
     "name": "stdout",
     "output_type": "stream",
     "text": [
      "# a comment that will be ignored.\n",
      "export EXAMPLE_ADDRESS=\"localhost:6379\"\n",
      "export MEANING_OF_LIFE=\"42\"\n",
      "export MULTILINE_VAR=\"hello\n",
      "world\"\n",
      "CONFIG_PATH=${HOME}/.config/foo\n",
      "DOMAIN=example.org\n",
      "EMAIL=admin@${DOMAIN}\n",
      "\n"
     ]
    }
   ],
   "source": [
    "print(env_file_path.read_text())"
   ]
  },
  {
   "cell_type": "code",
   "execution_count": 65,
   "metadata": {},
   "outputs": [],
   "source": [
    "# cat .env\n",
    "# same thing"
   ]
  },
  {
   "cell_type": "code",
   "execution_count": 66,
   "metadata": {},
   "outputs": [
    {
     "data": {
      "text/plain": [
       "PosixPath('/Users/simonward-jones/Documents/personal/code/ForgetCode/Python/package-of-the-week/.env')"
      ]
     },
     "execution_count": 66,
     "metadata": {},
     "output_type": "execute_result"
    }
   ],
   "source": [
    "env_file_path.resolve()"
   ]
  },
  {
   "cell_type": "code",
   "execution_count": 70,
   "metadata": {},
   "outputs": [
    {
     "name": "stdout",
     "output_type": "stream",
     "text": [
      "EXAMPLE_ADDRESS=localhost:6379\r\n"
     ]
    }
   ],
   "source": [
    "!env | grep EXAMPLE"
   ]
  },
  {
   "cell_type": "code",
   "execution_count": 71,
   "metadata": {},
   "outputs": [
    {
     "data": {
      "text/plain": [
       "'localhost:6379'"
      ]
     },
     "execution_count": 71,
     "metadata": {},
     "output_type": "execute_result"
    }
   ],
   "source": [
    "os.environ.get('EXAMPLE_ADDRESS')"
   ]
  },
  {
   "cell_type": "markdown",
   "metadata": {},
   "source": [
    "### load dotenv"
   ]
  },
  {
   "cell_type": "code",
   "execution_count": 72,
   "metadata": {},
   "outputs": [
    {
     "data": {
      "text/plain": [
       "True"
      ]
     },
     "execution_count": 72,
     "metadata": {},
     "output_type": "execute_result"
    }
   ],
   "source": [
    "# with increased verbosity\n",
    "dotenv.load_dotenv(verbose=False)"
   ]
  },
  {
   "cell_type": "code",
   "execution_count": 73,
   "metadata": {},
   "outputs": [
    {
     "name": "stdout",
     "output_type": "stream",
     "text": [
      "EXAMPLE_ADDRESS=localhost:6379\r\n"
     ]
    }
   ],
   "source": [
    "!env | grep EXAMPLE"
   ]
  },
  {
   "cell_type": "code",
   "execution_count": 74,
   "metadata": {},
   "outputs": [
    {
     "data": {
      "text/plain": [
       "'localhost:6379'"
      ]
     },
     "execution_count": 74,
     "metadata": {},
     "output_type": "execute_result"
    }
   ],
   "source": [
    "os.environ.get('EXAMPLE_ADDRESS')"
   ]
  },
  {
   "cell_type": "code",
   "execution_count": 75,
   "metadata": {},
   "outputs": [
    {
     "data": {
      "text/plain": [
       "'admin@example.org'"
      ]
     },
     "execution_count": 75,
     "metadata": {},
     "output_type": "execute_result"
    }
   ],
   "source": [
    "os.environ.get('EMAIL') # notice the interpolation"
   ]
  },
  {
   "cell_type": "code",
   "execution_count": 76,
   "metadata": {},
   "outputs": [],
   "source": [
    "# dotenv.find_dotenv()"
   ]
  },
  {
   "cell_type": "markdown",
   "metadata": {},
   "source": [
    "### set key"
   ]
  },
  {
   "cell_type": "code",
   "execution_count": 78,
   "metadata": {},
   "outputs": [
    {
     "data": {
      "text/plain": [
       "(True, 'SIMON', '123')"
      ]
     },
     "execution_count": 78,
     "metadata": {},
     "output_type": "execute_result"
    }
   ],
   "source": [
    "dotenv.set_key(env_file_path,'SIMON',\"123\")"
   ]
  },
  {
   "cell_type": "code",
   "execution_count": 79,
   "metadata": {},
   "outputs": [
    {
     "name": "stdout",
     "output_type": "stream",
     "text": [
      "# a comment that will be ignored.\n",
      "export EXAMPLE_ADDRESS=\"localhost:6379\"\n",
      "export MEANING_OF_LIFE=\"42\"\n",
      "export MULTILINE_VAR=\"hello\n",
      "world\"\n",
      "CONFIG_PATH=${HOME}/.config/foo\n",
      "DOMAIN=example.org\n",
      "EMAIL=admin@${DOMAIN}\n",
      "SIMON=\"123\"\n",
      "\n"
     ]
    }
   ],
   "source": [
    "print(env_file_path.read_text())"
   ]
  },
  {
   "cell_type": "markdown",
   "metadata": {},
   "source": [
    "### get env as dict"
   ]
  },
  {
   "cell_type": "code",
   "execution_count": 81,
   "metadata": {},
   "outputs": [
    {
     "data": {
      "text/plain": [
       "{'EXAMPLE_ADDRESS': 'localhost:6379',\n",
       " 'MEANING_OF_LIFE': '42',\n",
       " 'MULTILINE_VAR': 'hello\\nworld',\n",
       " 'CONFIG_PATH': '/Users/simonward-jones/.config/foo',\n",
       " 'DOMAIN': 'example.org',\n",
       " 'EMAIL': 'admin@example.org',\n",
       " 'SIMON': '123'}"
      ]
     },
     "execution_count": 81,
     "metadata": {},
     "output_type": "execute_result"
    }
   ],
   "source": [
    "dotenv.dotenv_values()"
   ]
  },
  {
   "cell_type": "markdown",
   "metadata": {},
   "source": [
    "### clean up"
   ]
  },
  {
   "cell_type": "code",
   "execution_count": 47,
   "metadata": {},
   "outputs": [],
   "source": [
    "# optionally delete the env file\n",
    "env_file_path.unlink()"
   ]
  },
  {
   "cell_type": "code",
   "execution_count": null,
   "metadata": {},
   "outputs": [],
   "source": []
  }
 ],
 "metadata": {
  "kernelspec": {
   "display_name": "Python 3",
   "language": "python",
   "name": "python3"
  },
  "language_info": {
   "codemirror_mode": {
    "name": "ipython",
    "version": 3
   },
   "file_extension": ".py",
   "mimetype": "text/x-python",
   "name": "python",
   "nbconvert_exporter": "python",
   "pygments_lexer": "ipython3",
   "version": "3.7.6"
  },
  "toc": {
   "base_numbering": 1,
   "nav_menu": {},
   "number_sections": true,
   "sideBar": true,
   "skip_h1_title": false,
   "title_cell": "Table of Contents",
   "title_sidebar": "Contents",
   "toc_cell": false,
   "toc_position": {},
   "toc_section_display": true,
   "toc_window_display": false
  }
 },
 "nbformat": 4,
 "nbformat_minor": 2
}
