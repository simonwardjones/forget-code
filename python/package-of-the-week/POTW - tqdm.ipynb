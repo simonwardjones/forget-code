{
 "cells": [
  {
   "cell_type": "markdown",
   "metadata": {},
   "source": [
    "# Package of the Week 🐍 📦"
   ]
  },
  {
   "cell_type": "markdown",
   "metadata": {},
   "source": [
    "## package: tqdm"
   ]
  },
  {
   "cell_type": "markdown",
   "metadata": {},
   "source": [
    "## date: 26/06/2019\n",
    "\n",
    "This package allows interactive controls in Jupyter Notebooks"
   ]
  },
  {
   "cell_type": "code",
   "execution_count": 8,
   "metadata": {},
   "outputs": [
    {
     "name": "stdout",
     "output_type": "stream",
     "text": [
      "pip3 install tqdm\r\n"
     ]
    }
   ],
   "source": [
    "! echo pip3 install tqdm"
   ]
  },
  {
   "cell_type": "code",
   "execution_count": 3,
   "metadata": {},
   "outputs": [],
   "source": [
    "from tqdm import tqdm\n",
    "from tqdm import tqdm_notebook # notebook widget\n",
    "import pandas as pd\n",
    "import numpy as np\n",
    "import time"
   ]
  },
  {
   "cell_type": "markdown",
   "metadata": {},
   "source": [
    "tqdm wraps iterator objects"
   ]
  },
  {
   "cell_type": "code",
   "execution_count": 9,
   "metadata": {},
   "outputs": [
    {
     "name": "stderr",
     "output_type": "stream",
     "text": [
      "Progress bar example: 100%|██████████| 10/10 [00:01<00:00,  9.68it/s]\n"
     ]
    }
   ],
   "source": [
    "for i in tqdm(range(10),\n",
    "              desc='Progress bar example'):\n",
    "    time.sleep(0.1)"
   ]
  },
  {
   "cell_type": "code",
   "execution_count": 10,
   "metadata": {},
   "outputs": [
    {
     "data": {
      "application/vnd.jupyter.widget-view+json": {
       "model_id": "248cb29ddaae424ba586313f73b2485f",
       "version_major": 2,
       "version_minor": 0
      },
      "text/plain": [
       "HBox(children=(IntProgress(value=0, description='Notebook example', max=10, style=ProgressStyle(description_wi…"
      ]
     },
     "metadata": {},
     "output_type": "display_data"
    },
    {
     "name": "stdout",
     "output_type": "stream",
     "text": [
      "Simon\n",
      "Simon\n",
      "Simon\n",
      "Simon\n",
      "Simon\n",
      "Simon\n",
      "Simon\n",
      "Simon\n",
      "Simon\n",
      "Simon\n",
      "\n"
     ]
    }
   ],
   "source": [
    "# use an optimised notbook widget\n",
    "for i in tqdm_notebook(range(10),\n",
    "                       desc='Notebook example',\n",
    "                       unit_scale=True):\n",
    "    time.sleep(0.1)\n",
    "    print('Simon')"
   ]
  },
  {
   "cell_type": "code",
   "execution_count": 11,
   "metadata": {},
   "outputs": [
    {
     "data": {
      "application/vnd.jupyter.widget-view+json": {
       "model_id": "e08e4661888b4e2db9c0436f8aa88f52",
       "version_major": 2,
       "version_minor": 0
      },
      "text/plain": [
       "HBox(children=(IntProgress(value=0, description='Pandas progress in notebook', max=18, style=ProgressStyle(des…"
      ]
     },
     "metadata": {},
     "output_type": "display_data"
    },
    {
     "name": "stdout",
     "output_type": "stream",
     "text": [
      "\n"
     ]
    }
   ],
   "source": [
    "# for pandas and notebook we actually need to import like this:\n",
    "from tqdm._tqdm_notebook import tqdm_notebook\n",
    "\n",
    "df = pd.DataFrame(np.random.randint(0, 100, (10, 18)))\n",
    "\n",
    "# register tqdm with progress apply\n",
    "tqdm_notebook.pandas(desc='Pandas progress in notebook')\n",
    "\n",
    "def slow_square(s):\n",
    "    time.sleep(0.1)\n",
    "    return s**2\n",
    "\n",
    "s = df.progress_apply(slow_square)"
   ]
  },
  {
   "cell_type": "code",
   "execution_count": null,
   "metadata": {},
   "outputs": [],
   "source": []
  }
 ],
 "metadata": {
  "kernelspec": {
   "display_name": "Python 3",
   "language": "python",
   "name": "python3"
  },
  "language_info": {
   "codemirror_mode": {
    "name": "ipython",
    "version": 3
   },
   "file_extension": ".py",
   "mimetype": "text/x-python",
   "name": "python",
   "nbconvert_exporter": "python",
   "pygments_lexer": "ipython3",
   "version": "3.7.2"
  }
 },
 "nbformat": 4,
 "nbformat_minor": 2
}
