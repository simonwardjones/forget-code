{
 "cells": [
  {
   "cell_type": "markdown",
   "metadata": {},
   "source": [
    "# Linux Phrasebook - (the speedy version)"
   ]
  },
  {
   "cell_type": "markdown",
   "metadata": {},
   "source": [
    "- [Navigating, Creating and building blocks](#Navigating,-Creating-and-building-blocks)\n",
    " - [ls](#ls)\n",
    " - [pwd](#pwd)\n",
    " - [touch](#touch)\n",
    " - [cd](#cd)\n",
    " - [tree](#tree)\n",
    " - [mv](#mv)\n",
    " - [mkdir](#mkdir)\n",
    " - [cp](#cp)\n",
    " - [wild cards](#wild-cards)\n",
    " - [ln](#ln)\n",
    " - [rm](#rm)\n",
    " - [man](#man)\n",
    " - [info](#info)\n",
    " - [whereis](#whereis)\n",
    " - [which](#which)\n",
    " - [type](#type)\n",
    " - [operators](#operators)\n",
    " - [cat](#cat)\n",
    " - [file](#file)\n",
    " - [less](#less)\n",
    " - [head](#head)\n",
    " - [tail](#tail) \n",
    "- [Examples for Navigating, Creating and building blocks](#Examples-for-Navigating,-Creating-and-building-blocks)\n",
    "- [Manipulating Text files](#Manipulating-text-files)\n",
    " - [wc](#wc)\n",
    " - [nl](#nl)\n",
    " - [cut](#cut)\n",
    " - [sort](#sort)\n",
    " - [uniq](#uniq)\n",
    " - [tr](#tr)\n",
    " - [sed](#sed)\n",
    " - [awk](#awk)\n",
    "- [Examples for Manipulating text files](#Examples-for-Manipulating-text-files)\n",
    "- [Permissions](#Permissions)\n",
    " - [su](#su)\n",
    " - [chgrp](#chgrp)\n",
    " - [chown](#chown)\n",
    " - [chmod](#chmod)\n",
    "- [Compression and Archiving](#Compression-and-Archiving)\n",
    " - [zip](#zip)\n",
    " - [unzip](#unzip)\n",
    " - [gzip](#gzip)\n",
    " - [tar](#tar)\n",
    "- [Examples for Compression](#Examples-for-Compression)\n",
    "- [Searching](#Searching)\n",
    " - [locate](#locate)\n",
    " - [grep](#grep)\n",
    " - [find](#find)\n",
    "- [Examples for Searching](#Examples-for-Searching) \n",
    " "
   ]
  },
  {
   "cell_type": "markdown",
   "metadata": {},
   "source": [
    "### Key Notes"
   ]
  },
  {
   "cell_type": "markdown",
   "metadata": {},
   "source": [
    " 1. If you are note sure try `man <cmd>`"
   ]
  },
  {
   "cell_type": "markdown",
   "metadata": {},
   "source": [
    "## Navigating, Creating and building blocks"
   ]
  },
  {
   "cell_type": "markdown",
   "metadata": {
    "slideshow": {
     "slide_type": "fragment"
    }
   },
   "source": [
    "For the first few commands i will define them and then give examples all together to see how they can be used in conjunction"
   ]
  },
  {
   "cell_type": "markdown",
   "metadata": {},
   "source": [
    "### ls\n",
    "\n",
    "List files\n",
    " - `-a` all files including \".xxx\"\n",
    " - `-l` lond description\n",
    " - `-G` show colors (only on mac)\n",
    " - `-F` shows file types\n",
    " - `-S` sort by file size\n",
    " - `-h` human readable size (when using l)\n",
    " - `-r` reverse the order\n",
    " - `-1` just 1 column\n",
    " - `-t` sort by time\n",
    " \n",
    "For more see `man ls` as usual"
   ]
  },
  {
   "cell_type": "markdown",
   "metadata": {},
   "source": [
    "### pwd\n",
    "\n",
    " - `-P` if inside a soft link it shows the physical location\n",
    "Print current working directory"
   ]
  },
  {
   "cell_type": "markdown",
   "metadata": {},
   "source": [
    "### touch\n",
    "\n",
    "Updates file modify time (creates empty file if not there)"
   ]
  },
  {
   "cell_type": "markdown",
   "metadata": {},
   "source": [
    "### cd\n",
    "\n",
    "Change Directory\n",
    "\n",
    " - `cd -` goes to previous location"
   ]
  },
  {
   "cell_type": "markdown",
   "metadata": {},
   "source": [
    "### tree\n",
    "\n",
    "List contents of directories in a tree-like format.\n",
    " - `-a` all files\n",
    " - `-d` list directories only\n",
    " - `-P` list only files that match wild card pattern\n",
    " - `-I` do not list files that match wild card pattern\n",
    " - `-s` show file size\n",
    " - `-h` make file size human readable\n",
    " - `-C` show colors"
   ]
  },
  {
   "cell_type": "markdown",
   "metadata": {},
   "source": [
    "### mv\n",
    "\n",
    "Move file (often used to rename) `mv src destination`\n",
    " - `-i` ask before overwrite"
   ]
  },
  {
   "cell_type": "markdown",
   "metadata": {},
   "source": [
    "### mkdir\n",
    "\n",
    "Makes a directory or directories\n",
    " - `-p` makes parents as well"
   ]
  },
  {
   "cell_type": "markdown",
   "metadata": {},
   "source": [
    "### cp\n",
    "\n",
    "Copies a file \n",
    " - `-i` ask before ovewriting\n",
    " - `-a` archives same as `-pPR` where p copies attributes e.g. time, R is recursive, P stops following soft links"
   ]
  },
  {
   "cell_type": "markdown",
   "metadata": {},
   "source": [
    "### wild cards\n",
    "\n",
    " - `*` matches all\n",
    " - `[x,ta-c]` matches any of x, comma, t, a, b and c\n",
    " - `{zebra, time}` matches any of \"zebra\" or \"time\"\n",
    " - `{1..10}` matches any of 1, 2, 3, ..., 10\n",
    " \n",
    "Use with any of `cp`, `rm`, `mv`, `ls`, ..."
   ]
  },
  {
   "cell_type": "markdown",
   "metadata": {},
   "source": [
    "### ln\n",
    "\n",
    "Create a link\n",
    " - `-s` make link symbolic so it is a seprate i node but points to the other (if the other file is moved this will break). A normal hard link points to the same inode (same memeory) "
   ]
  },
  {
   "cell_type": "markdown",
   "metadata": {},
   "source": [
    "### rm\n",
    "\n",
    "Remove files (remember folders are files)\n",
    " - `-i` ask before deleting\n",
    " - `-r` recursive for folders\n",
    " - `-f` force"
   ]
  },
  {
   "cell_type": "markdown",
   "metadata": {},
   "source": [
    "### man\n",
    "\n",
    "Manual for command\n",
    " - when in man hit \"/\" to open search prompt then \"enter\" to search. Use \"n\" and \"shift+n\" to move through results\n",
    " - \"q\" to quit"
   ]
  },
  {
   "cell_type": "markdown",
   "metadata": {},
   "source": [
    "### info\n",
    "\n",
    "Similar to man but with more detail"
   ]
  },
  {
   "cell_type": "markdown",
   "metadata": {},
   "source": [
    "### whereis\n",
    "\n",
    "Shows where src, binaries and man are on disk\n",
    " - `-s` for source\n",
    " - `-b` for binaries\n",
    " - `-m` for man"
   ]
  },
  {
   "cell_type": "markdown",
   "metadata": {},
   "source": [
    "### which\n",
    "\n",
    "Shows which executable is executed in path"
   ]
  },
  {
   "cell_type": "markdown",
   "metadata": {},
   "source": [
    "### type\n",
    "\n",
    "Shows the alias definition"
   ]
  },
  {
   "cell_type": "markdown",
   "metadata": {},
   "source": [
    "### operators\n",
    "\n",
    " - `;` use to run commands sequentially\n",
    " - `&&` use to run commands sequentially if exit code == 0\n",
    " - `||` use to run commands sequentially if exit code != 0\n",
    " - `$(<command>)` use to run command in sub shell\n",
    "   - `0` stdin\n",
    "   - `1` stdout\n",
    "   - `2` stderr\n",
    " - `|` pipe output of one command into another\n",
    " - `>` redirect stdout into file\n",
    " - `2`> redirect stderror\n",
    " - `<` redirect stdin\n"
   ]
  },
  {
   "cell_type": "markdown",
   "metadata": {},
   "source": [
    "### cat\n",
    "\n",
    "Concatenate files into stdout. Often used to read just one file\n",
    " - `-n` add line numbers"
   ]
  },
  {
   "cell_type": "markdown",
   "metadata": {},
   "source": [
    "### file\n",
    "\n",
    "Describe file type"
   ]
  },
  {
   "cell_type": "markdown",
   "metadata": {},
   "source": [
    "### less\n",
    "\n",
    "Page through a file\n",
    " - up and down or "
   ]
  },
  {
   "cell_type": "markdown",
   "metadata": {},
   "source": [
    "### head\n",
    "\n",
    "Show first 10 lines of file\n",
    " - `-n` specify number of lines"
   ]
  },
  {
   "cell_type": "markdown",
   "metadata": {},
   "source": [
    "### tail\n",
    "\n",
    "Show last 10 lines of file\n",
    " - `-n` specify number of lines"
   ]
  },
  {
   "cell_type": "markdown",
   "metadata": {},
   "source": [
    "## Examples for Navigating, Creating and building blocks"
   ]
  },
  {
   "cell_type": "code",
   "execution_count": 395,
   "metadata": {},
   "outputs": [],
   "source": [
    "cd .."
   ]
  },
  {
   "cell_type": "code",
   "execution_count": 396,
   "metadata": {},
   "outputs": [],
   "source": [
    "rm -r learn-linux"
   ]
  },
  {
   "cell_type": "code",
   "execution_count": 397,
   "metadata": {},
   "outputs": [
    {
     "name": "stdout",
     "output_type": "stream",
     "text": [
      "/Users/simon.ward-jones/Documents/General_Repos/ForgetCode/Bash\n"
     ]
    }
   ],
   "source": [
    "pwd"
   ]
  },
  {
   "cell_type": "code",
   "execution_count": 398,
   "metadata": {},
   "outputs": [],
   "source": [
    "mkdir learn-linux"
   ]
  },
  {
   "cell_type": "code",
   "execution_count": 399,
   "metadata": {},
   "outputs": [],
   "source": [
    "cd learn-linux"
   ]
  },
  {
   "cell_type": "code",
   "execution_count": 400,
   "metadata": {},
   "outputs": [
    {
     "name": "stdout",
     "output_type": "stream",
     "text": [
      "/Users/simon.ward-jones/Documents/General_Repos/ForgetCode/Bash/learn-linux\n"
     ]
    }
   ],
   "source": [
    "pwd"
   ]
  },
  {
   "cell_type": "code",
   "execution_count": 401,
   "metadata": {},
   "outputs": [],
   "source": [
    "mkdir example-folder-{1..10}"
   ]
  },
  {
   "cell_type": "code",
   "execution_count": 402,
   "metadata": {},
   "outputs": [
    {
     "name": "stdout",
     "output_type": "stream",
     "text": [
      "total 0\n",
      "drwxr-xr-x   7 simon.ward-jones  staff  224 16 Aug 11:19 \u001b[34m..\u001b[39;49m\u001b[0m/\n",
      "drwxr-xr-x   2 simon.ward-jones  staff   64 16 Aug 11:19 \u001b[34mexample-folder-1\u001b[39;49m\u001b[0m/\n",
      "drwxr-xr-x   2 simon.ward-jones  staff   64 16 Aug 11:19 \u001b[34mexample-folder-2\u001b[39;49m\u001b[0m/\n",
      "drwxr-xr-x   2 simon.ward-jones  staff   64 16 Aug 11:19 \u001b[34mexample-folder-3\u001b[39;49m\u001b[0m/\n",
      "drwxr-xr-x   2 simon.ward-jones  staff   64 16 Aug 11:19 \u001b[34mexample-folder-4\u001b[39;49m\u001b[0m/\n",
      "drwxr-xr-x   2 simon.ward-jones  staff   64 16 Aug 11:19 \u001b[34mexample-folder-5\u001b[39;49m\u001b[0m/\n",
      "drwxr-xr-x   2 simon.ward-jones  staff   64 16 Aug 11:19 \u001b[34mexample-folder-6\u001b[39;49m\u001b[0m/\n",
      "drwxr-xr-x   2 simon.ward-jones  staff   64 16 Aug 11:19 \u001b[34mexample-folder-7\u001b[39;49m\u001b[0m/\n",
      "drwxr-xr-x   2 simon.ward-jones  staff   64 16 Aug 11:19 \u001b[34mexample-folder-8\u001b[39;49m\u001b[0m/\n",
      "drwxr-xr-x   2 simon.ward-jones  staff   64 16 Aug 11:19 \u001b[34mexample-folder-9\u001b[39;49m\u001b[0m/\n",
      "drwxr-xr-x   2 simon.ward-jones  staff   64 16 Aug 11:19 \u001b[34mexample-folder-10\u001b[39;49m\u001b[0m/\n",
      "drwxr-xr-x  12 simon.ward-jones  staff  384 16 Aug 11:19 \u001b[34m.\u001b[39;49m\u001b[0m/\n"
     ]
    }
   ],
   "source": [
    "ls -laFGtr"
   ]
  },
  {
   "cell_type": "code",
   "execution_count": 403,
   "metadata": {},
   "outputs": [],
   "source": [
    "rm -r e*{2..10}"
   ]
  },
  {
   "cell_type": "code",
   "execution_count": 404,
   "metadata": {},
   "outputs": [
    {
     "name": "stdout",
     "output_type": "stream",
     "text": [
      "example-folder-1\n"
     ]
    }
   ],
   "source": [
    "ls"
   ]
  },
  {
   "cell_type": "code",
   "execution_count": 405,
   "metadata": {},
   "outputs": [],
   "source": [
    "mkdir -p \"deep/folders/are_possible\""
   ]
  },
  {
   "cell_type": "code",
   "execution_count": 406,
   "metadata": {},
   "outputs": [
    {
     "name": "stdout",
     "output_type": "stream",
     "text": [
      ".\n",
      "├── deep\n",
      "│   └── folders\n",
      "│       └── are_possible\n",
      "└── example-folder-1\n",
      "\n",
      "4 directories, 0 files\n"
     ]
    }
   ],
   "source": [
    "tree ."
   ]
  },
  {
   "cell_type": "code",
   "execution_count": 407,
   "metadata": {},
   "outputs": [],
   "source": [
    "ln -s example-folder-1 deep/folders/are_possible/soft-link"
   ]
  },
  {
   "cell_type": "code",
   "execution_count": 408,
   "metadata": {},
   "outputs": [],
   "source": [
    "touch zebra.txt"
   ]
  },
  {
   "cell_type": "code",
   "execution_count": 409,
   "metadata": {},
   "outputs": [],
   "source": [
    "echo \"The quick brown\n",
    "fox jumped over\n",
    "the lazy dog\" > all_the_letters.txt"
   ]
  },
  {
   "cell_type": "code",
   "execution_count": 410,
   "metadata": {},
   "outputs": [],
   "source": [
    "cat < all_the_letters.txt > all_the_letters_with_lines.txt -n"
   ]
  },
  {
   "cell_type": "code",
   "execution_count": 411,
   "metadata": {},
   "outputs": [
    {
     "name": "stdout",
     "output_type": "stream",
     "text": [
      "     1\tThe quick brown\n",
      "     2\tfox jumped over\n",
      "     3\tthe lazy dog\n"
     ]
    }
   ],
   "source": [
    "cat all_the_letters_with_lines.txt"
   ]
  },
  {
   "cell_type": "code",
   "execution_count": 412,
   "metadata": {},
   "outputs": [],
   "source": [
    "cp zebra.txt ./deep"
   ]
  },
  {
   "cell_type": "code",
   "execution_count": 413,
   "metadata": {},
   "outputs": [
    {
     "name": "stdout",
     "output_type": "stream",
     "text": [
      "\u001b[01;34m.\u001b[00m\n",
      "├── [  45]  all_the_letters.txt\n",
      "├── [  66]  all_the_letters_with_lines.txt\n",
      "├── [ 128]  \u001b[01;34mdeep\u001b[00m/\n",
      "│   ├── [  96]  \u001b[01;34mfolders\u001b[00m/\n",
      "│   │   └── [  96]  \u001b[01;34mare_possible\u001b[00m/\n",
      "│   │       └── [  16]  \u001b[40;31;01msoft-link\u001b[00m -> example-folder-1\n",
      "│   └── [   0]  zebra.txt\n",
      "├── [  64]  \u001b[01;34mexample-folder-1\u001b[00m/\n",
      "└── [   0]  zebra.txt\n",
      "\n",
      "4 directories, 5 files\n"
     ]
    }
   ],
   "source": [
    "tree -FshC"
   ]
  },
  {
   "cell_type": "code",
   "execution_count": 414,
   "metadata": {},
   "outputs": [],
   "source": [
    "cat << EOF > example_csv.csv \n",
    ",date_time,animal,category,name,weight,favourite_integer,bad_column,employed\n",
    "0,2018-03-02,zebra,stripy,Walter,98.98282714754193,71,,False\n",
    "1,2017-10-14,zebra,stripy,Edmund,106.2989001062902,0,3,False\n",
    "2,2018-05-18,zebra,stripy,Gyles,106.65641884499352,84,,False\n",
    "3,2017-10-04,zebra,stripy,John,85.70401411701471,79,1,True\n",
    "4,2018-05-01,lion,dangerous,Bartholomew,80.43441772360272,18,,True\n",
    "5,2017-12-30,lion,dangerous,Frederyk,94.99017968253457,56,2,False\n",
    "6,2018-04-03,lion,dangerous,Raulf,90.96192557913325,47,23,False\n",
    "7,2018-02-03,lion,dangerous,Symond,112.41392208940334,20,2,False\n",
    "8,2018-06-04,rhino,dangerous,Carlos,107.62370612154739,43,3,False\n",
    "9,2018-08-08,rhino,dangerous,Arthur,104.05828154910932,26,3,False\n",
    "EOF"
   ]
  },
  {
   "cell_type": "code",
   "execution_count": 415,
   "metadata": {},
   "outputs": [
    {
     "name": "stdout",
     "output_type": "stream",
     "text": [
      "==> example_csv.csv <==\n",
      ",date_time,animal,category,name,weight,favourite_integer,bad_column,employed\n",
      "0,2018-03-02,zebra,stripy,Walter,98.98282714754193,71,,False\n",
      "\n",
      "==> all_the_letters.txt <==\n",
      "The quick brown\n",
      "fox jumped over\n"
     ]
    }
   ],
   "source": [
    "head -n 2 example_csv.csv all_the_letters.txt"
   ]
  },
  {
   "cell_type": "code",
   "execution_count": 416,
   "metadata": {},
   "outputs": [],
   "source": [
    "mv example_csv.csv animal_data.csv"
   ]
  },
  {
   "cell_type": "code",
   "execution_count": 417,
   "metadata": {},
   "outputs": [
    {
     "name": "stdout",
     "output_type": "stream",
     "text": [
      ".\n",
      "├── all_the_letters.txt\n",
      "├── all_the_letters_with_lines.txt\n",
      "├── animal_data.csv\n",
      "├── deep/\n",
      "│   ├── folders/\n",
      "│   │   └── are_possible/\n",
      "│   │       └── soft-link -> example-folder-1\n",
      "│   └── zebra.txt\n",
      "├── example-folder-1/\n",
      "└── zebra.txt\n",
      "\n",
      "4 directories, 6 files\n"
     ]
    }
   ],
   "source": [
    "tree -F"
   ]
  },
  {
   "cell_type": "code",
   "execution_count": 418,
   "metadata": {},
   "outputs": [
    {
     "name": "stdout",
     "output_type": "stream",
     "text": [
      "Files starting with a or z:\n",
      "\n",
      "all_the_letters.txt\n",
      "all_the_letters_with_lines.txt\n",
      "animal_data.csv\n",
      "zebra.txt\n"
     ]
    }
   ],
   "source": [
    "echo Files starting with a or z:\n",
    "echo\n",
    "ls -1 [az]*"
   ]
  },
  {
   "cell_type": "code",
   "execution_count": 419,
   "metadata": {},
   "outputs": [
    {
     "name": "stdout",
     "output_type": "stream",
     "text": [
      "/usr/local/bin/python3\n"
     ]
    }
   ],
   "source": [
    "which python3"
   ]
  },
  {
   "cell_type": "code",
   "execution_count": 420,
   "metadata": {},
   "outputs": [
    {
     "name": "stdout",
     "output_type": "stream",
     "text": [
      "/bin/bash\n"
     ]
    }
   ],
   "source": [
    "whereis bash"
   ]
  },
  {
   "cell_type": "code",
   "execution_count": 421,
   "metadata": {},
   "outputs": [
    {
     "name": "stdout",
     "output_type": "stream",
     "text": [
      "ll is aliased to `ls -laGFh'\n"
     ]
    }
   ],
   "source": [
    "type ll"
   ]
  },
  {
   "cell_type": "code",
   "execution_count": 422,
   "metadata": {},
   "outputs": [
    {
     "name": "stdout",
     "output_type": "stream",
     "text": [
      "all_the_letters.txt:            ASCII text\n",
      "all_the_letters_with_lines.txt: ASCII text\n",
      "animal_data.csv:                ASCII text\n",
      "deep:                           directory\n",
      "example-folder-1:               directory\n",
      "zebra.txt:                      empty\n"
     ]
    }
   ],
   "source": [
    "file *"
   ]
  },
  {
   "cell_type": "code",
   "execution_count": 423,
   "metadata": {},
   "outputs": [
    {
     "name": "stdout",
     "output_type": "stream",
     "text": [
      "/Users/simon.ward-jones/Documents/General_Repos/ForgetCode/Bash/learn-linux\n"
     ]
    }
   ],
   "source": [
    "pwd"
   ]
  },
  {
   "cell_type": "code",
   "execution_count": 424,
   "metadata": {},
   "outputs": [],
   "source": [
    "cd .."
   ]
  },
  {
   "cell_type": "code",
   "execution_count": 425,
   "metadata": {},
   "outputs": [
    {
     "name": "stdout",
     "output_type": "stream",
     "text": [
      "examine files in directory learn-linux? \r\n"
     ]
    }
   ],
   "source": [
    "rm -ir learn-linux"
   ]
  },
  {
   "cell_type": "code",
   "execution_count": 426,
   "metadata": {},
   "outputs": [],
   "source": [
    "cd learn-linux"
   ]
  },
  {
   "cell_type": "markdown",
   "metadata": {},
   "source": [
    "## Manipulating text files"
   ]
  },
  {
   "cell_type": "markdown",
   "metadata": {},
   "source": [
    "### wc\n",
    "\n",
    "Count characheters, words, lines or bytes in file\n",
    " - `m` count characters only\n",
    " - `w` count words only\n",
    " - `l` count lines only\n",
    " - `c` count bytes only"
   ]
  },
  {
   "cell_type": "markdown",
   "metadata": {},
   "source": [
    "### nl\n",
    "\n",
    "Number the lines\n",
    " - `-b` \n",
    "  - a all\n",
    "  - t non-empy (default)"
   ]
  },
  {
   "cell_type": "markdown",
   "metadata": {},
   "source": [
    "### cut\n",
    "\n",
    "Cut out selected portions of each line of a file\n",
    " - `-f` which columns to cut out\n",
    " - `-d` column delimiter (of input)"
   ]
  },
  {
   "cell_type": "markdown",
   "metadata": {},
   "source": [
    "### sort\n",
    "\n",
    "Sort or merge records (lines) of text\n",
    " - `-r` reverse\n",
    " - `-t` specify delimiter for `-k` sorting column\n",
    " - `-n` sort numerically\n",
    " - `-h` sort human readable size"
   ]
  },
  {
   "cell_type": "markdown",
   "metadata": {},
   "source": [
    "### uniq\n",
    "\n",
    "Report or filter out repeated lines in a file\n",
    " - `-c` count occurences"
   ]
  },
  {
   "cell_type": "markdown",
   "metadata": {},
   "source": [
    "### tr\n",
    "\n",
    "Translate characters\n",
    " - `-d` delete character matches\n",
    " - `-s` squeeze duplicates into one\n",
    " can use character classes e.g. \n",
    " ```\n",
    "    alnum        <alphanumeric characters>\n",
    "    alpha        <alphabetic characters>\n",
    "    blank        <whitespace characters>\n",
    "    cntrl        <control characters>\n",
    "    digit        <numeric characters>\n",
    "    graph        <graphic characters>\n",
    "    ideogram     <ideographic characters>\n",
    "    lower        <lower-case alphabetic characters>\n",
    "    phonogram    <phonographic characters>\n",
    "    print        <printable characters>\n",
    "    punct        <punctuation characters>\n",
    "    rune         <valid characters>\n",
    "    space        <space characters>\n",
    "    special      <special characters>\n",
    "    upper        <upper-case characters>\n",
    "    xdigit       <hexadecimal characters>```\n",
    "                "
   ]
  },
  {
   "cell_type": "markdown",
   "metadata": {},
   "source": [
    "### sed\n",
    "\n",
    "Stream editior"
   ]
  },
  {
   "cell_type": "markdown",
   "metadata": {},
   "source": [
    "### awk\n",
    "\n",
    "Pattern-directed scanning and processing language"
   ]
  },
  {
   "cell_type": "markdown",
   "metadata": {},
   "source": [
    "## Examples for Manipulating text files"
   ]
  },
  {
   "cell_type": "code",
   "execution_count": 442,
   "metadata": {},
   "outputs": [
    {
     "name": "stdout",
     "output_type": "stream",
     "text": [
      "3 lines 9 words and 45 Characters in all_the_letters.txt\n"
     ]
    }
   ],
   "source": [
    "wc all_the_letters.txt | awk '{print $1\" lines \"$2\" words and \"$3\" Characters in \"$4}'"
   ]
  },
  {
   "cell_type": "code",
   "execution_count": 443,
   "metadata": {},
   "outputs": [
    {
     "name": "stdout",
     "output_type": "stream",
     "text": [
      "     713 animal_data.csv\n"
     ]
    }
   ],
   "source": [
    "wc -c animal_data.csv"
   ]
  },
  {
   "cell_type": "code",
   "execution_count": 444,
   "metadata": {},
   "outputs": [],
   "source": [
    "cat << EOF > list_from_dictionary.py\n",
    "words = ['zebra', 'bear', 'dog']\n",
    "counts = [12, 43, 54]\n",
    "count_look_up_dict = dict(zip(words, counts))\n",
    "\n",
    "count_look_up_dict['zebra']\n",
    "# {'bear': 43, 'dog': 54, 'zebra': 12}\n",
    "EOF"
   ]
  },
  {
   "cell_type": "code",
   "execution_count": 445,
   "metadata": {},
   "outputs": [
    {
     "name": "stdout",
     "output_type": "stream",
     "text": [
      "     1\twords = ['zebra', 'bear', 'dog']\n",
      "     2\tcounts = [12, 43, 54]\n",
      "     3\tcount_look_up_dict = dict(zip(words, counts))\n",
      "      \t\n",
      "     4\tcount_look_up_dict['zebra']\n",
      "     5\t# {'bear': 43, 'dog': 54, 'zebra': 12}\n"
     ]
    }
   ],
   "source": [
    "nl list_from_dictionary.py"
   ]
  },
  {
   "cell_type": "code",
   "execution_count": 446,
   "metadata": {},
   "outputs": [
    {
     "name": "stdout",
     "output_type": "stream",
     "text": [
      "     1\twords = ['zebra', 'bear', 'dog']\n",
      "     2\tcounts = [12, 43, 54]\n",
      "     3\tcount_look_up_dict = dict(zip(words, counts))\n",
      "     4\t\n",
      "     5\tcount_look_up_dict['zebra']\n",
      "     6\t# {'bear': 43, 'dog': 54, 'zebra': 12}\n"
     ]
    }
   ],
   "source": [
    "nl -b a list_from_dictionary.py"
   ]
  },
  {
   "cell_type": "code",
   "execution_count": 447,
   "metadata": {},
   "outputs": [
    {
     "name": "stdout",
     "output_type": "stream",
     "text": [
      "same as: cat -n list_from_dictionary.py\n"
     ]
    }
   ],
   "source": [
    "echo same as: cat -n list_from_dictionary.py"
   ]
  },
  {
   "cell_type": "code",
   "execution_count": 448,
   "metadata": {},
   "outputs": [
    {
     "name": "stdout",
     "output_type": "stream",
     "text": [
      "Top 3 animals by weight Animals sorted by wieght\n",
      "\n",
      "animal,name,weight\n",
      "lion,Bartholomew,80.43441772360272\n",
      "zebra,John,85.70401411701471\n",
      "lion,Raulf,90.96192557913325\n"
     ]
    }
   ],
   "source": [
    "echo Top 3 animals by weight Animals sorted by wieght\n",
    "echo\n",
    "cut -d ',' -f 3,5,6 animal_data.csv |  sort -t, -k3 -n | head -n 4"
   ]
  },
  {
   "cell_type": "code",
   "execution_count": 449,
   "metadata": {},
   "outputs": [
    {
     "name": "stdout",
     "output_type": "stream",
     "text": [
      ",date_time,animal\n",
      "0,2018-03-02,zebra\n",
      "1,2017-10-14,zebra\n",
      "2,2018-05-18,zebra\n",
      "3,2017-10-04,zebra\n"
     ]
    }
   ],
   "source": [
    "cut -d ',' -f 1,2,3 animal_data.csv | head -n 5"
   ]
  },
  {
   "cell_type": "code",
   "execution_count": 450,
   "metadata": {},
   "outputs": [
    {
     "name": "stdout",
     "output_type": "stream",
     "text": [
      "simon\n"
     ]
    }
   ],
   "source": [
    "echo \"simon\n",
    "simon\" | uniq"
   ]
  },
  {
   "cell_type": "code",
   "execution_count": 451,
   "metadata": {},
   "outputs": [
    {
     "name": "stdout",
     "output_type": "stream",
     "text": [
      "Animal counts sorted small to large\n",
      "   2 rhino\n",
      "   4 lion\n",
      "   4 zebra\n"
     ]
    }
   ],
   "source": [
    "echo Animal counts sorted small to large\n",
    "cut -d ',' -f 3 animal_data.csv | awk 'NR>1' | uniq -c | sort -n"
   ]
  },
  {
   "cell_type": "code",
   "execution_count": 452,
   "metadata": {},
   "outputs": [
    {
     "name": "stdout",
     "output_type": "stream",
     "text": [
      "animal-data.csv\n"
     ]
    }
   ],
   "source": [
    "echo \"animal__data.csv\" | tr -s '_' '-'"
   ]
  },
  {
   "cell_type": "code",
   "execution_count": 453,
   "metadata": {},
   "outputs": [
    {
     "name": "stdout",
     "output_type": "stream",
     "text": [
      "animaldata.csv\n"
     ]
    }
   ],
   "source": [
    "echo \"animal__data.csv\" | tr -d '_'"
   ]
  },
  {
   "cell_type": "code",
   "execution_count": 454,
   "metadata": {},
   "outputs": [
    {
     "name": "stdout",
     "output_type": "stream",
     "text": [
      "words = ['zebra', 'bear', 'dog']\n",
      "counts = [12, 43, 54]\n",
      "count_look_up_dict = dict(zip(words, counts))\n",
      "count_look_up_dict['zebra']\n"
     ]
    }
   ],
   "source": [
    "cat list_from_dictionary.py | tr -s '\\n' | sed /^#/d"
   ]
  },
  {
   "cell_type": "code",
   "execution_count": 455,
   "metadata": {},
   "outputs": [
    {
     "name": "stdout",
     "output_type": "stream",
     "text": [
      ",date_time,animal,category,name,weight,favourite_integer,bad_column,employed \n",
      "False  71 98.98282714754193 Walter stripy zebra 2018-03-02 0 \n",
      "False 3 0 106.2989001062902 Edmund stripy zebra 2017-10-14 1 \n",
      "False  84 106.65641884499352 Gyles stripy zebra 2018-05-18 2 \n",
      "True 1 79 85.70401411701471 John stripy zebra 2017-10-04 3 \n"
     ]
    }
   ],
   "source": [
    "awk 'FS=\",\" {for (i=NF;i>0;i--){printf $i\" \"};printf \"\\n\"}' animal_data.csv | head -n 5"
   ]
  },
  {
   "cell_type": "markdown",
   "metadata": {},
   "source": [
    "## Permissions"
   ]
  },
  {
   "cell_type": "markdown",
   "metadata": {},
   "source": [
    "### su\n",
    "\n",
    "Substitute user identity\n",
    " - `-l` change env vars as well\n",
    " - `-` same as -l"
   ]
  },
  {
   "cell_type": "markdown",
   "metadata": {},
   "source": [
    "### chgrp\n",
    "\n",
    "change group (permission group)\n",
    " - `-R` recursively for directories"
   ]
  },
  {
   "cell_type": "markdown",
   "metadata": {},
   "source": [
    "### chown\n",
    "\n",
    "Change file owner and group\n",
    " - use : to specify owner and group e.g. `simon.ward-jones:admin`"
   ]
  },
  {
   "cell_type": "markdown",
   "metadata": {},
   "source": [
    "### chmod\n",
    "\n",
    "Change file modes or Access Control Lists\n",
    " - the first number can be omitted\n",
    "```        \n",
    "           4000    (the set-user-ID-on-execution bit) Executable files with\n",
    "                   this bit set will run with effective uid set to the uid of\n",
    "                   the file owner\n",
    "           2000    (the set-group-ID-on-execution bit) Executable files with\n",
    "                   this bit set will run with effective gid set to the gid of\n",
    "                   the file owner.\n",
    "           1000    (the sticky bit) only users can delete there files in a folder\n",
    "                   marked with sticky bit\n",
    "           0400    Allow read by owner.\n",
    "           0200    Allow write by owner.\n",
    "           0100    For files, allow execution by owner.  For directories,\n",
    "                   allow the owner to search in the directory.\n",
    "           0040    Allow read by group members.\n",
    "           0020    Allow write by group members.\n",
    "           0010    For files, allow execution by group members.  For directo-\n",
    "                   ries, allow group members to search in the directory.\n",
    "           0004    Allow read by others.\n",
    "           0002    Allow write by others.\n",
    "           0001    For files, allow execution by others.  For directories\n",
    "                   allow others to search in the directory.```"
   ]
  },
  {
   "cell_type": "markdown",
   "metadata": {},
   "source": [
    "### Compression and Archiving"
   ]
  },
  {
   "cell_type": "markdown",
   "metadata": {},
   "source": [
    "### zip\n",
    "\n",
    "Package and compress (archive) files"
   ]
  },
  {
   "cell_type": "markdown",
   "metadata": {},
   "source": [
    "### unzip\n",
    "\n",
    "List, test and extract compressed files in a ZIP archive\n",
    " - `-d` specify output dir"
   ]
  },
  {
   "cell_type": "markdown",
   "metadata": {},
   "source": [
    "### gzip \n",
    "\n",
    "Compression/decompression tool (only unix and mac) best use tar with -z\n",
    " - `-d`, `--decompress` uncompress the files\n",
    " - `-c` output to stdout rather than changing the file in place"
   ]
  },
  {
   "cell_type": "markdown",
   "metadata": {},
   "source": [
    "### tar\n",
    "\n",
    "Manipulate tape archives (group files into one file)\n",
    " - `-c` create tarball\n",
    " - `-x` extract from tarball\n",
    " - `-t` list tarball contents\n",
    "\n",
    " - `-f` specify the filename of the output if using c, or input if using x, or t\n",
    " - `-p` keep permisions\n",
    " - `-v` verbose\n",
    " - `-z` use gzip compression/decompression\n",
    " "
   ]
  },
  {
   "cell_type": "markdown",
   "metadata": {},
   "source": [
    "## Examples for Compression"
   ]
  },
  {
   "cell_type": "code",
   "execution_count": 456,
   "metadata": {},
   "outputs": [
    {
     "name": "stdout",
     "output_type": "stream",
     "text": [
      "ls: le*: No such file or directory\n",
      "-rw-r--r--  1 simon.ward-jones  staff    45B 16 Aug 11:19 all_the_letters.txt\n",
      "-rw-r--r--  1 simon.ward-jones  staff    66B 16 Aug 11:19 all_the_letters_with_lines.txt\n"
     ]
    },
    {
     "ename": "",
     "evalue": "1",
     "output_type": "error",
     "traceback": []
    }
   ],
   "source": [
    "ll {al,le}*"
   ]
  },
  {
   "cell_type": "code",
   "execution_count": 467,
   "metadata": {},
   "outputs": [
    {
     "name": "stdout",
     "output_type": "stream",
     "text": [
      "  adding: all_the_letters.txt (stored 0%)\n",
      "  adding: all_the_letters_with_lines.txt (deflated 11%)\n"
     ]
    }
   ],
   "source": [
    "zip -9 letters.zip all_the*"
   ]
  },
  {
   "cell_type": "code",
   "execution_count": 468,
   "metadata": {},
   "outputs": [
    {
     "name": "stdout",
     "output_type": "stream",
     "text": [
      "total 88\n",
      "drwxr-xr-x  13 simon.ward-jones  staff   416B 16 Aug 11:20 \u001b[34m.\u001b[39;49m\u001b[0m/\n",
      "drwxr-xr-x   7 simon.ward-jones  staff   224B 16 Aug 11:19 \u001b[34m..\u001b[39;49m\u001b[0m/\n",
      "-rw-r--r--   1 simon.ward-jones  staff    45B 16 Aug 11:19 all_the_letters.txt\n",
      "-rw-r--r--   1 simon.ward-jones  staff    66B 16 Aug 11:19 all_the_letters_with_lines.txt\n",
      "-rw-r--r--   1 simon.ward-jones  staff   713B 16 Aug 11:19 animal_data.csv\n",
      "-rw-r--r--   1 simon.ward-jones  staff    14K 16 Aug 11:20 bigger.csv\n",
      "-rw-r--r--   1 simon.ward-jones  staff   508B 16 Aug 11:20 bigger.csv.gz\n",
      "drwxr-xr-x   4 simon.ward-jones  staff   128B 16 Aug 11:19 \u001b[34mdeep\u001b[39;49m\u001b[0m/\n",
      "drwxr-xr-x   2 simon.ward-jones  staff    64B 16 Aug 11:19 \u001b[34mexample-folder-1\u001b[39;49m\u001b[0m/\n",
      "-rw-r--r--   1 simon.ward-jones  staff   246B 16 Aug 11:20 letters.tar.gz\n",
      "-rw-r--r--   1 simon.ward-jones  staff   480B 16 Aug 11:20 letters.zip\n",
      "-rw-r--r--   1 simon.ward-jones  staff   169B 16 Aug 11:20 list_from_dictionary.py\n",
      "-rw-r--r--   1 simon.ward-jones  staff     0B 16 Aug 11:19 zebra.txt\n"
     ]
    }
   ],
   "source": [
    "ll"
   ]
  },
  {
   "cell_type": "code",
   "execution_count": 469,
   "metadata": {},
   "outputs": [
    {
     "name": "stdout",
     "output_type": "stream",
     "text": [
      "Archive:  letters.zip\n",
      " extracting: tmp/all_the_letters.txt  \n",
      "  inflating: tmp/all_the_letters_with_lines.txt  \n"
     ]
    }
   ],
   "source": [
    "unzip -d tmp letters.zip  "
   ]
  },
  {
   "cell_type": "code",
   "execution_count": 470,
   "metadata": {},
   "outputs": [
    {
     "name": "stdout",
     "output_type": "stream",
     "text": [
      ".\n",
      "├── all_the_letters.txt\n",
      "├── all_the_letters_with_lines.txt\n",
      "├── animal_data.csv\n",
      "├── bigger.csv\n",
      "├── bigger.csv.gz\n",
      "├── deep\n",
      "│   ├── folders\n",
      "│   │   └── are_possible\n",
      "│   │       └── soft-link -> example-folder-1\n",
      "│   └── zebra.txt\n",
      "├── example-folder-1\n",
      "├── letters.tar.gz\n",
      "├── letters.zip\n",
      "├── list_from_dictionary.py\n",
      "├── tmp\n",
      "│   ├── all_the_letters.txt\n",
      "│   └── all_the_letters_with_lines.txt\n",
      "└── zebra.txt\n",
      "\n",
      "5 directories, 13 files\n"
     ]
    }
   ],
   "source": [
    "tree"
   ]
  },
  {
   "cell_type": "code",
   "execution_count": 471,
   "metadata": {},
   "outputs": [
    {
     "name": "stdout",
     "output_type": "stream",
     "text": [
      "a all_the_letters.txt\n",
      "a all_the_letters_with_lines.txt\n"
     ]
    }
   ],
   "source": [
    "tar -cpvzf letters.tar.gz all_the*"
   ]
  },
  {
   "cell_type": "code",
   "execution_count": 472,
   "metadata": {},
   "outputs": [
    {
     "name": "stdout",
     "output_type": "stream",
     "text": [
      "-rw-r--r--  0 simon.ward-jones staff      45 16 Aug 11:19 all_the_letters.txt\n",
      "-rw-r--r--  0 simon.ward-jones staff      66 16 Aug 11:19 all_the_letters_with_lines.txt\n"
     ]
    }
   ],
   "source": [
    "tar -tzpvf letters.tar.gz"
   ]
  },
  {
   "cell_type": "code",
   "execution_count": 473,
   "metadata": {},
   "outputs": [
    {
     "name": "stdout",
     "output_type": "stream",
     "text": [
      "x all_the_letters.txt\n",
      "x all_the_letters_with_lines.txt\n"
     ]
    }
   ],
   "source": [
    "tar -vzpxf letters.tar.gz"
   ]
  },
  {
   "cell_type": "code",
   "execution_count": 474,
   "metadata": {},
   "outputs": [
    {
     "name": "stdout",
     "output_type": "stream",
     "text": [
      "making larger exampke file by writing each line 20 times\n",
      "total 88\n",
      "drwxr-xr-x  14 simon.ward-jones  staff   448B 16 Aug 11:20 \u001b[34m.\u001b[39;49m\u001b[0m/\n",
      "drwxr-xr-x   7 simon.ward-jones  staff   224B 16 Aug 11:19 \u001b[34m..\u001b[39;49m\u001b[0m/\n",
      "-rw-r--r--   1 simon.ward-jones  staff    45B 16 Aug 11:19 all_the_letters.txt\n",
      "-rw-r--r--   1 simon.ward-jones  staff    66B 16 Aug 11:19 all_the_letters_with_lines.txt\n",
      "-rw-r--r--   1 simon.ward-jones  staff   713B 16 Aug 11:19 animal_data.csv\n",
      "-rw-r--r--   1 simon.ward-jones  staff    14K 16 Aug 11:20 bigger.csv\n",
      "-rw-r--r--   1 simon.ward-jones  staff   508B 16 Aug 11:20 bigger.csv.gz\n",
      "drwxr-xr-x   4 simon.ward-jones  staff   128B 16 Aug 11:19 \u001b[34mdeep\u001b[39;49m\u001b[0m/\n",
      "drwxr-xr-x   2 simon.ward-jones  staff    64B 16 Aug 11:19 \u001b[34mexample-folder-1\u001b[39;49m\u001b[0m/\n",
      "-rw-r--r--   1 simon.ward-jones  staff   246B 16 Aug 11:20 letters.tar.gz\n",
      "-rw-r--r--   1 simon.ward-jones  staff   480B 16 Aug 11:20 letters.zip\n",
      "-rw-r--r--   1 simon.ward-jones  staff   169B 16 Aug 11:20 list_from_dictionary.py\n",
      "drwxr-xr-x   4 simon.ward-jones  staff   128B 16 Aug 11:20 \u001b[34mtmp\u001b[39;49m\u001b[0m/\n",
      "-rw-r--r--   1 simon.ward-jones  staff     0B 16 Aug 11:19 zebra.txt\n"
     ]
    }
   ],
   "source": [
    "echo making larger exampke file by writing each line 20 times\n",
    "cat animal_data.csv | awk '{for (i=20;i>0;i--)print}' > bigger.csv\n",
    "ll"
   ]
  },
  {
   "cell_type": "code",
   "execution_count": 477,
   "metadata": {},
   "outputs": [
    {
     "name": "stdout",
     "output_type": "stream",
     "text": [
      "bigger.csv:\t   96.4% -- replaced with bigger.csv.gz\n",
      "gzip zipped inplace as no -c is specified\n",
      "-rw-r--r--  1 simon.ward-jones  staff   508B 16 Aug 11:20 bigger.csv.gz\n",
      "gzip decompressed inplace\n"
     ]
    }
   ],
   "source": [
    "gzip -vf bigger.csv\n",
    "echo gzip zipped inplace as no -c is specified\n",
    "ll bi*\n",
    "gzip -d bigger.csv.gz\n",
    "echo gzip decompressed inplace"
   ]
  },
  {
   "cell_type": "code",
   "execution_count": 478,
   "metadata": {},
   "outputs": [
    {
     "name": "stdout",
     "output_type": "stream",
     "text": [
      "achieving the same thing through redirection\n",
      "bigger.csv:\t   96.4%\n"
     ]
    }
   ],
   "source": [
    "echo achieving the same thing through redirection\n",
    "gzip -vc bigger.csv > bigger.csv.gz"
   ]
  },
  {
   "cell_type": "code",
   "execution_count": 479,
   "metadata": {},
   "outputs": [
    {
     "name": "stdout",
     "output_type": "stream",
     "text": [
      "total 88\n",
      "drwxr-xr-x  14 simon.ward-jones  staff   448B 16 Aug 11:21 \u001b[34m.\u001b[39;49m\u001b[0m/\n",
      "drwxr-xr-x   7 simon.ward-jones  staff   224B 16 Aug 11:19 \u001b[34m..\u001b[39;49m\u001b[0m/\n",
      "-rw-r--r--   1 simon.ward-jones  staff    45B 16 Aug 11:19 all_the_letters.txt\n",
      "-rw-r--r--   1 simon.ward-jones  staff    66B 16 Aug 11:19 all_the_letters_with_lines.txt\n",
      "-rw-r--r--   1 simon.ward-jones  staff   713B 16 Aug 11:19 animal_data.csv\n",
      "-rw-r--r--   1 simon.ward-jones  staff    14K 16 Aug 11:20 bigger.csv\n",
      "-rw-r--r--   1 simon.ward-jones  staff   508B 16 Aug 11:21 bigger.csv.gz\n",
      "drwxr-xr-x   4 simon.ward-jones  staff   128B 16 Aug 11:19 \u001b[34mdeep\u001b[39;49m\u001b[0m/\n",
      "drwxr-xr-x   2 simon.ward-jones  staff    64B 16 Aug 11:19 \u001b[34mexample-folder-1\u001b[39;49m\u001b[0m/\n",
      "-rw-r--r--   1 simon.ward-jones  staff   246B 16 Aug 11:20 letters.tar.gz\n",
      "-rw-r--r--   1 simon.ward-jones  staff   480B 16 Aug 11:20 letters.zip\n",
      "-rw-r--r--   1 simon.ward-jones  staff   169B 16 Aug 11:20 list_from_dictionary.py\n",
      "drwxr-xr-x   4 simon.ward-jones  staff   128B 16 Aug 11:20 \u001b[34mtmp\u001b[39;49m\u001b[0m/\n",
      "-rw-r--r--   1 simon.ward-jones  staff     0B 16 Aug 11:19 zebra.txt\n"
     ]
    }
   ],
   "source": [
    "ll"
   ]
  },
  {
   "cell_type": "markdown",
   "metadata": {},
   "source": [
    "## Searching"
   ]
  },
  {
   "cell_type": "markdown",
   "metadata": {},
   "source": [
    "### locate\n",
    "\n",
    "Find filenames quickly"
   ]
  },
  {
   "cell_type": "markdown",
   "metadata": {},
   "source": [
    "### grep\n",
    "\n",
    "File pattern searcher (with regexp). The pattern to search is regexp, the files to search are wildcards\n",
    " - `-R` recursive\n",
    " - `-i` case insensitive\n",
    " - `-w` exact words\n",
    " - `-n` show lines\n",
    " - `-v` invert match\n",
    " - `-l` only file names\n",
    " - `-c` just the count of lines"
   ]
  },
  {
   "cell_type": "markdown",
   "metadata": {},
   "source": [
    "### find\n",
    "\n",
    "Walk a file hierarchy searching for files. `find <from> <options>`\n",
    " - `-name` wildcard pattern to look for\n",
    " - `-iname` wildcard pattern to look for case insensitive\n",
    " - `-type` file type e.g. f or d\n",
    " - `-a` and two conditions\n",
    " - `-o` or two conditions\n",
    " - -n"
   ]
  },
  {
   "cell_type": "markdown",
   "metadata": {},
   "source": [
    "## Examples for Searching"
   ]
  },
  {
   "cell_type": "code",
   "execution_count": 588,
   "metadata": {},
   "outputs": [
    {
     "name": "stdout",
     "output_type": "stream",
     "text": [
      "animal_data.csv:1\n",
      "bigger.csv:20\n"
     ]
    }
   ],
   "source": [
    "grep -rcis walter * | awk -F : '{if($2 > 0) print}'"
   ]
  },
  {
   "cell_type": "code",
   "execution_count": 589,
   "metadata": {},
   "outputs": [
    {
     "name": "stdout",
     "output_type": "stream",
     "text": [
      "tmp/all_the_letters_with_lines.txt-1-     1\tThe quick brown\n",
      "tmp/all_the_letters_with_lines.txt:2:     2\tfox jumped over\n",
      "tmp/all_the_letters_with_lines.txt-3-     3\tthe lazy dog\n",
      "--\n",
      "--\n",
      "tmp/all_the_letters.txt-1-The quick brown\n",
      "tmp/all_the_letters.txt:2:fox jumped over\n",
      "tmp/all_the_letters.txt-3-the lazy dog\n"
     ]
    }
   ],
   "source": [
    "grep -rsnC 2 fox tmp"
   ]
  },
  {
   "cell_type": "code",
   "execution_count": 593,
   "metadata": {},
   "outputs": [
    {
     "name": "stdout",
     "output_type": "stream",
     "text": [
      "./zebra.txt\n",
      "./deep/zebra.txt\n"
     ]
    }
   ],
   "source": [
    "find . -name zeb* -a -type f"
   ]
  },
  {
   "cell_type": "code",
   "execution_count": null,
   "metadata": {},
   "outputs": [],
   "source": []
  }
 ],
 "metadata": {
  "kernelspec": {
   "display_name": "Bash",
   "language": "bash",
   "name": "bash"
  },
  "language_info": {
   "codemirror_mode": "shell",
   "file_extension": ".sh",
   "mimetype": "text/x-sh",
   "name": "bash"
  }
 },
 "nbformat": 4,
 "nbformat_minor": 2
}
