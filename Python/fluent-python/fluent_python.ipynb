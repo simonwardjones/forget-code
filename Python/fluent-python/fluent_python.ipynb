{
 "cells": [
  {
   "cell_type": "markdown",
   "metadata": {},
   "source": [
    "# Fluent Python\n"
   ]
  },
  {
   "cell_type": "markdown",
   "metadata": {},
   "source": [
    "Reading fluent python by Luciano Ramalho this is a collection of my favourite bits.\n"
   ]
  },
  {
   "cell_type": "markdown",
   "metadata": {},
   "source": [
    "### Python data model - bool and `__bool__`\n"
   ]
  },
  {
   "cell_type": "markdown",
   "metadata": {},
   "source": [
    "The python data model allows you to implement special methods that make custom types behave like the builtin types.\n"
   ]
  },
  {
   "cell_type": "code",
   "execution_count": 75,
   "metadata": {},
   "outputs": [],
   "source": [
    "class Example:\n",
    "    def __len__(self):\n",
    "        print(f\"running __len__\")\n",
    "        return 10\n",
    "\n",
    "    def __repr__(self):\n",
    "        print(f\"running __repr__\")\n",
    "        return f\"Example()\"\n",
    "\n",
    "    def __str__(self):\n",
    "        print(f\"running __str__\")\n",
    "        return f\"<Example Python object\"\n",
    "\n",
    "    def __bool__(self):\n",
    "        print(f\"running __bool__\")\n",
    "        return True\n"
   ]
  },
  {
   "cell_type": "code",
   "execution_count": 66,
   "metadata": {},
   "outputs": [
    {
     "name": "stdout",
     "output_type": "stream",
     "text": [
      "running __repr__\n"
     ]
    },
    {
     "data": {
      "text/plain": [
       "Example()"
      ]
     },
     "execution_count": 66,
     "metadata": {},
     "output_type": "execute_result"
    }
   ],
   "source": [
    "example = Example()\n",
    "example\n"
   ]
  },
  {
   "cell_type": "code",
   "execution_count": 67,
   "metadata": {},
   "outputs": [
    {
     "name": "stdout",
     "output_type": "stream",
     "text": [
      "running __len__\n"
     ]
    },
    {
     "data": {
      "text/plain": [
       "10"
      ]
     },
     "execution_count": 67,
     "metadata": {},
     "output_type": "execute_result"
    }
   ],
   "source": [
    "len(example)\n"
   ]
  },
  {
   "cell_type": "code",
   "execution_count": 68,
   "metadata": {},
   "outputs": [
    {
     "name": "stdout",
     "output_type": "stream",
     "text": [
      "running __bool__\n"
     ]
    }
   ],
   "source": [
    "if example:\n",
    "    pass\n"
   ]
  },
  {
   "cell_type": "markdown",
   "metadata": {},
   "source": [
    "To check the whether `example` is truthy it calls effectively calls `bool(example)` which looks for `example.__bool__()`\n",
    "If there is no `__bool__` python tries to invoke `__len__` and if that returns 0 then `False` else `True`.\n"
   ]
  },
  {
   "cell_type": "markdown",
   "metadata": {},
   "source": [
    "### `__repr__` and `__str__`\n"
   ]
  },
  {
   "cell_type": "markdown",
   "metadata": {},
   "source": [
    "`__repr__` - unambiguous for developers.  \n",
    "`__str__` - for the end user.\n"
   ]
  },
  {
   "cell_type": "markdown",
   "metadata": {},
   "source": [
    "### Unpacking sequences\n"
   ]
  },
  {
   "cell_type": "code",
   "execution_count": 76,
   "metadata": {},
   "outputs": [
    {
     "name": "stdout",
     "output_type": "stream",
     "text": [
      "Simon\n",
      "Ward-Jones\n",
      "[1, 2, 3]\n"
     ]
    }
   ],
   "source": [
    "person_data = (\"Simon\", \"Ward-Jones\", 1, 2, 3)\n",
    "name, surname, *numbers = person_data\n",
    "print(name, surname, numbers, sep=\"\\n\")\n"
   ]
  },
  {
   "cell_type": "code",
   "execution_count": 79,
   "metadata": {},
   "outputs": [
    {
     "data": {
      "text/plain": [
       "['Simon', 'Ward-Jones', 1, 2, 3]"
      ]
     },
     "execution_count": 79,
     "metadata": {},
     "output_type": "execute_result"
    }
   ],
   "source": [
    "# Unpacking into a list\n",
    "person_data = [*person_data]\n",
    "person_data\n"
   ]
  },
  {
   "cell_type": "markdown",
   "metadata": {},
   "source": [
    "### Bad matrix\n"
   ]
  },
  {
   "cell_type": "code",
   "execution_count": 90,
   "metadata": {},
   "outputs": [
    {
     "data": {
      "text/plain": [
       "[[1, None, None], [1, None, None], [1, None, None]]"
      ]
     },
     "execution_count": 90,
     "metadata": {},
     "output_type": "execute_result"
    }
   ],
   "source": [
    "matrix = [[None] * 3] * 3\n",
    "matrix[0][0] = 1\n",
    "matrix\n"
   ]
  },
  {
   "cell_type": "code",
   "execution_count": 92,
   "metadata": {},
   "outputs": [
    {
     "data": {
      "text/plain": [
       "[[1, None, None], [None, None, None], [None, None, None]]"
      ]
     },
     "execution_count": 92,
     "metadata": {},
     "output_type": "execute_result"
    }
   ],
   "source": [
    "# you probably want:\n",
    "matrix = []\n",
    "for _ in range(3):\n",
    "    matrix.append([None] * 3)\n",
    "matrix[0][0] = 1\n",
    "matrix\n"
   ]
  },
  {
   "cell_type": "markdown",
   "metadata": {},
   "source": [
    "### Key in min, max and sorted\n"
   ]
  },
  {
   "cell_type": "code",
   "execution_count": 98,
   "metadata": {},
   "outputs": [],
   "source": [
    "numbers = [3, \"5\", 1, \"10\", 2, \"4\", \"6\"]\n"
   ]
  },
  {
   "cell_type": "code",
   "execution_count": 99,
   "metadata": {},
   "outputs": [
    {
     "name": "stdout",
     "output_type": "stream",
     "text": [
      "[1, 2, 3, '4', '5', '6', '10']\n",
      "1\n"
     ]
    }
   ],
   "source": [
    "print(sorted(numbers, key=int))\n",
    "print(min(numbers, key=int))\n"
   ]
  },
  {
   "cell_type": "code",
   "execution_count": 101,
   "metadata": {},
   "outputs": [],
   "source": [
    "### Unpacking mappings\n"
   ]
  },
  {
   "cell_type": "code",
   "execution_count": 113,
   "metadata": {},
   "outputs": [],
   "source": [
    "person_data_1 = {\"name\": \"Simon\", \"surname\": \"Ward-Jones\", \"age\": 20}\n",
    "person_data_2 = {\n",
    "    \"name\": \"Simon\",\n",
    "    \"surname\": \"Ward-Jones\",\n",
    "    \"age\": 30,\n",
    "    \"height\": 2,\n",
    "    \"weight\": 3,\n",
    "}\n"
   ]
  },
  {
   "cell_type": "code",
   "execution_count": 114,
   "metadata": {},
   "outputs": [
    {
     "data": {
      "text/plain": [
       "{'name': 'Simon', 'surname': 'Ward-Jones', 'age': 30, 'height': 2, 'weight': 3}"
      ]
     },
     "execution_count": 114,
     "metadata": {},
     "output_type": "execute_result"
    }
   ],
   "source": [
    "{**person_data_1, **person_data_2}\n"
   ]
  },
  {
   "cell_type": "code",
   "execution_count": 115,
   "metadata": {},
   "outputs": [
    {
     "data": {
      "text/plain": [
       "{'name': 'Simon', 'surname': 'Ward-Jones', 'age': 30, 'height': 2, 'weight': 3}"
      ]
     },
     "execution_count": 115,
     "metadata": {},
     "output_type": "execute_result"
    }
   ],
   "source": [
    "person_data_1 | person_data_2\n"
   ]
  },
  {
   "cell_type": "code",
   "execution_count": 184,
   "metadata": {},
   "outputs": [],
   "source": [
    "### Dictionary comprehension\n"
   ]
  },
  {
   "cell_type": "code",
   "execution_count": 6,
   "metadata": {},
   "outputs": [],
   "source": [
    "country_population_pairs = [\n",
    "    (\"China\", 1409517397),\n",
    "    (\"India\", 1324171354),\n",
    "    (\"United States\", 325234000),\n",
    "    (\"Indonesia\", 255461563),\n",
    "    (\"Brazil\", 210147125),\n",
    "    (\"Pakistan\", 197015955),\n",
    "    (\"Nigeria\", 206139589),\n",
    "    (\"Bangladesh\", 164895000),\n",
    "    (\"Russia\", 146585181),\n",
    "    (\"Japan\", 126470000),\n",
    "]\n"
   ]
  },
  {
   "cell_type": "code",
   "execution_count": 8,
   "metadata": {},
   "outputs": [],
   "source": [
    "# create a dictionary of country populations\n",
    "country_populations = {\n",
    "    country: population for country, population in country_population_pairs\n",
    "}\n"
   ]
  },
  {
   "cell_type": "markdown",
   "metadata": {},
   "source": [
    "### Dictionary setdefault method\n"
   ]
  },
  {
   "cell_type": "code",
   "execution_count": 121,
   "metadata": {},
   "outputs": [],
   "source": [
    "person_data_1 = {\"name\": \"Simon\", \"surname\": \"Ward-Jones\", \"age\": 20}\n",
    "person_data_2 = {\n",
    "    \"name\": \"Simon\",\n",
    "    \"surname\": \"Ward-Jones\",\n",
    "    \"age\": 30,\n",
    "    \"height\": 2,\n",
    "    \"weight\": 3,\n",
    "}\n"
   ]
  },
  {
   "cell_type": "code",
   "execution_count": 122,
   "metadata": {},
   "outputs": [
    {
     "data": {
      "text/plain": [
       "'Simon'"
      ]
     },
     "execution_count": 122,
     "metadata": {},
     "output_type": "execute_result"
    }
   ],
   "source": [
    "# set default looks up the key and returns the value if it exists\n",
    "# if it doesn't exist, it sets the key to the default value and returns the default value\n",
    "person_data_1.setdefault(\"name\", \"John\")\n"
   ]
  },
  {
   "cell_type": "code",
   "execution_count": 117,
   "metadata": {},
   "outputs": [
    {
     "data": {
      "text/plain": [
       "{'name': 'Simon',\n",
       " 'surname': 'Ward-Jones',\n",
       " 'age': 20,\n",
       " 'animals': {'cats': ['cat']}}"
      ]
     },
     "execution_count": 117,
     "metadata": {},
     "output_type": "execute_result"
    }
   ],
   "source": [
    "# This is really useful for something like this:\n",
    "person_data_1.setdefault(\"animals\", {}).setdefault(\"cats\", []).append(\"cat\")\n",
    "person_data_1\n"
   ]
  },
  {
   "cell_type": "markdown",
   "metadata": {},
   "source": [
    "### Dictionary views and mappings work like sets\n"
   ]
  },
  {
   "cell_type": "code",
   "execution_count": 123,
   "metadata": {},
   "outputs": [
    {
     "data": {
      "text/plain": [
       "{'age', 'name', 'surname'}"
      ]
     },
     "execution_count": 123,
     "metadata": {},
     "output_type": "execute_result"
    }
   ],
   "source": [
    "person_data_1 = {\"name\": \"Simon\", \"surname\": \"Ward-Jones\", \"age\": 20}\n",
    "person_data_2 = {\n",
    "    \"name\": \"Simon\",\n",
    "    \"surname\": \"Ward-Jones\",\n",
    "    \"age\": 30,\n",
    "    \"height\": 2,\n",
    "    \"weight\": 3,\n",
    "}\n",
    "# finding common keys\n",
    "person_data_1.keys() & person_data_2.keys()\n"
   ]
  },
  {
   "cell_type": "markdown",
   "metadata": {},
   "source": [
    "### Unicode names\n"
   ]
  },
  {
   "cell_type": "code",
   "execution_count": 139,
   "metadata": {},
   "outputs": [],
   "source": [
    "from unicodedata import name\n",
    "import random\n"
   ]
  },
  {
   "cell_type": "code",
   "execution_count": 140,
   "metadata": {},
   "outputs": [
    {
     "data": {
      "text/plain": [
       "1114111"
      ]
     },
     "execution_count": 140,
     "metadata": {},
     "output_type": "execute_result"
    }
   ],
   "source": [
    "0x10FFFF\n"
   ]
  },
  {
   "cell_type": "code",
   "execution_count": 177,
   "metadata": {},
   "outputs": [
    {
     "name": "stdout",
     "output_type": "stream",
     "text": [
      "∮ CONTOUR INTEGRAL\n",
      "⒥ PARENTHESIZED LATIN SMALL LETTER J\n",
      "ኣ ETHIOPIC SYLLABLE GLOTTAL AA\n",
      "Ἅ GREEK CAPITAL LETTER ALPHA WITH DASIA AND OXIA\n",
      "ᒄ CANADIAN SYLLABICS KW\n"
     ]
    }
   ],
   "source": [
    "n = 0\n",
    "while n < 5:\n",
    "    unicode_point = chr(random.randint(0, 10000))  # pick a random unicode point\n",
    "    if unicode_name := name(unicode_point, \"\"):\n",
    "        print(unicode_point, unicode_name)  # print the point and the name\n",
    "        n += 1\n"
   ]
  },
  {
   "cell_type": "markdown",
   "metadata": {},
   "source": [
    "### string translation\n"
   ]
  },
  {
   "cell_type": "code",
   "execution_count": 182,
   "metadata": {},
   "outputs": [],
   "source": [
    "translation = str.maketrans(\"simon\", \"abcde\")\n"
   ]
  },
  {
   "cell_type": "code",
   "execution_count": 183,
   "metadata": {},
   "outputs": [
    {
     "data": {
      "text/plain": [
       "'helld abcde'"
      ]
     },
     "execution_count": 183,
     "metadata": {},
     "output_type": "execute_result"
    }
   ],
   "source": [
    "\"hello simon\".translate(translation)\n"
   ]
  },
  {
   "cell_type": "markdown",
   "metadata": {},
   "source": [
    "### Dataclasses save you a lot of typing"
   ]
  },
  {
   "cell_type": "code",
   "execution_count": 26,
   "metadata": {},
   "outputs": [],
   "source": [
    "from dataclasses import dataclass"
   ]
  },
  {
   "cell_type": "code",
   "execution_count": 31,
   "metadata": {},
   "outputs": [],
   "source": [
    "from dataclasses import field\n",
    "from typing import Optional\n",
    "\n",
    "\n",
    "@dataclass\n",
    "class Book:\n",
    "    title: str\n",
    "    author: Optional[str] = \"unknown\"\n",
    "    pages: int = 0\n",
    "    price: float = field(default=0.0, repr=False)\n",
    "\n",
    "    def __post_init__(self):\n",
    "        self.long_title = self.title + \" by \" + self.author\n"
   ]
  },
  {
   "cell_type": "code",
   "execution_count": 34,
   "metadata": {},
   "outputs": [
    {
     "data": {
      "text/plain": [
       "Book(title='Python Programming', author='Simon Ward-Jones', pages=300)"
      ]
     },
     "execution_count": 34,
     "metadata": {},
     "output_type": "execute_result"
    }
   ],
   "source": [
    "book = Book(title='Python Programming', author='Simon Ward-Jones', pages=300)\n",
    "book"
   ]
  },
  {
   "cell_type": "markdown",
   "metadata": {},
   "source": [
    "### Variables are not boxes 📦 🏷"
   ]
  },
  {
   "cell_type": "code",
   "execution_count": 44,
   "metadata": {},
   "outputs": [
    {
     "data": {
      "text/plain": [
       "['📦 ', '🏷', '📦']"
      ]
     },
     "execution_count": 44,
     "metadata": {},
     "output_type": "execute_result"
    }
   ],
   "source": [
    "variable = ['📦 ', '🏷']\n",
    "other_variable = variable\n",
    "other_variable.append('📦')\n",
    "variable # say what..."
   ]
  },
  {
   "cell_type": "code",
   "execution_count": null,
   "metadata": {},
   "outputs": [],
   "source": []
  }
 ],
 "metadata": {
  "kernelspec": {
   "display_name": "Python 3.10.2 64-bit ('3.10.2')",
   "language": "python",
   "name": "python3"
  },
  "language_info": {
   "codemirror_mode": {
    "name": "ipython",
    "version": 3
   },
   "file_extension": ".py",
   "mimetype": "text/x-python",
   "name": "python",
   "nbconvert_exporter": "python",
   "pygments_lexer": "ipython3",
   "version": "3.10.2"
  },
  "orig_nbformat": 4,
  "vscode": {
   "interpreter": {
    "hash": "fc83838f2863df29c089611030fa8a7be502196ead7c5a2bbfc52f1a3dbbd35e"
   }
  }
 },
 "nbformat": 4,
 "nbformat_minor": 2
}
